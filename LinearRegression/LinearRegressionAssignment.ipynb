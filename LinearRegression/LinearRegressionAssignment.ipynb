{
 "cells": [
  {
   "cell_type": "markdown",
   "metadata": {},
   "source": [
    "### Analysis relevant to Assignment Questions"
   ]
  },
  {
   "cell_type": "code",
   "execution_count": 1,
   "metadata": {},
   "outputs": [],
   "source": [
    "# import the relevant libraries\n",
    "import numpy as np\n",
    "import pandas as pd\n",
    "import matplotlib.pyplot as plt\n",
    "import statsmodels.api as sm"
   ]
  },
  {
   "cell_type": "code",
   "execution_count": 2,
   "metadata": {},
   "outputs": [],
   "source": [
    "# load the data\n",
    "data = pd.read_csv('1.01. Simple linear regression.csv')"
   ]
  },
  {
   "cell_type": "code",
   "execution_count": 3,
   "metadata": {},
   "outputs": [
    {
     "data": {
      "text/html": [
       "<div>\n",
       "<style scoped>\n",
       "    .dataframe tbody tr th:only-of-type {\n",
       "        vertical-align: middle;\n",
       "    }\n",
       "\n",
       "    .dataframe tbody tr th {\n",
       "        vertical-align: top;\n",
       "    }\n",
       "\n",
       "    .dataframe thead th {\n",
       "        text-align: right;\n",
       "    }\n",
       "</style>\n",
       "<table border=\"1\" class=\"dataframe\">\n",
       "  <thead>\n",
       "    <tr style=\"text-align: right;\">\n",
       "      <th></th>\n",
       "      <th>SAT</th>\n",
       "      <th>GPA</th>\n",
       "    </tr>\n",
       "  </thead>\n",
       "  <tbody>\n",
       "    <tr>\n",
       "      <th>0</th>\n",
       "      <td>1714</td>\n",
       "      <td>2.40</td>\n",
       "    </tr>\n",
       "    <tr>\n",
       "      <th>1</th>\n",
       "      <td>1664</td>\n",
       "      <td>2.52</td>\n",
       "    </tr>\n",
       "    <tr>\n",
       "      <th>2</th>\n",
       "      <td>1760</td>\n",
       "      <td>2.54</td>\n",
       "    </tr>\n",
       "    <tr>\n",
       "      <th>3</th>\n",
       "      <td>1685</td>\n",
       "      <td>2.74</td>\n",
       "    </tr>\n",
       "    <tr>\n",
       "      <th>4</th>\n",
       "      <td>1693</td>\n",
       "      <td>2.83</td>\n",
       "    </tr>\n",
       "  </tbody>\n",
       "</table>\n",
       "</div>"
      ],
      "text/plain": [
       "    SAT   GPA\n",
       "0  1714  2.40\n",
       "1  1664  2.52\n",
       "2  1760  2.54\n",
       "3  1685  2.74\n",
       "4  1693  2.83"
      ]
     },
     "execution_count": 3,
     "metadata": {},
     "output_type": "execute_result"
    }
   ],
   "source": [
    "# Visualizing the Data Frame\n",
    "data.head()"
   ]
  },
  {
   "cell_type": "code",
   "execution_count": 4,
   "metadata": {},
   "outputs": [
    {
     "data": {
      "text/html": [
       "<div>\n",
       "<style scoped>\n",
       "    .dataframe tbody tr th:only-of-type {\n",
       "        vertical-align: middle;\n",
       "    }\n",
       "\n",
       "    .dataframe tbody tr th {\n",
       "        vertical-align: top;\n",
       "    }\n",
       "\n",
       "    .dataframe thead th {\n",
       "        text-align: right;\n",
       "    }\n",
       "</style>\n",
       "<table border=\"1\" class=\"dataframe\">\n",
       "  <thead>\n",
       "    <tr style=\"text-align: right;\">\n",
       "      <th></th>\n",
       "      <th>SAT</th>\n",
       "      <th>GPA</th>\n",
       "    </tr>\n",
       "  </thead>\n",
       "  <tbody>\n",
       "    <tr>\n",
       "      <th>count</th>\n",
       "      <td>84.000000</td>\n",
       "      <td>84.000000</td>\n",
       "    </tr>\n",
       "    <tr>\n",
       "      <th>mean</th>\n",
       "      <td>1845.273810</td>\n",
       "      <td>3.330238</td>\n",
       "    </tr>\n",
       "    <tr>\n",
       "      <th>std</th>\n",
       "      <td>104.530661</td>\n",
       "      <td>0.271617</td>\n",
       "    </tr>\n",
       "    <tr>\n",
       "      <th>min</th>\n",
       "      <td>1634.000000</td>\n",
       "      <td>2.400000</td>\n",
       "    </tr>\n",
       "    <tr>\n",
       "      <th>25%</th>\n",
       "      <td>1772.000000</td>\n",
       "      <td>3.190000</td>\n",
       "    </tr>\n",
       "    <tr>\n",
       "      <th>50%</th>\n",
       "      <td>1846.000000</td>\n",
       "      <td>3.380000</td>\n",
       "    </tr>\n",
       "    <tr>\n",
       "      <th>75%</th>\n",
       "      <td>1934.000000</td>\n",
       "      <td>3.502500</td>\n",
       "    </tr>\n",
       "    <tr>\n",
       "      <th>max</th>\n",
       "      <td>2050.000000</td>\n",
       "      <td>3.810000</td>\n",
       "    </tr>\n",
       "  </tbody>\n",
       "</table>\n",
       "</div>"
      ],
      "text/plain": [
       "               SAT        GPA\n",
       "count    84.000000  84.000000\n",
       "mean   1845.273810   3.330238\n",
       "std     104.530661   0.271617\n",
       "min    1634.000000   2.400000\n",
       "25%    1772.000000   3.190000\n",
       "50%    1846.000000   3.380000\n",
       "75%    1934.000000   3.502500\n",
       "max    2050.000000   3.810000"
      ]
     },
     "execution_count": 4,
     "metadata": {},
     "output_type": "execute_result"
    }
   ],
   "source": [
    "data.describe()"
   ]
  },
  {
   "cell_type": "code",
   "execution_count": 5,
   "metadata": {},
   "outputs": [
    {
     "data": {
      "text/html": [
       "<div>\n",
       "<style scoped>\n",
       "    .dataframe tbody tr th:only-of-type {\n",
       "        vertical-align: middle;\n",
       "    }\n",
       "\n",
       "    .dataframe tbody tr th {\n",
       "        vertical-align: top;\n",
       "    }\n",
       "\n",
       "    .dataframe thead th {\n",
       "        text-align: right;\n",
       "    }\n",
       "</style>\n",
       "<table border=\"1\" class=\"dataframe\">\n",
       "  <thead>\n",
       "    <tr style=\"text-align: right;\">\n",
       "      <th></th>\n",
       "      <th>SAT</th>\n",
       "      <th>GPA</th>\n",
       "    </tr>\n",
       "  </thead>\n",
       "  <tbody>\n",
       "    <tr>\n",
       "      <th>count</th>\n",
       "      <td>84.000000</td>\n",
       "      <td>84.000000</td>\n",
       "    </tr>\n",
       "    <tr>\n",
       "      <th>mean</th>\n",
       "      <td>1845.273810</td>\n",
       "      <td>3.330238</td>\n",
       "    </tr>\n",
       "    <tr>\n",
       "      <th>std</th>\n",
       "      <td>104.530661</td>\n",
       "      <td>0.271617</td>\n",
       "    </tr>\n",
       "    <tr>\n",
       "      <th>min</th>\n",
       "      <td>1634.000000</td>\n",
       "      <td>2.400000</td>\n",
       "    </tr>\n",
       "    <tr>\n",
       "      <th>25%</th>\n",
       "      <td>1772.000000</td>\n",
       "      <td>3.190000</td>\n",
       "    </tr>\n",
       "    <tr>\n",
       "      <th>50%</th>\n",
       "      <td>1846.000000</td>\n",
       "      <td>3.380000</td>\n",
       "    </tr>\n",
       "    <tr>\n",
       "      <th>75%</th>\n",
       "      <td>1934.000000</td>\n",
       "      <td>3.502500</td>\n",
       "    </tr>\n",
       "    <tr>\n",
       "      <th>max</th>\n",
       "      <td>2050.000000</td>\n",
       "      <td>3.810000</td>\n",
       "    </tr>\n",
       "  </tbody>\n",
       "</table>\n",
       "</div>"
      ],
      "text/plain": [
       "               SAT        GPA\n",
       "count    84.000000  84.000000\n",
       "mean   1845.273810   3.330238\n",
       "std     104.530661   0.271617\n",
       "min    1634.000000   2.400000\n",
       "25%    1772.000000   3.190000\n",
       "50%    1846.000000   3.380000\n",
       "75%    1934.000000   3.502500\n",
       "max    2050.000000   3.810000"
      ]
     },
     "execution_count": 5,
     "metadata": {},
     "output_type": "execute_result"
    }
   ],
   "source": [
    "data.describe()"
   ]
  },
  {
   "cell_type": "code",
   "execution_count": 6,
   "metadata": {},
   "outputs": [],
   "source": [
    "# define the dependent and the independent variable\n",
    "y = data['GPA']\n",
    "x1 = data['SAT']"
   ]
  },
  {
   "cell_type": "code",
   "execution_count": 7,
   "metadata": {},
   "outputs": [
    {
     "data": {
      "image/png": "[encoded data removed]",
      "text/plain": [
       "<Figure size 432x288 with 1 Axes>"
      ]
     },
     "metadata": {
      "needs_background": "light"
     },
     "output_type": "display_data"
    }
   ],
   "source": [
    "plt.scatter(x1,y)\n",
    "plt.xlabel('SAT', fontsize=20)\n",
    "plt.ylabel('GPA', fontsize=20)\n",
    "plt.show()"
   ]
  },
  {
   "cell_type": "code",
   "execution_count": 8,
   "metadata": {},
   "outputs": [],
   "source": [
    "x = sm.add_constant(x1)"
   ]
  },
  {
   "cell_type": "markdown",
   "metadata": {},
   "source": [
    "###  The Results Variable\n",
    "A variable named *results* is created. It will contain the output of the *ordinary least squares regression*, or **OLS**."
   ]
  },
  {
   "cell_type": "code",
   "execution_count": 9,
   "metadata": {},
   "outputs": [],
   "source": [
    "results = sm.OLS(y,x).fit()"
   ]
  },
  {
   "cell_type": "markdown",
   "metadata": {},
   "source": [
    "### displaying the Regression Results"
   ]
  },
  {
   "cell_type": "code",
   "execution_count": 10,
   "metadata": {},
   "outputs": [
    {
     "data": {
      "text/html": [
       "<table class=\"simpletable\">\n",
       "<caption>OLS Regression Results</caption>\n",
       "<tr>\n",
       "  <th>Dep. Variable:</th>           <td>GPA</td>       <th>  R-squared:         </th> <td>   0.406</td>\n",
       "</tr>\n",
       "<tr>\n",
       "  <th>Model:</th>                   <td>OLS</td>       <th>  Adj. R-squared:    </th> <td>   0.399</td>\n",
       "</tr>\n",
       "<tr>\n",
       "  <th>Method:</th>             <td>Least Squares</td>  <th>  F-statistic:       </th> <td>   56.05</td>\n",
       "</tr>\n",
       "<tr>\n",
       "  <th>Date:</th>             <td>Tue, 09 Jun 2020</td> <th>  Prob (F-statistic):</th> <td>7.20e-11</td>\n",
       "</tr>\n",
       "<tr>\n",
       "  <th>Time:</th>                 <td>10:52:35</td>     <th>  Log-Likelihood:    </th> <td>  12.672</td>\n",
       "</tr>\n",
       "<tr>\n",
       "  <th>No. Observations:</th>      <td>    84</td>      <th>  AIC:               </th> <td>  -21.34</td>\n",
       "</tr>\n",
       "<tr>\n",
       "  <th>Df Residuals:</th>          <td>    82</td>      <th>  BIC:               </th> <td>  -16.48</td>\n",
       "</tr>\n",
       "<tr>\n",
       "  <th>Df Model:</th>              <td>     1</td>      <th>                     </th>     <td> </td>   \n",
       "</tr>\n",
       "<tr>\n",
       "  <th>Covariance Type:</th>      <td>nonrobust</td>    <th>                     </th>     <td> </td>   \n",
       "</tr>\n",
       "</table>\n",
       "<table class=\"simpletable\">\n",
       "<tr>\n",
       "    <td></td>       <th>coef</th>     <th>std err</th>      <th>t</th>      <th>P>|t|</th>  <th>[0.025</th>    <th>0.975]</th>  \n",
       "</tr>\n",
       "<tr>\n",
       "  <th>const</th> <td>    0.2750</td> <td>    0.409</td> <td>    0.673</td> <td> 0.503</td> <td>   -0.538</td> <td>    1.088</td>\n",
       "</tr>\n",
       "<tr>\n",
       "  <th>SAT</th>   <td>    0.0017</td> <td>    0.000</td> <td>    7.487</td> <td> 0.000</td> <td>    0.001</td> <td>    0.002</td>\n",
       "</tr>\n",
       "</table>\n",
       "<table class=\"simpletable\">\n",
       "<tr>\n",
       "  <th>Omnibus:</th>       <td>12.839</td> <th>  Durbin-Watson:     </th> <td>   0.950</td>\n",
       "</tr>\n",
       "<tr>\n",
       "  <th>Prob(Omnibus):</th> <td> 0.002</td> <th>  Jarque-Bera (JB):  </th> <td>  16.155</td>\n",
       "</tr>\n",
       "<tr>\n",
       "  <th>Skew:</th>          <td>-0.722</td> <th>  Prob(JB):          </th> <td>0.000310</td>\n",
       "</tr>\n",
       "<tr>\n",
       "  <th>Kurtosis:</th>      <td> 4.590</td> <th>  Cond. No.          </th> <td>3.29e+04</td>\n",
       "</tr>\n",
       "</table><br/><br/>Warnings:<br/>[1] Standard Errors assume that the covariance matrix of the errors is correctly specified.<br/>[2] The condition number is large, 3.29e+04. This might indicate that there are<br/>strong multicollinearity or other numerical problems."
      ],
      "text/plain": [
       "<class 'statsmodels.iolib.summary.Summary'>\n",
       "\"\"\"\n",
       "                            OLS Regression Results                            \n",
       "==============================================================================\n",
       "Dep. Variable:                    GPA   R-squared:                       0.406\n",
       "Model:                            OLS   Adj. R-squared:                  0.399\n",
       "Method:                 Least Squares   F-statistic:                     56.05\n",
       "Date:                Tue, 09 Jun 2020   Prob (F-statistic):           7.20e-11\n",
       "Time:                        10:52:35   Log-Likelihood:                 12.672\n",
       "No. Observations:                  84   AIC:                            -21.34\n",
       "Df Residuals:                      82   BIC:                            -16.48\n",
       "Df Model:                           1                                         \n",
       "Covariance Type:            nonrobust                                         \n",
       "==============================================================================\n",
       "                 coef    std err          t      P>|t|      [0.025      0.975]\n",
       "------------------------------------------------------------------------------\n",
       "const          0.2750      0.409      0.673      0.503      -0.538       1.088\n",
       "SAT            0.0017      0.000      7.487      0.000       0.001       0.002\n",
       "==============================================================================\n",
       "Omnibus:                       12.839   Durbin-Watson:                   0.950\n",
       "Prob(Omnibus):                  0.002   Jarque-Bera (JB):               16.155\n",
       "Skew:                          -0.722   Prob(JB):                     0.000310\n",
       "Kurtosis:                       4.590   Cond. No.                     3.29e+04\n",
       "==============================================================================\n",
       "\n",
       "Warnings:\n",
       "[1] Standard Errors assume that the covariance matrix of the errors is correctly specified.\n",
       "[2] The condition number is large, 3.29e+04. This might indicate that there are\n",
       "strong multicollinearity or other numerical problems.\n",
       "\"\"\""
      ]
     },
     "execution_count": 10,
     "metadata": {},
     "output_type": "execute_result"
    }
   ],
   "source": [
    "results.summary()"
   ]
  },
  {
   "cell_type": "code",
   "execution_count": 11,
   "metadata": {},
   "outputs": [],
   "source": [
    "### Plotting the Regression Line"
   ]
  },
  {
   "cell_type": "code",
   "execution_count": 12,
   "metadata": {},
   "outputs": [
    {
     "data": {
      "image/png": "[encoded data removed]",
      "text/plain": [
       "<Figure size 432x288 with 1 Axes>"
      ]
     },
     "metadata": {
      "needs_background": "light"
     },
     "output_type": "display_data"
    }
   ],
   "source": [
    "plt.scatter(x1,y)\n",
    "yhat = 0.0017*x1+0.275\n",
    "fig = plt.plot(x1, yhat, lw=4, c = 'orange', label='regre')\n",
    "plt.xlabel('SAT', fontsize=20)\n",
    "plt.ylabel('GPA',fontsize=20)\n",
    "plt.show()"
   ]
  },
  {
   "cell_type": "code",
   "execution_count": 8,
   "metadata": {},
   "outputs": [
    {
     "data": {
      "text/plain": [
       "2.9949999999999997"
      ]
     },
     "execution_count": 8,
     "metadata": {},
     "output_type": "execute_result"
    }
   ],
   "source": [
    "yhat = 0.0017*1600+0.275\n",
    "yhat"
   ]
  },
  {
   "cell_type": "markdown",
   "metadata": {},
   "source": [
    "## Assignment Questions"
   ]
  },
  {
   "cell_type": "markdown",
   "metadata": {},
   "source": [
    "16.\tHow to interpret a Linear Regression model?"
   ]
  },
  {
   "cell_type": "markdown",
   "metadata": {},
   "source": [
    "Typically, when using **statsmodels**, we have three main tables 1) model Summary\n",
    "2. Coefficient table\n",
    "3. Some additional test"
   ]
  },
  {
   "cell_type": "code",
   "execution_count": 13,
   "metadata": {},
   "outputs": [
    {
     "data": {
      "text/html": [
       "<table class=\"simpletable\">\n",
       "<caption>OLS Regression Results</caption>\n",
       "<tr>\n",
       "  <th>Dep. Variable:</th>           <td>GPA</td>       <th>  R-squared:         </th> <td>   0.406</td>\n",
       "</tr>\n",
       "<tr>\n",
       "  <th>Model:</th>                   <td>OLS</td>       <th>  Adj. R-squared:    </th> <td>   0.399</td>\n",
       "</tr>\n",
       "<tr>\n",
       "  <th>Method:</th>             <td>Least Squares</td>  <th>  F-statistic:       </th> <td>   56.05</td>\n",
       "</tr>\n",
       "<tr>\n",
       "  <th>Date:</th>             <td>Tue, 09 Jun 2020</td> <th>  Prob (F-statistic):</th> <td>7.20e-11</td>\n",
       "</tr>\n",
       "<tr>\n",
       "  <th>Time:</th>                 <td>10:52:43</td>     <th>  Log-Likelihood:    </th> <td>  12.672</td>\n",
       "</tr>\n",
       "<tr>\n",
       "  <th>No. Observations:</th>      <td>    84</td>      <th>  AIC:               </th> <td>  -21.34</td>\n",
       "</tr>\n",
       "<tr>\n",
       "  <th>Df Residuals:</th>          <td>    82</td>      <th>  BIC:               </th> <td>  -16.48</td>\n",
       "</tr>\n",
       "<tr>\n",
       "  <th>Df Model:</th>              <td>     1</td>      <th>                     </th>     <td> </td>   \n",
       "</tr>\n",
       "<tr>\n",
       "  <th>Covariance Type:</th>      <td>nonrobust</td>    <th>                     </th>     <td> </td>   \n",
       "</tr>\n",
       "</table>\n",
       "<table class=\"simpletable\">\n",
       "<tr>\n",
       "    <td></td>       <th>coef</th>     <th>std err</th>      <th>t</th>      <th>P>|t|</th>  <th>[0.025</th>    <th>0.975]</th>  \n",
       "</tr>\n",
       "<tr>\n",
       "  <th>const</th> <td>    0.2750</td> <td>    0.409</td> <td>    0.673</td> <td> 0.503</td> <td>   -0.538</td> <td>    1.088</td>\n",
       "</tr>\n",
       "<tr>\n",
       "  <th>SAT</th>   <td>    0.0017</td> <td>    0.000</td> <td>    7.487</td> <td> 0.000</td> <td>    0.001</td> <td>    0.002</td>\n",
       "</tr>\n",
       "</table>\n",
       "<table class=\"simpletable\">\n",
       "<tr>\n",
       "  <th>Omnibus:</th>       <td>12.839</td> <th>  Durbin-Watson:     </th> <td>   0.950</td>\n",
       "</tr>\n",
       "<tr>\n",
       "  <th>Prob(Omnibus):</th> <td> 0.002</td> <th>  Jarque-Bera (JB):  </th> <td>  16.155</td>\n",
       "</tr>\n",
       "<tr>\n",
       "  <th>Skew:</th>          <td>-0.722</td> <th>  Prob(JB):          </th> <td>0.000310</td>\n",
       "</tr>\n",
       "<tr>\n",
       "  <th>Kurtosis:</th>      <td> 4.590</td> <th>  Cond. No.          </th> <td>3.29e+04</td>\n",
       "</tr>\n",
       "</table><br/><br/>Warnings:<br/>[1] Standard Errors assume that the covariance matrix of the errors is correctly specified.<br/>[2] The condition number is large, 3.29e+04. This might indicate that there are<br/>strong multicollinearity or other numerical problems."
      ],
      "text/plain": [
       "<class 'statsmodels.iolib.summary.Summary'>\n",
       "\"\"\"\n",
       "                            OLS Regression Results                            \n",
       "==============================================================================\n",
       "Dep. Variable:                    GPA   R-squared:                       0.406\n",
       "Model:                            OLS   Adj. R-squared:                  0.399\n",
       "Method:                 Least Squares   F-statistic:                     56.05\n",
       "Date:                Tue, 09 Jun 2020   Prob (F-statistic):           7.20e-11\n",
       "Time:                        10:52:43   Log-Likelihood:                 12.672\n",
       "No. Observations:                  84   AIC:                            -21.34\n",
       "Df Residuals:                      82   BIC:                            -16.48\n",
       "Df Model:                           1                                         \n",
       "Covariance Type:            nonrobust                                         \n",
       "==============================================================================\n",
       "                 coef    std err          t      P>|t|      [0.025      0.975]\n",
       "------------------------------------------------------------------------------\n",
       "const          0.2750      0.409      0.673      0.503      -0.538       1.088\n",
       "SAT            0.0017      0.000      7.487      0.000       0.001       0.002\n",
       "==============================================================================\n",
       "Omnibus:                       12.839   Durbin-Watson:                   0.950\n",
       "Prob(Omnibus):                  0.002   Jarque-Bera (JB):               16.155\n",
       "Skew:                          -0.722   Prob(JB):                     0.000310\n",
       "Kurtosis:                       4.590   Cond. No.                     3.29e+04\n",
       "==============================================================================\n",
       "\n",
       "Warnings:\n",
       "[1] Standard Errors assume that the covariance matrix of the errors is correctly specified.\n",
       "[2] The condition number is large, 3.29e+04. This might indicate that there are\n",
       "strong multicollinearity or other numerical problems.\n",
       "\"\"\""
      ]
     },
     "execution_count": 13,
     "metadata": {},
     "output_type": "execute_result"
    }
   ],
   "source": [
    "results.summary()"
   ]
  },
  {
   "cell_type": "markdown",
   "metadata": {},
   "source": [
    "Certainly, these tables contain a lot of information. However, we will focus on the most important part"
   ]
  },
  {
   "cell_type": "markdown",
   "metadata": {},
   "source": [
    "### The Coefficients Table"
   ]
  },
  {
   "cell_type": "markdown",
   "metadata": {},
   "source": [
    "1. Intercept and slope"
   ]
  },
  {
   "attachments": {
    "4.png": {
     "image/png": "[encoded data removed]"
    }
   },
   "cell_type": "markdown",
   "metadata": {},
   "source": [
    "![4.png](attachment:4.png)"
   ]
  },
  {
   "cell_type": "markdown",
   "metadata": {},
   "source": [
    "Theoretically, in simple regression, the coeffcient are two unknown contstants that represents the *intercept* and *slope* terms in the linear model.\n",
    "The coefficnt estimate contain two rows; the first one is the intercept. The intercept($b_{0}$) in our case is 0.275.\n",
    "\n",
    "The second row in the Coefficient is the slope which is $b_{1}$.  \n",
    "\n",
    "These are the only two numbers we need to define the regression equation.\n",
    "\n",
    "Therefore,\n",
    "$$\n",
    "\\begin{align}\n",
    "y = 0.275+0.0017*x1\n",
    "\\end{align}\n",
    "$$ <br>\n",
    "\n",
    "$$\\begin{align}\n",
    "GPA = 0.275+0.0017*SAT \n",
    "\\end{align}$$\n",
    "This is our regression equation."
   ]
  },
  {
   "attachments": {
    "1.png": {
     "image/png": "[encoded data removed]"
    }
   },
   "cell_type": "markdown",
   "metadata": {},
   "source": [
    "### The Standard Error\n",
    "![1.png](attachment:1.png)\n",
    "\n",
    "The coefficient standard error measures the average amount that the coefficient vary from the actual average value of each variable. The lower the standard error, the better the estimate. \n",
    "\n",
    "Here, the standard error is 0.409."
   ]
  },
  {
   "cell_type": "markdown",
   "metadata": {},
   "source": [
    "### Coefficient- t-value\n",
    "\n",
    "The coeffient t-value is a measure of how many standard deviations our coefficient estimate is far away from 0. We want it to be far away from zero as this would indicate we could reject the null hypotheis- that is we could declare a relationship between SAT and GPA exist. \n",
    "\n",
    "In our exampe, the t-statstics values are raltively far way from zero, which could indicate a relationship exists. \n",
    "In general, t-values are also used to compute p-values."
   ]
  },
  {
   "cell_type": "markdown",
   "metadata": {},
   "source": [
    "### Coefficient-Pr(>t)\n",
    "\n",
    "The P>|t| acronym found in the model output relates to the probablity of observing any value equal or larger than t. A small p-value indicates that it is unlikely that we will observer a relationship between the predictor() and response() varible due to chance.\n",
    "\n",
    "Typically, a p-value of 5% or less is a good cut-off point. \n",
    "\n",
    "In our model, the p-values are very close to zero"
   ]
  },
  {
   "cell_type": "markdown",
   "metadata": {},
   "source": [
    "### The F-statstics\n",
    "F-statstics is a good indicator of whether there is a relationship between the predictor and the response variables. The further the F-statstics is from 1 the better it is. However, how much larger the F-statstics needs to be depends on both the number of data points and the number of predictors. Generally, when the number of data points is large, an F-statstics that is only a little bit larger than 1 is already sufficient to reject the null hypothesis.\n",
    "\n",
    "The reverse is true as if the number of data points is small, a large F-statstics is required to be able to ascertain that there may be a relationship between predictor and response variable.\n",
    "\n",
    "Residuals:\n",
    "Residuals are essentially the diffrance between the actual observer response value and the response values that the model predicted. \n",
    "The residual section of themodel output breaks \n",
    "\n",
    "Coefficient:\n",
    "Theoretically, in simple linear regression, the coefficent are two unknown constants that represnts the `intercept` and `slope` terms in the linear model."
   ]
  },
  {
   "cell_type": "markdown",
   "metadata": {},
   "source": [
    "**1.\tWhat is Regression?**"
   ]
  },
  {
   "cell_type": "markdown",
   "metadata": {},
   "source": [
    "**Answer:** Regression is a statistical method which attempts to determine the strength and character of the relationship between one dependent variable (usually denoted by Y) and a series of other variables (known as independent variables). \n",
    "The overall idea of regression is to examine two things: <br>\n",
    "(1) does a set of predictor variables do a good job in predicting an outcome (dependent) variable?  \n",
    "(2) Which variables in particular are significant predictors of the outcome variable, and in what way do they–indicated by the magnitude and sign of the beta estimates–impact the outcome variable?  \n",
    "The simplest form of the regression equation with one dependent and one independent variable is defined by the formula: <br>\n",
    "y = c + b*x, where y = estimated dependent variable score, c = constant, b = regression coefficient, and x = score on the independent variable. <br>\n",
    "The two basic types of regression are simple linear regression and multiple linear regression, although there are non-linear regression methods for more complicated data and analysis. Simple linear regression uses one independent variable to explain or predict the outcome of the dependent variable Y, while multiple linear regression uses two or more independent variables to predict the outcome. "
   ]
  },
  {
   "cell_type": "markdown",
   "metadata": {},
   "source": [
    "**2. What is Linear Regression?**"
   ]
  },
  {
   "cell_type": "markdown",
   "metadata": {},
   "source": [
    "**Answer:** Linear Regression is one of the most fundamental and widely known Machine Learning Algorithms which people start with. It attempts to model the relationship between two variables by fitting a linear equation to observed data. One variable is considered to be an explanatory variable, and the other is considered to be a dependent variable. For example, a modeler might want to relate the weights of individuals to their heights using a linear regression model.\n",
    "The building blocks of a Linear Regression Model are:\n",
    "* Discreet/continuous independent variables\n",
    "* A best-fit regression line\n",
    "* Continuous dependent variable.<br>\n",
    "i.e., A Linear Regression model predicts the dependent variable using a regression line based on the independent variables.<br>\n",
    "The equation of the Linear Regression is:\n",
    "                                        y = c + b*x, \n",
    " where y = estimated dependent variable score, c = constant, b = regression coefficient, and x = score on the independent variable."
   ]
  },
  {
   "cell_type": "markdown",
   "metadata": {},
   "source": [
    "**3. When to use Linear Regression? Explain the equation of a straight line.**"
   ]
  },
  {
   "cell_type": "markdown",
   "metadata": {},
   "source": [
    "**Answer:** \n",
    "The sensible use of linear regression on a data set requires that four assumptions about that dataset be true:\n",
    "1. The relationship between the variables is linear.\n",
    "2. The data is homoskedastic, meaning the variance in the residuals (the difference in the real and predicted values) is more or less constant.\n",
    "3. The residuals are independent, meaning the residuals are distributed randomly and not influenced by the residuals in previous observations. If the residuals are not independent of each other, they’re considered to be autocorrelated.\n",
    "4. The residuals are normally distributed. This assumption means the probability density function of the residual values is normally distributed at each x value. I leave this assumption for last because I don’t consider it to be a hard requirement for the use of linear regression, although if this isn’t true, some manipulations must be made to the model.\n",
    "\n",
    "**Equation of a straight line:**\n",
    "Equations of straight lines are in the form y = mx + c (m and c are numbers). m is the gradient of the line and c is the y-intercept (where the graph crosses the y-axis). \n"
   ]
  },
  {
   "cell_type": "markdown",
   "metadata": {},
   "source": [
    "**4. What kind of plots will you use to showcase the relationship amongst the columns?**"
   ]
  },
  {
   "cell_type": "markdown",
   "metadata": {},
   "source": [
    "**Answer:** Scatter plot can be used to showcase the relationship amongst the columns. Its primary use is to observe and show relationships between two numeric variables. The dots in a scatter plot not only report the values of individual data points, but also patterns when the data are taken as a whole.\n",
    "\n",
    "A scatterplot can identify several different types of relationships between two variables.\n",
    "\n",
    "1. A relationship has no correlation when the points on a scatterplot do not show any pattern.\n",
    "2. A relationship is non-linear when the points on a scatterplot follow a pattern but not a straight line.\n",
    "3. A relationship is linear when the points on a scatterplot follow a somewhat straight line pattern.\n",
    "\n",
    "Linear relationships can be either positive or negative. Positive relationships have points that incline upwards to the right. As x values increase, y values increase. As x values decrease, y values decrease. For example, when studying plants, height typically increases as diameter increases. Negative relationships have points that decline downward to the right. As x values increase, y values decrease. As x values decrease, y values increase. For example, as wind speed increases, wind chill temperature decreases.\n"
   ]
  },
  {
   "cell_type": "markdown",
   "metadata": {},
   "source": [
    "**5.\tHow is the best fit line chosen?**"
   ]
  },
  {
   "cell_type": "markdown",
   "metadata": {},
   "source": [
    "Answer: \n",
    "The best fit line is obtained by minimizing the _residual_.\n",
    "Residual is the distance between the actual Y and the predicted Y, as shown below:\n",
    "<img src = \"img/residual.png\" style=\"width:300px\" />\n",
    "\n",
    "Mathematically, Residual is: $$r={y-(mx+b)}$$\n",
    "Hence, the sum of the square of residuals is:"
   ]
  },
  {
   "attachments": {
    "sumOfResiduals.PNG": {
     "image/png": "[encoded data removed]"
    }
   },
   "cell_type": "markdown",
   "metadata": {},
   "source": [
    "![sumOfResiduals.PNG](attachment:sumOfResiduals.PNG)"
   ]
  },
  {
   "cell_type": "markdown",
   "metadata": {},
   "source": [
    "As we can see that the residual is both a function of m and b, so differentiating partially with respect to m and b will give us:"
   ]
  },
  {
   "attachments": {
    "partialDerivatives.PNG": {
     "image/png": "[encoded data removed]"
    }
   },
   "cell_type": "markdown",
   "metadata": {},
   "source": [
    "![partialDerivatives.PNG](attachment:partialDerivatives.PNG)"
   ]
  },
  {
   "cell_type": "markdown",
   "metadata": {},
   "source": [
    "For getting the best fit line, residual should be minimum. The minima of a function occurs where the derivative=0. So, equating our corresponding derivatives to 0, we get:"
   ]
  },
  {
   "attachments": {
    "minima.PNG": {
     "image/png": "[encoded data removed]"
    }
   },
   "cell_type": "markdown",
   "metadata": {},
   "source": [
    "![minima.PNG](attachment:minima.PNG)\n"
   ]
  },
  {
   "cell_type": "markdown",
   "metadata": {},
   "source": [
    "This same equation can be written in matrix form as:"
   ]
  },
  {
   "attachments": {
    "matrix1.PNG": {
     "image/png": "[encoded data removed]"
    }
   },
   "cell_type": "markdown",
   "metadata": {},
   "source": [
    "![matrix1.PNG](attachment:matrix1.PNG)"
   ]
  },
  {
   "cell_type": "markdown",
   "metadata": {},
   "source": [
    "Ideally, if we'd have an equation of one dependent and one independent variable the minima will look as follows:"
   ]
  },
  {
   "cell_type": "markdown",
   "metadata": {},
   "source": [
    "<img src=\"minima2.png\" width=\"300\"/>\n",
    "<!-- ![minima2.png](attachment:minima2.png) -->"
   ]
  },
  {
   "cell_type": "markdown",
   "metadata": {},
   "source": [
    "But as the residual's minima is dependent on two variables m and b, it becomes a _Paraboloid_ and the appropriate m and b are calculated using _*Gradient Descent*_ as shown below:"
   ]
  },
  {
   "cell_type": "markdown",
   "metadata": {},
   "source": [
    "<img src=\"GradientDescent.gif\" width=\"300\"> Photo:Google\n"
   ]
  },
  {
   "cell_type": "markdown",
   "metadata": {},
   "source": [
    "**6. What is gradient descent, and why is it used? Explain the maths.**"
   ]
  },
  {
   "cell_type": "markdown",
   "metadata": {},
   "source": [
    "**Answer:**\n",
    "Gradient descent is an optimization algorithm used to minimize some function by iteratively moving in the direction of steepest descent as defined by the negative of the gradient. In machine learning, we use gradient descent to update the parameters of our model. Parameters refer to coefficients in Linear Regression and weights in neural networks."
   ]
  },
  {
   "cell_type": "markdown",
   "metadata": {},
   "source": [
    "**Mathematics behind Gradient Descent**"
   ]
  },
  {
   "cell_type": "markdown",
   "metadata": {},
   "source": [
    "1. Consider a bunch of data points in a 2D space. Assume that the data is related to the height and weight of a group of students. \n",
    "2. Draw an arbitrary line in space that passes through some of these data points. The equation of this straight line would be \n",
    "3. Y = mX+b where m is the slope and b is its intercept on the Y-axis.\n",
    "4. Given a known set of inputs (X) and their corressponding outputs (Y), A machne learning model tries to make some predictions (Y')for a new set of inputs.\n",
    "5. The error would be the diffrance between the two predictions.\n",
    "        Error = Y'(Predicted)-Y(Actual)\n",
    "\n"
   ]
  },
  {
   "attachments": {
    "Screenshot%20from%202020-06-06%2018-45-58.png": {
     "image/png": "[encoded data removed]"
    }
   },
   "cell_type": "markdown",
   "metadata": {},
   "source": [
    "### Cost Function\n",
    "\n",
    "A Cost Function/Loss Function evaluates the performance of the machine learning algorithm. The Loss function computes the error for a single training example while the Cost function is the average of the loss functions for all the training examples.\n",
    "\n",
    "Let's say, there are total of 'N' points in the dataset and for all those 'N' data points, we want to minimize the error. So the cost function would be the total squared error i.e.\n",
    "![Screenshot%20from%202020-06-06%2018-45-58.png](attachment:Screenshot%20from%202020-06-06%2018-45-58.png)\n",
    "\n",
    "The goal of any machine learning algorithm is to minimize the cost function. This is because a lower error between the actual and the predicted values signifies that the algorithm has done a good job in learning. Since we want the lowest error value, we want 'm' and 'b' values which gives the smallest possible error. For finding the lowest error value, we have to locate the minima.\n",
    "\n",
    "Gradient descent algorithm helps us to make these decisions efficiently and effectively with the use of derivatives. A derivative is a term that comes from calculas and is calculated as the slope of the graph at a particular point."
   ]
  },
  {
   "cell_type": "markdown",
   "metadata": {},
   "source": [
    "### Mathematical Interpretation of Cost Function"
   ]
  },
  {
   "cell_type": "markdown",
   "metadata": {},
   "source": [
    "In the equation, y= mX+b, 'm' and 'b' are its parameters. During the training process, there will be a small change in their values. \n",
    "Let that small change be denoted by $\\delta$. The value of parameters will be updated as $m=m-\\delta m$ and $b=b-\\delta b$ respectively. The aim here is to find those values of m and b in y=mx+b, for which the error is minimum i.e. value which minimize the cost function."
   ]
  },
  {
   "cell_type": "markdown",
   "metadata": {},
   "source": [
    "Parameters with small changes:\n",
    "                $m=m-\\delta m$\n",
    "                $b=b-\\delta b$"
   ]
  },
  {
   "attachments": {
    "Screenshot%20from%202020-06-06%2021-47-29.png": {
     "image/png": "[encoded data removed]"
    }
   },
   "cell_type": "markdown",
   "metadata": {},
   "source": [
    "Given Cost Function for 'N' number of samples\n",
    "![Screenshot%20from%202020-06-06%2021-47-29.png](attachment:Screenshot%20from%202020-06-06%2021-47-29.png)"
   ]
  },
  {
   "attachments": {
    "Screenshot%20from%202020-06-06%2021-48-09.png": {
     "image/png": "[encoded data removed]"
    }
   },
   "cell_type": "markdown",
   "metadata": {},
   "source": [
    "Cost function is denoted by J where J is a function of m and b\n",
    "![Screenshot%20from%202020-06-06%2021-48-09.png](attachment:Screenshot%20from%202020-06-06%2021-48-09.png)"
   ]
  },
  {
   "attachments": {
    "Screenshot%20from%202020-06-06%2021-48-35.png": {
     "image/png": "[encoded data removed]"
    }
   },
   "cell_type": "markdown",
   "metadata": {},
   "source": [
    "Substituting the term Y'-Y with error for simpicity\n",
    "![Screenshot%20from%202020-06-06%2021-48-35.png](attachment:Screenshot%20from%202020-06-06%2021-48-35.png)"
   ]
  },
  {
   "attachments": {
    "Screenshot%20from%202020-06-06%2022-01-03.png": {
     "image/png": "[encoded data removed]"
    }
   },
   "cell_type": "markdown",
   "metadata": {},
   "source": [
    "Derivative of the Cost Function:\n",
    "![Screenshot%20from%202020-06-06%2022-01-03.png](attachment:Screenshot%20from%202020-06-06%2022-01-03.png)"
   ]
  },
  {
   "attachments": {
    "Screenshot%20from%202020-06-06%2022-05-28.png": {
     "image/png": "[encoded data removed]"
    }
   },
   "cell_type": "markdown",
   "metadata": {},
   "source": [
    "Now, gradient of Error w.r.t both m,\n",
    "![Screenshot%20from%202020-06-06%2022-05-28.png](attachment:Screenshot%20from%202020-06-06%2022-05-28.png)"
   ]
  },
  {
   "attachments": {
    "Screenshot%20from%202020-06-06%2022-06-30.png": {
     "image/png": "[encoded data removed]"
    }
   },
   "cell_type": "markdown",
   "metadata": {},
   "source": [
    "and gradient of error w.r.t both b:\n",
    "![Screenshot%20from%202020-06-06%2022-06-30.png](attachment:Screenshot%20from%202020-06-06%2022-06-30.png)"
   ]
  },
  {
   "attachments": {
    "Screenshot%20from%202020-06-06%2022-08-27.png": {
     "image/png": "[encoded data removed]"
    }
   },
   "cell_type": "markdown",
   "metadata": {},
   "source": [
    "Plugging the values back in the cost function and multiplying it with learning rate:\n",
    "![Screenshot%20from%202020-06-06%2022-08-27.png](attachment:Screenshot%20from%202020-06-06%2022-08-27.png)\n"
   ]
  },
  {
   "attachments": {
    "Screenshot%20from%202020-06-06%2022-09-52.png": {
     "image/png": "[encoded data removed]"
    }
   },
   "cell_type": "markdown",
   "metadata": {},
   "source": [
    "![Screenshot%20from%202020-06-06%2022-09-52.png](attachment:Screenshot%20from%202020-06-06%2022-09-52.png)"
   ]
  },
  {
   "attachments": {
    "Screenshot%20from%202020-06-06%2022-14-05.png": {
     "image/png": "[encoded data removed]"
    }
   },
   "cell_type": "markdown",
   "metadata": {},
   "source": [
    "Now, the term 2 in equation isn't that significant since it just says that we have a learning rate twice as big or half as big. So, ignore it. \n",
    "Therefore, the equations for Gradient Descent.\n",
    "![Screenshot%20from%202020-06-06%2022-14-05.png](attachment:Screenshot%20from%202020-06-06%2022-14-05.png)"
   ]
  },
  {
   "cell_type": "markdown",
   "metadata": {},
   "source": [
    "$$\\begin{align}\n",
    "m^1=m^0-Error*X*Learning Rate\n",
    "b^1=b^0-Error*Learning Rate\n",
    "\\end{align} $$"
   ]
  },
  {
   "cell_type": "markdown",
   "metadata": {},
   "source": [
    "Here, $m^1$, $b^1$=next position parameters;\n",
    "$m^0$, $b^0$=current position parameters;"
   ]
  },
  {
   "cell_type": "markdown",
   "metadata": {},
   "source": [
    "Hence, to solve for the gradient, we have to iterate through all the data points using new $m$ and $b$ values and compute the partial derivatives. This new gradient tells us the slope of the cost function at current position and the direction we should move to update parameters $m$ and $b$. The size of our update is controlled by the learning rate."
   ]
  },
  {
   "cell_type": "markdown",
   "metadata": {},
   "source": [
    "**7. What are residuals?**"
   ]
  },
  {
   "cell_type": "markdown",
   "metadata": {},
   "source": [
    "**Answer:**\n",
    "The difference between the observed value of the dependent variable (y) and the predicted value (ŷ) is called the residual (e). Each data point has one residual.\n",
    "\n",
    "                Residual = Observed value - Predicted value\n",
    "                            e = y - ŷ\n",
    "\n",
    "Both the sum and the mean of the residuals are equal to zero. That is, Σ e = 0 and e = 0."
   ]
  },
  {
   "cell_type": "markdown",
   "metadata": {},
   "source": [
    "**8. What is correlation?**"
   ]
  },
  {
   "cell_type": "markdown",
   "metadata": {},
   "source": [
    "**Answer:** \n",
    "The word `correlation` is used in everyday life to denote some form of association. We might say that a correlation is noticed between foggy days and attacks of wheeziness. However, in statistical terms, correlation is used to denote association between two quantitative variables. It can be assumed that the association is linear, that one variable increases or decreases a fixed amount for a unit increase or decrease in the other. The other technique that is often used in these circumstances is regression, which involves estimating the best straight line to summarise the association."
   ]
  },
  {
   "cell_type": "markdown",
   "metadata": {},
   "source": [
    "#### 9.\tWhat is multicollinearity?"
   ]
  },
  {
   "cell_type": "markdown",
   "metadata": {},
   "source": [
    "**Answer:** The word multi-collinearity consists of two words:`Multi, meaning multiple, and Collinear, meaning being linearly dependent on each other`.  <br>\n",
    "For e.g., consider this equation\n",
    "\t\t$ a+b=1  => b=1-a $\n",
    "        \n",
    "It means that ‘b’ can be represented in terms of ‘a’ i.e., if the value of ‘a’ \t\tchanges, automatically the value of ‘b’ will also change. This equation denotes a simple linear relationship among two variables.\n",
    "\n",
    "The purpose of executing a Linear Regression is to predict the value of a \tdependent variable based on certain independent variables.\n",
    "\n",
    "So, when we perform a Linear Regression, we want our dataset to have variables which are independent i.e., we should not be able to define an \tindependent variable with the help of another independent variable  \tbecause now in our model we have two variables which can be defined based \ton a certain set of independent variables which defeats the entire purpose.\n",
    "\n",
    "Therefore, Multicollinearity is a state of very high intercorrelations or inter-associations among the independent variables. It is therefore a type of disturbance in the data, and if present in the data the statistical inferences made about the data may not be reliable."
   ]
  },
  {
   "cell_type": "markdown",
   "metadata": {},
   "source": [
    "**There are certain reasons why multicollinearity occurs:**\n",
    "1. It is caused by an inaccurate use of dummy variables.\n",
    "2. It is caused by the inclusion of a variable which is computed from other variables in the data set.\n",
    "3. Multicollinearity can also result from the repetition of the same kind of variable.\n",
    "4. Generally occurs when the variables are highly correlated to each other."
   ]
  },
  {
   "cell_type": "markdown",
   "metadata": {},
   "source": [
    "**10. How to detect multicollinearity?**"
   ]
  },
  {
   "cell_type": "markdown",
   "metadata": {},
   "source": [
    "**Answer:** Multicollinearity is a matter of degree, not a matter of presence or absence. The higher the\n",
    "degree of multicollinearity, the greater the likelihood of the disturbing consequences of multicollinearity. \n",
    "Multicollinearity can affect any regression model with more than one predictor. It occurs when two or more predictor variables overlap so much that their effects are indistinguishable.<br>\n",
    "For example, you may be interested in understanding the separate effects of altitude and temperature on the growth of a certain species of mountain tree. Altitude and temperature are distinct concepts, but the mean temperature is so correlated with the altitude at which the tree is growing that there is no way to separate out their effects."
   ]
  },
  {
   "cell_type": "markdown",
   "metadata": {},
   "source": [
    "**Several techniques have been proposed for detecting multicollinearity:**\n",
    "*1. Review scatterplot and correlation matrices.*\n",
    "a scatterplot matrix can show the types of relationships between the x variables. If one of the individual scatterplots in the matrix shows a linear relationship between variables, this is an indication that those variables are exhibiting multicollinearity. While a scatterplot matrix is a good visual approach, a more precise approach is to run a correlation matrix. correl\n",
    "**Rule of thumb:** If the correlation > 0.8 then severe multicollinearity may be present.\n",
    "\n",
    "*2. Variance Inflation Factor(VIF):*\n",
    "It is another way to express exactly the same information found in the coefficient of multiple correlation. The variance inflation factor is computed for each independent variable, using the following formula:\n",
    "                                    "
   ]
  },
  {
   "cell_type": "markdown",
   "metadata": {},
   "source": [
    "$$\n",
    "\\begin{align}\n",
    "VIF= 1 / (1 - R^2_{k})\n",
    "\\end{align}\n",
    "$$"
   ]
  },
  {
   "attachments": {
    "Screenshot%20from%202020-05-03%2015-42-04.png": {
     "image/png": "[encoded data removed]"
    }
   },
   "cell_type": "markdown",
   "metadata": {},
   "source": [
    "where $ VIF_{k}$ is the variance inflation factor for variable k, and $R^2_{k}$ is the coefficient of multiple determination for variable k. The following guidelines has been proposed to interpret the VIF:\n",
    "![Screenshot%20from%202020-05-03%2015-42-04.png](attachment:Screenshot%20from%202020-05-03%2015-42-04.png)"
   ]
  },
  {
   "cell_type": "markdown",
   "metadata": {},
   "source": [
    "**11.What are the remedies for multicollinearity?**"
   ]
  },
  {
   "cell_type": "markdown",
   "metadata": {},
   "source": [
    "**Answer:**\n",
    "No single solution exists to eliminate multicollinearity. Certain approaches which are used for reducing multicollinearity are: <br>\n",
    "1.**Do Nothing:** Live with what you have.  <br>\n",
    "2.**Drop a Redundant Variable:** If a variable is redundant, it should have never been included in the model in the first place. So dropping it actually is just correcting for a specification error. Use economic theory to guide your choice of which variable to drop.  <br>\n",
    "3.**Transform the Multicollinear Variables:** Sometimes you can reduce multicollinearity by re-specifying the model, for instance, create a combination of the multicollinear variables. As an example, rather than including the variables GDP and population in the model, include GDP/population (GDP per capita) instead. <br>\n",
    "4.**Increase the Sample Size:** Increasing the sample size improves the precision of an estimator and reduces the adverse effects of multicollinearity. Usually adding data though is not feasible."
   ]
  },
  {
   "cell_type": "markdown",
   "metadata": {},
   "source": [
    "**12.\tWhat is the R-Squared Statistics?**"
   ]
  },
  {
   "cell_type": "markdown",
   "metadata": {},
   "source": [
    "**Answer:**\n",
    "The R-squared statistic provides a measure of fit. It takes the form of a proportion—the proportion of variance\n",
    "explained—and so it always takes on a value between 0 and 1. In simple words, it represents how much of our data is being explained by our model. \n",
    "For example,  $R^2$ statistic = 0.75, it says that our model fits 75 % of the total data set.\n",
    "Similarly, if it is 0, it means none of the data points is being explained and a value of 1 represents 100% data explanation.\n",
    "Mathematically $R^2$ statistic is calculated as :"
   ]
  },
  {
   "attachments": {
    "RSquared.png": {
     "image/png": "[encoded data removed]"
    }
   },
   "cell_type": "markdown",
   "metadata": {},
   "source": [
    "<!-- <img src=\"RSquared.PNG\" width=\"300\">  -->\n",
    "![RSquared.png](attachment:RSquared.png)"
   ]
  },
  {
   "cell_type": "markdown",
   "metadata": {},
   "source": [
    "Where RSS:  is  the Residual Sum of squares i.e. error term and is given as :"
   ]
  },
  {
   "attachments": {
    "RSS.PNG": {
     "image/png": "[encoded data removed]"
    }
   },
   "cell_type": "markdown",
   "metadata": {},
   "source": [
    "![RSS.PNG](attachment:RSS.PNG)                                                                "
   ]
  },
  {
   "cell_type": "markdown",
   "metadata": {},
   "source": [
    "And, TSS:  is  the Total sum of squares and given as :"
   ]
  },
  {
   "attachments": {
    "TSS.PNG": {
     "image/png": "[encoded data removed]"
    }
   },
   "cell_type": "markdown",
   "metadata": {},
   "source": [
    "![TSS.PNG](attachment:TSS.PNG)                                                             "
   ]
  },
  {
   "cell_type": "markdown",
   "metadata": {},
   "source": [
    "The closer the value of R2 is to 1, the better the model fits our data. If R2 comes below 0(which is a possibility) that means the model is so bad that it is performing even worse than the average best fit line."
   ]
  },
  {
   "cell_type": "markdown",
   "metadata": {},
   "source": [
    "13.\tWhat is an adjusted R-Squared Statistics?"
   ]
  },
  {
   "cell_type": "markdown",
   "metadata": {},
   "source": [
    "**Answer:**\n",
    "R-squared can be misleading when we assess the goodness-of-fit for linear regression analysis. \n",
    "R-squared has many problems that the adjusted R-squared is designed to address. Some of them are given below:\n",
    "**Problem 1:** Every time, a predictor is added to a model, the R-squared increses, even if due to chance alone. It never decreases. Consequently, a model with more terms may appear to have a better fit simply because it has more terms.\n",
    "**Problem 2:** If  a  model has too many predictors and higher order polynomials, it begins to model the random noise in the data. This condition is called `overfitting the model` and it produces misleadingly high R-squuared values and a lessened ability to make predictions.\n",
    "\n",
    "The **adjusted R-squared** is a modified version of R-squared that has been adjusted for the number pf predictors in the model. The adjusted R-squared increses only if the new term improves the model more than would be expected by chance. It decreses when a predictor improves the model by less than expected by chance. The adjusted R-squared can be negative, but its usually not. It is always lower than than the R-squared. "
   ]
  },
  {
   "cell_type": "markdown",
   "metadata": {},
   "source": [
    "14.\tWhy do we use adj R-squared?"
   ]
  },
  {
   "cell_type": "markdown",
   "metadata": {},
   "source": [
    "**Answer:**\n",
    "Both R2 and the adjusted R2 give an idea of how many data points fall within the line of the regression equation. However, there is one main difference between R2 and the adjusted R2: R2 assumes that every single variable explains the variation in the dependent variable. The adjusted R2 tells you the percentage of variation explained by only the independent variables that actually affect the dependent variable. \n",
    "\n",
    "Problems with R2 that are corrected with an adjusted R2:\n",
    "\n",
    "1. R2 increases with every predictor added to a model. As R2 always increases and never decreases, it can appear to be a better fit with the more terms you add to the model. This can be completely misleading.\n",
    "2. If your model has too many terms and too many high-order polynomials you can run into the problem of over-fitting the data. When you over-fit data, a misleadingly high R2 value can lead to misleading projections.\n",
    "https://www.statisticshowto.com/adjusted-r2/"
   ]
  },
  {
   "cell_type": "markdown",
   "metadata": {},
   "source": [
    "***15. Why adj R-squared decreases when we use incompetent variables?**"
   ]
  },
  {
   "cell_type": "markdown",
   "metadata": {},
   "source": [
    "**Answer:**\n",
    "The formulae of adjusted R2 takes into account the number of independent variables in the model. As a general thumb rule if adjusted R2 increases when a new variables is added to the model, the variable should remain in the model. If the adjusted R2 decreases when the new variable is added then the variable should not remain in the model. Other factors may also be considered."
   ]
  },
  {
   "cell_type": "markdown",
   "metadata": {},
   "source": [
    "**17. What is the difference between fit, fit_transform and predict methods?**"
   ]
  },
  {
   "cell_type": "markdown",
   "metadata": {},
   "source": [
    "**Answer:**\n",
    "**1.fit():** To center the training data (make it have zero mean and unit standard error), subtract the mean and then divide the result by the standard deviation.\n",
    "                                           x′=x−μσ\n",
    "Same transformation is applied to your testing set (e.g. in cross-validation), or to newly obtained examples before forecast. However, same two parameters μ and σ (values) used for centering the training set are used.\n",
    "\n",
    "Hence, every sklearn's transform's fit() just calculates the parameters (e.g. μ and σ in case of StandardScaler) and saves them as an internal objects state. Afterwards, transform() method is called to apply the transformation to a particular set of examples.\n",
    "\n",
    "**2. fit_transform():** This function joins the above discussed two steps and is used for the initial fitting of parameters on the training set x, but it also returns a transformed x′. Internally, it just calls first fit() and then transform() on the same data.\n",
    "\n",
    "So by fit the imputer calculates the means of columns from some data, and by transform it applies those means to some data (which is just replacing missing values with the means). If both these data are the same (i.e. the data for calculating the means and the data that means are applied to), fit_transform can be used which is basically a fit followed by a transform.\n",
    "\n",
    "**3.predict():** built model is used to predict outputs for novel inputs. "
   ]
  },
  {
   "cell_type": "markdown",
   "metadata": {},
   "source": [
    "**18. How do you plot the least squared line?**"
   ]
  },
  {
   "cell_type": "markdown",
   "metadata": {},
   "source": [
    "**Answer:**\n",
    "Given any collection of pairs of numbers (except when all the x-values are the same) and the corresponding scatter diagram, there always exists exactly one straight line that fits the data better than any other, in the sense of minimizing the sum of the squared errors. It is called the least squares regression line. Moreover there are formulas for its slope and y-intercept."
   ]
  },
  {
   "cell_type": "markdown",
   "metadata": {},
   "source": [
    "**19. What are Bias and Variance? What is Bias Variance Trade-off?**"
   ]
  },
  {
   "cell_type": "markdown",
   "metadata": {},
   "source": [
    "**Answer:**<br>\n",
    "**Bias:** Bias is how far are the predicted values from the actual values. If the average predicted values are far off from the actual values then the bias is high. Model with high bias pays very little attention to the training data and oversimplifies the model. It always leads to high error on training and test data.\n",
    "High Bias can be identified when we have **High training error** and **Validation error or test error is same as training error**\n",
    "\n",
    "**Variance:** It is the variability of model prediction for a given data point or a value which tells us spread of our data. Model with high variance pays a lot of attention to training data and does not generalize on the data which it hasn’t seen before. As a result, such models perform very well on training data but has high error rates on test data. High variance causes overfitting that implies that the algorithm models random noise present in the training data. High Variance can be identified when we have **Low training error** and **High validation error at high test error**"
   ]
  },
  {
   "cell_type": "markdown",
   "metadata": {},
   "source": [
    "### **Bias-variance Trade-off**:\n",
    "The goal of any supervised machine learning algorithm is to achieve low bias and low variance. In turn the algorithm should achieve good prediction performance. A general trend is seen in the examples below:<br>\n",
    "\n",
    "** Linear machine learning algorithms often have a high bias but a low variance whereas Nonlinear machine learning algorithms often have a low bias but a high variance. The parameterization of machine learning algorithms is often a battle to balance out bias and variance. <br>"
   ]
  },
  {
   "cell_type": "markdown",
   "metadata": {},
   "source": [
    "Below are two examples of configuring the bias-variance trade-off for specific algorithms:\n",
    "- The k-nearest neighbors algorithm has low bias and high variance, but the trade-off can be changed by increasing the value of k which increases the number of neighbors that contribute t the prediction and in turn increases the bias of the model.\n",
    "- The support vector machine algorithm has low bias and high variance, but the trade-off can be changed by increasing the C parameter that influences the number of violations of the margin allowed in the training data which increases the bias but decreases the variance."
   ]
  },
  {
   "cell_type": "markdown",
   "metadata": {},
   "source": [
    "There is a trade-off at play between these two terms i.e. `increasing the bias will decrease the variance and icreasing the variance will decrease the bias` .The algorithms which are choosen and the way we choose to configure them are finding different balances in this trade-off for a particular problem.\n",
    "\n",
    "In reality, the real bias and variance error terms can not be calculated because we do not know the actual underlying target function. Nevertheless, as a framework, bias and variance provide the tools to understand the behavior of machine learning algorithms in the pursuit of predictive performance.\n",
    "\n",
    "If our model is too simple and has very few parameters then it may have high bias and low variance. On the other hand if our model has large number of parameters then it’s going to have high variance and low bias. So we need to find the right/good balance without overfitting and underfitting the data.\n",
    "\n",
    "This tradeoff in complexity is why there is a tradeoff between bias and variance. An algorithm can’t be more complex and less complex at the same time."
   ]
  },
  {
   "cell_type": "markdown",
   "metadata": {},
   "source": [
    "20.\tWhat is the null and alternate hypothesis?"
   ]
  },
  {
   "cell_type": "markdown",
   "metadata": {},
   "source": [
    "A **hypothesis** is a speculation or theory based on insufficient evidence that lends itself to further testing and experimentation. With further testing, a hypothesis can usually be proven true or false. Let's look at an example. Little Susie speculates, or hypothesizes, that the flowers she waters with club soda will grow faster than flowers she waters with plain water. She waters each plant daily for a month (experiment) and proves her hypothesis true!\n",
    "\n",
    "A **null hypothesis** is a hypothesis that says there is no statistical significance between the two variables in the hypothesis. It is the hypothesis that the researcher is trying to disprove. In the example, Susie's null hypothesis would be something like this: There is no statistically significant relationship between the type of water I feed the flowers and growth of the flowers. A researcher is challenged by the null hypothesis and usually wants to disprove it, to demonstrate that there is a statistically-significant relationship between the two variables in the hypothesis.\n",
    "\n",
    "An **alternative hypothesis** simply is the inverse, or opposite, of the null hypothesis. So, if we continue with the above example, the alternative hypothesis would be that there IS indeed a statistically-significant relationship between what type of water the flower plant is fed and growth. More specifically, here would be the null and alternative hypotheses for Susie's study:\n",
    "\n",
    "**Null:** If one plant is fed club soda for one month and another plant is fed plain water, there will be no difference in growth between the two plants.\n",
    "Alternative: If one plant is fed club soda for one month and another plant is fed plain water, the plant that is fed club soda will grow better than the plant that is fed plain water."
   ]
  },
  {
   "cell_type": "markdown",
   "metadata": {},
   "source": [
    "21.\tWhat is multiple linear regression?"
   ]
  },
  {
   "cell_type": "markdown",
   "metadata": {},
   "source": [
    "**Answer:** Multiple linear regression (MLR), also known simply as multiple regression, is a statistical technique that uses several explanatory variables to predict the outcome of a response variable. The goal of multiple linear regression (MLR) is to model the linear relationship between the explanatory (independent) variables and response (dependent) variable.\n",
    "\n",
    "In essence, multiple regression is the extension of ordinary least-squares (OLS) regression that involves more than one explanatory variable."
   ]
  },
  {
   "attachments": {
    "Screenshot%20from%202020-06-08%2022-18-01.png": {
     "image/png": "[encoded data removed]"
    }
   },
   "cell_type": "markdown",
   "metadata": {},
   "source": [
    "![Screenshot%20from%202020-06-08%2022-18-01.png](attachment:Screenshot%20from%202020-06-08%2022-18-01.png)"
   ]
  },
  {
   "cell_type": "markdown",
   "metadata": {},
   "source": [
    "22.\tWhat is the OLS method? Derive the formulae used in the OLS method."
   ]
  },
  {
   "cell_type": "markdown",
   "metadata": {},
   "source": [
    "**Answer:** <br> \n",
    "In statstics, **ordinary least squares (OLS)** is a type of linear least squares method for estimating the unknown paramteres in a linear regression model.\n",
    "OLS chooses the parameters of a linear function of a set of explanatory variables by the principle of least squares: minimizing the sum of the squares of the diffrances between the observed dependent varaible in the given dataset and those predicted by the linear function."
   ]
  },
  {
   "cell_type": "markdown",
   "metadata": {},
   "source": [
    "#### Deriving the OLS Formula"
   ]
  },
  {
   "cell_type": "markdown",
   "metadata": {},
   "source": [
    "Suppose the data consists of n observations \n",
    "${\\{y_{i}, x_{i}}^n_{i=1}$"
   ]
  },
  {
   "cell_type": "markdown",
   "metadata": {},
   "source": [
    "Here, $x_{1}$,$x_{2}$,....., $x_{n}$ is an explanatory variable and $y_{1}$,$y_{2}$,....., $y_{n}$ is a dependent varaible."
   ]
  },
  {
   "cell_type": "markdown",
   "metadata": {},
   "source": [
    "In a linear regression model, the response variable $y_{n}$ is a linear function of the regressors. <br>\n",
    "                    $y = b_1 + b_2 X$"
   ]
  },
  {
   "cell_type": "markdown",
   "metadata": {},
   "source": [
    "Then Residual square of Sums (RSS) is given by: <br>\n",
    "$ RSS = \\Sigma e^2_{i} $   <br>\n",
    "where $e_{i} = y_{i}-\\hat y_{i}$ = $y_{i}-b_{1}-b_{2}x_{i}$, $y_{i}$ are actual values and $\\hat y_{i}$ are predicted values."
   ]
  },
  {
   "cell_type": "markdown",
   "metadata": {},
   "source": [
    "### Calculate Partial derivatives"
   ]
  },
  {
   "cell_type": "markdown",
   "metadata": {},
   "source": [
    "Let $f(b_{1},b_{2}) = \\Sigma y_{i}-b_{1}-b_{2}x_{i}$"
   ]
  },
  {
   "cell_type": "markdown",
   "metadata": {},
   "source": [
    "We have to find b1 and b2. Therefore, our optimization problem will be <br>\n",
    "$\\frac{\\partial f}{\\partial b_{1}} = 0$                               ---------------- (1)\n",
    "\n",
    "$\\frac{\\partial f}{\\partial b_{2}} =0$                                 -----------------(2)"
   ]
  },
  {
   "cell_type": "markdown",
   "metadata": {},
   "source": [
    "Solving eq.(1): <br>      \n",
    "$\\frac{\\partial f}{\\partial b_{1}} = 0$ <br>\n",
    "$\\Rightarrow \\frac{\\partial \\sigma (y_{i}-b_{1}-b_{2}x_{i})^2}{\\partial b_{1}} = 0$ <br>\n",
    "$ \\Rightarrow 2(y_{i}-b_{1}-b_{2}x_{i})\\frac{\\partial \\sigma (y_{i}-b_{1}-b_{2}x_{i})}{\\partial b_{1}} = 0$   --(3)<br>\n",
    "\n",
    "Since $x_{i}$ and $y_{i}$ is constant. Therefore, <br>\n",
    "$\\frac{\\partial \\Sigma (y_{i}-b_{1}-b_{2}x_{i})}{\\partial b_{1}}$ = -1 <br>\n",
    "\n",
    "eq.(3) becomes <br>\n",
    "$ \\Sigma 2(y_{i}-b_{1}-b_{2}x_{i})*(-1) = 0$<br>\n",
    "$ \\Rightarrow \\Sigma -(y_{i}-b_{1}-b_{2}x_{i})) = 0$ <br>\n",
    "$\\Rightarrow n\\bar y - nb_{1}-b_{2}n.\\bar x = 0$\n",
    "$\\Rightarrow \\bar y - b_{1}-b_{2}.\\bar x = 0$ <br>\n",
    "Therefore,\n",
    "$ b_{1} = \\bar y-b_{2}\\bar x $                                                                  -----------(4)"
   ]
  },
  {
   "cell_type": "markdown",
   "metadata": {},
   "source": [
    "Solving the below equation: <br>\n",
    "$\\frac{\\partial f}{\\partial b_{2}} =0 $ --------------------(2)<br>\n",
    "$\\Rightarrow\\frac{\\partial \\sigma (y_{i}-b_{1}-b_{2}x_{i})^2}{\\partial b_{2}} = 0$ <br>\n",
    "$\\Rightarrow 2(y_{i}-b_{1}-b_{2}x_{i})\\frac{\\partial \\sigma (y_{i}-b_{1}-b_{2}x_{i})}{\\partial b_{2}} = 0$ <br> \n",
    "\n",
    "eq.(2) becomes <br>\n",
    "$ \\Sigma 2(y_{i}-b_{1}-b_{2}x_{i})*(-x_{i}) = 0$<br>\n",
    "$\\Rightarrow \\Sigma x_{i}(y_{i}-b_{1}-b_{2}x_{i})) = 0$ <br>\n",
    "$\\Rightarrow (x.y_{i}-b_{1}x_{i}-b_{2}x^2_{i} = 0$ <br>\n",
    "$\\Rightarrow \\Sigma x_{i}y_{i}-\\Sigma b_{1}x_{i}-\\Sigma b_{2}x^2_{i} = 0$ <br>\n",
    "$\\Rightarrow \\Sigma x_{i}y_{i}- b_{1}\\bar x-\\Sigma b_{2}x^2_{i} = 0$ --(5) <br>\n",
    "\n",
    "Putting eq. (4) into (5)\n",
    "$ \\Sigma x_{i}y_{i}-(\\bar y-b_{2}\\bar X).n \\bar x - b_{2}\\Sigma x^2_{i} = 0$ <br>\n",
    "$\\Rightarrow x_{i}y_{i}-n \\bar y \\bar x = b_{2}(\\Sigma x^2_{i}-n\\bar x^2)$<br>\n",
    "$ \\Rightarrow \\Sigma (x_{i}-\\bar x)(y_{i}-\\bar y)=b_{2} \\Sigma (x_{i}-\\bar x)^2$<br>\n",
    "\n",
    "$b_{2} = \\frac {\\Sigma (x_{i}-\\bar x)(y_{i}-\\bar y)}{\\Sigma (x_{i}-\\bar x)^2}$ "
   ]
  },
  {
   "cell_type": "code",
   "execution_count": null,
   "metadata": {},
   "outputs": [],
   "source": [
    "https://www.youtube.com/watch?v=S5wo95hUuJI"
   ]
  },
  {
   "cell_type": "markdown",
   "metadata": {},
   "source": [
    "23.\tWhat is the p-value? How does it help in feature selection?"
   ]
  },
  {
   "cell_type": "markdown",
   "metadata": {},
   "source": [
    "**Answer:**\n",
    "P-value or probablity value or asympototic significance is a probablity value for a given statstical model that, if the nul hypothesis is true, a set of statstical observations more commonly known as the statstical summary is greater than or equal to the observed results.\n",
    "In other words, P-value gives us the probablity of fnding an observation under an assumption that a particular hypthesis is true. This probablity is used to accept or reject that hypothesis.\n",
    "p-value does help in feature selection. Removal of diffrent features from the dataset will have diffrent effects on the p-value for the dataset. We can remove diffrent features and measure the p-value in each case. These measured p-values can be used to decide whether to keep a feature or not."
   ]
  },
  {
   "cell_type": "markdown",
   "metadata": {},
   "source": [
    "24.\tHow to handle categorical values in the data?"
   ]
  },
  {
   "cell_type": "markdown",
   "metadata": {},
   "source": [
    "**Answer:**\n",
    "Categorical attribute represents discreate values which belongs to a specific finite set of categories or classes. These discrate values can be text or numeric in nature (or even unstructured data like images!). There are two major classes of categorical data, **nominal or ordinal**. <br>\n",
    "In any **nominal categorical data attribute**, there is no concept of ordering amongest the values of that attribute. For example, consider a simple exampe of weather categories. We have six major classes or categories in this particular scenario without any concept or notion of order(*windy*  doesn't always occur befor *sunny* nor is it smaller or bigger than *sunny*. <br>\n",
    "Similarly movie, music and video games genres, country names, food and cusine types are other examples of nominal categorical attributes.<br>\n",
    "**Ordinal categorical attributes** have some sense or notion of order amongst its value. For instance, order or size matters in shirts(S is smaller than L and so on). <br>\n",
    "Shoe sizes, education level and employment roles are some other examples of ordinal categorical attributes.\n",
    "\n",
    "Any standard workflow in feature engineering involves some form of transformation of these categorical values into numeric labels and then applying some encoding schemes on these values."
   ]
  },
  {
   "cell_type": "markdown",
   "metadata": {},
   "source": [
    "**Methods to deal with Categorical Variables:**\n",
    "https://towardsdatascience.com/smarter-ways-to-encode-categorical-data-for-machine-learning-part-1-of-3-6dca2f71b159"
   ]
  },
  {
   "cell_type": "markdown",
   "metadata": {},
   "source": [
    "*Here's is the list of Category Encoders functions with their descriptions and the type of data they would be most appropriate to encode.*"
   ]
  },
  {
   "cell_type": "markdown",
   "metadata": {},
   "source": [
    "The first group of five classic encoders can be seen on a ontinum of embedding information in one column (Ordinal) up to k columns (One hot). These are very useful encodings formachine learning practioners to understand."
   ]
  },
  {
   "cell_type": "markdown",
   "metadata": {},
   "source": [
    "**Ordinal**- OrdinalEncoder converts each string value to a whole number. The first unque value in (to be converted) column becomes 1, the second becomes 2, the third becomes 3 and so on.\n",
    "`Used for`: Ordinal"
   ]
  },
  {
   "cell_type": "markdown",
   "metadata": {},
   "source": [
    "**OneHot:** One-hot encoding is the classic approach to dealing with nominal, and may be ordinal, data. It is refereed to as the \"the standard approach for categorical data\". It also goes by the name *dummy* encoding, indicator encoding and ocassionally binary encoding.<br>\n",
    "\n",
    "The one-hot encoder creates one column for each value to compare against all other values. For each new column, a row gets a 1 if the row contained that column's value and a 0 if it did not.\n",
    "`Used for`: Nominal, ordinal"
   ]
  },
  {
   "cell_type": "markdown",
   "metadata": {},
   "source": [
    "**Binary:** It can be thought of as a hybrid of one-hot and hashing encoders. Binary creates fewer features than one-hot, while preserving some uniqueness of values in the column. It can work well with higher dimensionality ordinal dataconvert each integer to binary digits. Each binary digit gers one column. Some info loss but fewer dimension. `used for`: Ordinal"
   ]
  },
  {
   "cell_type": "markdown",
   "metadata": {},
   "source": [
    "**BaseN**-  When the BaseN base=1, it is basically the same as one hot encoding. When base=2, it is basically the same as binary encoding.<br>\n",
    "\n",
    "The main reason of BaseN's existance is o possibly make grid searching easier. BaseN can be used with scikit-learn's gridsearchCV. \n",
    "`used for`: Nominal, Ordinal"
   ]
  },
  {
   "cell_type": "markdown",
   "metadata": {},
   "source": [
    "**Hashing**-  HashingEncoder implements the hashing trick. It is similar to one-hot encoding but with fewer new dimensions and some info loss due to collisions. The collisions do not significantly affect performance unless there is a a great deal of overlap. \n",
    "Like OneHot but fewer dimensions, some info loss due to collisions. <br>\n",
    "`Used for`: Nominal, ordinal"
   ]
  },
  {
   "cell_type": "markdown",
   "metadata": {},
   "source": [
    "**Sum**: Just like OneHot except one value is held constant and encoded as -1 across all columns."
   ]
  },
  {
   "cell_type": "markdown",
   "metadata": {},
   "source": [
    "**25.What is regularization, and why do we need it?**"
   ]
  },
  {
   "cell_type": "markdown",
   "metadata": {},
   "source": [
    "**Answer:**\n",
    "When a model fits the training data but does not have a good predicting performance, the problem of overfitting occurs. The technique to reduce the risk of overfitting is called Regularization. In other words, regularization is a technique to minimise the complexity of the model by penalizing the loss function to solve overfitting.  \n",
    "\n",
    "To do regularization, a constraint is added to the loss function. <br>\n",
    "$Regularized Loss = Loss function + Constraint$<br>\n",
    "\n",
    "There are multiple diffrent forms of constraints that could be used to regularize. The three most popular ones are Ridge Regression, Lasso and Elastic Net.\n"
   ]
  },
  {
   "cell_type": "markdown",
   "metadata": {},
   "source": [
    "**26. Explain Ridge Regression.**"
   ]
  },
  {
   "cell_type": "markdown",
   "metadata": {},
   "source": [
    "**Answer**:Ridge regression or L2 regression adds a penalty to the error function. But the penalty here is the sum of the squared values of weights. Therefore, the regularization term is given by\n",
    "\n",
    "regularization=$ \\lambda *\\sum  |\\beta_j ^ 2| $\n",
    "\n",
    "Where, $\\lambda$ is the shrinkage factor.\n",
    "\n",
    "and hence the formula for loss after regularization is:\n",
    "\n",
    "<img src=\"ridge.PNG\">\n",
    "\n",
    "This value of lambda can be anything and should be calculated by cross validation as to what suits the model.**"
   ]
  },
  {
   "cell_type": "markdown",
   "metadata": {},
   "source": [
    "**27.Explain Lasso Regression.**"
   ]
  },
  {
   "cell_type": "markdown",
   "metadata": {},
   "source": [
    "**Answer:** \n",
    "L1 Regulization or Lasso(Least Absolute Shrinkage and Selection Operator) regularization adds a penalty to the error function. The penalty is the sum of the absolute values of weights. The regularization term is given by\n",
    "    \n",
    "\n",
    "$$\\begin{align} regularization=\\lambda *\\sum|\\beta_j|\\end{align}$$\n",
    "\n",
    "\n",
    "\n",
    "Where, λ is the shrinkage factor.\n",
    "\n",
    "and hence the formula for loss after regularization is:\n",
    "\n",
    "<img src=\"L1.PNG\">\n",
    " "
   ]
  },
  {
   "cell_type": "markdown",
   "metadata": {},
   "source": [
    "**28.Explain Elastic Net.**"
   ]
  },
  {
   "cell_type": "markdown",
   "metadata": {},
   "source": [
    "**Answer:**\n",
    "Elastic Net is also a regularization technique. It includes both L-1 and L-2 regularization terms. This gives benefits of both Lasso and Ridge regression. It has been found to have predictive power better than Lasso, while still performing feature selecttion. We therefore, get the best of both the worlds, performing feature selection of Lasso with the feature-group selection of ridge.\n",
    "Elastic Net comes with the additional overhead of determining the two lambda values for optimal solutions."
   ]
  },
  {
   "cell_type": "markdown",
   "metadata": {},
   "source": [
    "**Elastic Net Mathematical Formula:**"
   ]
  },
  {
   "cell_type": "markdown",
   "metadata": {},
   "source": [
    "<img src=\"elasticNet.PNG\">\n",
    "here, α is the mixing parameter between ridge (α = 0) and lasso (α = 1)."
   ]
  },
  {
   "cell_type": "markdown",
   "metadata": {},
   "source": [
    "29.\tWhy do we do a train test split?"
   ]
  },
  {
   "cell_type": "markdown",
   "metadata": {},
   "source": [
    "**Answer:** We split the dataset into training and test dataset to avoid overfitting. The training dataset (also called training set, learning set, or AI training data) is the initial dataset used to train an algorithm to understand how to apply technologies such as neural networks, to learn and produce complex results. It includes both input data and the corresponding expected output. The purpose of the training dataset is to provide your algorithm with “ground truth” data.\n",
    "\n",
    "The test dataset, however, is used to assess how well your algorithm was trained with the training dataset. You can’t simply reuse the training dataset in the testing stage because the algorithm will already “know” the expected output, which defeats the purpose of testing the algorithm."
   ]
  },
  {
   "cell_type": "markdown",
   "metadata": {},
   "source": [
    "30.\tWhat is polynomial regression? When to use it?"
   ]
  },
  {
   "cell_type": "markdown",
   "metadata": {},
   "source": [
    "**Answer:** Polynomial Regression is a form of linear regression in which the relationship between the independent variable $x$ and dependent variable $y$ is modeled as an nth degree polynomial. Polynomail regression fits a nonlinear relationship between the value of $x$ and the corressponding mean of $y$, denoted by E(y|x) <br>\n",
    "**When to use Polynomial regression:**\n",
    "There are some relationship that where data is correlated but the relationship doesn't look linear. \n",
    "So, hence depending on what the data looks like,a polynomial regression on the data can be done to fit a polynomial equation to it.\n",
    "\n",
    "The general equation of a polynomial regression is: <br>\n",
    "$ Y = \\theta_0+\\theta_1X+\\theta_2X^2+...+\\theta_mX^m + residual error$"
   ]
  },
  {
   "cell_type": "markdown",
   "metadata": {},
   "source": [
    "**Advantages of using Polynomial Regression:**\n",
    "1. Polynomial provides the best approximation of the relationship between the dependent and independent variable.\n",
    "2. A broad range of function can be fit under it.\n",
    "3. Polynomial basically fits a wide range of curvature."
   ]
  },
  {
   "cell_type": "markdown",
   "metadata": {},
   "source": [
    "**Disadvantages of using Polynomial Regression:**\n",
    "1. The presence of one or two outliers in the data can seriously affect the result of the nonlinear analysis.\n",
    "2. These are too sensitive to the outliers.\n",
    "3. In addition, there are unfortunately fewer model validation tools for the detection of outliers in nonlinear regression than there are for linear regression."
   ]
  },
  {
   "cell_type": "markdown",
   "metadata": {},
   "source": [
    "31.\tExplain the steps for GCP deployment."
   ]
  },
  {
   "cell_type": "code",
   "execution_count": null,
   "metadata": {},
   "outputs": [],
   "source": []
  },
  {
   "cell_type": "markdown",
   "metadata": {},
   "source": [
    "32. What difficulties did you face in cloud deployment?"
   ]
  },
  {
   "cell_type": "code",
   "execution_count": null,
   "metadata": {},
   "outputs": [],
   "source": []
  }
 ],
 "metadata": {
  "kernelspec": {
   "display_name": "Python 3",
   "language": "python",
   "name": "python3"
  },
  "language_info": {
   "codemirror_mode": {
    "name": "ipython",
    "version": 3
   },
   "file_extension": ".py",
   "mimetype": "text/x-python",
   "name": "python",
   "nbconvert_exporter": "python",
   "pygments_lexer": "ipython3",
   "version": "3.7.6"
  }
 },
 "nbformat": 4,
 "nbformat_minor": 2
}
