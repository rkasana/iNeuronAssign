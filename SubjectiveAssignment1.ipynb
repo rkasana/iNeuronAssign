{
 "cells": [
  {
   "cell_type": "markdown",
   "metadata": {},
   "source": [
    "**PYTHON** - Practice Subjective"
   ]
  },
  {
   "cell_type": "code",
   "execution_count": 1,
   "metadata": {},
   "outputs": [],
   "source": [
    "# Import neccessary modules\n",
    "import pandas as pd\n",
    "import numpy as np\n",
    "import matplotlib.pyplot as plt"
   ]
  },
  {
   "cell_type": "markdown",
   "metadata": {},
   "source": [
    "###### **Q1.** Write a Python program to get the string from the given string where all the occurrence of its first char has been changed to  <span>\"$\"</span> except first char itself? <br> Sample String:'prospect' <br> Expected Result:'pros\\\\$ect'"
   ]
  },
  {
   "cell_type": "markdown",
   "metadata": {},
   "source": [
    "**Solution:**"
   ]
  },
  {
   "cell_type": "code",
   "execution_count": 2,
   "metadata": {},
   "outputs": [
    {
     "name": "stdout",
     "output_type": "stream",
     "text": [
      "pro$pect\n"
     ]
    }
   ],
   "source": [
    "sample = \"prospects\"\n",
    "c = sample[0]\n",
    "output = \"\"\n",
    "for i in range(len(sample)-1):\n",
    "    \n",
    "    if c==sample[i+1]:\n",
    "        chracter = \"$\"\n",
    "    else:\n",
    "        chracter = sample[i]\n",
    "#     print(chracter)\n",
    "    output+=chracter\n",
    "    \n",
    "print(output)\n",
    "    "
   ]
  },
  {
   "cell_type": "code",
   "execution_count": 131,
   "metadata": {},
   "outputs": [
    {
     "data": {
      "text/plain": [
       "'pro$pect'"
      ]
     },
     "execution_count": 131,
     "metadata": {},
     "output_type": "execute_result"
    }
   ],
   "source": [
    "sample = \"prospects\"\n",
    "str1 = ''\n",
    "c=sample[0]\n",
    "output= [\"$\" if c==sample[i+1] else sample[i] for i in range(len(sample)-1)]\n",
    "str1.join([str(elem) for elem in output])"
   ]
  },
  {
   "cell_type": "markdown",
   "metadata": {},
   "source": [
    "**Q2.** Write a Python program to get the single string from the two given strings, and separated by the space and swap the first two characters of each string? <br>\n",
    "**Sample String :** 'abc', 'xyz'. <br>\n",
    "**Expected Result:** 'xyc abz'"
   ]
  },
  {
   "cell_type": "markdown",
   "metadata": {},
   "source": [
    "**Solution:**"
   ]
  },
  {
   "cell_type": "code",
   "execution_count": 5,
   "metadata": {},
   "outputs": [
    {
     "name": "stdout",
     "output_type": "stream",
     "text": [
      "('abc', 'xyz')\n"
     ]
    }
   ],
   "source": [
    "sample = 'abc','xyz'\n",
    "print(str(sample))"
   ]
  },
  {
   "cell_type": "code",
   "execution_count": 6,
   "metadata": {},
   "outputs": [
    {
     "name": "stdout",
     "output_type": "stream",
     "text": [
      "xyc abz\n"
     ]
    }
   ],
   "source": [
    "output = sample[0].replace(sample[0][0:2], sample[1][0:2])+\" \"+ sample[1].replace(sample[1][0:2], sample[0][0:2])\n",
    "print(output)"
   ]
  },
  {
   "cell_type": "markdown",
   "metadata": {},
   "source": [
    "**Q3.** Write the Python program to add 'ing' at the end of the given string (length of the string should be at least 3). If given string already ends with 'ing,' then add 'ly' instead. If string length of the given string is less than 3, leave it unchanged? <br>\n",
    "**Sample string:** ' abc ' <br>\n",
    "**Expected result:** ' abcing ' <br>\n",
    "**Sample string:** ' string ' <br>\n",
    "**Expected result:** ' stringly '"
   ]
  },
  {
   "cell_type": "markdown",
   "metadata": {},
   "source": [
    "**Solution:**"
   ]
  },
  {
   "cell_type": "code",
   "execution_count": 7,
   "metadata": {},
   "outputs": [
    {
     "name": "stdout",
     "output_type": "stream",
     "text": [
      "abc\n",
      "abcing\n"
     ]
    }
   ],
   "source": [
    "sample = input()\n",
    "str1=\"\"\n",
    "if len(sample)>=3:\n",
    "    if \"ing\" in sample:\n",
    "        print(sample+\"ly\")\n",
    "    else:\n",
    "        print(sample+\"ing\")        "
   ]
  },
  {
   "cell_type": "markdown",
   "metadata": {},
   "source": [
    "**Q4.** Write the Python program to find the first appearance of the substring 'not' and 'poor' from the given string, if 'not' follows the 'poor', replace the whole 'not'...' poor' substring with 'good'.Return the resulting string. <br>\n",
    "**Sample string:** 'The lyrics are not that poor!' 'The lyrics are poor!' <br>\n",
    "**Expected Result:** 'The lyrics are good!' 'The lyrics are poor!'"
   ]
  },
  {
   "cell_type": "markdown",
   "metadata": {},
   "source": [
    "**Solution:**"
   ]
  },
  {
   "cell_type": "code",
   "execution_count": 8,
   "metadata": {},
   "outputs": [
    {
     "name": "stdout",
     "output_type": "stream",
     "text": [
      "The lyrics are good!The lyrics are poor!\n"
     ]
    }
   ],
   "source": [
    "sample = 'The lyrics are not that poor!''The lyrics are poor!'\n",
    "loc_not = sample.find(\"not\")\n",
    "loc_poor = sample.find(\"poor\")\n",
    "\n",
    "if loc_not < loc_poor:\n",
    "        sample = sample.replace(sample[loc_not:loc_poor + 4],\"good\")\n",
    "else:\n",
    "    print(\"The string does not contain either not or poor\")\n",
    "    \n",
    "print(sample)\n"
   ]
  },
  {
   "cell_type": "markdown",
   "metadata": {},
   "source": [
    "**Q5.** Write the Python program to remove the characters which have odd index values of a given string."
   ]
  },
  {
   "cell_type": "markdown",
   "metadata": {},
   "source": [
    "**Solution:**"
   ]
  },
  {
   "cell_type": "code",
   "execution_count": 9,
   "metadata": {},
   "outputs": [
    {
     "name": "stdout",
     "output_type": "stream",
     "text": [
      "New string after removing the chracters at odd index--> rmv h hatr todidx\n"
     ]
    }
   ],
   "source": [
    "sample = \"remove the chracters at odd index\"\n",
    "\n",
    "new_str = \"\"\n",
    "for c in range(len(sample)):\n",
    "    if c%2 == 0:\n",
    "        new_str = new_str + sample[c]\n",
    "        \n",
    "print(\"New string after removing the chracters at odd index-->\",new_str)"
   ]
  },
  {
   "cell_type": "markdown",
   "metadata": {},
   "source": [
    "**Q6.** Write the Python function to get a string made of 4 copies of the last two characters of the specified string (length must be at least 2). <br>\n",
    "**Sample function and result :** <br>\n",
    "insert-end ('Python') -> abababab <br>\n",
    "insert-end('Exercises') -> jkjkjkjk"
   ]
  },
  {
   "cell_type": "markdown",
   "metadata": {},
   "source": [
    "**Solution:**"
   ]
  },
  {
   "cell_type": "code",
   "execution_count": 10,
   "metadata": {},
   "outputs": [
    {
     "name": "stdout",
     "output_type": "stream",
     "text": [
      "onononon\n",
      "eseseses\n"
     ]
    }
   ],
   "source": [
    "def insert_end(sample):\n",
    "    substr = sample[-2:]\n",
    "    return 4*substr\n",
    "    \n",
    "\n",
    "print(insert_end(\"Python\"))\n",
    "print(insert_end(\"Exercises\"))"
   ]
  },
  {
   "cell_type": "markdown",
   "metadata": {},
   "source": [
    "**Q7.** Write the python function to get a string made of its first three characters of a specified string. If the length of the string is less than 3 then return the original string. <br>\n",
    "**Sample function and result :** <br>\n",
    "first-three('ipy') -> ipy <br>\n",
    "first-three('python') -> pyt"
   ]
  },
  {
   "cell_type": "markdown",
   "metadata": {},
   "source": [
    "**Solution:**"
   ]
  },
  {
   "cell_type": "code",
   "execution_count": 11,
   "metadata": {},
   "outputs": [
    {
     "name": "stdout",
     "output_type": "stream",
     "text": [
      "ipy\n",
      "pyt\n"
     ]
    }
   ],
   "source": [
    "def first_three(sample):\n",
    "    return sample[0:3]\n",
    "\n",
    "print(first_three('ipy'))\n",
    "print(first_three('python'))"
   ]
  },
  {
   "cell_type": "markdown",
   "metadata": {},
   "source": [
    "**Q8.** Write the python program to print the following floating numbers up to 2 decimal places?"
   ]
  },
  {
   "cell_type": "markdown",
   "metadata": {},
   "source": [
    "**Solution:**"
   ]
  },
  {
   "cell_type": "code",
   "execution_count": 12,
   "metadata": {},
   "outputs": [
    {
     "name": "stdout",
     "output_type": "stream",
     "text": [
      "Enter a number-->45.2369\n",
      "The number upto 2 decimal places---> 45.24\n"
     ]
    }
   ],
   "source": [
    "number = float(input(\"Enter a number-->\"))\n",
    "print(\"The number upto 2 decimal places--->\",format(number,\".2f\")) # formatted to two decials places"
   ]
  },
  {
   "cell_type": "markdown",
   "metadata": {},
   "source": [
    "**Q9.** Write the Python program to format a number with a percentage?"
   ]
  },
  {
   "cell_type": "markdown",
   "metadata": {},
   "source": [
    "**Solution:**"
   ]
  },
  {
   "cell_type": "code",
   "execution_count": 13,
   "metadata": {},
   "outputs": [
    {
     "name": "stdout",
     "output_type": "stream",
     "text": [
      "Enter a number-->45.256\n",
      "The number formatted with a percentage---> 4525.60%\n"
     ]
    }
   ],
   "source": [
    "number = float(input(\"Enter a number-->\"))\n",
    "print(\"The number formatted with a percentage--->\",format(number,\".2%\"))"
   ]
  },
  {
   "cell_type": "markdown",
   "metadata": {},
   "source": [
    "**Q10.** Write the Python program to count occurrences of a substring in a String?"
   ]
  },
  {
   "cell_type": "markdown",
   "metadata": {},
   "source": [
    "**Solution:**"
   ]
  },
  {
   "cell_type": "code",
   "execution_count": 14,
   "metadata": {},
   "outputs": [
    {
     "name": "stdout",
     "output_type": "stream",
     "text": [
      "2\n"
     ]
    }
   ],
   "source": [
    "sample = \"I live in India. India is a great country.\"\n",
    "print(sample.count(\"India\"))"
   ]
  },
  {
   "cell_type": "markdown",
   "metadata": {},
   "source": [
    "**Q11.** Write the Python program to count repeated characters in a string. <br>\n",
    "**Sample string:** ' thequickbrownjumpsoverthelazydog ' <br>\n",
    "**Expected output:** <br>\n",
    "o 3 <br>\n",
    "e 3 <br>\n",
    "u 2 <br>\n",
    "h 2 <br>\n",
    "r 2 <br>\n",
    "t 2"
   ]
  },
  {
   "cell_type": "markdown",
   "metadata": {},
   "source": [
    "**Solution:**"
   ]
  },
  {
   "cell_type": "code",
   "execution_count": 20,
   "metadata": {},
   "outputs": [
    {
     "name": "stdout",
     "output_type": "stream",
     "text": [
      "t 2\n",
      "h 2\n",
      "e 3\n",
      "u 2\n",
      "r 2\n",
      "o 3\n"
     ]
    }
   ],
   "source": [
    "from collections import Counter\n",
    "sample = \"thequickbrownjumpsoverthelazydog\"\n",
    "\n",
    "# using collections.Counter() to get count    \n",
    "count = Counter(sample)\n",
    "\n",
    "for item in count:\n",
    "    if count[item]>1:\n",
    "        print(item, count[item])"
   ]
  },
  {
   "cell_type": "markdown",
   "metadata": {},
   "source": [
    "**Q12.** Write the Python program to print the square and cube symbol in the area of a rectangle and volume of a cylinder? <br>\n",
    "**Sample output:** <br> The area of the rectangle is 1256.66cm2 <br>\n",
    "The volume of the cylinder is 1254.725cm3"
   ]
  },
  {
   "cell_type": "markdown",
   "metadata": {},
   "source": [
    "**Solution:**"
   ]
  },
  {
   "cell_type": "code",
   "execution_count": 16,
   "metadata": {},
   "outputs": [
    {
     "name": "stdout",
     "output_type": "stream",
     "text": [
      "The area of the rectange is 20cm2\n",
      "The volume of the cylinder is 2154.04cm3\n"
     ]
    }
   ],
   "source": [
    "def rectangle(length, breadth):\n",
    "    return length*breadth\n",
    "\n",
    "def cylinder(radius, height):\n",
    "    return 3.14*radius*radius*height\n",
    "\n",
    "print(\"The area of the rectange is \"+ str(rectangle(4,5))+\"cm2\")\n",
    "print(\"The volume of the cylinder is \"+ str(cylinder(7,14))+\"cm3\")"
   ]
  },
  {
   "cell_type": "markdown",
   "metadata": {},
   "source": [
    "**Q13.** Write the Python program to check if a string contains all letters of the alphabet?"
   ]
  },
  {
   "cell_type": "markdown",
   "metadata": {},
   "source": [
    "**Solution:**"
   ]
  },
  {
   "cell_type": "markdown",
   "metadata": {},
   "source": [
    "Create a set of the lowercased string and check if it is a superset of the letters of the alphabet:"
   ]
  },
  {
   "cell_type": "code",
   "execution_count": 17,
   "metadata": {},
   "outputs": [
    {
     "name": "stdout",
     "output_type": "stream",
     "text": [
      "True\n",
      "False\n"
     ]
    }
   ],
   "source": [
    "import string\n",
    "\n",
    "all_alpha = set(string.ascii_lowercase)\n",
    "\n",
    "def contains_all(input_string):\n",
    "    return set(input_string.lower()) >= all_alpha\n",
    "\n",
    "input_string = \"Pack my box with five dozen liquor jugs\"\n",
    "print(contains_all(input_string))\n",
    "\n",
    "input_string1 = \"I love my India\"\n",
    "print(contains_all(input_string1))"
   ]
  },
  {
   "cell_type": "markdown",
   "metadata": {},
   "source": [
    "**Q14.** Write the Python program to find the second most repeated word in a given string?"
   ]
  },
  {
   "cell_type": "markdown",
   "metadata": {},
   "source": [
    "**Solution:**"
   ]
  },
  {
   "cell_type": "code",
   "execution_count": 39,
   "metadata": {},
   "outputs": [
    {
     "name": "stdout",
     "output_type": "stream",
     "text": [
      "Second most repeated word\n",
      "t\n",
      "h\n",
      "u\n",
      "r\n"
     ]
    }
   ],
   "source": [
    "from collections import Counter\n",
    "import operator\n",
    "sample = \"thequickbrownjumpsoverthelazydog\"\n",
    "\n",
    "# using collections.Counter() to get count    \n",
    "count = Counter(sample)\n",
    "\n",
    "#print(count)\n",
    "print(\"Second most repeated word\")\n",
    "repeated_value = sorted(count.values(), reverse=True)\n",
    "secondLarge = repeated_value[2]\n",
    "for key, value in count.items():\n",
    "    if (secondLarge) == value:\n",
    "        print(key)\n"
   ]
  },
  {
   "cell_type": "markdown",
   "metadata": {},
   "source": [
    "**Q15.** Write the Python program to find the minimum window in the given string, which will contains all the characters of another given strings? <br>\n",
    "**Example 1** <br>\n",
    "Input : string1 = \" PRWSOERIUSFK \" <br>\n",
    "string2 = \" OSU \" <br>\n",
    "Output: Minimum window is \"OERIUS\""
   ]
  },
  {
   "cell_type": "markdown",
   "metadata": {},
   "source": [
    "**Solution:**"
   ]
  },
  {
   "cell_type": "markdown",
   "metadata": {},
   "source": [
    "Algorithm:\n",
    "1. First check if the length of string is less than the length of the given pattern, if yes then “no such window can exist “.\n",
    "2. Store the occurrence of characters of the given pattern in an array.\n",
    "3. Start matching the characters of pattern with the characters of string i.e. increment count if a character matches.\n",
    "4. Check if (count == length of pattern ) this means a window is found.<br>\n",
    "5.If such window found, try to minimize it by removing extra characters from the beginning of the current window. Update min_length. <br>\n",
    "6.Print the minimum length window."
   ]
  },
  {
   "cell_type": "code",
   "execution_count": 2,
   "metadata": {},
   "outputs": [],
   "source": [
    "def findsubstring(S,T):\n",
    "    Slen = len(S) # length of String\n",
    "    Tlen = len(T) # length of pattern\n",
    "    \n",
    "    if Slen<Tlen:\n",
    "        print(\"No Such Window Exists\")\n",
    "        return\n",
    "    no_of_chars = 256\n",
    "    \n",
    "    # Store occurances of chracter of 't'\n",
    "    hash_S = [0]* no_of_chars\n",
    "    hash_T = [0]* no_of_chars  \n",
    "\n",
    "    # store occurance of chracters of pattern\n",
    "    for i in range(Tlen):\n",
    "        hash_T[ord(T[i])]+=1\n",
    "\n",
    "    start = 0\n",
    "    start_index = -1\n",
    "    min_len = float('inf')\n",
    "\n",
    "    # start traversing the string\n",
    "    count = 0  # count of chracters\n",
    "    for j in range(Slen):\n",
    "        # count occurance of chracters of string\n",
    "        hash_S[ord(S[j])]+=1\n",
    "    \n",
    "        if(hash_T[ord(S[j])]!=0 and hash_S[ord(S[j])] <= hash_T[ord(S[j])]):\n",
    "                count+=1\n",
    "        \n",
    "        # if all the chracters are matched\n",
    "    \n",
    "\n",
    "        if count==Tlen:\n",
    "            while(hash_S[ord(S[start])]>hash_T[ord(S[start])] or hash_T[ord(S[start])]==0):\n",
    "                if(hash_S[ord(S[start])]>hash_T[ord(S[start])]):\n",
    "                    hash_S[ord(S[start])]-=1\n",
    "                start+=1\n",
    "        \n",
    "         \n",
    "            len_window = j - start +1\n",
    "        #     print(len_window, start)\n",
    "    \n",
    "            if min_len > len_window:\n",
    "                min_len = len_window\n",
    "                start_index = start\n",
    "        \n",
    "        \n",
    "    \n",
    "    return S[start_index:start_index+min_len]\n",
    "            "
   ]
  },
  {
   "cell_type": "code",
   "execution_count": 4,
   "metadata": {},
   "outputs": [
    {
     "name": "stdout",
     "output_type": "stream",
     "text": [
      "ksfor\n"
     ]
    }
   ],
   "source": [
    "# string1 = \"PRWSOERIUSFK\"\n",
    "# string2 = \"OSU\"\n",
    "print(findsubstring(string1, string2))"
   ]
  },
  {
   "cell_type": "markdown",
   "metadata": {},
   "source": [
    "**Q16.** Write the Python program to find smallest window that contains all characters of the given string? <br>\n",
    "**Original Strings:**\n",
    "asdaewsqgtwwsa <br>\n",
    "**Smallest window that contains all characters of the said string:**\n",
    "Daewsqgt"
   ]
  },
  {
   "cell_type": "markdown",
   "metadata": {},
   "source": [
    "**Solution:**"
   ]
  },
  {
   "cell_type": "markdown",
   "metadata": {},
   "source": [
    "defaultdict(): \n",
    "**Defaultdict** is a container like dictionaries present in the module collections. Defaultdict is a sub-class of the dict class that returns a dictionary-like object. The functionality of both dictionaries and defualtdict are almost same except for the fact that defualtdict never raises a KeyError. It provides a default value for the key that does not exists."
   ]
  },
  {
   "cell_type": "code",
   "execution_count": 14,
   "metadata": {},
   "outputs": [
    {
     "name": "stdout",
     "output_type": "stream",
     "text": [
      "daewsqgt\n"
     ]
    }
   ],
   "source": [
    "from collections import defaultdict\n",
    "str1 = \"asdaewsqgtwwsa\"\n",
    "\n",
    "# count all distinct chracter\n",
    "dist_char = set([x for x in str1])\n",
    "list_of_strings = [str(s) for s in dist_char]\n",
    "\n",
    "pat = \"\".join(list_of_strings)\n",
    "\n",
    "print(findsubstring(str1,pat)) \n",
    "    "
   ]
  },
  {
   "cell_type": "markdown",
   "metadata": {},
   "source": [
    "**Q17.** Write the Python program to count number of substrings from a given string of lowercase alphabets with exactly k distinct (given) characters? <br>\n",
    "**Input a string (lowercase alphabets):** wolf <br>\n",
    "**Input k:** 4 <br>\n",
    "**Number of substrings with exactly 4 distinct characters:** 1"
   ]
  },
  {
   "cell_type": "markdown",
   "metadata": {},
   "source": [
    "**Solution:**"
   ]
  },
  {
   "cell_type": "markdown",
   "metadata": {},
   "source": [
    "Input: abc, k = 2\n",
    "Output: 2\n",
    "Possible substrings are {\"ab\", \"bc\"}\n",
    "\n",
    "Input: aba, k = 2\n",
    "Output: 3\n",
    "Possible substrings are {\"ab\", \"ba\", \"aba\"}\n",
    "\n",
    "Input: aa, k = 1\n",
    "Output: 3\n",
    "Possible substrings are {\"a\", \"a\", \"aa\"}"
   ]
  },
  {
   "cell_type": "code",
   "execution_count": 128,
   "metadata": {},
   "outputs": [
    {
     "name": "stdout",
     "output_type": "stream",
     "text": [
      "Sample List ['a', 'ab', 'aba', 'b', 'ba', 'a']\n",
      "Possible substring are  ['ab', 'aba', 'ba']\n"
     ]
    }
   ],
   "source": [
    "def substr(str1):\n",
    "    substring = []\n",
    "    for i in range(len(str1)):\n",
    "        for j in range(i+1, len(str1)+1):\n",
    "            substring.append(str1[i:j])\n",
    "    return substring\n",
    "            \n",
    "\n",
    "def fun1(s,k):\n",
    "    # count all distinct chracter\n",
    "    dist_char = set([x for x in s])\n",
    "    if len(dist_char)==2:\n",
    "        return s\n",
    "    else:\n",
    "        return \"\"\n",
    "    \n",
    "\n",
    "str1 = \"aba\"  # input string\n",
    "k = 2\n",
    "sample_list = substr(str1)\n",
    "print(\"Sample List\", sample_list)\n",
    "res = []\n",
    "for s in sample_list:\n",
    "    result = fun1(s,k)\n",
    "    if (result != \"\"):\n",
    "        res.append(result)\n",
    "    \n",
    "print(\"Possible substring are \",res)"
   ]
  },
  {
   "cell_type": "markdown",
   "metadata": {},
   "source": [
    "**Q18.** Write the Python program to count number of non-empty substrings of the given string? <br>\n",
    "Input a string: w3resource <br>\n",
    "Number of substrings: <br>\n",
    "55"
   ]
  },
  {
   "cell_type": "markdown",
   "metadata": {},
   "source": [
    "#### Count of non-empty substrings is n*(n+1)/2\n",
    "If we include empty string also as substring, the count becomes n*(n+1)/2 + 1\n",
    "How does above formula work?\n",
    "1. Number of substrings of length one is n (We can choose any of the n characters)\n",
    "2. Number of substrings of length two is n-1 (We can choose any of the n-1 pairs formed by adjacent)\n",
    "3. Number of substrings of length three is n-2\n",
    "4. (We can choose any of the n-2 triplets formed by adjacent)\n",
    "In general, mumber of substrings of length k is n-k+1 where 1 <= k <= n\n",
    "\n",
    "Total number of substrings of all lengths from 1 to n =\n",
    "n + (n-1) + (n-2) + (n-3) + … 2 + 1\n",
    "= n * (n + 1)/2"
   ]
  },
  {
   "cell_type": "code",
   "execution_count": 94,
   "metadata": {},
   "outputs": [
    {
     "name": "stdout",
     "output_type": "stream",
     "text": [
      "Enter a stringw3resource\n",
      "total number of non-empty substrings is: 55\n"
     ]
    }
   ],
   "source": [
    "def count_neString(str1):\n",
    "    n = len(str1)\n",
    "    return int((n*(n+1))/2)\n",
    "\n",
    "str1 = input(\"Enter a string\")\n",
    "print(\"total number of non-empty substrings is:\",count_neString(str1))"
   ]
  },
  {
   "cell_type": "markdown",
   "metadata": {},
   "source": [
    "**Q19.** Write the Python program to count number of substrings with same first and last characters of the given string? <br>\n",
    "**Input a string:** abcd <br>\n",
    "4"
   ]
  },
  {
   "cell_type": "markdown",
   "metadata": {},
   "source": [
    "Example: \n",
    "Input  : S = \"abcab\"\n",
    "Output : 7\n",
    "There are 15 substrings of \"abcab\": a, ab, abc, abca, abcab, b, bc, bca,bcab, c, ca, cab, a, ab, b\n",
    "Out of the above substrings, there are 7 substrings : a, abca, b, bcab, c, a and b."
   ]
  },
  {
   "cell_type": "code",
   "execution_count": 100,
   "metadata": {},
   "outputs": [
    {
     "name": "stdout",
     "output_type": "stream",
     "text": [
      "substrings with same first and last chracter of the given string: 7\n"
     ]
    }
   ],
   "source": [
    "def count_equal(str1):\n",
    "    count = 0\n",
    "    for i in range(len(str1)):\n",
    "        for j in range(i,len(str1)):\n",
    "            if str1[i]==str1[j]:\n",
    "                count = count+1\n",
    "    return count\n",
    "\n",
    "str1 = \"abcab\"\n",
    "print(\"substrings with same first and last chracter of the given string:\",count_equal(str1)) \n",
    "   "
   ]
  },
  {
   "cell_type": "markdown",
   "metadata": {},
   "source": [
    "**Q20.** Write the Python program to count the number of strings where the string length is 2 or more, and first and last character are same from a given list of strings. <br>\n",
    "**Sample List:** ['abc', 'xyz', 'wxw', '1331'] <br>\n",
    "**Expected Result:** 2"
   ]
  },
  {
   "cell_type": "code",
   "execution_count": 103,
   "metadata": {},
   "outputs": [
    {
     "name": "stdout",
     "output_type": "stream",
     "text": [
      "number of string: 2\n"
     ]
    }
   ],
   "source": [
    "def fun1(str1):\n",
    "    if len(str1)>=2 and (str1[0]==str1[len(str1)-1]):\n",
    "        return 1\n",
    "    else:\n",
    "        return 0\n",
    "\n",
    "sample_list = ['abc','xyz','wxw','1331']\n",
    "\n",
    "c = 0\n",
    "for str1 in sample_list:\n",
    "    res = fun1(str1)\n",
    "    if res ==1:\n",
    "        c = c+1\n",
    "print(\"number of string:\",c)\n",
    "    "
   ]
  },
  {
   "cell_type": "markdown",
   "metadata": {},
   "source": [
    "**Q21.** Write the Python program to get a list, sorted in increasing order by the last element in each tuple from the given list of non-empty tuples? <br>\n",
    "**Sample List-** [ (2, 5), (1, 2), (4, 4), (2, 3), (2, 1) ] <br>\n",
    "**Expected Result-** [ (2, 1), (1, 2), (2, 3), (4, 4), (2, 5) ]"
   ]
  },
  {
   "cell_type": "markdown",
   "metadata": {},
   "source": [
    "Given tuples, we need to sort them according to any given key.\n",
    "This can be done using sorted() function where we sort them using key=last and store last as the key index according to which we have to sort the given tuples."
   ]
  },
  {
   "cell_type": "code",
   "execution_count": 109,
   "metadata": {},
   "outputs": [
    {
     "name": "stdout",
     "output_type": "stream",
     "text": [
      "Sample List [(2, 5), (1, 2), (4, 4), (2, 3), (2, 1)]\n",
      "Sorted list: [(2, 1), (1, 2), (2, 3), (4, 4), (2, 5)]\n"
     ]
    }
   ],
   "source": [
    "sample_list = [(2,5),(1, 2), (4, 4), (2, 3), (2, 1)]\n",
    "print(\"Sample List\",sample_list)\n",
    "\n",
    "def last(n):\n",
    "    return n[-1]  \n",
    " \n",
    "def sort(sample_list):\n",
    "    return sorted(sample_list, key=last)\n",
    "\n",
    "print(\"Sorted list:\", sort(sample_list))"
   ]
  },
  {
   "cell_type": "markdown",
   "metadata": {},
   "source": [
    "**Q22.** Write the Python program to remove duplicates from a list?"
   ]
  },
  {
   "cell_type": "code",
   "execution_count": 20,
   "metadata": {},
   "outputs": [
    {
     "name": "stdout",
     "output_type": "stream",
     "text": [
      "The the list list\n",
      "The input string entered is: ['The', 'the', 'list', 'list']\n",
      "The output list without duplicates is:  ['The', 'list', 'the']\n"
     ]
    }
   ],
   "source": [
    "sample_list = list(input().strip().split())\n",
    "print(\"The input string entered is:\", sample_list)\n",
    "output = set(sample_list)\n",
    "print(\"The output list without duplicates is: \",list(output))"
   ]
  },
  {
   "cell_type": "markdown",
   "metadata": {},
   "source": [
    "**Q23.** Write the Python program to find the list of words that are longer than n from a given list of words?"
   ]
  },
  {
   "cell_type": "code",
   "execution_count": 40,
   "metadata": {},
   "outputs": [
    {
     "name": "stdout",
     "output_type": "stream",
     "text": [
      "Enter mutiple words: station, mushy, spoon, reading, concerned, tight\n",
      "Enter the value of n: 5\n",
      "The list of words that are longer than 5: ['station', ' reading', ' concerned']\n"
     ]
    }
   ],
   "source": [
    "def filter_long_words(words_list, n):\n",
    "    \"\"\"\n",
    "    This function takes a list of words and an iterger and returns the \n",
    "    list of words that are longer than n\n",
    "    \"\"\"\n",
    "    \n",
    "    return [word for word in words_list if len(word.strip())> n]  # strip() is used to remove extra \n",
    "                                                # space \n",
    "   \n",
    "        \n",
    "# main function\n",
    "if __name__ ==\"__main__\":\n",
    "    \n",
    "    words_list = input(\"Enter mutiple words: \").split(',') # Comma-seperated multiple words\n",
    "    n = int(input(\"Enter the value of n: \"))\n",
    "    \n",
    "    out = filter_long_words(words_list, n)\n",
    "    \n",
    "    print(f\"The list of words that are longer than {n}: {out}\")\n",
    "    "
   ]
  },
  {
   "cell_type": "markdown",
   "metadata": {},
   "source": [
    "**Q24.** Write the Python program to print a specified list after removing the 0th, 4th, and 5th elements? <br>\n",
    "**Sample List-** ['Red', 'Green', 'White', 'Black', 'Pink', 'Yellow'] <br>\n",
    "**Expected Output-** ['Green', 'White', 'Black']"
   ]
  },
  {
   "cell_type": "code",
   "execution_count": 6,
   "metadata": {},
   "outputs": [
    {
     "name": "stdout",
     "output_type": "stream",
     "text": [
      "['Green', 'White', 'Black']\n"
     ]
    }
   ],
   "source": [
    "sample_list = ['Red','Green','White','Black','Pink','Yellow']\n",
    "\n",
    "new_list = [j for i, j in enumerate(sample_list) if i not in [0, 4, 5]]\n",
    "print(new_list)"
   ]
  },
  {
   "cell_type": "markdown",
   "metadata": {},
   "source": [
    "**Q25.** Write the Python program to generate all permutations of a list in Python?"
   ]
  },
  {
   "cell_type": "code",
   "execution_count": 8,
   "metadata": {},
   "outputs": [
    {
     "name": "stdout",
     "output_type": "stream",
     "text": [
      "[(1, 2, 3), (1, 3, 2), (2, 1, 3), (2, 3, 1), (3, 1, 2), (3, 2, 1)]\n"
     ]
    }
   ],
   "source": [
    "import itertools\n",
    "a = [1, 2, 3]\n",
    "permutations_object = itertools.permutations(a)\n",
    "\n",
    "# Find permutations of a_list\n",
    "permutations_a = list(permutations_object)\n",
    "\n",
    "print(permutations_a)"
   ]
  },
  {
   "cell_type": "markdown",
   "metadata": {},
   "source": [
    "**Q26.** Write the Python program to convert a pair of values into a sorted unique array? <br>\n",
    "**Original List-** [ (1, 2), (3, 4), (1, 2), (5, 6), (7, 8), (1, 2), (3, 4), (3, 4), (7, 8), (9, 10) ] <br>\n",
    "**Sorted Unique Data-** [ 1, 2, 3, 4, 5, 6, 7, 8, 9, 10 ]"
   ]
  },
  {
   "cell_type": "code",
   "execution_count": 10,
   "metadata": {},
   "outputs": [
    {
     "name": "stdout",
     "output_type": "stream",
     "text": [
      "Sorted Unique Data\n",
      "[1, 2, 3, 4, 5, 6, 7, 8, 9, 10]\n"
     ]
    }
   ],
   "source": [
    "orig_list = [(1, 2), (3, 4), (1, 2), (5, 6), (7, 8), (1, 2), (3, 4), (3, 4), (7, 8), (9, 10)]\n",
    "print(\"Sorted Unique Data:\")\n",
    "print(sorted(set().union(*orig_list)))\n"
   ]
  },
  {
   "cell_type": "markdown",
   "metadata": {},
   "source": [
    "**Q27.** Write the Python class to convert an integer to a roman numeral?\n"
   ]
  },
  {
   "cell_type": "markdown",
   "metadata": {},
   "source": [
    "### Decimal number to roman numerals conversion\n",
    "\n",
    "For decimal number x:\n",
    "\n",
    "Step 1:From the following table, find the highest decimal value v that is less than or equal to the decimal number  x and its corresponding roman numeral n:\n",
    "     \n",
    "    Decimal value (v) \tRoman numeral (n)\n",
    "    1 \tI\n",
    "    4 \tIV\n",
    "    5 \tV\n",
    "    9 \tIX\n",
    "    10 \tX\n",
    "    40 \tXL\n",
    "    50 \tL\n",
    "    90 \tXC\n",
    "    100 \tC\n",
    "    400 \tCD\n",
    "    500 \tD\n",
    "    900 \tCM\n",
    "    1000 \tM\n",
    "2. Write the roman numeral n that you found and subtract its value v from x:\n",
    "x = x - v\n",
    "3. Repeat stages 1 and 2 until you get zero result of x.\n"
   ]
  },
  {
   "cell_type": "code",
   "execution_count": 44,
   "metadata": {},
   "outputs": [
    {
     "name": "stdout",
     "output_type": "stream",
     "text": [
      "Enter a integer: 78\n",
      "Roman Number: LXXVIII\n"
     ]
    }
   ],
   "source": [
    "class Int2Roman():\n",
    "    \n",
    "    def convert(self,num):\n",
    "    \n",
    "        value = [1000,900,500,400,100,90,50,40,10,9,5,4,1]\n",
    "        roman_number = [\"M\",\"CM\",\"D\",\"CD\",\"C\",\"XC\",\"L\",\"XL\",\"X\",\"IX\",\"V\",\"IV\",\"I\"]\n",
    "        i = 0\n",
    "\n",
    "        roman = \"\"\n",
    "        i = 0\n",
    "        while num>0:\n",
    "            for _ in range(len(value)):\n",
    "    \n",
    "                a = num//value[i]\n",
    "                if a>0:\n",
    "                    num = num-value[i]\n",
    "                    roman+=roman_number[i]\n",
    "            i = i+1\n",
    "    \n",
    "        return roman\n",
    "\n",
    "n = int(input(\"Enter a integer: \"))\n",
    "print(\"Roman Number:\", Int2Roman().convert(n))"
   ]
  },
  {
   "cell_type": "markdown",
   "metadata": {},
   "source": [
    "**Q28.** Write the Python class to convert a Roman numeral to an integer?"
   ]
  },
  {
   "cell_type": "markdown",
   "metadata": {},
   "source": [
    "#### Roman numerals to decimal number conversion\n",
    "\n",
    "    I \t1, IV \t4, V 5, IX \t9, X 10, XL\t40, L 50, XC 90, C 100, CD\t400\n",
    "    D \t500, CM 900, M\t1000\n",
    "\n",
    "1. Split the Roman Numeral string into Roman Symbols (character).\n",
    "2. Convert each symbol of Roman Numerals into the value it represents.\n",
    "3. Take symbol one by one from starting from index 0:\n",
    "        If current value of symbol is greater than or equal to the value of next symbol, then add this value to  the running total.\n",
    "        else subtract this value by adding the value of next symbol to the running total.\n"
   ]
  },
  {
   "cell_type": "code",
   "execution_count": 74,
   "metadata": {},
   "outputs": [
    {
     "name": "stdout",
     "output_type": "stream",
     "text": [
      "Enter a Roman Number :XXIX\n",
      "Converted Integer is 29\n"
     ]
    }
   ],
   "source": [
    "class Roman2Int():\n",
    "    \n",
    "    def convert(self, r):\n",
    "        roman = {\"I\":1,\"V\":5, \"X\":10,\"L\":50,\"C\":100,\"D\":500,\"M\":1000}\n",
    "        number = 0\n",
    "        for i in range(len(r)):\n",
    "             # for name, age in dictionary.iteritems():  (for Python 2.x)\n",
    "            if i>0 and (roman[r[i-1]]<roman[r[i]]):\n",
    "                number += roman[r[i]] - 2 * roman[r[i - 1]]\n",
    "            else:\n",
    "                number+=roman[r[i]]\n",
    "        return number\n",
    "    \n",
    "roman_number = input(\"Enter a Roman Number :\")\n",
    "print(\"Converted Integer is\",Roman2Int().convert(roman_number))"
   ]
  },
  {
   "cell_type": "markdown",
   "metadata": {},
   "source": [
    "**Q29.** Write the Python class to find the validity of the string of the parentheses, '(', ')', '{', '}', '[' and '] and the brackets must be closed in the correct order, example - \"()\" and \"()[]{}\" are valid but \"[)\", \"({[)]\" and \"{{{\" are invalid."
   ]
  },
  {
   "cell_type": "code",
   "execution_count": 93,
   "metadata": {},
   "outputs": [
    {
     "name": "stdout",
     "output_type": "stream",
     "text": [
      "check_parentheis for ()[]{} is Valid parenthesis\n",
      "check_parentheis for ({[)] is Invalid Parenthesis\n"
     ]
    }
   ],
   "source": [
    "open_bracket = [\"(\",\"{\",\"[\"]\n",
    "close_bracket = [\")\",\"}\",\"]\"]\n",
    "\n",
    "bracket = \"()\"\n",
    "def check_parentheis(bracket):\n",
    "    stack = []\n",
    "    for b in bracket:\n",
    "        if b in open_bracket:\n",
    "            stack.append(b)\n",
    "        elif b in close_bracket:\n",
    "            pos = close_bracket.index(b)\n",
    "            if open_bracket[pos]==stack[len(stack)-1]:\n",
    "                stack.pop(0)\n",
    "            else:\n",
    "                return \"Invalid Parenthesis\"\n",
    "\n",
    "    if len(stack)==0:\n",
    "        return \"Valid parenthesis\"\n",
    "    else:\n",
    "        return \"InValid parenthesis\"\n",
    "\n",
    "bracket1 = \"()[]{}\"\n",
    "print(f\"check_parentheis for {bracket1} is {check_parentheis(bracket1)}\")\n",
    "\n",
    "bracket2 = \"({[)]\"\n",
    "print(f\"check_parentheis for {bracket2} is {check_parentheis(bracket2)}\")\n"
   ]
  },
  {
   "cell_type": "markdown",
   "metadata": {},
   "source": [
    "**Q30.** Write the Python class to get all possible unique subsets from a set of distinct integers? <br>\n",
    "**Input-** [4, 5, 6] <br>\n",
    "**Output-** [[4], [6], [5], [5, 6], [4], [4, 6], [4, 5], [4, 5, 6]]"
   ]
  },
  {
   "cell_type": "code",
   "execution_count": 19,
   "metadata": {},
   "outputs": [
    {
     "name": "stdout",
     "output_type": "stream",
     "text": [
      "[] 0\n",
      "[4] 1\n",
      "[4, 5] 2\n",
      "[4, 5, 6] 3\n",
      "[4, 6] 3\n",
      "[5] 2\n",
      "[5, 6] 3\n",
      "[6] 3\n",
      "[[], [4], [4, 5], [4, 5, 6], [4, 6], [5], [5, 6], [6]]\n"
     ]
    }
   ],
   "source": [
    "# all unique subset\n",
    "class Unique_Subset():\n",
    "    def all_subsets(self,given_array):\n",
    "        subset = []\n",
    "        self.helper(given_array, subset,[], 0)\n",
    "        return subset    \n",
    "\n",
    "    def helper(self,given_array, subset, curr,index):\n",
    "        print(curr, index)\n",
    "        subset.append(list(curr))\n",
    "    \n",
    "        for i in range(index, len(given_array)):\n",
    "            curr.append(given_array[i])\n",
    "            self.helper(given_array, subset, curr,i+1)\n",
    "            curr.pop()\n",
    "    \n",
    "        \n",
    "given_array = [4,5,6]\n",
    "print(Unique_Subset().all_subsets(given_array)) \n",
    "inp = [4,5,6]"
   ]
  },
  {
   "cell_type": "markdown",
   "metadata": {},
   "source": [
    "Q31. Write the Python class to find a pair of elements (indices of the two numbers) from a given array whose sum equals the specific target number? <br>\n",
    "**Input:** numbers- [10,20,10,40,50,60,70], target=50 <br>\n",
    "**Output-** 3, 4"
   ]
  },
  {
   "cell_type": "markdown",
   "metadata": {},
   "source": [
    "**Solution:**"
   ]
  },
  {
   "cell_type": "code",
   "execution_count": 98,
   "metadata": {},
   "outputs": [
    {
     "name": "stdout",
     "output_type": "stream",
     "text": [
      "indices of pair of elements whose sum is 50 is 3 and 4\n"
     ]
    }
   ],
   "source": [
    "class sum_pair():\n",
    "    def addition(self,inp, target):\n",
    "        for i in range(len(inp)-1):\n",
    "            sum_pair = inp[i]+inp[i+1]\n",
    "            if sum_pair == target:\n",
    "                break\n",
    "        return i\n",
    "\n",
    "inp = [10,20,10,40,50,60,70]\n",
    "target = 50\n",
    "# Make an instance of the sum_pair class\n",
    "i = sum_pair().addition(inp, target)\n",
    "print(f\"indices of pair of elements whose sum is {target} is {i+1} and {i+2}\")"
   ]
  },
  {
   "cell_type": "markdown",
   "metadata": {},
   "source": [
    "Q32. Write the Python class to find the three elements that sum to zero from the set of n real numbers? <br>\n",
    "**Input array-** [-25, -10, -7, -3, 2, 4, 8, 10] <br>\n",
    "**Output-** [[-10, 2, 8], [-7, -3, 10]]"
   ]
  },
  {
   "cell_type": "markdown",
   "metadata": {},
   "source": [
    "**Solution**:"
   ]
  },
  {
   "cell_type": "code",
   "execution_count": 123,
   "metadata": {},
   "outputs": [
    {
     "name": "stdout",
     "output_type": "stream",
     "text": [
      "-10 2 8\n",
      "-7 -3 10\n"
     ]
    }
   ],
   "source": [
    "\n",
    "class sum_three():\n",
    "    def find_pairs(self,inp):\n",
    "        f = \"true\"\n",
    "        for i in range(len(inp)-2):\n",
    "            for j in range(i+1,len(inp)-1):\n",
    "                for k in range(j+1,len(inp)):\n",
    "                    if (inp[i]+inp[j]+inp[k]==0):\n",
    "                        print(inp[i],inp[j],inp[k])\n",
    "                        f = \"true\"\n",
    "        return f\n",
    "                        \n",
    "inp = [-25,-10,-7,-3,2,4,8,10]\n",
    "found = sum_three().find_pairs(inp)\n",
    "if found==\"false\":\n",
    "    print(\"three elements whose sum is zero does not exists\")\n",
    "    \n",
    "    "
   ]
  },
  {
   "cell_type": "markdown",
   "metadata": {},
   "source": [
    "**Q33.** Write the Python class to implement pow(x, n)?"
   ]
  },
  {
   "cell_type": "markdown",
   "metadata": {},
   "source": [
    "**Solution**"
   ]
  },
  {
   "cell_type": "code",
   "execution_count": 9,
   "metadata": {},
   "outputs": [
    {
     "name": "stdout",
     "output_type": "stream",
     "text": [
      "Enter the base4\n",
      "Enter the coefficients5\n",
      "1024\n"
     ]
    }
   ],
   "source": [
    "class get_power():\n",
    "    def pow(self,x,n):\n",
    "        prod = 1\n",
    "        for i in range(n):\n",
    "            prod = x*prod\n",
    "        return prod\n",
    "\n",
    "x = int(input(\"Enter the base\"))\n",
    "n = int(input(\"Enter the coefficients\"))\n",
    "    \n",
    "answer = get_power().pow(x,n)\n",
    "print(answer)"
   ]
  },
  {
   "cell_type": "markdown",
   "metadata": {},
   "source": [
    "**Q34.** Write the Python class which has two methods get_String and print_String. get_String accept the string from the user and print_String print the string in upper case."
   ]
  },
  {
   "cell_type": "markdown",
   "metadata": {},
   "source": [
    "**Solution**"
   ]
  },
  {
   "cell_type": "code",
   "execution_count": 13,
   "metadata": {},
   "outputs": [
    {
     "name": "stdout",
     "output_type": "stream",
     "text": [
      "Enter a string: python\n",
      "String in Upper-Case PYTHON\n"
     ]
    }
   ],
   "source": [
    "class string_methods():\n",
    "    def get_string(self):\n",
    "        inp = input(\"Enter a string: \")\n",
    "        \n",
    "        return inp\n",
    "    def print_string(self, inp1):\n",
    "        print(\"String in Upper-Case:\",inp1.upper())\n",
    "        \n",
    "user_input = string_methods().get_string()\n",
    "string_methods().print_string(user_input)"
   ]
  },
  {
   "cell_type": "markdown",
   "metadata": {},
   "source": [
    "**Q35.** Write the Python class named Rectangle constructed by a and width and the method which will compute the area of the rectangle?"
   ]
  },
  {
   "cell_type": "code",
   "execution_count": 20,
   "metadata": {},
   "outputs": [
    {
     "name": "stdout",
     "output_type": "stream",
     "text": [
      "Enter length of the rectangle-->6\n",
      "Enter breadth of the rectangle-->10\n",
      "The area of the rectangle is 60\n"
     ]
    }
   ],
   "source": [
    "class Rectangle():\n",
    "    def __init__(self,length,breadth):\n",
    "        self.length = length\n",
    "        self.breadth = breadth\n",
    "        \n",
    "    def calculate(self):\n",
    "        return self.length*self.breadth\n",
    "    \n",
    "\n",
    "l = int(input(\"Enter length of the rectangle-->\"))\n",
    "b = int(input(\"Enter breadth of the rectangle-->\"))\n",
    "r = Rectangle(l,b)\n",
    "print(\"The area of the rectangle is\",r.calculate())"
   ]
  },
  {
   "cell_type": "markdown",
   "metadata": {},
   "source": [
    "**Q36.** Write the Python class named Circle constructed by the radius and two methods which will compute the area and perimeter of the circle?"
   ]
  },
  {
   "cell_type": "code",
   "execution_count": 24,
   "metadata": {},
   "outputs": [
    {
     "name": "stdout",
     "output_type": "stream",
     "text": [
      "Enter the radius of the circle:7\n",
      "Area of the Circle: 153.86\n",
      "Perimetr of the circle: 43.96\n"
     ]
    }
   ],
   "source": [
    "class Circle():\n",
    "    def __init__(self,radius):\n",
    "        self.radius = radius\n",
    "    def area(self):\n",
    "        \"\"\"\n",
    "        Function to calculate area of the circle\n",
    "        \"\"\"\n",
    "        return 3.14*self.radius*self.radius\n",
    "    def perimeter(self):\n",
    "        \"\"\"\n",
    "        Function to calculate perimeter\n",
    "        \"\"\"\n",
    "        return 2*3.14*self.radius\n",
    "\n",
    "r = int(input(\"Enter the radius of the circle:\"))\n",
    "c = Circle(r) # instatntiate the object of the class circle\n",
    "print(\"Area of the Circle:\",c.area())\n",
    "print(\"Perimetr of the circle:\",c.perimeter())\n"
   ]
  },
  {
   "cell_type": "markdown",
   "metadata": {},
   "source": [
    "**Q37.** Write the Python program to get the class name of an instance in Python?"
   ]
  },
  {
   "cell_type": "code",
   "execution_count": 25,
   "metadata": {},
   "outputs": [
    {
     "data": {
      "text/plain": [
       "\"<class '__main__.A'>\""
      ]
     },
     "execution_count": 25,
     "metadata": {},
     "output_type": "execute_result"
    }
   ],
   "source": [
    "class A:\n",
    "      pass\n",
    "\n",
    "a = A()\n",
    "str(a.__class__)"
   ]
  },
  {
   "cell_type": "markdown",
   "metadata": {},
   "source": [
    "**Q38.** Write the Python program to count the number of students of individual class? <br>\n",
    "**Sample data classes** = ( ('V', 1), ('VI', 1), ('V', 2), ('VI', 2), ('VI', 3), ('VII', 1),)<br>\n",
    "**Expected Output:** Counter({'VI': 3, 'V': 2, 'VII': 1})"
   ]
  },
  {
   "cell_type": "code",
   "execution_count": 84,
   "metadata": {},
   "outputs": [
    {
     "name": "stdout",
     "output_type": "stream",
     "text": [
      "Counter({'VI': 3, 'V': 2, 'VII': 1})\n"
     ]
    }
   ],
   "source": [
    "from collections import Counter\n",
    "sample =  ( ('V', 1), ('VI', 1), ('V', 2), ('VI', 2), ('VI', 3), ('VII', 1))\n",
    "\n",
    "# using collections.Counter() to get count    \n",
    "count = Counter(class_name for class_name, no_students in sample)\n",
    "print(count)"
   ]
  },
  {
   "cell_type": "markdown",
   "metadata": {},
   "source": [
    "**Q39.** Write the Python program to create an instance of an OrderedDict using the given dictionary and sort dictionary during the creation and print members of the dictionary in reverse order?<br>\n",
    "**Expected Output:** <br>\n",
    "Angola 244. <br>\n",
    "Andorra 376.<br>\n",
    "Algeria 213.<br>\n",
    "Afghanistan 93.<br>\n",
    "Albania 355.<br>\n",
    "**In reverse order:**<br>\n",
    "Albania 355.<br>\n",
    "Afghanistan 93. <br>\n",
    "Algeria 213. <br>\n",
    "Andorra 376.<br>\n",
    "Angola 244."
   ]
  },
  {
   "cell_type": "markdown",
   "metadata": {},
   "source": [
    "OrderedDict():\n",
    "An OrderedDict is a dictionary subclass that remembers the order that keys were first inserted. The only difference between dict() and OrderedDict() is that:\n",
    "\n",
    "OrderedDict preserves the order in which the keys are inserted. A regular dict doesn’t track the insertion order, and iterating it gives the values in an arbitrary order. By contrast, the order the items are inserted is remembered by OrderedDict."
   ]
  },
  {
   "cell_type": "code",
   "execution_count": 90,
   "metadata": {},
   "outputs": [
    {
     "name": "stdout",
     "output_type": "stream",
     "text": [
      "Angola 244\n",
      "Andorra 376\n",
      "Algeria 244\n",
      "Afghanistan 376\n",
      "Albania 244\n",
      "\n",
      "In Reverse Order:\n",
      "\n",
      "Afghanistan 376\n",
      "Albania 244\n",
      "Algeria 244\n",
      "Andorra 376\n",
      "Angola 244\n"
     ]
    }
   ],
   "source": [
    "from collections import OrderedDict\n",
    "\n",
    "members = {}\n",
    "members['Angola'] = 244\n",
    "members['Andorra'] = 376\n",
    "members['Algeria'] = 244\n",
    "members['Afghanistan'] = 376\n",
    "members['Albania'] = 244\n",
    "\n",
    "for key, value in members.items(): \n",
    "    print(key, value) \n",
    "    \n",
    "print(\"\\nIn Reverse Order:\\n\") \n",
    "sorted_members = OrderedDict(sorted(members.items())) \n",
    "\n",
    "for key, value in sorted_members.items():\n",
    "    print(key,value)\n"
   ]
  },
  {
   "cell_type": "markdown",
   "metadata": {},
   "source": [
    "**Q40.** Write the Python program to compare two unordered lists (not sets)?<br>\n",
    "**Expected Output:** False"
   ]
  },
  {
   "cell_type": "code",
   "execution_count": 91,
   "metadata": {},
   "outputs": [
    {
     "name": "stdout",
     "output_type": "stream",
     "text": [
      "True\n"
     ]
    }
   ],
   "source": [
    "#Comparison of two unordered list \n",
    "# a & b should be considered equal, because they have exactly the same elements, only in different order.\n",
    "a = [1, 2, 3, 1, 2, 3]\n",
    "b = [3, 2, 1, 3, 2, 1]\n",
    "\n",
    "# 1. Time Complexity(O(n))-if Objects are hashable\n",
    "def compare(s, t):\n",
    "    return Counter(s) == Counter(t)\n",
    "\n",
    "print(compare(a,b))"
   ]
  },
  {
   "cell_type": "markdown",
   "metadata": {},
   "source": [
    "**Q41.** Write the Python program to get an array buffer information? <br>\n",
    "**Expected Output:** Array buffer start address in memory and number of elements. <br>\n",
    "(25855056, 2)"
   ]
  },
  {
   "cell_type": "markdown",
   "metadata": {},
   "source": [
    "**buffer_info:** Return a tuple `(address, length)` giving the current memory address and the length in elements of the buffer used to hold array’s contents. The size of the memory buffer in bytes can be computed as array.buffer_info()[1] * array.itemsize."
   ]
  },
  {
   "cell_type": "code",
   "execution_count": 92,
   "metadata": {},
   "outputs": [
    {
     "name": "stdout",
     "output_type": "stream",
     "text": [
      "(140250926259920, 3)\n"
     ]
    }
   ],
   "source": [
    "import array\n",
    "\n",
    "ints = array.array(\"i\", [1, 2, 3])\n",
    "print(ints.buffer_info())"
   ]
  },
  {
   "cell_type": "markdown",
   "metadata": {},
   "source": [
    "**Q42.** Write the Python program to convert an array to an array of machine values and return the bytes representation? <br>\n",
    "Expected Output: Original arrayA1: array('i', [1, 2, 3, 4, 5, 6]) <br>\n",
    "Array of bytes: <br>\n",
    "b'010000000200000003000000040000000500000006000000' "
   ]
  },
  {
   "cell_type": "markdown",
   "metadata": {},
   "source": [
    "**Solution**"
   ]
  },
  {
   "cell_type": "code",
   "execution_count": 93,
   "metadata": {},
   "outputs": [
    {
     "name": "stdout",
     "output_type": "stream",
     "text": [
      "Original array:\n",
      "A1: array('i', [1, 2, 3, 4, 5, 6])\n",
      "Array of bytes: b'010000000200000003000000040000000500000006000000'\n"
     ]
    }
   ],
   "source": [
    "import array\n",
    "import binascii\n",
    "\n",
    "A1 = array.array(\"i\", [1, 2, 3,4,5,6])\n",
    "print(\"Original array:\")\n",
    "print('A1:', A1)\n",
    "bytes_array = A1.tobytes()\n",
    "print('Array of bytes:', binascii.hexlify(bytes_array))"
   ]
  },
  {
   "cell_type": "markdown",
   "metadata": {},
   "source": [
    "**Q43.** Write the Python program to read a string and interpreting the string as an array of machine values? <br>\n",
    "**Expected Output:** array1- array('i', [7, 8, 9, 10]) <br>\n",
    "Bytes- b'0700000008000000090000000a000000' <br>\n",
    "array2- array('i', [7, 8, 9, 10]) <br>"
   ]
  },
  {
   "cell_type": "markdown",
   "metadata": {},
   "source": [
    "**Solution:**"
   ]
  },
  {
   "cell_type": "code",
   "execution_count": null,
   "metadata": {},
   "outputs": [],
   "source": [
    "import array\n",
    "import binascii\n",
    "\n",
    "A1 = array.array(\"i\", [1, 2, 3,4,5,6])\n",
    "print(\"Original array:\")\n",
    "print('A1:', A1)\n",
    "bytes_array = A1.tobytes()\n",
    "print('Array of bytes:', binascii.hexlify(bytes_array))"
   ]
  },
  {
   "cell_type": "markdown",
   "metadata": {},
   "source": [
    "**Q44.** Write the Python program to push three items into the heap and return the smallest item from the heap. Also, return and pop the smallest item from the heap? <br>\n",
    "**Expected Output:** Items in the heap- ('VI', 1). ('VII', 3). ('VIII', 2). <br>\n",
    "The smallest item in the heap: <br>\n",
    "('VI', 1).<br>\n",
    "Pop the smallest item in the heap:<br>\n",
    "('VII', 2).<br>\n",
    "('VIII', 3)."
   ]
  },
  {
   "cell_type": "markdown",
   "metadata": {},
   "source": [
    "**Solution:**"
   ]
  },
  {
   "cell_type": "code",
   "execution_count": 7,
   "metadata": {},
   "outputs": [
    {
     "name": "stdout",
     "output_type": "stream",
     "text": [
      "Items in the heap:\n",
      "('V', 1)\n",
      "('V', 3)\n",
      "('V', 2)\n"
     ]
    }
   ],
   "source": [
    "import heapq\n",
    "\n",
    "heap = []\n",
    "\n",
    "heapq.heappush(heap,('V',3))\n",
    "heapq.heappush(heap,('V',2))\n",
    "heapq.heappush(heap,('V',1))\n",
    "\n",
    "print(\"Items in the heap:\")\n",
    "for a in heap:\n",
    "    print(a)"
   ]
  },
  {
   "cell_type": "markdown",
   "metadata": {},
   "source": [
    "**Q45.** Write the Python program to locate the left insertion point for a specified value in sorted order? <br>\n",
    "**Expected Output:** <br>\n",
    "4 2"
   ]
  },
  {
   "cell_type": "markdown",
   "metadata": {},
   "source": [
    "Bisect algorithm finds a position in list where an element needs to be inserted to keep the list sorted."
   ]
  },
  {
   "cell_type": "code",
   "execution_count": 28,
   "metadata": {},
   "outputs": [
    {
     "name": "stdout",
     "output_type": "stream",
     "text": [
      "4\n",
      "0\n"
     ]
    }
   ],
   "source": [
    "import bisect  # \n",
    "def index(a, x):\n",
    "    i = bisect.bisect_left(a, x)\n",
    "    return i\n",
    "    \n",
    "a = [1,2,4,5]\n",
    "print(index(a, 9))\n",
    "print(index(a, 0))"
   ]
  },
  {
   "cell_type": "markdown",
   "metadata": {},
   "source": [
    "**Q46.** Write the Python program to create the FIFO queue? <br>\n",
    "**Expected Output:** <br>\n",
    "0 1 2 3"
   ]
  },
  {
   "cell_type": "code",
   "execution_count": 80,
   "metadata": {},
   "outputs": [
    {
     "name": "stdout",
     "output_type": "stream",
     "text": [
      "enqueue element is--> 15\n",
      "enqueue element is--> 20\n",
      "Queue elements are [15, 20]\n",
      "Queue elements are [20]\n"
     ]
    }
   ],
   "source": [
    "# python program to create the FIFO queue\n",
    "class FIFOQueue:\n",
    "    def __init__(self):\n",
    "        self.queue = []\n",
    "        \n",
    "    def is_empty(self):\n",
    "        return self.queue == []\n",
    "    \n",
    "    def enqueue(self,data):\n",
    "        self.queue.append(data)\n",
    "        print(\"enqueue element is-->\", data)\n",
    "    \n",
    "    def dequeue(self):\n",
    "        if len(self.queue)==0:\n",
    "            print(\"Queue is empty\")\n",
    "        else:\n",
    "            return self.queue.pop(0)\n",
    "    \n",
    "    def display(self):\n",
    "            print(\"Queue elements are\",self.queue)\n",
    "        \n",
    "\n",
    "\n",
    "q = FIFOQueue()\n",
    "# Add element\n",
    "q.enqueue(15)\n",
    "q.enqueue(20)\n",
    "q.display()\n",
    "\n",
    "# dequeued element\n",
    "q.dequeue()\n",
    "q.display()"
   ]
  },
  {
   "cell_type": "markdown",
   "metadata": {},
   "source": [
    "**Q47.** Write the Python program to calculate the harmonic sum of n-1. <br>\n",
    "**Note:** The harmonic sum is the sum of reciprocals of the positive Integers? <br>\n",
    "Example -"
   ]
  },
  {
   "cell_type": "code",
   "execution_count": 63,
   "metadata": {},
   "outputs": [
    {
     "name": "stdout",
     "output_type": "stream",
     "text": [
      "Enter a integer: 8\n",
      "Harmonic mean of 8 is 2.28\n"
     ]
    }
   ],
   "source": [
    "n = int(input(\"Enter a integer: \"))\n",
    "\n",
    "def harmonic_mean(n):\n",
    "    if n>1:\n",
    "        return (1/n)+harmonic_mean(n-1)\n",
    "    else:\n",
    "        return 1\n",
    "\n",
    "print(f\"Harmonic mean of {n} is {round(harmonic_mean(5),2)}\")"
   ]
  },
  {
   "cell_type": "markdown",
   "metadata": {},
   "source": [
    "**Q48.** Write the NumPy program to create a 2d array with 6 on the border and 0 inside? <br>\n",
    "**Expected Output :** Original array- <br>\n",
    "[ [6 6 6 6 6] <br>\n",
    "[ 6 6 6 6 6] <br>\n",
    "[ 6 6 6 6 6 ] <br>\n",
    "[ 6 6 6 6 6 ] <br>\n",
    "[ 6 6 6 6 ] ]. <br>\n",
    "6 on the border and 0 inside in the array- <br>\n",
    "[[ 6 6 6 6 6] <br>\n",
    "[ 6 0 0 0 6] <br>\n",
    "[ 6 0 0 0 6]<br>\n",
    "[ 6 0 0 0 6]<br>\n",
    "[ 6 6 6 6 6]]"
   ]
  },
  {
   "cell_type": "code",
   "execution_count": 23,
   "metadata": {},
   "outputs": [
    {
     "name": "stdout",
     "output_type": "stream",
     "text": [
      "Original Array:\n",
      " [[6. 6. 6. 6. 6.]\n",
      " [6. 6. 6. 6. 6.]\n",
      " [6. 6. 6. 6. 6.]\n",
      " [6. 6. 6. 6. 6.]\n",
      " [6. 6. 6. 6. 6.]]\n",
      "6 on the border and 0 inside in the array:\n",
      " [[6. 6. 6. 6. 6.]\n",
      " [6. 0. 0. 0. 6.]\n",
      " [6. 0. 0. 0. 6.]\n",
      " [6. 0. 0. 0. 6.]\n",
      " [6. 6. 6. 6. 6.]]\n"
     ]
    }
   ],
   "source": [
    "import numpy as np\n",
    "arr = np.ones((5,5))*6\n",
    "# arr =np.array([[6, 6, 6, 6, 6],[ 6, 6, 6, 6, 6],[ 6, 6, 6, 6, 6 ],[ 6, 6, 6, 6, 6 ],[ 6, 6, 6, 6,6]])\n",
    "print(\"Original Array:\\n\",arr)\n",
    "\n",
    "arr[1:-1,1:-1] = 0\n",
    "print(\"6 on the border and 0 inside in the array:\\n\", arr)\n"
   ]
  },
  {
   "cell_type": "markdown",
   "metadata": {},
   "source": [
    "**Q49.** Write the NumPy program to create a 8x8 matrix and fill it with the checkerboard pattern? <br>\n",
    "Checkerboard pattern- <br>\n",
    "[[3 9 3 9 3 9 3 9] <br>\n",
    "[9 3 9 3 9 3 9 3]<br>\n",
    "[3 9 3 9 3 9 3 9]<br>\n",
    "[9 3 9 3 9 3 9 3]<br>\n",
    "[3 9 3 9 3 9 3 9]<br>\n",
    "[9 3 9 3 9 3 9 3]<br>\n",
    "[3 9 3 9 3 9 3 9]<br>\n",
    "[9 3 9 3 9 3 9 3]]."
   ]
  },
  {
   "cell_type": "code",
   "execution_count": 24,
   "metadata": {},
   "outputs": [
    {
     "name": "stdout",
     "output_type": "stream",
     "text": [
      "[[3 9 3 9 3 9 3 9]\n",
      " [9 3 9 3 9 3 9 3]\n",
      " [3 9 3 9 3 9 3 9]\n",
      " [9 3 9 3 9 3 9 3]\n",
      " [3 9 3 9 3 9 3 9]\n",
      " [9 3 9 3 9 3 9 3]\n",
      " [3 9 3 9 3 9 3 9]\n",
      " [9 3 9 3 9 3 9 3]]\n"
     ]
    }
   ],
   "source": [
    "# Create an matrix of 8X8 dimension and fill it with 9.\n",
    "check_board = np.ones((8,8),dtype=int)*9\n",
    "\n",
    "check_board[::2,::2] = 3\n",
    "check_board[1::2,1::2] = 3\n",
    "# check_board[1::2,1::2] = 9\n",
    "print(check_board)\n"
   ]
  },
  {
   "cell_type": "markdown",
   "metadata": {},
   "source": [
    "**Q50.** Write the NumPy program to create an empty and a full array. <br>\n",
    "Expected Output- <br>\n",
    "[[4.45057637e-308 1.78021527e-306 8.45549797e-307 1.37962049e-306] <br>\n",
    "[1.11260619e-306 1.78010255e-306 9.79054228e-307 4.45057637e-308]<br>\n",
    "[8.45596650e-307 9.34602321e-307 4.94065646e-322 0.00000000e+000]]<br>\n",
    "[[6 6 6]<br>\n",
    "[6 6 6]<br>\n",
    "[6 6 6]]"
   ]
  },
  {
   "cell_type": "code",
   "execution_count": 25,
   "metadata": {},
   "outputs": [
    {
     "name": "stdout",
     "output_type": "stream",
     "text": [
      "Empty Array is-->:\n",
      " [[4.67212435e-310 2.80629287e-321 0.00000000e+000]\n",
      " [4.67212439e-310 4.94065646e-324 4.67212439e-310]\n",
      " [1.38338381e-322 6.92935641e-310 9.88131292e-324]]\n",
      "\n",
      "Full array is-->\n",
      " [[6 6 6]\n",
      " [6 6 6]\n",
      " [6 6 6]]\n"
     ]
    }
   ],
   "source": [
    "arr_empty = np.empty([3,3], dtype=float)\n",
    "print(\"Empty Array is-->:\\n\",arr_empty)\n",
    "\n",
    "arr_full = np.full([3,3],6)\n",
    "print(\"\\nFull array is-->\\n\",arr_full)"
   ]
  },
  {
   "cell_type": "markdown",
   "metadata": {},
   "source": [
    "**Q51.** Write the NumPy program to convert the values of Centigrade degrees into the Fahrenheit degrees and the centigrade values are stored in the NumPy array. <br>\n",
    "**Sample Array-** [0, 12, 45.21 ,34, 99.91] <br>\n",
    "**Expected Output:** Values in Fahrenheit degrees- <br>\n",
    "[ 0. 12. 45.21 34. 99.91] <br>\n",
    "Values in Centigrade degrees- <br>\n",
    "[-17.77777778 -11.11111111 7.33888889 1.11111111 37.72777778]"
   ]
  },
  {
   "cell_type": "code",
   "execution_count": 26,
   "metadata": {},
   "outputs": [
    {
     "name": "stdout",
     "output_type": "stream",
     "text": [
      "[ 0.   12.   45.21 34.   99.91]\n",
      "\n",
      "values in centrigrade degrees:\n"
     ]
    },
    {
     "data": {
      "text/plain": [
       "array([-17.77777778, -11.11111111,   7.33888889,   1.11111111,\n",
       "        37.72777778])"
      ]
     },
     "execution_count": 26,
     "metadata": {},
     "output_type": "execute_result"
    }
   ],
   "source": [
    "fahrenheit_values = np.array([0,12,45.21,34,99.91])\n",
    "print(fahrenheit_values)\n",
    "\n",
    "print(\"\\nvalues in centrigrade degrees:\")\n",
    "#  Formula to convert : T(°C) = (T(°F) - 32) × 5/9\n",
    "((fahrenheit_values-32)*5)/9"
   ]
  },
  {
   "cell_type": "markdown",
   "metadata": {},
   "source": [
    "**Q52.** Write the NumPy program to find the real and imaginary parts of an array of complex numbers? <br>\n",
    "**Expected Output:** Original array [ 1.00000000+0.j 0.70710678+0.70710678j] <br>\n",
    "Real part of the array-<br>\n",
    "[ 1. 0.70710678]<br>\n",
    "Imaginary part of the array- <br>\n",
    "[ 0. 0.70710678]"
   ]
  },
  {
   "cell_type": "code",
   "execution_count": 27,
   "metadata": {},
   "outputs": [
    {
     "name": "stdout",
     "output_type": "stream",
     "text": [
      "Real Part--> [1.         0.70710678]\n",
      "Imaginary Part [0.         0.70710678]\n"
     ]
    }
   ],
   "source": [
    "Z = np.array([1.00000000+0.j,0.70710678+0.70710678j])\n",
    "print(\"Real Part-->\", Z.real)\n",
    "print(\"Imaginary Part\",Z.imag)\n"
   ]
  },
  {
   "cell_type": "markdown",
   "metadata": {},
   "source": [
    "**Q53.** Write the NumPy program to test whether each element of a 1-D array is also present in the second array? <br>\n",
    "**Expected Output:** Array1: [ 0 10 20 40 60] <br>\n",
    "Array2: [0, 40] <br>\n",
    "Compare each element of array1 and array2 <br>\n",
    "[ True False False True False]"
   ]
  },
  {
   "cell_type": "code",
   "execution_count": 87,
   "metadata": {},
   "outputs": [
    {
     "name": "stdout",
     "output_type": "stream",
     "text": [
      "Array1: [ 0 10 20 40 60]\n",
      "Array2: [ 0 40]\n",
      "Compare each element of array1 and array2: [ True False False  True False]\n"
     ]
    }
   ],
   "source": [
    "array1 = np.array([0,10,20,40,60])\n",
    "print(\"Array1:\",array1)\n",
    "array2 = np.array([0,40])\n",
    "print(\"Array2:\",array2)\n",
    "print(\"Compare each element of array1 and array2:\",np.in1d(array1, array2))"
   ]
  },
  {
   "cell_type": "markdown",
   "metadata": {},
   "source": [
    "**Q54.** Write the NumPy program to find common values between two arrays? <br>\n",
    "**Expected Output:** Array1: [ 0 10 20 40 60] <br>\n",
    "Array2: [10, 30, 40] <br>\n",
    "Common values between two arrays- <br>\n",
    "[10 40]"
   ]
  },
  {
   "cell_type": "code",
   "execution_count": 88,
   "metadata": {},
   "outputs": [
    {
     "name": "stdout",
     "output_type": "stream",
     "text": [
      "Array1: [ 0 10 20 40 60]\n",
      "Array2: [10 30 40]\n",
      "Commom values between two arrays:\n",
      "[10 40]\n"
     ]
    }
   ],
   "source": [
    "array1 = np.array([0,10,20,40,60])\n",
    "print(\"Array1:\",array1)\n",
    "array2 = np.array([10,30,40])\n",
    "print(\"Array2:\",array2)\n",
    "\n",
    "print(\"Commom values between two arrays:\")\n",
    "print(np.intersect1d(array1, array2))"
   ]
  },
  {
   "cell_type": "markdown",
   "metadata": {},
   "source": [
    "**Q55.** Write the NumPy program to get the unique elements of an array? <br>\n",
    "**Expected Output:** Original array- <br>\n",
    "[10 10 20 20 30 30] <br>\n",
    "Unique elements of the above array- <br>\n",
    "[10 20 30] <br>\n",
    "Original array- <br>\n",
    "[[1 1] <br>\n",
    "[2 3]] <br>\n",
    "Unique elements of the above array- <br>\n",
    "[1 2 3] "
   ]
  },
  {
   "cell_type": "code",
   "execution_count": 90,
   "metadata": {},
   "outputs": [
    {
     "name": "stdout",
     "output_type": "stream",
     "text": [
      "Unique elements of the [10 10 20 20 30 30]-[10 20 30]\n",
      "Unique elements of the [[1 1]\n",
      " [2 3]]-[1 2 3]\n"
     ]
    }
   ],
   "source": [
    "orig_array = np.array([10,10,20,20,30,30])\n",
    "print(f\"Unique elements of the {orig_array}-{np.unique(orig_array)}\")\n",
    "\n",
    "orig_array = np.array([[1,1],[2,3]])\n",
    "print(f\"Unique elements of the {orig_array}-{np.unique(orig_array)}\")\n"
   ]
  },
  {
   "cell_type": "markdown",
   "metadata": {},
   "source": [
    "**Q56.** Write the NumPy program to find the set exclusive-or of two arrays. <br>\n",
    "Set exclusive-or will return the sorted, unique values that are in only one (not both) of the input arrays? <br>\n",
    "Array1- [ 0 10 20 40 60 80] <br>\n",
    "Array2- [10, 30, 40, 50, 70] <br>\n",
    "Unique values that are in only one (not both) of the input arrays- <br>\n",
    "[ 0 20 30 50 60 70 80] "
   ]
  },
  {
   "cell_type": "code",
   "execution_count": 92,
   "metadata": {},
   "outputs": [
    {
     "name": "stdout",
     "output_type": "stream",
     "text": [
      "Array1: [ 0 10 20 40 60 80]\n",
      "Array2: [10 30 40 50 70]\n",
      "Unique values that are in only one(noth both) of the input arrays:\n",
      "[ 0 20 30 50 60 70 80]\n"
     ]
    }
   ],
   "source": [
    "array1 = np.array([0,10,20,40,60,80])\n",
    "print(\"Array1:\",array1)\n",
    "array2 = np.array([10,30,40,50,70])\n",
    "print(\"Array2:\",array2)\n",
    "\n",
    "print(\"Unique values that are in only one(noth both) of the input arrays:\")\n",
    "print(np.setxor1d(array1, array2))"
   ]
  },
  {
   "cell_type": "markdown",
   "metadata": {},
   "source": [
    "**Q57.** Write the NumPy program to test if all elements in an array evaluate to True ? <br>\n",
    "Note: \n",
    "1. 0 evaluates to False in NumPy.\n",
    "2. Not a Number (NaN), positive infinity and negative infinity evaluate to True because these are not equal to zero.\n"
   ]
  },
  {
   "cell_type": "code",
   "execution_count": 28,
   "metadata": {},
   "outputs": [
    {
     "name": "stdout",
     "output_type": "stream",
     "text": [
      "Original Array--->\n",
      " [[6. 6. 6. 6. 6.]\n",
      " [6. 0. 0. 0. 6.]\n",
      " [6. 0. 0. 0. 6.]\n",
      " [6. 0. 0. 0. 6.]\n",
      " [6. 6. 6. 6. 6.]]\n",
      "\n",
      "all elements in an array evaluate to True is False\n"
     ]
    }
   ],
   "source": [
    "import numpy as np\n",
    "arr = np.ones((5,5))*6\n",
    "arr[1:-1,1:-1] = 0\n",
    "print(\"Original Array--->\\n\",arr)\n",
    "print(\"\\nall elements in an array evaluate to True is:\", np.all(arr))"
   ]
  },
  {
   "cell_type": "markdown",
   "metadata": {},
   "source": [
    "**Q58.** Write the NumPy program to test whether any array element along the given axis evaluates to True? <br>\n",
    "**Note:** 0 evaluates to False in NumPy."
   ]
  },
  {
   "cell_type": "code",
   "execution_count": 29,
   "metadata": {},
   "outputs": [
    {
     "name": "stdout",
     "output_type": "stream",
     "text": [
      "Original Array--->\n",
      " [[6. 6. 6. 6. 6.]\n",
      " [6. 6. 6. 6. 6.]\n",
      " [6. 6. 6. 6. 6.]\n",
      " [6. 6. 6. 6. 6.]\n",
      " [0. 0. 0. 0. 0.]]\n",
      "\n",
      "any element along the given axix evaluates to True is [ True  True  True  True False]\n"
     ]
    }
   ],
   "source": [
    "import numpy as np\n",
    "arr = np.ones((5,5))*6\n",
    "arr[4:,:] = 0\n",
    "print(\"Original Array--->\\n\",arr)\n",
    "print(\"\\nany element along the given axix evaluates to True is\", np.any(arr, axis = 1))"
   ]
  },
  {
   "cell_type": "markdown",
   "metadata": {},
   "source": [
    "**Q59.** Write the NumPy program to construct an array by repeating? <br>\n",
    "Sample array- [1, 2, 3, 4] <br>\n",
    "**Expected Output:** Original array <br>\n",
    "[1, 2, 3, 4] <br>\n",
    "Repeating 2 times <br>\n",
    "[1 2 3 4 1 2 3 4] <br>\n",
    "Repeating 3 times <br>\n",
    "[1 2 3 4 1 2 3 4 1 2 3 4]"
   ]
  },
  {
   "cell_type": "markdown",
   "metadata": {},
   "source": [
    "###### numpy.tile(A,reps):<br> This function construct an array by repeating A the number of times given by reps.<br> If reps has length d, the result will have dimension of max(d, A.ndim)."
   ]
  },
  {
   "cell_type": "code",
   "execution_count": 30,
   "metadata": {},
   "outputs": [
    {
     "name": "stdout",
     "output_type": "stream",
     "text": [
      "Original array [1 2 3 4]\n",
      "Repeating 2 times:--> [1 2 3 4 1 2 3 4]\n",
      "Repeating 2 times:--> [1 2 3 4 1 2 3 4 1 2 3 4]\n"
     ]
    }
   ],
   "source": [
    "sample = np.array([1,2,3,4])\n",
    "print(\"Original array\", sample)\n",
    "print(\"Repeating 2 times:-->\", np.tile(sample,2))\n",
    "print(\"Repeating 2 times:-->\", np.tile(sample,3))"
   ]
  },
  {
   "cell_type": "markdown",
   "metadata": {},
   "source": [
    "**Q60.** Write the NumPy program to find the indices of the maximum and minimum values with the given axis of an array? <br>\n",
    "Original array- [1 2 3 4 5 6] <br>\n",
    "Maximum Values- 5 <br>\n",
    "Minimum Values- 0"
   ]
  },
  {
   "cell_type": "code",
   "execution_count": 31,
   "metadata": {},
   "outputs": [
    {
     "name": "stdout",
     "output_type": "stream",
     "text": [
      "Original Array [1 2 3 4 5 6]\n",
      "Maximum Values 5\n",
      "Minimum Values 0\n"
     ]
    }
   ],
   "source": [
    "orig_array = np.array([1,2,3,4,5,6])\n",
    "print(\"Original Array\", orig_array)\n",
    "print(\"Maximum Values\",np.argmax(orig_array)) # argmax gives the indices of the maximum value in an  array\n",
    "print(\"Minimum Values\",np.argmin(orig_array)) # argmin gives the indices of the maximum value in an array"
   ]
  },
  {
   "cell_type": "markdown",
   "metadata": {},
   "source": [
    "**Q61.** Write the NumPy program compare two arrays using numpy? <br>\n",
    "Array a- [1 2] <br>\n",
    "Array b- [4 5] <br>\n",
    "a > b <br>\n",
    "[False False] <br>\n",
    "a >= b\n",
    "[False False] <br>\n",
    "a < b <br>\n",
    "[ True True] <br>\n",
    "a <= b <br>\n",
    "[ True True]"
   ]
  },
  {
   "cell_type": "code",
   "execution_count": 32,
   "metadata": {},
   "outputs": [
    {
     "name": "stdout",
     "output_type": "stream",
     "text": [
      "a > b: [False False]\n",
      "a >= b: [False False]\n",
      "a < b: [ True  True]\n",
      "a <= b: [ True  True]\n"
     ]
    }
   ],
   "source": [
    "# Output is an array, element-wise comparison of x1 and x2. \n",
    "arr1 = np.array([1,2])\n",
    "arr2 = np.array([4,5])\n",
    "print(\"a > b:\", np.greater(arr1,arr2))\n",
    "print(\"a >= b:\", np.greater_equal(arr1,arr2))\n",
    "print(\"a < b:\", np.less(arr1,arr2))\n",
    "print(\"a <= b:\", np.less_equal(arr1,arr2))"
   ]
  },
  {
   "cell_type": "markdown",
   "metadata": {},
   "source": [
    "**Q62.** Write the NumPy program to sort an along the first, last axis of an array? <br>\n",
    "Sample array- [[2,5],[4,4]] <br>\n",
    "**Expected Output:** Original array: <br>\n",
    "[[4 6] <br>\n",
    "[2 1]] <br>\n",
    "Sort along the first axis: <br>\n",
    "[[2 1] <br>\n",
    "[4 6]] <br>\n",
    "Sort along the last axis- <br>\n",
    "[[1 2] <br>\n",
    "[4 6]]"
   ]
  },
  {
   "cell_type": "code",
   "execution_count": 33,
   "metadata": {},
   "outputs": [
    {
     "name": "stdout",
     "output_type": "stream",
     "text": [
      "Original Array\n",
      " [[4 6]\n",
      " [2 1]]\n",
      "Sort along the first axis:\n",
      " [[2 1]\n",
      " [4 6]]\n",
      "Sort along the last axis:\n",
      " [[1 2]\n",
      " [4 6]]\n"
     ]
    }
   ],
   "source": [
    "orig_array = np.array([[4,6],[2,1]])\n",
    "print(\"Original Array\\n\",orig_array)\n",
    "\n",
    "sorted_array1 = np.sort(orig_array, axis=0)\n",
    "print(\"Sort along the first axis:\\n\",sorted_array1)\n",
    "sorted_array2 = np.sort(sorted_array1, axis=1)\n",
    "print(\"Sort along the last axis:\\n\",sorted_array2)"
   ]
  },
  {
   "cell_type": "markdown",
   "metadata": {},
   "source": [
    "**Q63.** Write the NumPy program to sort pairs of first name and last name return their indices (first by last name, then by first name). <br>\n",
    "first_names - ( Betsey, Shelley, Lanell, Genesis, Margery ) <br>\n",
    "last_names - ( Battle, Brien, Plotner, Stahl, Woolum ) <br>\n",
    "**Expected Output-** <br>\n",
    "[1 3 2 4 0]"
   ]
  },
  {
   "cell_type": "markdown",
   "metadata": {},
   "source": [
    "##### Output is not matching with the expected o/p"
   ]
  },
  {
   "cell_type": "markdown",
   "metadata": {},
   "source": [
    "np.lexsort((b, a))\n",
    "(i) Perform an indirect sort using a sequence of keys\n",
    "(ii) Sort by a, then by b\n",
    "(iii) Return type ndarray of ints Array of indices that sort the keys along the specified axis\n",
    "(iv) Occupies space as a new array of sorted indices pair wise is returned."
   ]
  },
  {
   "cell_type": "code",
   "execution_count": 34,
   "metadata": {},
   "outputs": [
    {
     "name": "stdout",
     "output_type": "stream",
     "text": [
      "[0 1 2 3 4]\n"
     ]
    }
   ],
   "source": [
    "first_name = (\"Betsey\", \"Shelley\", \"Lanell\", \"Genesis\", \"Margery\")\n",
    "last_name = (\"Battle\", \"Brien\", \"Plotner\", \"Stahl\", \"Woolum\")\n",
    "\n",
    "print(np.lexsort((first_name, last_name)))\n"
   ]
  },
  {
   "cell_type": "markdown",
   "metadata": {},
   "source": [
    "**Q64.** Write the NumPy program to get the values and indices of the elements that are bigger than 10 in the given array? <br>\n",
    "Original array- <br>\n",
    "[[ 0 10 20] <br>\n",
    "[20 30 40]] <br>\n",
    "Values bigger than 10 = [20 20 30 40] <br>\n",
    "Their indices are (array([0, 1, 1, 1]), array([2, 0, 1, 2]))"
   ]
  },
  {
   "cell_type": "code",
   "execution_count": 43,
   "metadata": {},
   "outputs": [
    {
     "name": "stdout",
     "output_type": "stream",
     "text": [
      "[[ 0 10 20]\n",
      " [20 30 40]]\n",
      "\n",
      "Values bigger than 10 are --> [20 20 30 40]\n",
      "their indices are--->  (array([0, 1, 1, 1]), array([2, 0, 1, 2]))\n"
     ]
    }
   ],
   "source": [
    "import numpy as np\n",
    "orig_array = np.array([[ 0, 10, 20],\n",
    "                       [20, 30, 40]])\n",
    "print(orig_array)\n",
    "print(\"\\nValues bigger than 10 are -->\", orig_array[orig_array>10])\n",
    "\n",
    "print(\"their indices are---> \",np.nonzero(orig_array>10))"
   ]
  },
  {
   "cell_type": "markdown",
   "metadata": {},
   "source": [
    "**Q65.** Write the NumPy program to find the memory size of a NumPy array? <br>\n",
    "**Expected Output-** 128 bytes"
   ]
  },
  {
   "cell_type": "code",
   "execution_count": 36,
   "metadata": {},
   "outputs": [
    {
     "name": "stdout",
     "output_type": "stream",
     "text": [
      "72\n"
     ]
    }
   ],
   "source": [
    "orig_array = np.array([[ 0, 10, 20],\n",
    "                       [20, 30, 40],\n",
    "                      [20,40,60]], dtype = np.int64)\n",
    "\n",
    "print(orig_array.nbytes)\n",
    "\n",
    "\n",
    "# print(np.prod(orig_array.size))\n",
    "# print(orig_array.itemsize)"
   ]
  },
  {
   "cell_type": "markdown",
   "metadata": {},
   "source": [
    "###### Second Method"
   ]
  },
  {
   "cell_type": "code",
   "execution_count": 37,
   "metadata": {},
   "outputs": [
    {
     "name": "stdout",
     "output_type": "stream",
     "text": [
      "72\n"
     ]
    }
   ],
   "source": [
    "print(np.prod(orig_array.size) * orig_array.itemsize)"
   ]
  },
  {
   "cell_type": "code",
   "execution_count": null,
   "metadata": {},
   "outputs": [],
   "source": []
  },
  {
   "cell_type": "markdown",
   "metadata": {},
   "source": [
    "**Q66.** Write the NumPy program to create an array of ones and an array of zeros? <br>\n",
    "**Expected Output:** Create an array of zeros <br>\n",
    "Default type is float <br>\n",
    "[[ 0. 0.]] <br>\n",
    "Type changes to int <br>\n",
    "[[0 0]] <br>\n",
    "Create an array of ones <br>\n",
    "Default type is float<br>\n",
    "[[ 1. 1.]]<br>\n",
    "Type changes to int<br>\n",
    "[[1 1]]"
   ]
  },
  {
   "cell_type": "code",
   "execution_count": 38,
   "metadata": {},
   "outputs": [
    {
     "name": "stdout",
     "output_type": "stream",
     "text": [
      "Create an array of Zeros\n",
      "[[0. 0. 0.]\n",
      " [0. 0. 0.]]\n",
      "Default type is--> float64\n",
      "\n",
      "changing the dtype to int\n",
      "[[0 0 0]\n",
      " [0 0 0]]\n",
      "\n",
      "Creating the arrau of ones\n",
      "[[1. 1. 1.]\n",
      " [1. 1. 1.]]\n",
      "Default type is--> float64\n",
      "\n",
      "changing the dtype to int\n",
      "[[1 1 1]\n",
      " [1 1 1]]\n"
     ]
    }
   ],
   "source": [
    "print(\"Create an array of Zeros\")\n",
    "zerosArray = np.zeros((2,3))\n",
    "print(zerosArray)\n",
    "print(\"Default type is-->\", zerosArray.dtype)\n",
    "\n",
    "print(\"\\nchanging the dtype to int\")\n",
    "intTypeZerosArray = zerosArray.astype('int64')\n",
    "print(intTypeZerosArray)\n",
    "\n",
    "print(\"\\nCreating the arrau of ones\")\n",
    "onesArray = np.ones((2,3))\n",
    "print(onesArray)\n",
    "print(\"Default type is-->\", onesArray.dtype)\n",
    "\n",
    "print(\"\\nchanging the dtype to int\")\n",
    "intTypeOnesArray = onesArray.astype('int64')\n",
    "print(intTypeOnesArray)"
   ]
  },
  {
   "cell_type": "markdown",
   "metadata": {},
   "source": [
    "**Q67**. Write the NumPy program to change the dimension of an array? <br>\n",
    "**Expected Output-** <br>\n",
    "6 rows and 0 columns <br>\n",
    "(6,) <br>\n",
    "(3, 3) -> 3 rows and 3 columns <br>\n",
    "[[1 2 3]<br>\n",
    "[4 5 6]<br>\n",
    "[7 8 9]]<br>\n",
    "Change array shape to (3, 3) -> 3 rows and 3 columns <br>\n",
    "[[1 2 3] <br>\n",
    "[4 5 6]<br>\n",
    "[7 8 9]]"
   ]
  },
  {
   "cell_type": "code",
   "execution_count": 39,
   "metadata": {},
   "outputs": [
    {
     "name": "stdout",
     "output_type": "stream",
     "text": [
      "[1 2 3 4 5 6 7 8 9]\n",
      "The shape of the original array--> (9,)\n",
      "\n",
      "Change array shape to (3, 3) -> 3 rows and 3 columns\n",
      "Resulting Array is-->\n",
      " [[1 2 3]\n",
      " [4 5 6]\n",
      " [7 8 9]]\n"
     ]
    }
   ],
   "source": [
    "orig_array = np.arange(1,10)\n",
    "print(orig_array)\n",
    "\n",
    "print(\"The shape of the original array-->\", orig_array.shape)\n",
    "\n",
    "print(\"\\nChange array shape to (3, 3) -> 3 rows and 3 columns\")\n",
    "print(\"Resulting Array is-->\\n\",orig_array.reshape((3,3)))"
   ]
  },
  {
   "cell_type": "markdown",
   "metadata": {},
   "source": [
    "**Q68.** Write the NumPy program to create a new shape to an array without changing its data ? <br>\n",
    "Reshape 3x2- <br>\n",
    "[[1 2] <br>\n",
    "[3 4] <br>\n",
    "[5 6]]<br>\n",
    "Reshape 2x3- <br>\n",
    "[[1 2 3] <br>\n",
    "[4 5 6]]"
   ]
  },
  {
   "cell_type": "code",
   "execution_count": 40,
   "metadata": {},
   "outputs": [
    {
     "name": "stdout",
     "output_type": "stream",
     "text": [
      "Original Array-->\n",
      "[1 2 3 4 5 6]\n",
      "\n",
      "Reshape 3X2-->\n",
      "[[1 2]\n",
      " [3 4]\n",
      " [5 6]]\n",
      "\n",
      "Reshape 2X3-->\n",
      "[[1 2 3]\n",
      " [4 5 6]]\n"
     ]
    }
   ],
   "source": [
    "arr = np.arange(1,7)\n",
    "print(\"Original Array-->\")\n",
    "print(arr)\n",
    "\n",
    "print(\"\\nReshape 3X2-->\")\n",
    "print(arr.reshape(3,2))\n",
    "\n",
    "print(\"\\nReshape 2X3-->\")\n",
    "print(arr.reshape(2,3))"
   ]
  },
  {
   "cell_type": "markdown",
   "metadata": {},
   "source": [
    "**Q69.** Write the NumPy program to create a new array of 3*5, filled with 2? <br>\n",
    "Expected Output- <br>\n",
    "[[2 2 2 2 2]<br>\n",
    "[2 2 2 2 2]<br>\n",
    "[2 2 2 2 2]]\n"
   ]
  },
  {
   "cell_type": "code",
   "execution_count": 41,
   "metadata": {},
   "outputs": [
    {
     "name": "stdout",
     "output_type": "stream",
     "text": [
      "Expected Output-->\n",
      " [[2. 2. 2. 2. 2.]\n",
      " [2. 2. 2. 2. 2.]\n",
      " [2. 2. 2. 2. 2.]]\n"
     ]
    }
   ],
   "source": [
    "arr = np.ones((3,5))*2\n",
    "print(\"Expected Output-->\\n\",arr)"
   ]
  },
  {
   "cell_type": "markdown",
   "metadata": {},
   "source": [
    "**Q70.** Write the NumPy program to create a 3-D array with ones on a diagonal and zeros elsewhere? <br>\n",
    "**Expected Output-**<br>\n",
    "[[ 1. 0. 0.] <br>\n",
    "[ 0. 1. 0.]<br>\n",
    "[ 0. 0. 1.]]"
   ]
  },
  {
   "cell_type": "code",
   "execution_count": 42,
   "metadata": {},
   "outputs": [
    {
     "name": "stdout",
     "output_type": "stream",
     "text": [
      "[[1. 0. 0.]\n",
      " [0. 1. 0.]\n",
      " [0. 0. 1.]]\n"
     ]
    }
   ],
   "source": [
    "arr = np.eye(3)\n",
    "print(arr)\n"
   ]
  },
  {
   "cell_type": "markdown",
   "metadata": {},
   "source": [
    "**Q71.** Write the NumPy program to split an array of 14 elements into the 3 arrays and each of which has 2, 4, and 8 elements in original order? <br>\n",
    "**Expected Output:** Original array- [ 1 2 3 4 5 6 7 8 9 10 11 12 13 14] <br>\n",
    "After splitting- <br>\n",
    "[array([1, 2]), array([3, 4, 5, 6]), array([ 7, 8, 9, 10, 11, 12, 13, 14])]"
   ]
  },
  {
   "cell_type": "code",
   "execution_count": 43,
   "metadata": {},
   "outputs": [
    {
     "name": "stdout",
     "output_type": "stream",
     "text": [
      "Original Array--> [ 1  2  3  4  5  6  7  8  9 10 11 12 13 14]\n",
      "After Splitting-->\n",
      " [array([1, 2]), array([3, 4, 5, 6]), array([ 7,  8,  9, 10, 11, 12, 13, 14])]\n"
     ]
    }
   ],
   "source": [
    "arr = np.arange(1,15)\n",
    "print(\"Original Array-->\", arr)\n",
    "print(\"After Splitting-->\\n\",np.split(arr,[2,6]))"
   ]
  },
  {
   "cell_type": "markdown",
   "metadata": {},
   "source": [
    "**Q72.** Write the NumPy program to split of an array of shape 4x4 it into two arrays along the second axis ? <br>\n",
    "**Sample array** -<br>\n",
    "[[ 0 1 2 3] <br>\n",
    "[ 4 5 6 7] <br>\n",
    "[ 8 9 10 11] <br>\n",
    "[12 13 14 15]] <br>\n",
    "**Expected Output** <br>\n",
    "[array([[ 0, 1], [ 4, 5],[ 8, 9],[12, 13]]), array([[ 2, 3], [ 6, 7], [10, 11], [14, 15]]), <br> array([], shape=(4, 0), dtype=int64)]"
   ]
  },
  {
   "cell_type": "code",
   "execution_count": 44,
   "metadata": {},
   "outputs": [
    {
     "name": "stdout",
     "output_type": "stream",
     "text": [
      "[[ 0  1  2  3]\n",
      " [ 4  5  6  7]\n",
      " [ 8  9 10 11]\n",
      " [12 13 14 15]]\n",
      "[array([[ 0,  1],\n",
      "       [ 4,  5],\n",
      "       [ 8,  9],\n",
      "       [12, 13]]), array([[ 2,  3],\n",
      "       [ 6,  7],\n",
      "       [10, 11],\n",
      "       [14, 15]])]\n"
     ]
    }
   ],
   "source": [
    "sampleArray = np.arange(0,16).reshape(4,4)\n",
    "print(sampleArray)\n",
    "\n",
    "print(np.hsplit(sampleArray,2))"
   ]
  },
  {
   "cell_type": "markdown",
   "metadata": {},
   "source": [
    "**Q73.** Write the NumPy program to create a 5x5 matrix with row values ranging from 0 to 4? <br>\n",
    "Original array- <br>\n",
    "[[ 0. 0. 0. 0. 0.] <br>\n",
    "[ 0. 0. 0. 0. 0.] <br>\n",
    "[ 0. 0. 0. 0. 0.] <br>\n",
    "[ 0. 0. 0. 0. 0.] <br>\n",
    "[ 0. 0. 0. 0. 0.]] <br>\n",
    "Row values ranging from 0 to 4. <br>\n",
    "[[ 0. 1. 2. 3. 4.] <br>\n",
    "[ 0. 1. 2. 3. 4.] <br>\n",
    "[ 0. 1. 2. 3. 4.] <br>\n",
    "[ 0. 1. 2. 3. 4.] <br>\n",
    "[ 0. 1. 2. 3. 4.]]"
   ]
  },
  {
   "cell_type": "code",
   "execution_count": 45,
   "metadata": {},
   "outputs": [
    {
     "name": "stdout",
     "output_type": "stream",
     "text": [
      "[[0. 0. 0. 0. 0.]\n",
      " [0. 0. 0. 0. 0.]\n",
      " [0. 0. 0. 0. 0.]\n",
      " [0. 0. 0. 0. 0.]\n",
      " [0. 0. 0. 0. 0.]]\n",
      "\n",
      "Row values ranging from 0 to 4\n",
      "[[0. 1. 2. 3. 4.]\n",
      " [0. 1. 2. 3. 4.]\n",
      " [0. 1. 2. 3. 4.]\n",
      " [0. 1. 2. 3. 4.]\n",
      " [0. 1. 2. 3. 4.]]\n"
     ]
    }
   ],
   "source": [
    "origArray = np.zeros((5,5))\n",
    "print(origArray)\n",
    "\n",
    "print(\"\\nRow values ranging from 0 to 4\")\n",
    "print(origArray+[0,1,2,3,4])\n"
   ]
  },
  {
   "cell_type": "markdown",
   "metadata": {},
   "source": [
    "**Q74.** Write the NumPy program to create an array of zeros and three column types (integer, float, character)? <br>\n",
    "**Expected Output-** <br>\n",
    "[(1, 2., b'Albert Einstein') (2, 2., b'Edmond Halley') <br>\n",
    "(3, 3., b'Gertrude B. Elion')]"
   ]
  },
  {
   "cell_type": "code",
   "execution_count": 45,
   "metadata": {},
   "outputs": [
    {
     "name": "stdout",
     "output_type": "stream",
     "text": [
      "[(1, 2., b'Albert Einstein') (2, 2., b'Edmond Halley')\n",
      " (3, 3., b'Gertrude B. Elion')]\n"
     ]
    }
   ],
   "source": [
    "import numpy as np\n",
    "x = np.zeros((3,), dtype=('i4,f4,a40'))\n",
    "new_data = [(1, 2., \"Albert Einstein\"), (2, 2., \"Edmond Halley\"), (3, 3., \"Gertrude B. Elion\")]\n",
    "x[:] = new_data\n",
    "print(x)"
   ]
  },
  {
   "cell_type": "markdown",
   "metadata": {},
   "source": [
    "**Q75.** Write the NumPy program to remove the negative values in the numpy array with 0? <br>\n",
    "**Expected Output:** Original array: <br>\n",
    "[-1 -4 0 2 3 4 5 -6] <br>\n",
    "Replace the negative values of the said array with 0- <br>\n",
    "[0 0 0 2 3 4 5 0]"
   ]
  },
  {
   "cell_type": "code",
   "execution_count": null,
   "metadata": {},
   "outputs": [],
   "source": [
    "orig_Array = np.array([-1,-4, 0, 2, 3, 4, 5, -6])\n",
    "print(orig_Array)\n",
    "\n",
    "orig_Array[orig_Array<0] = 0\n",
    "print(\"\\nReplace the negative values of the said array with 0-->\\n\")\n",
    "print(orig_Array)"
   ]
  },
  {
   "cell_type": "markdown",
   "metadata": {},
   "source": [
    "**Q76.** Write the NumPy program to compute the histogram of a set of data?"
   ]
  },
  {
   "cell_type": "code",
   "execution_count": 46,
   "metadata": {},
   "outputs": [
    {
     "data": {
      "image/png": "[encoded data removed]",
      "text/plain": [
       "<Figure size 432x288 with 1 Axes>"
      ]
     },
     "metadata": {
      "needs_background": "light"
     },
     "output_type": "display_data"
    }
   ],
   "source": [
    "import matplotlib.pyplot as plt\n",
    "rng = np.random.RandomState(10)  # deterministic random data\n",
    "a = np.hstack((rng.normal(size=1000), rng.normal(loc=5, scale=2, size=1000)))\n",
    "_ = plt.hist(a, bins='auto')  # arguments are passed to np.histogram\n",
    "plt.title(\"Histogram with 'auto' bins\")\n",
    "# Text(0.5, 1.0, \"Histogram with 'auto' bins\")\n",
    "plt.show()"
   ]
  },
  {
   "cell_type": "markdown",
   "metadata": {},
   "source": [
    "**Q77.** Write the NumPy program to compute the line graph of a set of data?"
   ]
  },
  {
   "cell_type": "code",
   "execution_count": 50,
   "metadata": {},
   "outputs": [
    {
     "name": "stderr",
     "output_type": "stream",
     "text": [
      "/home/reena/anaconda3/lib/python3.7/site-packages/ipykernel_launcher.py:8: UserWarning: Matplotlib is currently using module://ipykernel.pylab.backend_inline, which is a non-GUI backend, so cannot show the figure.\n",
      "  \n"
     ]
    },
    {
     "data": {
      "image/png": "[encoded data removed]",
      "text/plain": [
       "<Figure size 432x288 with 1 Axes>"
      ]
     },
     "metadata": {
      "needs_background": "light"
     },
     "output_type": "display_data"
    }
   ],
   "source": [
    "import sys\n",
    "import numpy as np    \n",
    "import matplotlib.pyplot as plt\n",
    "data = np.random.randint(1, 100, 20)\n",
    "y, x = np.histogram(data, bins=np.arange(50))\n",
    "fig, ax = plt.subplots()\n",
    "ax.plot(x[:-1], y)\n",
    "fig.show()"
   ]
  },
  {
   "cell_type": "markdown",
   "metadata": {},
   "source": [
    "**Q78.** Write the NumPy program to extracts all the elements from second row from given (4x4) array? <br>\n",
    "**Sample Output:** Original array- <br>\n",
    "[[ 0 1 2 3] <br>\n",
    "[ 4 5 6 7]<br>\n",
    "[ 8 9 10 11]<br>\n",
    "[12 13 14 15]]<br>\n",
    "Extracted data- Second row <br>\n",
    "[4 5 6 7]"
   ]
  },
  {
   "cell_type": "code",
   "execution_count": 51,
   "metadata": {},
   "outputs": [
    {
     "name": "stdout",
     "output_type": "stream",
     "text": [
      "[[ 0  1  2  3]\n",
      " [ 4  5  6  7]\n",
      " [ 8  9 10 11]\n",
      " [12 13 14 15]]\n",
      "Extracted Data - Second Row--> [4 5 6 7]\n"
     ]
    }
   ],
   "source": [
    "sampleArray = np.array([[0,1,2,3],[4,5,6,7], [8,9,10,11], [12,13,14,15]])\n",
    "print(sampleArray)\n",
    "\n",
    "print(\"Extracted Data - Second Row-->\", sampleArray[1,:])"
   ]
  },
  {
   "cell_type": "markdown",
   "metadata": {},
   "source": [
    "**Q79.** Write the NumPy program to extract first element of the second row and fourth element of fourth row from a given (4x4) array? <br>\n",
    "**Sample Output:** Original array- <br>\n",
    "[[ 0 1 2 3]<br>\n",
    "[ 4 5 6 7]<br>\n",
    "[ 8 9 10 11]<br>\n",
    "[12 13 14 15]]<br>\n",
    "Extracted data- First element of the second row and fourth element of fourth row<br>\n",
    "[ 4 15]"
   ]
  },
  {
   "cell_type": "code",
   "execution_count": 52,
   "metadata": {},
   "outputs": [
    {
     "name": "stdout",
     "output_type": "stream",
     "text": [
      "[[ 0  1  2  3]\n",
      " [ 4  5  6  7]\n",
      " [ 8  9 10 11]\n",
      " [12 13 14 15]]\n",
      "First element of the second row and fourth element of the fourth row--> [ 4 15]\n"
     ]
    }
   ],
   "source": [
    "sampleArray = np.array([[0,1,2,3],[4,5,6,7], [8,9,10,11], [12,13,14,15]])\n",
    "print(sampleArray)\n",
    "\n",
    "print(\"First element of the second row and fourth element of the fourth row-->\", sampleArray[[1,3],[0,3]])"
   ]
  },
  {
   "cell_type": "markdown",
   "metadata": {},
   "source": [
    "**Q80.** Write the NumPy program to add two arrays A and B of sizes (3,3) and (,3)? <br>\n",
    "Sample Output: Original arrayArray-1 <br>\n",
    "[[1 1 1] <br>\n",
    "[1 1 1] <br>\n",
    "[1 1 1]] <br>\n",
    "Array-2 <br>\n",
    "[0 1 2] <br>\n",
    "A + B: <br>\n",
    "[[1 2 3]<br>\n",
    "[1 2 3]<br>\n",
    "[1 2 3]]"
   ]
  },
  {
   "cell_type": "code",
   "execution_count": 53,
   "metadata": {},
   "outputs": [
    {
     "name": "stdout",
     "output_type": "stream",
     "text": [
      "[[1 2 3]\n",
      " [1 2 3]\n",
      " [1 2 3]]\n"
     ]
    }
   ],
   "source": [
    "origArray1 = np.array([[1,1,1],\n",
    "                      [1,1,1],\n",
    "                      [1,1,1]])\n",
    "origArray2 = np.array([0,1,2])\n",
    "\n",
    "print(origArray1 + origArray2)\n",
    "\n"
   ]
  },
  {
   "cell_type": "markdown",
   "metadata": {},
   "source": [
    "**Q81.** Write the NumPy program to copy data from a given array to another array? <br>\n",
    "**Sample Output:** Original array- <br>\n",
    "[24 27 30 29 18 14] <br>\n",
    "Copy of the said array- <br>\n",
    "[24 27 30 29 18 14]"
   ]
  },
  {
   "cell_type": "code",
   "execution_count": 54,
   "metadata": {},
   "outputs": [
    {
     "name": "stdout",
     "output_type": "stream",
     "text": [
      "Copy of the said array [24 27 30 29 18 14]\n"
     ]
    }
   ],
   "source": [
    "origArray = np.array([24,27,30,29,18,14])\n",
    "\n",
    "x = np.copy(origArray, order='K') # ‘K’ means match the layout of a as closely as possible\n",
    "\n",
    "print(\"Copy of the said array\",x)"
   ]
  },
  {
   "cell_type": "markdown",
   "metadata": {},
   "source": [
    "**Q82.** Write the NumPy program to calculate the sum of all columns of the 2D numpy array? <br>\n",
    "**Sample Output:** Original array- <br>\n",
    "[[ 0 1 2 3 4 5 6 7 8] <br>\n",
    "[ 9 10 11 12 13 14 15 16 17] <br>\n",
    "[18 19 20 21 22 23 24 25 26] <br>\n",
    "[27 28 29 30 31 32 33 34 35]] <br>\n",
    "Sum of all columns- <br>\n",
    "[54 58 62 66 70 74 78 82 86]"
   ]
  },
  {
   "cell_type": "code",
   "execution_count": 55,
   "metadata": {},
   "outputs": [
    {
     "name": "stdout",
     "output_type": "stream",
     "text": [
      "original Array-->\n",
      " [[ 0  1  2  3  4  5  6  7  8]\n",
      " [ 9 10 11 12 13 14 15 16 17]\n",
      " [18 19 20 21 22 23 24 25 26]\n",
      " [27 28 29 30 31 32 33 34 35]]\n",
      "\n",
      "sum of all columns-->\n",
      "[54 58 62 66 70 74 78 82 86]\n"
     ]
    }
   ],
   "source": [
    "origArray = np.array([[0, 1, 2, 3, 4, 5, 6, 7, 8],\n",
    "                        [9, 10, 11, 12, 13, 14, 15, 16, 17],\n",
    "                        [18, 19, 20, 21, 22, 23, 24, 25, 26],\n",
    "                        [27, 28, 29, 30, 31, 32, 33, 34, 35]])\n",
    "\n",
    "print(\"original Array-->\\n\", origArray)\n",
    "\n",
    "print(\"\\nsum of all columns-->\")\n",
    "print(np.sum(origArray,axis = 0))"
   ]
  },
  {
   "cell_type": "markdown",
   "metadata": {},
   "source": [
    "**Q83.** Write the NumPy program to calculate averages without NaNs along the given array? <br>\n",
    "**Sample Output:** Original array- <br>\n",
    "[[10. 20. 30.] <br>\n",
    "[40. 50. nan] <br>\n",
    "[nan 6. nan] <br>\n",
    "[nan nan nan]] <br>\n",
    "Averages without NaNs along the said array- <br>\n",
    "[20. 45. 6. nan]"
   ]
  },
  {
   "cell_type": "code",
   "execution_count": 56,
   "metadata": {},
   "outputs": [
    {
     "name": "stdout",
     "output_type": "stream",
     "text": [
      "[[10. 20. 30.]\n",
      " [40. 50. nan]\n",
      " [nan  6. nan]\n",
      " [nan nan nan]]\n",
      "Averages without NaNs along the said array-->\n",
      "[20. 45.  6. nan]\n"
     ]
    },
    {
     "name": "stderr",
     "output_type": "stream",
     "text": [
      "/home/reena/anaconda3/lib/python3.7/site-packages/ipykernel_launcher.py:10: RuntimeWarning: Mean of empty slice\n",
      "  # Remove the CWD from sys.path while we load stuff.\n"
     ]
    }
   ],
   "source": [
    "from numpy import nan\n",
    "origArray = np.array([[10., 20., 30.],\n",
    "                      [40., 50., nan],\n",
    "                      [nan, 6., nan],\n",
    "                      [nan, nan, nan]])\n",
    "print(origArray)\n",
    "\n",
    "print(\"Averages without NaNs along the said array-->\")\n",
    "\n",
    "print(np.nanmean(origArray,axis = 1)) # (10+20+30)/3 = 20\n"
   ]
  },
  {
   "cell_type": "markdown",
   "metadata": {},
   "source": [
    "**Q84.** Create two arrays of six elements. Write the NumPy program to count the number of instances of a value occurring in one array on the condition of another array. <br>\n",
    "**Sample Output:** Original arrays- <br>\n",
    "[ 10 -10 10 -10 -10 10] <br>\n",
    "[0.85 0.45 0.9 0.8 0.12 0.6 ] <br>\n",
    "Number of instances of a value occurring in one array on the condition of another array: 3 "
   ]
  },
  {
   "cell_type": "markdown",
   "metadata": {},
   "source": [
    "calculate c as the number of 1's in a that occur when b > .5, so in this case `c = 3'."
   ]
  },
  {
   "cell_type": "code",
   "execution_count": 57,
   "metadata": {},
   "outputs": [
    {
     "name": "stdout",
     "output_type": "stream",
     "text": [
      "Original Arrays-->\n",
      "[ 10 -10  10 -10 -10  10]\n",
      " [0.85 0.45 0.9  0.8  0.12 0.6 ]\n",
      "Number of instances of a value occuring in one array on the condition of another of another array: 2\n"
     ]
    }
   ],
   "source": [
    "array1 = np.array([10, -10, 10, -10, -10, 10])\n",
    "array2 = np.array([0.85, 0.45, 0.9,0.8,0.12,0.6])\n",
    "print(f\"Original Arrays-->\\n{array1}\\n {array2}\")\n",
    "\n",
    "print(\"Number of instances of a value occuring in one array on the condition of another of another array:\",\n",
    "       np.sum((array1 == -10) & (array2 > 0.2)) ) # does element-by-element comparision.\n",
    "                                                   # When both the conditions are true, it returns true."
   ]
  },
  {
   "cell_type": "markdown",
   "metadata": {},
   "source": [
    "**Q85.** Write the NumPy program to convert a Python dictionary to a Numpy ndarray ? <br>\n",
    "Original dictionary- <br>\n",
    "{'column0': {'a': 1, 'b': 0.0, 'c': 0.0, 'd': 2.0}, <br>\n",
    "'column1': {'a': 3.0, 'b': 1, 'c': 0.0, 'd': -1.0}, <br>\n",
    "'column2': {'a': 4, 'b': 1, 'c': 5.0, 'd': -1.0}, <br>\n",
    "'column3': {'a': 3.0, 'b': -1.0, 'c': -1.0, 'd': -1.0}} <br>\n",
    "Type: <class 'dict'> <br>\n",
    "ndarray- <br>\n",
    "[[ 1. 0. 0. 2.] <br>\n",
    "[ 3. 1. 0. -1.] <br>\n",
    "[ 4. 1. 5. -1.] <br>\n",
    "[ 3. -1. -1. -1.]] <br>\n",
    "Type: <class 'numpy.ndarray'>"
   ]
  },
  {
   "cell_type": "code",
   "execution_count": 58,
   "metadata": {},
   "outputs": [
    {
     "name": "stdout",
     "output_type": "stream",
     "text": [
      "Original Dictionary\n",
      " {'column0': {'a': 1, 'b': 0.0, 'c': 0.0, 'd': 2.0}, 'column1': {'a': 3.0, 'b': 1, 'c': 0.0, 'd': -1.0}, 'column2': {'a': 4, 'b': 1, 'c': 5.0, 'd': -1.0}, 'column3': {'a': 3.0, 'b': -1.0, 'c': -1.0, 'd': -1.0}}\n",
      "[['column0' {'a': 1, 'b': 0.0, 'c': 0.0, 'd': 2.0}]\n",
      " ['column1' {'a': 3.0, 'b': 1, 'c': 0.0, 'd': -1.0}]\n",
      " ['column2' {'a': 4, 'b': 1, 'c': 5.0, 'd': -1.0}]\n",
      " ['column3' {'a': 3.0, 'b': -1.0, 'c': -1.0, 'd': -1.0}]]\n"
     ]
    }
   ],
   "source": [
    "origDict = {'column0': {'a': 1, 'b': 0.0, 'c': 0.0, 'd': 2.0},\n",
    "            'column1': {'a': 3.0, 'b': 1, 'c': 0.0, 'd': -1.0},\n",
    "            'column2': {'a': 4, 'b': 1, 'c': 5.0, 'd': -1.0},\n",
    "            'column3': {'a': 3.0, 'b': -1.0, 'c': -1.0, 'd': -1.0}}\n",
    "print(\"Original Dictionary\\n\",origDict)\n",
    "\n",
    "# print(\"ndarray\",np.array(tuple(origDict.keys())))\n",
    "\n",
    "data = list(origDict.items())\n",
    "an_array = np.array(data)\n",
    "print(an_array)"
   ]
  },
  {
   "cell_type": "markdown",
   "metadata": {},
   "source": [
    "0**Q86.** Write the Numpy program to find and store the non-zero unique rows in an array after comparing each row with other row in the given matrix? <br>\n",
    "Original array- <br>\n",
    "[[ 1 1 0] <br>\n",
    "[ 0 0 0] <br>\n",
    "[ 0 2 3] <br>\n",
    "[ 0 0 0] <br>\n",
    "[ 0 -1 1] <br>\n",
    "[ 0 0 0]] <br>\n",
    "Non-zero unique rows- <br>\n",
    "[[ 1 1 0] <br>\n",
    "[ 0 2 3] <br>\n",
    "[ 0 -1 1]]"
   ]
  },
  {
   "cell_type": "code",
   "execution_count": 65,
   "metadata": {},
   "outputs": [
    {
     "name": "stdout",
     "output_type": "stream",
     "text": [
      "[[ 1  1  0]\n",
      " [ 0  0  0]\n",
      " [ 0  2  3]\n",
      " [ 0  0  0]\n",
      " [ 0 -1  1]\n",
      " [ 0  0  0]]\n",
      "\n",
      "Non-zero unique rows\n",
      "[[ 1  1  0]\n",
      " [ 0  2  3]\n",
      " [ 0 -1  1]]\n"
     ]
    }
   ],
   "source": [
    "origArray = np.array([[1, 1, 0],[0, 0, 0],[0, 2, 3],[0, 0, 0], [0, -1, 1],[0, 0, 0]])\n",
    "print(origArray)\n",
    "\n",
    "print(\"\\nNon-zero unique rows\")\n",
    "# print(origArray[np.nonzero(origArray)])\n",
    "\n",
    "# print(origArray[np.all(origArray == 0, axis = 1)])\n",
    "print(origArray[~np.all(origArray == 0, axis = 1)])\n"
   ]
  },
  {
   "cell_type": "markdown",
   "metadata": {},
   "source": [
    "**Q87.** Write the NumPy program to multiply the matrix by another matrix of complex numbers and create a new matrix of complex numbers? <br>\n",
    "Sample output: First array- <br>\n",
    "[ 1.+2.j 3.+4.j] <br>\n",
    "Second array- <br>\n",
    "[ 5.+6.j 7.+8.j] <br>\n",
    "Product of above two arrays- <br>\n",
    "(70-8j)"
   ]
  },
  {
   "cell_type": "code",
   "execution_count": 66,
   "metadata": {},
   "outputs": [
    {
     "name": "stdout",
     "output_type": "stream",
     "text": [
      "First Array--> [1.+2.j 3.+4.j]\n",
      "Second Array--> [5.+6.j 7.+8.j]\n",
      "Product of above two arrays--> (70-8j)\n"
     ]
    }
   ],
   "source": [
    "firstArray = np.array([1+2j, 3+4j])\n",
    "secondArray = np.array([5+6j, 7+8j])\n",
    "print(\"First Array-->\",firstArray)\n",
    "print(\"Second Array-->\",secondArray)\n",
    "\n",
    "print(\"Product of above two arrays-->\",np.vdot(firstArray,secondArray))"
   ]
  },
  {
   "cell_type": "markdown",
   "metadata": {},
   "source": [
    "**Q88.** Write a NumPy program to generate the matrix product of two Arrays? <br>\n",
    "**Sample Output:** Matrices and vectors. <br>\n",
    "x- <br>\n",
    "[[1, 0], [1, 1]] <br>\n",
    "y- <br>\n",
    "[[3, 1], [2, 2]] <br>\n",
    "Matrix product of above two arrays <br>\n",
    "[[3 1] <br>\n",
    "[5 3]]"
   ]
  },
  {
   "cell_type": "code",
   "execution_count": 67,
   "metadata": {},
   "outputs": [
    {
     "name": "stdout",
     "output_type": "stream",
     "text": [
      "x-->\n",
      " [[1 0]\n",
      " [1 1]]\n",
      "y-->\n",
      " [[3 1]\n",
      " [2 2]]\n",
      "\n",
      "Matrix product of above two arrays\n",
      "[[3 1]\n",
      " [5 3]]\n"
     ]
    }
   ],
   "source": [
    "x = np.mat('1,0;,1,1')\n",
    "print(\"x-->\\n\", x)\n",
    "\n",
    "y = np.mat('3,1;2,2')\n",
    "print(\"y-->\\n\",y)\n",
    "\n",
    "print(\"\\nMatrix product of above two arrays\")\n",
    "\n",
    "print(np.dot(x,y))"
   ]
  },
  {
   "cell_type": "markdown",
   "metadata": {},
   "source": [
    "**Q89.** Write the NumPy program to find roots of the following Polynomials? <br>\n",
    "a) (x2 - 4x + 7) <br>\n",
    "b) x4 - 11x3 + 9x2 + 11x+10 <br>\n",
    "**Sample output:** Roots of the first polynomial- <br>\n",
    "[ 1. 1.] <br>\n",
    "Roots of the second polynomial- <br>\n",
    "[ 11.04461946+0.j -0.87114210+0.j 0.91326132+0.4531004j 0.91326132-0.4531004j ]"
   ]
  },
  {
   "cell_type": "code",
   "execution_count": 68,
   "metadata": {},
   "outputs": [
    {
     "name": "stdout",
     "output_type": "stream",
     "text": [
      "the roots of the First polynomials x2-4x+7 is [2.+1.73205081j 2.-1.73205081j]\n",
      "the roots of the second polynomials x4-11x3+9x2+11x+10 is [ 9.97739366+0.j          1.9206355 +0.j         -0.44901458+0.56588568j\n",
      " -0.44901458-0.56588568j]\n"
     ]
    }
   ],
   "source": [
    "coeff1 = [1,-4,7]\n",
    "print(\"the roots of the First polynomials x2-4x+7 is\",np.roots(coeff1))\n",
    "\n",
    "coeff2 = [1,-11, 9,11,10]\n",
    "print(\"the roots of the second polynomials x4-11x3+9x2+11x+10 is\",np.roots(coeff2))\n"
   ]
  },
  {
   "cell_type": "markdown",
   "metadata": {},
   "source": [
    "**Q90.** Write the NumPy program to calculate inverse of sine, cosine, and inverse tangent for all elements in a given array? <br>\n",
    "**Sample output:** Inverse sine- [-1.57079633 0. 1.57079633] <br>\n",
    "Inverse cosine- [3.14159265 1.57079633 0. ] <br>\n",
    "Inverse tangent- [-0.78539816 0. 0.78539816]"
   ]
  },
  {
   "cell_type": "code",
   "execution_count": 69,
   "metadata": {},
   "outputs": [
    {
     "name": "stdout",
     "output_type": "stream",
     "text": [
      "Inverse Sine [-1.57079633  1.57079633]\n",
      "Inverse CoSine [3.14159265 0.        ]\n",
      "Inverse tangent [-0.78539816  0.78539816]\n"
     ]
    }
   ],
   "source": [
    "sampleArray = np.array([-1, 1])\n",
    "\n",
    "print(\"Inverse Sine\", np.arcsin(sampleArray))\n",
    "\n",
    "print(\"Inverse CoSine\", np.arccos(sampleArray))\n",
    "\n",
    "print(\"Inverse tangent\", np.arctan(sampleArray))\n"
   ]
  },
  {
   "cell_type": "markdown",
   "metadata": {},
   "source": [
    "**Q91.** Write the NumPy program to calculate the difference between in neighbouring elements, element-wise of a given array? <br>\n",
    "**Sample output:** Original array- <br>\n",
    "[1 3 5 7 0] <br>\n",
    "Difference between neighbouring elements, element-wise of the said array- <br>\n",
    "[ 2 2 2 -7]"
   ]
  },
  {
   "cell_type": "code",
   "execution_count": 70,
   "metadata": {},
   "outputs": [
    {
     "name": "stdout",
     "output_type": "stream",
     "text": [
      "original Array--> [1 3 5 7 0]\n",
      "Diffrence between neighbouring elements, element-wise of the said array-->\n"
     ]
    },
    {
     "data": {
      "text/plain": [
       "array([ 2,  2,  2, -7])"
      ]
     },
     "execution_count": 70,
     "metadata": {},
     "output_type": "execute_result"
    }
   ],
   "source": [
    "originalArray = np.array([1,3,5,7,0])\n",
    "print(\"original Array-->\", originalArray)\n",
    "\n",
    "print(\"Diffrence between neighbouring elements, element-wise of the said array-->\")\n",
    "\n",
    "np.diff(originalArray)\n",
    "\n"
   ]
  },
  {
   "cell_type": "markdown",
   "metadata": {},
   "source": [
    "**Q92.** Write the Python program to find the maximum and the minimum value of a given flattened array? <br>\n",
    "Expected Output: Original flattened array- <br>\n",
    "[[0 1] <br>\n",
    "[2 3]] <br>\n",
    "Maximum value of the above flattened array- 3 <br>\n",
    "Minimum value of the above flattened array- 0"
   ]
  },
  {
   "cell_type": "code",
   "execution_count": 71,
   "metadata": {},
   "outputs": [
    {
     "name": "stdout",
     "output_type": "stream",
     "text": [
      "Original Flattened Array\n",
      " [[0 1]\n",
      " [2 3]]\n",
      "Maximum value of the above flattened array--> 3\n",
      "Minimum value of the above flattened array--> 0\n"
     ]
    }
   ],
   "source": [
    "origArray = np.array([[0,1],[2,3]])\n",
    "print(\"Original Flattened Array\\n\", origArray)\n",
    "\n",
    "print(\"Maximum value of the above flattened array-->\", np.max(origArray))\n",
    "print(\"Minimum value of the above flattened array-->\", np.min(origArray))\n"
   ]
  },
  {
   "cell_type": "markdown",
   "metadata": {},
   "source": [
    "**Q93.** Write the NumPy program to calculate the difference between in the maximum and the minimum values of a given array along the second axis ? <br>\n",
    "**Expected Output:** Original array- <br>\n",
    "[[ 0 1 2 3 4 5] <br>\n",
    "[ 6 7 8 9 10 11]] <br>\n",
    "Difference between the maximum and the minimum values of the said array- [5 5]"
   ]
  },
  {
   "cell_type": "code",
   "execution_count": 72,
   "metadata": {},
   "outputs": [
    {
     "data": {
      "text/plain": [
       "3"
      ]
     },
     "execution_count": 72,
     "metadata": {},
     "output_type": "execute_result"
    }
   ],
   "source": [
    "np.max(origArray,)"
   ]
  },
  {
   "cell_type": "code",
   "execution_count": 73,
   "metadata": {},
   "outputs": [
    {
     "name": "stdout",
     "output_type": "stream",
     "text": [
      "original Array-->\n",
      " [[ 0  1  2  3  4  5]\n",
      " [ 6  7  8  9 10 11]]\n",
      "\n",
      "Difference between the maximum and the minimum values of the said array: [5 5]\n"
     ]
    }
   ],
   "source": [
    "origArray = np.array([[0,1,2,3,4,5],[6,7,8,9,10,11]])\n",
    "print(\"original Array-->\\n\", origArray)\n",
    "\n",
    "print(\"\\nDifference between the maximum and the minimum values of the said array:\",np.max(origArray,axis=1)-np.min(origArray,axis=1))"
   ]
  },
  {
   "cell_type": "markdown",
   "metadata": {},
   "source": [
    "**Q94.** Write the NumPy program to compute the weighted of the given array ? <br>\n",
    "**Sample Output:** Original array- [0 1 2 3 4]  <br>\n",
    "Weighted average of the said array- 2.6666666666666665"
   ]
  },
  {
   "cell_type": "code",
   "execution_count": 74,
   "metadata": {},
   "outputs": [
    {
     "name": "stdout",
     "output_type": "stream",
     "text": [
      "origArray [0 1 2 3 4]\n",
      "Weighted Average of the said Array- 1.5\n"
     ]
    }
   ],
   "source": [
    "import numpy as np\n",
    "origArray = np.array([0,1,2,3,4])\n",
    "print(\"origArray\", origArray)\n",
    "\n",
    "print(\"Weighted Average of the said Array-\",np.average(origArray, weights = [1./5, 2./5, 1./5, 1./10, 1./10]))\n",
    "\n"
   ]
  },
  {
   "cell_type": "markdown",
   "metadata": {},
   "source": [
    "**Q95.** Write the NumPy program to compute the mean, standard deviation, and the variance of a given array along the second axis? <br>\n",
    "**Sample output:** Original array-<br>\n",
    "[0 1 2 3 4 5] <br>\n",
    "Mean- 2.5 <br> \n",
    "std- 1<br>\n",
    "variance- 2.9166666666666665"
   ]
  },
  {
   "cell_type": "code",
   "execution_count": 75,
   "metadata": {},
   "outputs": [
    {
     "name": "stdout",
     "output_type": "stream",
     "text": [
      "mean 2.5\n",
      "Standard Deviation 1.707825127659933\n",
      "Variance 2.9166666666666665\n"
     ]
    }
   ],
   "source": [
    "origArray = np.array([0,1,2,3,4,5])\n",
    "print(\"mean\", np.mean(origArray))\n",
    "print(\"Standard Deviation\",np.std(origArray))\n",
    "print(\"Variance\",np.var(origArray))\n"
   ]
  },
  {
   "cell_type": "markdown",
   "metadata": {},
   "source": [
    "**Q96.** Write the Numpy program to compute the covariance matrix of the two given arrays? <br>\n",
    "**Sample Output:** Original array1- <br>\n",
    "[0 1 2] <br>\n",
    "Original array1- <br>\n",
    "[2 1 0] <br>\n",
    "Covariance matrix of the said arrays- <br>\n",
    "[[ 1. -1.] <br>\n",
    "[-1. 1.]]"
   ]
  },
  {
   "cell_type": "code",
   "execution_count": 76,
   "metadata": {},
   "outputs": [
    {
     "name": "stdout",
     "output_type": "stream",
     "text": [
      "Original Array1-->\n",
      " [0 1 2]\n",
      "Original Array2-->\n",
      " [2 1 0]\n",
      "\n",
      "Covariance matrix of the said arrays-\n",
      "[[ 1. -1.]\n",
      " [-1.  1.]]\n"
     ]
    }
   ],
   "source": [
    "origArray1 = np.array([0,1,2])\n",
    "origArray2 = np.array([2,1,0])\n",
    "print(\"Original Array1-->\\n\",origArray1)\n",
    "print(\"Original Array2-->\\n\",origArray2)\n",
    "\n",
    "print(\"\\nCovariance matrix of the said arrays-\")\n",
    "print(np.cov(origArray1,origArray2))\n"
   ]
  },
  {
   "cell_type": "markdown",
   "metadata": {},
   "source": [
    "**Q97.** Write a NumPy program to compute the cross-correlation of two given arrays ? <br>\n",
    "**Sample Output:** Original array1 <br>\n",
    "[0 1 3] <br>\n",
    "Original array1- <br>\n",
    "[2 4 5] <br>\n",
    "Cross-correlation of the said arrays- <br>\n",
    "[ [ 2.33333333 2.16666667 ] <br>\n",
    "[ 2.16666667 2.33333333 ] ]"
   ]
  },
  {
   "cell_type": "code",
   "execution_count": 77,
   "metadata": {},
   "outputs": [
    {
     "name": "stdout",
     "output_type": "stream",
     "text": [
      "Original Array 1- [0 1 3]\n",
      "Original Array 2- [2 4 5]\n",
      "\n",
      "Cross-correlation of the said arrays-\n",
      "[[2.33333333 2.16666667]\n",
      " [2.16666667 2.33333333]]\n"
     ]
    }
   ],
   "source": [
    "origArray1 = np.array([0,1,3])\n",
    "origArray2 = np.array([2,4,5])\n",
    "print(\"Original Array 1-\",origArray1)\n",
    "print(\"Original Array 2-\",origArray2)\n",
    "\n",
    "print(\"\\nCross-correlation of the said arrays-\")\n",
    "print(np.cov(origArray1,origArray2))"
   ]
  },
  {
   "cell_type": "markdown",
   "metadata": {},
   "source": [
    "**Q98.** Write the NumPy program to compute Pearson product-moment correlation coefficients of two given arrays? <br>\n",
    "**Sample Output:** Original array1- <br>\n",
    "[0 1 3] <br>\n",
    "Original array1- <br>\n",
    "[2 4 5] <br>\n",
    "Pearson product-moment correlation coefficients of the said arrays- <br>\n",
    "[[1. 0.92857143] <br>\n",
    "[0.92857143 1. ]]"
   ]
  },
  {
   "cell_type": "code",
   "execution_count": 78,
   "metadata": {},
   "outputs": [
    {
     "name": "stdout",
     "output_type": "stream",
     "text": [
      "Original Array 1- [0 1 3]\n",
      "Original Array 2- [2 4 5]\n",
      "Pearson product-moment correlation coefficients of the said arrays-\n",
      "[[1.         0.92857143]\n",
      " [0.92857143 1.        ]]\n"
     ]
    }
   ],
   "source": [
    "origArray1 = np.array([0,1,3])\n",
    "origArray2 = np.array([2,4,5])\n",
    "print(\"Original Array 1-\",origArray1)\n",
    "print(\"Original Array 2-\",origArray2)\n",
    "\n",
    "print(\"Pearson product-moment correlation coefficients of the said arrays-\")\n",
    "print(np.corrcoef(origArray1,origArray2))\n"
   ]
  },
  {
   "cell_type": "markdown",
   "metadata": {},
   "source": [
    "**Q99.** Write the python program to count the number of occurrences of each value in a given array of non-negative integers? <br>\n",
    "**Note:** bincount() Function- It count the occurrence of each value in an array of the non- negative integers in the range of the array between the minimum and maximum values including the values that did not occur. <br>\n",
    "Sample Output: Original array- <br>\n",
    "[0, 1, 6, 1, 4, 1, 2, 2, 7] <br>\n",
    "Number of occurrences of each value in array- [1 3 2 0 1 0 1 1]"
   ]
  },
  {
   "cell_type": "markdown",
   "metadata": {},
   "source": [
    "bincount returns the size of each 'bin' for each value from 0 to the largest value in the array it is called on.\n",
    "\n",
    "e.g.\n",
    "### np.bincount(np.array([0,1,2,3,4]))\n",
    "array([1, 1, 1, 1, 1])\n",
    "Above it returns five 1's, since there is one of each value from the smallest value: 0 to the largest value: 4.\n",
    "\n",
    "### np.bincount(np.array([0, 1, 1, 1, 2, 3, 7]))\n",
    "array([1, 3, 1, 1, 0, 0, 0, 1])\n",
    "Above it returns the amount of 0's, 1's, 2's, 3's, 4's (0), 5's (0), 6's (0) and 7's."
   ]
  },
  {
   "cell_type": "code",
   "execution_count": 79,
   "metadata": {},
   "outputs": [
    {
     "name": "stdout",
     "output_type": "stream",
     "text": [
      "Original Array [0 1 6 1 4 1 2 2 7]\n",
      "Number of occurrences of each value in array- [1 3 2 0 1 0 1 1]\n"
     ]
    }
   ],
   "source": [
    "origArray = np.array([0, 1, 6, 1, 4, 1, 2, 2, 7])\n",
    "print(\"Original Array\",origArray)\n",
    "\n",
    "print(\"Number of occurrences of each value in array-\", np.bincount(origArray))"
   ]
  },
  {
   "cell_type": "markdown",
   "metadata": {},
   "source": [
    "**Q100.** Write a Numpy program to compute the histogram of nums against the bins? <br>\n",
    "**Sample Output:** nums- [0.5 0.7 1. 1.2 1.3 2.1]<br>\n",
    "bins- [0 1 2 3] <br>\n",
    "Result- (array([2, 3, 1], dtype=int64), array([0, 1, 2, 3]))"
   ]
  },
  {
   "cell_type": "markdown",
   "metadata": {},
   "source": [
    "All but the last (righthand-most) bin is half-open. In other words, if bins is:\n",
    "\n",
    "[1, 2, 3, 4]\n",
    "then the first bin is [1, 2) (including 1, but excluding 2) and the second [2, 3). The last bin, however, is [3, 4], which includes 4."
   ]
  },
  {
   "cell_type": "code",
   "execution_count": 80,
   "metadata": {},
   "outputs": [
    {
     "data": {
      "text/plain": [
       "(array([2, 3, 1]), array([0, 1, 2, 3]))"
      ]
     },
     "execution_count": 80,
     "metadata": {},
     "output_type": "execute_result"
    }
   ],
   "source": [
    "nums = np.array([0.5, 0.7, 1., 1.2, 1.3, 2.1])\n",
    "bins = [0,1,2,3]\n",
    "np.histogram(nums, bins)"
   ]
  },
  {
   "cell_type": "markdown",
   "metadata": {},
   "source": [
    "**Q101.** Write the Python program to add, subtract, multiply and divide two pandas series ? <br>\n",
    "**Sample Series-** [2, 4, 6, 8, 10], [1, 3, 5, 7, 9]"
   ]
  },
  {
   "cell_type": "code",
   "execution_count": 84,
   "metadata": {},
   "outputs": [
    {
     "name": "stdout",
     "output_type": "stream",
     "text": [
      "2 4 6 8 10\n",
      "1 3 5 7 9\n",
      "Series Addition\n",
      " a     3\n",
      "b     7\n",
      "c    11\n",
      "d    15\n",
      "e    19\n",
      "dtype: int64\n",
      "Series Subtraction\n",
      " a    1\n",
      "b    1\n",
      "c    1\n",
      "d    1\n",
      "e    1\n",
      "dtype: int64\n",
      "Series Multiplication\n",
      " a     2\n",
      "b    12\n",
      "c    30\n",
      "d    56\n",
      "e    90\n",
      "dtype: int64\n",
      "Series Divide\n",
      " a    2.000000\n",
      "b    1.333333\n",
      "c    1.200000\n",
      "d    1.142857\n",
      "e    1.111111\n",
      "dtype: float64\n"
     ]
    }
   ],
   "source": [
    "import pandas as pd\n",
    "ser1 = list(map(int, input().split()))\n",
    "a = pd.Series(ser1, index=['a', 'b', 'c', 'd','e'])\n",
    "ser2 = list(map(int, input().split()))\n",
    "b = pd.Series(ser2, index=['a', 'b', 'c', 'd','e'])\n",
    "\n",
    "# Add Series\n",
    "print(\"Series Addition\\n\",a.add(b))\n",
    "\n",
    "# Subtract Series\n",
    "print(\"Series Subtraction\\n\", a.subtract(b))\n",
    "\n",
    "# Multiply Series\n",
    "print(\"Series Multiplication\\n\",a.multiply(b))\n",
    "\n",
    "# Divide Series\n",
    "print(\"Series Divide\\n\",a.divide(b))"
   ]
  },
  {
   "cell_type": "markdown",
   "metadata": {},
   "source": [
    "**Q102.** Write a Python program to convert a dictionary to the Pandas Series? <br>\n",
    "Sample Series: Original dictionary- {'a': 100, 'b': 200, 'c': 300, 'd': 400, 'e': 800}<br>\n",
    "Converted series - <br>\n",
    "a 100 <br>\n",
    "b 200 <br>\n",
    "c 300 <br>\n",
    "d 400 <br>\n",
    "e 800 <br>\n",
    "dtype- int64"
   ]
  },
  {
   "cell_type": "code",
   "execution_count": 85,
   "metadata": {},
   "outputs": [
    {
     "name": "stdout",
     "output_type": "stream",
     "text": [
      "Original dictionary--> {'a': 100, 'b': 200, 'c': 300, 'd': 400, 'e': 800}\n",
      "\n",
      "Converted Series-->\n",
      " a    100\n",
      "b    200\n",
      "c    300\n",
      "d    400\n",
      "e    800\n",
      "dtype: int64\n"
     ]
    }
   ],
   "source": [
    "import pandas as pd\n",
    "orig_dict = {'a': 100, 'b': 200, 'c': 300, 'd': 400, 'e': 800}\n",
    "print(\"Original dictionary-->\",orig_dict)\n",
    "df = pd.Series(orig_dict)\n",
    "print(\"\\nConverted Series-->\\n\",df)"
   ]
  },
  {
   "cell_type": "markdown",
   "metadata": {},
   "source": [
    "**Q103.** Write a python program to change the data type of given column or Series? <br>\n",
    "**Sample Series:** Original Data Series- <br>\n",
    "0 100 <br>\n",
    "1 200 <br>\n",
    "2 python <br>\n",
    "3 300.12 <br>\n",
    "4 400 <br> \n",
    "dtype- object <br>\n",
    "Change the said data type to numeric- <br>\n",
    "0 100.00 <br>\n",
    "1 200.00<br>\n",
    "2 NaN<br>\n",
    "3 300.12<br>\n",
    "4 400.00<br>\n",
    "dtype- float64"
   ]
  },
  {
   "cell_type": "code",
   "execution_count": 86,
   "metadata": {},
   "outputs": [
    {
     "name": "stdout",
     "output_type": "stream",
     "text": [
      "   a       b\n",
      "0  0     100\n",
      "1  1     200\n",
      "2  2  python\n",
      "3  3  300.12\n",
      "4  4     400\n"
     ]
    },
    {
     "data": {
      "text/plain": [
       "0    100.00\n",
       "1    200.00\n",
       "2       NaN\n",
       "3    300.12\n",
       "4    400.00\n",
       "Name: b, dtype: float64"
      ]
     },
     "execution_count": 86,
     "metadata": {},
     "output_type": "execute_result"
    }
   ],
   "source": [
    "import numpy as np\n",
    "data = np.array([[0,100],\n",
    "                [1,200],\n",
    "                [2,'python'],\n",
    "                [3, 300.12],\n",
    "                [4, 400]])\n",
    "orig_df = pd.DataFrame(data, columns=['a','b'], index=None)\n",
    "print(orig_df)\n",
    "pd.to_numeric(orig_df[\"b\"],errors='coerce')"
   ]
  },
  {
   "cell_type": "markdown",
   "metadata": {},
   "source": [
    "**Q104.** Write the python pandas program to convert the first column of a DataFrame as a Series? <br>\n",
    "**Sample Output:** Original DataFrame <br>\n",
    "col1 col2 col3<br>\n",
    "0 1 4 7<br>\n",
    "1 2 5 5<br>\n",
    "2 3 6 8<br>\n",
    "3 4 9 12<br>\n",
    "4 7 5 1<br>\n",
    "5 11 0 11<br>\n",
    "1st column as a Series- <br>\n",
    "0 1<br>\n",
    "1 2<br>\n",
    "2 3<br>\n",
    "3 4<br>\n",
    "4 7<br>\n",
    "5 11<br>\n",
    "Name- col1, dtype- int64 <br>\n",
    "<class 'pandas.core.series.Series'>"
   ]
  },
  {
   "cell_type": "code",
   "execution_count": 87,
   "metadata": {},
   "outputs": [
    {
     "name": "stdout",
     "output_type": "stream",
     "text": [
      "   col1  col2  col3\n",
      "0     1     4     7\n",
      "1     2     5     5\n",
      "2     3     6     8\n",
      "3     4     9    12\n",
      "4     7     5     1\n",
      "5    11     0    11\n",
      "First Column as Series:\n"
     ]
    },
    {
     "data": {
      "text/plain": [
       "0     1\n",
       "1     2\n",
       "2     3\n",
       "3     4\n",
       "4     7\n",
       "5    11\n",
       "Name: col1, dtype: int64"
      ]
     },
     "execution_count": 87,
     "metadata": {},
     "output_type": "execute_result"
    }
   ],
   "source": [
    "data = np.array([[1,4,7],\n",
    "                [2,5,5],\n",
    "                [3,6,8],\n",
    "                [4, 9, 12],\n",
    "                [7,5,1],\n",
    "                [11,0,11]])\n",
    "orig_df = pd.DataFrame(data, columns=['col1','col2','col3'], index=None)\n",
    "print(orig_df)\n",
    "print('First Column as Series:')\n",
    "pd.Series(orig_df[\"col1\"])"
   ]
  },
  {
   "cell_type": "markdown",
   "metadata": {},
   "source": [
    "**Q105.** Write a pandas program to create the mean and standard deviation of the data of a given Series? <br>\n",
    "Sample Output : Original Data Series- <br>\n",
    "0 1 <br>\n",
    "1 2 <br>\n",
    "2 3 <br>\n",
    "3 4<br>\n",
    "4 5<br>\n",
    "5 6<br>\n",
    "6 7<br>\n",
    "7 8<br>\n",
    "8 9<br>\n",
    "9 5<br>\n",
    "10 3<br>\n",
    "dtype- int64 <br>\n",
    "Mean of the said Data Series- 4.81818181818 <br>\n",
    "Standard deviation of the said Data Series- 2.52262489555"
   ]
  },
  {
   "cell_type": "code",
   "execution_count": 88,
   "metadata": {},
   "outputs": [
    {
     "name": "stdout",
     "output_type": "stream",
     "text": [
      "Original Data Series-->\n",
      "0     1\n",
      "1     2\n",
      "2     3\n",
      "3     4\n",
      "4     5\n",
      "5     6\n",
      "6     7\n",
      "7     8\n",
      "8     9\n",
      "9     5\n",
      "10    3\n",
      "dtype: int64\n",
      "Mean of the said Data Series - 4.818181818181818\n",
      "\n",
      "standard deviation of the said Data Series - 2.522624895547565\n"
     ]
    }
   ],
   "source": [
    "print(\"Original Data Series-->\")\n",
    "data = np.array([1,2,3,4,5,6,7,8,9,5,3])\n",
    "\n",
    "ser1 = pd.Series(data)\n",
    "print(ser1)\n",
    "\n",
    "# mean and std of the data series\n",
    "mean = ser1.mean()\n",
    "std = ser1.std()\n",
    "print(f\"Mean of the said Data Series - {mean}\")\n",
    "print(f\"\\nstandard deviation of the said Data Series - {std}\")\n"
   ]
  },
  {
   "cell_type": "markdown",
   "metadata": {},
   "source": [
    "**Q106.** Write a pandas program to get powers of an array values element-wise? <br>\n",
    "**Note:**  First array elements raised the powers from the second array.<br>\n",
    "Sample data: {'X ':[78,85,96,80,86], ' Y ':[84,94,89,83,86],'Z':[86,97,96,72,83]} <br>\n",
    "**Expected Output:** <br>\n",
    "X Y Z <br>\n",
    "0 78 84 86<br>\n",
    "1 85 94 97<br>\n",
    "2 96 89 96<br>\n",
    "3 80 83 72<br>\n",
    "4 86 86 83"
   ]
  },
  {
   "cell_type": "code",
   "execution_count": 89,
   "metadata": {},
   "outputs": [
    {
     "name": "stdout",
     "output_type": "stream",
     "text": [
      "   X    Y    Z\n",
      "0  78   84  86\n",
      "1  85   94  97\n",
      "2  96   89  96\n",
      "3  80   83  72\n",
      "4  86   86  83\n"
     ]
    }
   ],
   "source": [
    "sample_dict = {'X ':[78,85,96,80,86], ' Y ':[84,94,89,83,86],'Z':[86,97,96,72,83]}\n",
    "df = pd.DataFrame.from_dict(sample_dict)\n",
    "print(df)"
   ]
  },
  {
   "cell_type": "markdown",
   "metadata": {},
   "source": [
    "**Q107.** Write the pandas program to get the first 3 rows of a given DataFrame? <br>\n",
    "Sample Python dictionary data and list labels:  <br>\n",
    "exam_data = {'name': ['Anastasia', 'Dima', 'Katherine', 'James', 'Emily', 'Michael',\n",
    "'Matthew', 'Laura', 'Kevin', 'Jonas'], <br>\n",
    "'score': [12.5, 9, 16.5, np.nan, 9, 20, 14.5, np.nan, 8, 19], <br>\n",
    "'attempts'- [1, 3, 2, 3, 2, 3, 1, 1, 2, 1 <br>\n",
    "'qualify'- [ 'yes', 'no', 'yes' , 'no', ' no ', ' yes ', 'yes', 'no', 'no', 'yes' ] } <br>\n",
    "labels = ['a', 'b', 'c', 'd', 'e', 'f', 'g', 'h', 'i', 'j' ] <br>\n",
    "**Expected Output:** First three rows of the data frame attempts name qualify score <br>\n",
    "a 1 Anastasia yes 12.5 <br>\n",
    "b 3 Dima no 9.0 <br>\n",
    "c 2 Katherine yes 16.5 <br>"
   ]
  },
  {
   "cell_type": "code",
   "execution_count": 90,
   "metadata": {},
   "outputs": [
    {
     "data": {
      "text/html": [
       "<div>\n",
       "<style scoped>\n",
       "    .dataframe tbody tr th:only-of-type {\n",
       "        vertical-align: middle;\n",
       "    }\n",
       "\n",
       "    .dataframe tbody tr th {\n",
       "        vertical-align: top;\n",
       "    }\n",
       "\n",
       "    .dataframe thead th {\n",
       "        text-align: right;\n",
       "    }\n",
       "</style>\n",
       "<table border=\"1\" class=\"dataframe\">\n",
       "  <thead>\n",
       "    <tr style=\"text-align: right;\">\n",
       "      <th></th>\n",
       "      <th>attempts</th>\n",
       "      <th>name</th>\n",
       "      <th>qualify</th>\n",
       "      <th>score</th>\n",
       "    </tr>\n",
       "  </thead>\n",
       "  <tbody>\n",
       "    <tr>\n",
       "      <th>a</th>\n",
       "      <td>1</td>\n",
       "      <td>Anastasia</td>\n",
       "      <td>yes</td>\n",
       "      <td>12.5</td>\n",
       "    </tr>\n",
       "    <tr>\n",
       "      <th>b</th>\n",
       "      <td>3</td>\n",
       "      <td>Dima</td>\n",
       "      <td>no</td>\n",
       "      <td>9.0</td>\n",
       "    </tr>\n",
       "    <tr>\n",
       "      <th>c</th>\n",
       "      <td>2</td>\n",
       "      <td>Katherine</td>\n",
       "      <td>yes</td>\n",
       "      <td>16.5</td>\n",
       "    </tr>\n",
       "  </tbody>\n",
       "</table>\n",
       "</div>"
      ],
      "text/plain": [
       "   attempts       name qualify  score\n",
       "a         1  Anastasia     yes   12.5\n",
       "b         3       Dima      no    9.0\n",
       "c         2  Katherine     yes   16.5"
      ]
     },
     "execution_count": 90,
     "metadata": {},
     "output_type": "execute_result"
    }
   ],
   "source": [
    "exam_data = {'name':['Anastasia', 'Dima', 'Katherine', 'James', 'Emily', 'Michael', \n",
    "                      'Matthew', 'Laura', 'Kevin', 'Jonas'],\n",
    "             'score':[12.5, 9, 16.5, np.nan, 9, 20, 14.5, np.nan, 8, 19],\n",
    "             'attempts':[1, 3, 2, 3, 2, 3, 1, 1, 2, 1],\n",
    "              'qualify':['yes', 'no', 'yes' , 'no', 'no', ' yes ', 'yes', 'no', 'no','yes' ] }\n",
    "labels = ['a', 'b', 'c', 'd', 'e', 'f', 'g', 'h', 'i', 'j' ]\n",
    "exam_df = pd.DataFrame(exam_data, index=labels)\n",
    "exam_df[[\"attempts\",\"name\",\"qualify\",\"score\"]].head(3)"
   ]
  },
  {
   "cell_type": "markdown",
   "metadata": {},
   "source": [
    "**Q108:** Write the pandas program to select the specified columns and the rows from a given data frame? <br>\n",
    "Sample Python dictionary data and list labels:  <br>\n",
    "Select 'name' and 'score' columns in rows 1, 3, 5, 6 from the following data frame. <br>\n",
    "exam_data = {'name ': [ 'Anastasia', 'Dima', 'Katherine', 'James', 'Emily', 'Michael',\n",
    "'Matthew', 'Laura', 'Kevin', 'Jonas'], <br>\n",
    "'score'- [12.5, 9, 16.5, np.nan, 9, 20, 14.5, np.nan, 8, 19], <br>\n",
    "'attempts'- [1, 3, 2, 3, 2, 3, 1, 1, 2, 1], <br>\n",
    "'qualify'- ['yes', 'no', 'yes', 'no', 'no', 'yes', 'yes', 'no', 'no', 'yes'] } <br>\n",
    "labels = ['a ', ' b ', ' c ', ' d ', ' e ', ' f ', ' g ', 'h', 'i', 'j'] <br>\n",
    "**Expected Output:** <br>\n",
    "Select specific columns and rows:<br>\n",
    "  name score <br>\n",
    "b Dima 9.0 <br>\n",
    "d James NaN <br>\n",
    "f Michael 20.0 <br>\n",
    "g Matthew 14.5"
   ]
  },
  {
   "cell_type": "code",
   "execution_count": 91,
   "metadata": {},
   "outputs": [
    {
     "data": {
      "text/html": [
       "<div>\n",
       "<style scoped>\n",
       "    .dataframe tbody tr th:only-of-type {\n",
       "        vertical-align: middle;\n",
       "    }\n",
       "\n",
       "    .dataframe tbody tr th {\n",
       "        vertical-align: top;\n",
       "    }\n",
       "\n",
       "    .dataframe thead th {\n",
       "        text-align: right;\n",
       "    }\n",
       "</style>\n",
       "<table border=\"1\" class=\"dataframe\">\n",
       "  <thead>\n",
       "    <tr style=\"text-align: right;\">\n",
       "      <th></th>\n",
       "      <th>name</th>\n",
       "      <th>score</th>\n",
       "    </tr>\n",
       "  </thead>\n",
       "  <tbody>\n",
       "    <tr>\n",
       "      <th>b</th>\n",
       "      <td>Dima</td>\n",
       "      <td>9.0</td>\n",
       "    </tr>\n",
       "    <tr>\n",
       "      <th>d</th>\n",
       "      <td>James</td>\n",
       "      <td>NaN</td>\n",
       "    </tr>\n",
       "    <tr>\n",
       "      <th>f</th>\n",
       "      <td>Michael</td>\n",
       "      <td>20.0</td>\n",
       "    </tr>\n",
       "    <tr>\n",
       "      <th>g</th>\n",
       "      <td>Matthew</td>\n",
       "      <td>14.5</td>\n",
       "    </tr>\n",
       "  </tbody>\n",
       "</table>\n",
       "</div>"
      ],
      "text/plain": [
       "        name  score\n",
       " b      Dima    9.0\n",
       " d     James    NaN\n",
       " f   Michael   20.0\n",
       " g   Matthew   14.5"
      ]
     },
     "execution_count": 91,
     "metadata": {},
     "output_type": "execute_result"
    }
   ],
   "source": [
    "exam_data = {'name': [ 'Anastasia', 'Dima', 'Katherine', 'James', 'Emily', 'Michael', 'Matthew', 'Laura', 'Kevin', 'Jonas'],\n",
    "'score':[12.5, 9, 16.5, np.nan, 9, 20, 14.5, np.nan, 8, 19],\n",
    "'attempts': [1, 3, 2, 3, 2, 3, 1, 1, 2, 1],\n",
    "'qualify':['yes', 'no', 'yes', 'no', 'no', 'yes', 'yes', 'no', 'no', 'yes'] }\n",
    "labels = ['a ', ' b ', ' c ', ' d ', ' e ', ' f ', ' g ', 'h', 'i', 'j']\n",
    "\n",
    "exam_df = pd.DataFrame(exam_data, index=labels)\n",
    "\n",
    "exam_df[[\"name\",\"score\"]].iloc[[1,3,5,6]]"
   ]
  },
  {
   "cell_type": "markdown",
   "metadata": {},
   "source": [
    "**Q109.** Write the pandas program to calculate mean score for each different student in DataFrame? <br>\n",
    "Sample Python dictionary data and list labels: <br>\n",
    "exam_data = {'name': ['Anastasia', 'Dima', 'Katherine', 'James', 'Emily', 'Michael',\n",
    "'Matthew', 'Laura', 'Kevin', 'Jonas'], <br>\n",
    "'score': [12.5, 9, 16.5, np.nan, 9, 20, 14.5, np.nan, 8, 19], <br>\n",
    "'attempts'- [1, 3, 2, 3, 2, 3, 1, 1, 2, 1], <br>\n",
    "'qualify'- ['yes', 'no', ' yes ', ' no ', ' no ', ' yes ', ' yes ', ' no ', ' no ', ' yes '] } <br>\n",
    "labels = ['a', 'b', 'c', 'd', 'e', 'f', 'g', 'h', 'i', 'j'] <br>\n",
    "**Expected Output:**  <br>\n",
    "Mean score for each different student in data frame: <br>\n",
    "13.5625"
   ]
  },
  {
   "cell_type": "code",
   "execution_count": 92,
   "metadata": {},
   "outputs": [
    {
     "name": "stdout",
     "output_type": "stream",
     "text": [
      "Original DataFrame-->\n",
      "         name  score  attempts qualify\n",
      "a  Anastasia   12.5         1     yes\n",
      "b       Dima    9.0         3      no\n",
      "c  Katherine   16.5         2    yes \n",
      "d      James    NaN         3     no \n",
      "e      Emily    9.0         2     no \n",
      "f    Michael   20.0         3    yes \n",
      "g    Matthew   14.5         1    yes \n",
      "h      Laura    NaN         1     no \n",
      "i      Kevin    8.0         2     no \n",
      "j      Jonas   19.0         1    yes \n",
      "\n",
      "Mean Score for each diffrent student in data Frame--> 13.5625\n"
     ]
    }
   ],
   "source": [
    "exam_data = {'name':['Anastasia', 'Dima', 'Katherine', 'James', 'Emily', 'Michael', 'Matthew', 'Laura', 'Kevin', 'Jonas'],\n",
    "            'score':[12.5, 9, 16.5, np.nan, 9, 20, 14.5, np.nan, 8, 19],\n",
    "            'attempts':[1, 3, 2, 3, 2, 3, 1, 1, 2, 1],\n",
    "            'qualify':['yes', 'no', ' yes ', ' no ', ' no ', ' yes ', ' yes ', ' no ', ' no ', ' yes '] }\n",
    "labels = ['a', 'b', 'c', 'd', 'e', 'f', 'g', 'h', 'i', 'j']\n",
    "\n",
    "exam_DataFrame = pd.DataFrame(exam_data,index=labels)\n",
    "print(\"Original DataFrame-->\\n\",exam_DataFrame)\n",
    "scoreMean = exam_DataFrame[\"score\"].mean(skipna = True)\n",
    "print(\"\\nMean Score for each diffrent student in data Frame-->\", scoreMean)"
   ]
  },
  {
   "cell_type": "markdown",
   "metadata": {},
   "source": [
    "**Q110.** Write the Pandas program to rename columns of a given DataFrame ? <br>\n",
    "Sample data: Original data frame <br>\n",
    "col1 col2 col3 <br>\n",
    "0 1 4 7 <br>\n",
    "1 2 5 8 <br>\n",
    "2 3 6 9 <br>\n",
    "New data frame after renaming columns: <br>\n",
    "Column1 Column2 Column3 <br>\n",
    "0 1 4 7 <br>\n",
    "1 2 5 8 <br>\n",
    "2 3 6 9"
   ]
  },
  {
   "cell_type": "code",
   "execution_count": 93,
   "metadata": {},
   "outputs": [
    {
     "name": "stdout",
     "output_type": "stream",
     "text": [
      "Original Data Frame-->\n",
      "    col1  col2  col3\n",
      "0     1     4     7\n",
      "1     2     5     8\n",
      "2     3     6     9\n",
      "\n",
      "New Data Frame after renaming columns:\n",
      "   Column 1  Column 2  Column 3\n",
      "0         1         4         7\n",
      "1         2         5         8\n",
      "2         3         6         9\n"
     ]
    }
   ],
   "source": [
    "origData = np.array([[1,4,7],\n",
    "                         [2,5,8],\n",
    "                         [3,6,9]])\n",
    "origDataFrame = pd.DataFrame(origData,columns = ['col1','col2', 'col3'])\n",
    "print(\"Original Data Frame-->\\n\",origDataFrame)\n",
    "\n",
    "print(\"\\nNew Data Frame after renaming columns:\")\n",
    "print(origDataFrame.rename(columns={\"col1\":\"Column 1\",\"col2\":\"Column 2\",\"col3\":\"Column 3\"}))"
   ]
  },
  {
   "cell_type": "markdown",
   "metadata": {},
   "source": [
    "**Q111.** Write a pandas program to count city-wise number of people from a given of data set (city, name of the person)? <br>\n",
    "Sample Output: <br>\n",
    "city Number of people <br>\n",
    "0 California 4 <br>\n",
    "1 Georgia 2 <br>\n",
    "2 Los Angeles 4"
   ]
  },
  {
   "cell_type": "code",
   "execution_count": 95,
   "metadata": {},
   "outputs": [
    {
     "name": "stdout",
     "output_type": "stream",
     "text": [
      "          City Name of person\n",
      "0   California           Liam\n",
      "1      Georgia          Fiona\n",
      "2  Los Angeles           Ivor\n",
      "3      Georgia           Gary\n",
      "4   California          Fiona\n",
      "5      Georgia         Stevan\n",
      "6  Los Angeles         Shauna\n",
      "7   California          Harry\n",
      "8   California        Charlie\n",
      "9  Los Angeles      Tom Hanks\n"
     ]
    },
    {
     "data": {
      "text/html": [
       "<div>\n",
       "<style scoped>\n",
       "    .dataframe tbody tr th:only-of-type {\n",
       "        vertical-align: middle;\n",
       "    }\n",
       "\n",
       "    .dataframe tbody tr th {\n",
       "        vertical-align: top;\n",
       "    }\n",
       "\n",
       "    .dataframe thead th {\n",
       "        text-align: right;\n",
       "    }\n",
       "</style>\n",
       "<table border=\"1\" class=\"dataframe\">\n",
       "  <thead>\n",
       "    <tr style=\"text-align: right;\">\n",
       "      <th></th>\n",
       "      <th>Number_of_People</th>\n",
       "    </tr>\n",
       "    <tr>\n",
       "      <th>City</th>\n",
       "      <th></th>\n",
       "    </tr>\n",
       "  </thead>\n",
       "  <tbody>\n",
       "    <tr>\n",
       "      <th>California</th>\n",
       "      <td>4</td>\n",
       "    </tr>\n",
       "    <tr>\n",
       "      <th>Georgia</th>\n",
       "      <td>3</td>\n",
       "    </tr>\n",
       "    <tr>\n",
       "      <th>Los Angeles</th>\n",
       "      <td>3</td>\n",
       "    </tr>\n",
       "  </tbody>\n",
       "</table>\n",
       "</div>"
      ],
      "text/plain": [
       "             Number_of_People\n",
       "City                         \n",
       "California                  4\n",
       "Georgia                     3\n",
       "Los Angeles                 3"
      ]
     },
     "execution_count": 95,
     "metadata": {},
     "output_type": "execute_result"
    }
   ],
   "source": [
    "sampleArray = np.array([[\"California\",\"Liam\"],\n",
    "                       [\"Georgia\", \"Fiona\"],\n",
    "                        [\"Los Angeles\",\"Ivor\"],\n",
    "                        [\"Georgia\",\"Gary\"],\n",
    "                        [\"California\",\"Fiona\"],\n",
    "                        [\"Georgia\",\"Stevan\"],\n",
    "                        [\"Los Angeles\",\"Shauna\"],\n",
    "                        [\"California\", \"Harry\"],\n",
    "                        [\"California\",\"Charlie\"],\n",
    "                        [\"Los Angeles\", \"Tom Hanks\"]])\n",
    "sampleData = pd.DataFrame(sampleArray, columns = [\"City\", \"Name of person\"])     \n",
    "                                             \n",
    "print(sampleData)\n",
    "\n",
    "# Count city-wise number of people from a given data set\n",
    "sampleData.groupby([\"City\"]).agg(Number_of_People=('City','count'))\n",
    "\n"
   ]
  },
  {
   "cell_type": "markdown",
   "metadata": {},
   "source": [
    "**Q112.** Write a pandas program to widen output display to see more columns? <br>\n",
    "Sample data: Original data frame <br>\n",
    "col1 col2 col3 <br>\n",
    "0 1 4 7 <br>\n",
    "1 4 5 8 <br>\n",
    "2 3 6 9 <br>\n",
    "3 4 7 0 <br>\n",
    "4 5 8 1"
   ]
  },
  {
   "cell_type": "code",
   "execution_count": 96,
   "metadata": {},
   "outputs": [
    {
     "name": "stdout",
     "output_type": "stream",
     "text": [
      "   col1  col2  col3\n",
      "0     1     4     7\n",
      "1     4     5     8\n",
      "2     3     6     9\n",
      "3     4     7     0\n",
      "4     5     8     1\n"
     ]
    }
   ],
   "source": [
    "import pandas as pd\n",
    "pd.set_option('display.max_rows', 500)\n",
    "pd.set_option('display.max_columns', 500)\n",
    "pd.set_option('display.width', 1000)\n",
    "# pd.set_option('display.expand_frame_repr', False)\n",
    "origArray = np.array([[1,4,7],\n",
    "                     [4,5,8],\n",
    "                     [3,6,9],\n",
    "                     [4,7,0],\n",
    "                     [5,8,1]])\n",
    "origDataFrame = pd.DataFrame(origArray, columns = ['col1','col2','col3'])\n",
    "print(origDataFrame)"
   ]
  },
  {
   "cell_type": "markdown",
   "metadata": {},
   "source": [
    "**Q113.** Write a pandas program to convert the data frame column type from string to DateTime? <br>\n",
    "Sample dataString Date- <br>\n",
    "0 3/11/2000 <br>\n",
    "1 3/12/2000 <br>\n",
    "2 3/13/2000 <br>\n",
    "dtype- object <br>\n",
    "Original DataFrame (string to datetime)- <br>\n",
    "\n",
    "0 2000-03-11  <br>\n",
    "1 2000-03-12 <br>\n",
    "2 2000-03-13"
   ]
  },
  {
   "cell_type": "code",
   "execution_count": 97,
   "metadata": {},
   "outputs": [
    {
     "name": "stdout",
     "output_type": "stream",
     "text": [
      "Original DataFrame-->\n",
      "         Date\n",
      "0  3/11/2000\n",
      "1  3/12/2000\n",
      "2  3/13/2000\n",
      "\n",
      "Original Data Frame-->\n",
      " 0   2000-03-11\n",
      "1   2000-03-12\n",
      "2   2000-03-13\n",
      "Name: Date, dtype: datetime64[ns]\n"
     ]
    }
   ],
   "source": [
    " \n",
    "sampleData = pd.DataFrame([\"3/11/2000\",\"3/12/2000\",\"3/13/2000\"], columns = [\"Date\"])\n",
    "print(\"Original DataFrame-->\\n\",sampleData)\n",
    "\n",
    "\n",
    "print(\"\\nOriginal Data Frame-->\\n\",pd.to_datetime(sampleData[\"Date\"]))\n"
   ]
  },
  {
   "cell_type": "markdown",
   "metadata": {},
   "source": [
    "**Q114.** Write a pandas program to append the data to an empty DataFrame? <br>\n",
    "Sample data: <br>\n",
    "Original DataFrame- After appending some data: col1 col2 0 0 0 1 1 1 2 2 2"
   ]
  },
  {
   "cell_type": "code",
   "execution_count": 98,
   "metadata": {},
   "outputs": [
    {
     "name": "stdout",
     "output_type": "stream",
     "text": [
      "Empty DataFrame\n",
      "Columns: [col1, col2]\n",
      "Index: []\n",
      "DataFrame after appending some data\n"
     ]
    },
    {
     "data": {
      "text/html": [
       "<div>\n",
       "<style scoped>\n",
       "    .dataframe tbody tr th:only-of-type {\n",
       "        vertical-align: middle;\n",
       "    }\n",
       "\n",
       "    .dataframe tbody tr th {\n",
       "        vertical-align: top;\n",
       "    }\n",
       "\n",
       "    .dataframe thead th {\n",
       "        text-align: right;\n",
       "    }\n",
       "</style>\n",
       "<table border=\"1\" class=\"dataframe\">\n",
       "  <thead>\n",
       "    <tr style=\"text-align: right;\">\n",
       "      <th></th>\n",
       "      <th>col1</th>\n",
       "      <th>col2</th>\n",
       "    </tr>\n",
       "  </thead>\n",
       "  <tbody>\n",
       "    <tr>\n",
       "      <th>0</th>\n",
       "      <td>0</td>\n",
       "      <td>0</td>\n",
       "    </tr>\n",
       "    <tr>\n",
       "      <th>1</th>\n",
       "      <td>0</td>\n",
       "      <td>1</td>\n",
       "    </tr>\n",
       "    <tr>\n",
       "      <th>2</th>\n",
       "      <td>1</td>\n",
       "      <td>1</td>\n",
       "    </tr>\n",
       "    <tr>\n",
       "      <th>3</th>\n",
       "      <td>1</td>\n",
       "      <td>2</td>\n",
       "    </tr>\n",
       "    <tr>\n",
       "      <th>4</th>\n",
       "      <td>2</td>\n",
       "      <td>2</td>\n",
       "    </tr>\n",
       "  </tbody>\n",
       "</table>\n",
       "</div>"
      ],
      "text/plain": [
       "  col1 col2\n",
       "0    0    0\n",
       "1    0    1\n",
       "2    1    1\n",
       "3    1    2\n",
       "4    2    2"
      ]
     },
     "execution_count": 98,
     "metadata": {},
     "output_type": "execute_result"
    }
   ],
   "source": [
    "sampleData = pd.DataFrame([],columns = [\"col1\",\"col2\"])\n",
    "print(sampleData)\n",
    "\n",
    "print(\"DataFrame after appending some data\")\n",
    "sampleData.append(pd.DataFrame({\"col1\":[0,0,1,1,2],'col2':[0,1,1,2,2]}), ignore_index = True)"
   ]
  },
  {
   "cell_type": "markdown",
   "metadata": {},
   "source": [
    "**Q115.** Write a pandas program to count the number of columns of a DataFrame? <br>\n",
    "**Sample Output:** Original DataFrame <br>\n",
    "col1 col2 col3 <br>\n",
    "0 1 4 7 <br> \n",
    "1 2 5 8 <br>\n",
    "2 3 6 12 <br>\n",
    "3 4 9 1 <br>\n",
    "4 7 5 11 <br>\n",
    "Number of columns- 3"
   ]
  },
  {
   "cell_type": "code",
   "execution_count": 99,
   "metadata": {},
   "outputs": [
    {
     "name": "stdout",
     "output_type": "stream",
     "text": [
      "Original DataFrame\n",
      "    col1  col2  col3\n",
      "0     1     4     7\n",
      "1     2     5     8\n",
      "2     3     6    12\n",
      "3     4     9     1\n",
      "4     7     5    11\n",
      "\n",
      "number of columns--> 3\n"
     ]
    }
   ],
   "source": [
    "origArray = np.array([[1,4,7],[2,5,8],[3,6,12],[4,9,1],[7,5,11]])\n",
    "origData = pd.DataFrame(origArray, columns = ['col1','col2','col3'])\n",
    "print(\"Original DataFrame\\n\", origData)\n",
    "\n",
    "print(\"\\nnumber of columns-->\", len(origData.columns))"
   ]
  },
  {
   "cell_type": "markdown",
   "metadata": {},
   "source": [
    "**Q116.** Write a Pandas program to remove the last n rows of a given DataFrame ? <br>\n",
    "**Sample Output:** <br>\n",
    "Original DataFrame <br>\n",
    "col1 col2 col3 <br>\n",
    "0 1 4 7 <br>\n",
    "1 2 5 5 <br>\n",
    "2 3 6 8 <br>\n",
    "3 4 9 12 <br>\n",
    "4 7 5 1 <br>\n",
    "5 11 0 11 <br>\n",
    "After removing last 3 rows of the said DataFrame <br>\n",
    "col1 col2 col3 <br>\n",
    "0 1 4 7 <br>\n",
    "1 2 5 5 <br>\n",
    "2 3 6 8 \n"
   ]
  },
  {
   "cell_type": "code",
   "execution_count": 100,
   "metadata": {},
   "outputs": [
    {
     "name": "stdout",
     "output_type": "stream",
     "text": [
      "Original Data Frame\n",
      "    col1  col2  col3\n",
      "0     1     4     7\n",
      "1     2     5     5\n",
      "2     3     6     8\n",
      "3     4     9    12\n",
      "4     7     5     1\n",
      "5    11     0    11\n",
      "\n",
      "After removing last 3 rows of the said Data Frame-->\n",
      "   col1  col2  col3\n",
      "0     1     4     7\n",
      "1     2     5     5\n",
      "2     3     6     8\n"
     ]
    }
   ],
   "source": [
    "origData = np.array([[1,4,7],[2,5,5],[3,6,8],[4,9,12],[7,5,1],[11,0,11]])\n",
    "origDataFrame = pd.DataFrame(origData, columns = ['col1','col2','col3'])\n",
    "print(\"Original Data Frame\\n\", origDataFrame)\n",
    "\n",
    "n=3\n",
    "\n",
    "print(\"\\nAfter removing last 3 rows of the said Data Frame-->\")\n",
    "origDataFrame.drop(origDataFrame.tail(n).index,inplace=True)\n",
    "print(origDataFrame)"
   ]
  },
  {
   "cell_type": "markdown",
   "metadata": {},
   "source": [
    "Link for Datasets <br>\n",
    "(https://drive.google.com/drive/folders/105ftuIwN9kqyPNEEm3E6IM7LqywjyvJa?usp=sharing)"
   ]
  },
  {
   "cell_type": "markdown",
   "metadata": {},
   "source": [
    "**Q117.** Write a Pandas program to import excel data (coalpublic2013.xlsx) into a Pandas data frame."
   ]
  },
  {
   "cell_type": "code",
   "execution_count": 101,
   "metadata": {},
   "outputs": [
    {
     "data": {
      "text/html": [
       "<div>\n",
       "<style scoped>\n",
       "    .dataframe tbody tr th:only-of-type {\n",
       "        vertical-align: middle;\n",
       "    }\n",
       "\n",
       "    .dataframe tbody tr th {\n",
       "        vertical-align: top;\n",
       "    }\n",
       "\n",
       "    .dataframe thead th {\n",
       "        text-align: right;\n",
       "    }\n",
       "</style>\n",
       "<table border=\"1\" class=\"dataframe\">\n",
       "  <thead>\n",
       "    <tr style=\"text-align: right;\">\n",
       "      <th></th>\n",
       "      <th>Year</th>\n",
       "      <th>MSHA ID</th>\n",
       "      <th>Mine_Name</th>\n",
       "      <th>Production</th>\n",
       "      <th>Labor_Hours</th>\n",
       "    </tr>\n",
       "  </thead>\n",
       "  <tbody>\n",
       "    <tr>\n",
       "      <th>0</th>\n",
       "      <td>2013</td>\n",
       "      <td>103381</td>\n",
       "      <td>Tacoa Highwall Miner</td>\n",
       "      <td>56004</td>\n",
       "      <td>22392</td>\n",
       "    </tr>\n",
       "    <tr>\n",
       "      <th>1</th>\n",
       "      <td>2013</td>\n",
       "      <td>103404</td>\n",
       "      <td>Reid School Mine</td>\n",
       "      <td>28807</td>\n",
       "      <td>28447</td>\n",
       "    </tr>\n",
       "    <tr>\n",
       "      <th>2</th>\n",
       "      <td>2013</td>\n",
       "      <td>100759</td>\n",
       "      <td>North River #1 Underground Min</td>\n",
       "      <td>1440115</td>\n",
       "      <td>474784</td>\n",
       "    </tr>\n",
       "    <tr>\n",
       "      <th>3</th>\n",
       "      <td>2013</td>\n",
       "      <td>103246</td>\n",
       "      <td>Bear Creek</td>\n",
       "      <td>87587</td>\n",
       "      <td>29193</td>\n",
       "    </tr>\n",
       "    <tr>\n",
       "      <th>4</th>\n",
       "      <td>2013</td>\n",
       "      <td>103451</td>\n",
       "      <td>Knight Mine</td>\n",
       "      <td>147499</td>\n",
       "      <td>46393</td>\n",
       "    </tr>\n",
       "  </tbody>\n",
       "</table>\n",
       "</div>"
      ],
      "text/plain": [
       "   Year  MSHA ID                       Mine_Name  Production  Labor_Hours\n",
       "0  2013   103381            Tacoa Highwall Miner       56004        22392\n",
       "1  2013   103404                Reid School Mine       28807        28447\n",
       "2  2013   100759  North River #1 Underground Min     1440115       474784\n",
       "3  2013   103246                      Bear Creek       87587        29193\n",
       "4  2013   103451                     Knight Mine      147499        46393"
      ]
     },
     "execution_count": 101,
     "metadata": {},
     "output_type": "execute_result"
    }
   ],
   "source": [
    "coalDataFrame = pd.read_excel(\"coalpublic2013.xlsx\")\n",
    "coalDataFrame.head()"
   ]
  },
  {
   "cell_type": "markdown",
   "metadata": {},
   "source": [
    "**Q118.** Write a Pandas program to import excel data (coalpublic2013.xlsx) into a data frame and find details where \"Mine Name\" starts with \"P."
   ]
  },
  {
   "cell_type": "code",
   "execution_count": 102,
   "metadata": {},
   "outputs": [
    {
     "data": {
      "text/html": [
       "<div>\n",
       "<style scoped>\n",
       "    .dataframe tbody tr th:only-of-type {\n",
       "        vertical-align: middle;\n",
       "    }\n",
       "\n",
       "    .dataframe tbody tr th {\n",
       "        vertical-align: top;\n",
       "    }\n",
       "\n",
       "    .dataframe thead th {\n",
       "        text-align: right;\n",
       "    }\n",
       "</style>\n",
       "<table border=\"1\" class=\"dataframe\">\n",
       "  <thead>\n",
       "    <tr style=\"text-align: right;\">\n",
       "      <th></th>\n",
       "      <th>Year</th>\n",
       "      <th>MSHA ID</th>\n",
       "      <th>Mine_Name</th>\n",
       "      <th>Production</th>\n",
       "      <th>Labor_Hours</th>\n",
       "    </tr>\n",
       "  </thead>\n",
       "  <tbody>\n",
       "    <tr>\n",
       "      <th>13</th>\n",
       "      <td>2013</td>\n",
       "      <td>103332</td>\n",
       "      <td>Powhatan Mine</td>\n",
       "      <td>140521</td>\n",
       "      <td>61394</td>\n",
       "    </tr>\n",
       "    <tr>\n",
       "      <th>18</th>\n",
       "      <td>2013</td>\n",
       "      <td>102976</td>\n",
       "      <td>Piney Woods Preparation Plant</td>\n",
       "      <td>0</td>\n",
       "      <td>14828</td>\n",
       "    </tr>\n",
       "    <tr>\n",
       "      <th>19</th>\n",
       "      <td>2013</td>\n",
       "      <td>102976</td>\n",
       "      <td>Piney Woods Preparation Plant</td>\n",
       "      <td>0</td>\n",
       "      <td>23193</td>\n",
       "    </tr>\n",
       "    <tr>\n",
       "      <th>46</th>\n",
       "      <td>2013</td>\n",
       "      <td>103321</td>\n",
       "      <td>Poplar Springs</td>\n",
       "      <td>189370</td>\n",
       "      <td>76366</td>\n",
       "    </tr>\n",
       "  </tbody>\n",
       "</table>\n",
       "</div>"
      ],
      "text/plain": [
       "    Year  MSHA ID                      Mine_Name  Production  Labor_Hours\n",
       "13  2013   103332                  Powhatan Mine      140521        61394\n",
       "18  2013   102976  Piney Woods Preparation Plant           0        14828\n",
       "19  2013   102976  Piney Woods Preparation Plant           0        23193\n",
       "46  2013   103321                 Poplar Springs      189370        76366"
      ]
     },
     "execution_count": 102,
     "metadata": {},
     "output_type": "execute_result"
    }
   ],
   "source": [
    "#startswith Tests if the start of each string element matches a pattern\n",
    "coalDataFrame[coalDataFrame[\"Mine_Name\"].str.startswith(\"P\")]"
   ]
  },
  {
   "cell_type": "markdown",
   "metadata": {},
   "source": [
    "**Q119.** Write a Pandas program to import excel data (employee.xlsx) into a Pandas dataframe and find the list of employees where hire_date> 01-01-07."
   ]
  },
  {
   "cell_type": "code",
   "execution_count": 103,
   "metadata": {},
   "outputs": [
    {
     "data": {
      "text/html": [
       "<div>\n",
       "<style scoped>\n",
       "    .dataframe tbody tr th:only-of-type {\n",
       "        vertical-align: middle;\n",
       "    }\n",
       "\n",
       "    .dataframe tbody tr th {\n",
       "        vertical-align: top;\n",
       "    }\n",
       "\n",
       "    .dataframe thead th {\n",
       "        text-align: right;\n",
       "    }\n",
       "</style>\n",
       "<table border=\"1\" class=\"dataframe\">\n",
       "  <thead>\n",
       "    <tr style=\"text-align: right;\">\n",
       "      <th></th>\n",
       "      <th>emp_id</th>\n",
       "      <th>first_name</th>\n",
       "      <th>last_name</th>\n",
       "      <th>hire_date</th>\n",
       "    </tr>\n",
       "  </thead>\n",
       "  <tbody>\n",
       "    <tr>\n",
       "      <th>0</th>\n",
       "      <td>100</td>\n",
       "      <td>Steven</td>\n",
       "      <td>King</td>\n",
       "      <td>2003-06-17</td>\n",
       "    </tr>\n",
       "    <tr>\n",
       "      <th>1</th>\n",
       "      <td>101</td>\n",
       "      <td>Neena</td>\n",
       "      <td>Kochhar</td>\n",
       "      <td>2005-09-21</td>\n",
       "    </tr>\n",
       "    <tr>\n",
       "      <th>2</th>\n",
       "      <td>102</td>\n",
       "      <td>Lex</td>\n",
       "      <td>De Haan</td>\n",
       "      <td>2001-01-13</td>\n",
       "    </tr>\n",
       "    <tr>\n",
       "      <th>3</th>\n",
       "      <td>103</td>\n",
       "      <td>Alexander</td>\n",
       "      <td>Hunold</td>\n",
       "      <td>2006-01-03</td>\n",
       "    </tr>\n",
       "    <tr>\n",
       "      <th>4</th>\n",
       "      <td>104</td>\n",
       "      <td>Bruce</td>\n",
       "      <td>Ernst</td>\n",
       "      <td>2007-05-21</td>\n",
       "    </tr>\n",
       "  </tbody>\n",
       "</table>\n",
       "</div>"
      ],
      "text/plain": [
       "   emp_id first_name last_name  hire_date\n",
       "0     100     Steven      King 2003-06-17\n",
       "1     101      Neena   Kochhar 2005-09-21\n",
       "2     102        Lex   De Haan 2001-01-13\n",
       "3     103  Alexander    Hunold 2006-01-03\n",
       "4     104      Bruce     Ernst 2007-05-21"
      ]
     },
     "execution_count": 103,
     "metadata": {},
     "output_type": "execute_result"
    }
   ],
   "source": [
    "empDataFrame = pd.read_excel(\"employee.xlsx\")\n",
    "empDataFrame.head()"
   ]
  },
  {
   "cell_type": "code",
   "execution_count": 104,
   "metadata": {},
   "outputs": [
    {
     "name": "stdout",
     "output_type": "stream",
     "text": [
      "<class 'pandas.core.frame.DataFrame'>\n",
      "RangeIndex: 20 entries, 0 to 19\n",
      "Data columns (total 4 columns):\n",
      " #   Column      Non-Null Count  Dtype         \n",
      "---  ------      --------------  -----         \n",
      " 0   emp_id      20 non-null     int64         \n",
      " 1   first_name  20 non-null     object        \n",
      " 2   last_name   20 non-null     object        \n",
      " 3   hire_date   20 non-null     datetime64[ns]\n",
      "dtypes: datetime64[ns](1), int64(1), object(2)\n",
      "memory usage: 768.0+ bytes\n"
     ]
    }
   ],
   "source": [
    "empDataFrame.info()"
   ]
  },
  {
   "cell_type": "code",
   "execution_count": 105,
   "metadata": {},
   "outputs": [
    {
     "data": {
      "text/html": [
       "<div>\n",
       "<style scoped>\n",
       "    .dataframe tbody tr th:only-of-type {\n",
       "        vertical-align: middle;\n",
       "    }\n",
       "\n",
       "    .dataframe tbody tr th {\n",
       "        vertical-align: top;\n",
       "    }\n",
       "\n",
       "    .dataframe thead th {\n",
       "        text-align: right;\n",
       "    }\n",
       "</style>\n",
       "<table border=\"1\" class=\"dataframe\">\n",
       "  <thead>\n",
       "    <tr style=\"text-align: right;\">\n",
       "      <th></th>\n",
       "      <th>emp_id</th>\n",
       "      <th>first_name</th>\n",
       "      <th>last_name</th>\n",
       "      <th>hire_date</th>\n",
       "    </tr>\n",
       "  </thead>\n",
       "  <tbody>\n",
       "    <tr>\n",
       "      <th>4</th>\n",
       "      <td>104</td>\n",
       "      <td>Bruce</td>\n",
       "      <td>Ernst</td>\n",
       "      <td>2007-05-21</td>\n",
       "    </tr>\n",
       "    <tr>\n",
       "      <th>7</th>\n",
       "      <td>107</td>\n",
       "      <td>Diana</td>\n",
       "      <td>Lorentz</td>\n",
       "      <td>2007-02-07</td>\n",
       "    </tr>\n",
       "    <tr>\n",
       "      <th>13</th>\n",
       "      <td>113</td>\n",
       "      <td>Luis</td>\n",
       "      <td>Popp</td>\n",
       "      <td>2007-12-07</td>\n",
       "    </tr>\n",
       "    <tr>\n",
       "      <th>19</th>\n",
       "      <td>119</td>\n",
       "      <td>Karen</td>\n",
       "      <td>Colmenares</td>\n",
       "      <td>2007-08-10</td>\n",
       "    </tr>\n",
       "  </tbody>\n",
       "</table>\n",
       "</div>"
      ],
      "text/plain": [
       "    emp_id first_name   last_name  hire_date\n",
       "4      104      Bruce       Ernst 2007-05-21\n",
       "7      107      Diana     Lorentz 2007-02-07\n",
       "13     113       Luis        Popp 2007-12-07\n",
       "19     119      Karen  Colmenares 2007-08-10"
      ]
     },
     "execution_count": 105,
     "metadata": {},
     "output_type": "execute_result"
    }
   ],
   "source": [
    "#list of employees where hire_date> 01-01-07\n",
    "empDataFrame[empDataFrame[\"hire_date\"]>pd.to_datetime(\"01-01-07\")]"
   ]
  },
  {
   "cell_type": "markdown",
   "metadata": {},
   "source": [
    "**Q120.** Write a Pandas program to import excel data (employee.xlsx) into a Pandas dataframe and find a list of the employees of a specified year. "
   ]
  },
  {
   "cell_type": "code",
   "execution_count": 106,
   "metadata": {},
   "outputs": [
    {
     "data": {
      "text/html": [
       "<div>\n",
       "<style scoped>\n",
       "    .dataframe tbody tr th:only-of-type {\n",
       "        vertical-align: middle;\n",
       "    }\n",
       "\n",
       "    .dataframe tbody tr th {\n",
       "        vertical-align: top;\n",
       "    }\n",
       "\n",
       "    .dataframe thead th {\n",
       "        text-align: right;\n",
       "    }\n",
       "</style>\n",
       "<table border=\"1\" class=\"dataframe\">\n",
       "  <thead>\n",
       "    <tr style=\"text-align: right;\">\n",
       "      <th></th>\n",
       "      <th>emp_id</th>\n",
       "      <th>first_name</th>\n",
       "      <th>last_name</th>\n",
       "      <th>hire_date</th>\n",
       "      <th>JoinYear</th>\n",
       "    </tr>\n",
       "  </thead>\n",
       "  <tbody>\n",
       "    <tr>\n",
       "      <th>4</th>\n",
       "      <td>104</td>\n",
       "      <td>Bruce</td>\n",
       "      <td>Ernst</td>\n",
       "      <td>2007-05-21</td>\n",
       "      <td>2007</td>\n",
       "    </tr>\n",
       "    <tr>\n",
       "      <th>7</th>\n",
       "      <td>107</td>\n",
       "      <td>Diana</td>\n",
       "      <td>Lorentz</td>\n",
       "      <td>2007-02-07</td>\n",
       "      <td>2007</td>\n",
       "    </tr>\n",
       "    <tr>\n",
       "      <th>13</th>\n",
       "      <td>113</td>\n",
       "      <td>Luis</td>\n",
       "      <td>Popp</td>\n",
       "      <td>2007-12-07</td>\n",
       "      <td>2007</td>\n",
       "    </tr>\n",
       "    <tr>\n",
       "      <th>19</th>\n",
       "      <td>119</td>\n",
       "      <td>Karen</td>\n",
       "      <td>Colmenares</td>\n",
       "      <td>2007-08-10</td>\n",
       "      <td>2007</td>\n",
       "    </tr>\n",
       "  </tbody>\n",
       "</table>\n",
       "</div>"
      ],
      "text/plain": [
       "    emp_id first_name   last_name  hire_date  JoinYear\n",
       "4      104      Bruce       Ernst 2007-05-21      2007\n",
       "7      107      Diana     Lorentz 2007-02-07      2007\n",
       "13     113       Luis        Popp 2007-12-07      2007\n",
       "19     119      Karen  Colmenares 2007-08-10      2007"
      ]
     },
     "execution_count": 106,
     "metadata": {},
     "output_type": "execute_result"
    }
   ],
   "source": [
    "year = 2007  # employees to be found from the year\n",
    "# first find the unique year\n",
    "empDataFrame[\"JoinYear\"]= empDataFrame[\"hire_date\"].dt.year\n",
    "\n",
    "# empDataFrame.groupby(\"JoinYear\").count()\n",
    "\n",
    "empDataFrame[empDataFrame[\"JoinYear\"]==year]"
   ]
  },
  {
   "cell_type": "markdown",
   "metadata": {},
   "source": [
    "**Q121.** Write a pandas program to import three datasheets from a given excel data  (coalpublic2013.xlsx ) in to a single dataframe. <br>\n",
    "**Note:** Structure of three datasheets are same."
   ]
  },
  {
   "cell_type": "code",
   "execution_count": 107,
   "metadata": {},
   "outputs": [
    {
     "data": {
      "text/html": [
       "<div>\n",
       "<style scoped>\n",
       "    .dataframe tbody tr th:only-of-type {\n",
       "        vertical-align: middle;\n",
       "    }\n",
       "\n",
       "    .dataframe tbody tr th {\n",
       "        vertical-align: top;\n",
       "    }\n",
       "\n",
       "    .dataframe thead th {\n",
       "        text-align: right;\n",
       "    }\n",
       "</style>\n",
       "<table border=\"1\" class=\"dataframe\">\n",
       "  <thead>\n",
       "    <tr style=\"text-align: right;\">\n",
       "      <th></th>\n",
       "      <th>Year</th>\n",
       "      <th>MSHA ID</th>\n",
       "      <th>Mine_Name</th>\n",
       "      <th>Production</th>\n",
       "      <th>Labor_Hours</th>\n",
       "    </tr>\n",
       "  </thead>\n",
       "  <tbody>\n",
       "    <tr>\n",
       "      <th>0</th>\n",
       "      <td>2013</td>\n",
       "      <td>103381</td>\n",
       "      <td>Tacoa Highwall Miner</td>\n",
       "      <td>56004</td>\n",
       "      <td>22392</td>\n",
       "    </tr>\n",
       "    <tr>\n",
       "      <th>1</th>\n",
       "      <td>2013</td>\n",
       "      <td>103404</td>\n",
       "      <td>Reid School Mine</td>\n",
       "      <td>28807</td>\n",
       "      <td>28447</td>\n",
       "    </tr>\n",
       "    <tr>\n",
       "      <th>2</th>\n",
       "      <td>2013</td>\n",
       "      <td>100759</td>\n",
       "      <td>North River #1 Underground Min</td>\n",
       "      <td>1440115</td>\n",
       "      <td>474784</td>\n",
       "    </tr>\n",
       "    <tr>\n",
       "      <th>3</th>\n",
       "      <td>2013</td>\n",
       "      <td>103246</td>\n",
       "      <td>Bear Creek</td>\n",
       "      <td>87587</td>\n",
       "      <td>29193</td>\n",
       "    </tr>\n",
       "    <tr>\n",
       "      <th>4</th>\n",
       "      <td>2013</td>\n",
       "      <td>103451</td>\n",
       "      <td>Knight Mine</td>\n",
       "      <td>147499</td>\n",
       "      <td>46393</td>\n",
       "    </tr>\n",
       "  </tbody>\n",
       "</table>\n",
       "</div>"
      ],
      "text/plain": [
       "   Year  MSHA ID                       Mine_Name  Production  Labor_Hours\n",
       "0  2013   103381            Tacoa Highwall Miner       56004        22392\n",
       "1  2013   103404                Reid School Mine       28807        28447\n",
       "2  2013   100759  North River #1 Underground Min     1440115       474784\n",
       "3  2013   103246                      Bear Creek       87587        29193\n",
       "4  2013   103451                     Knight Mine      147499        46393"
      ]
     },
     "execution_count": 107,
     "metadata": {},
     "output_type": "execute_result"
    }
   ],
   "source": [
    "coalPublicData = pd.read_excel(\"coalpublic2013.xlsx\",sheet_name = 'coalpublic2013')\n",
    "coalPublicData.head()"
   ]
  },
  {
   "cell_type": "markdown",
   "metadata": {},
   "source": [
    "**Q122.** Write a pandas program to import three datasheets from a given excel data (employee.xlsx ) into a single data frame and export the result into new Excel file. <br>\n",
    "**Note:** Structure of three datasheets are same."
   ]
  },
  {
   "cell_type": "code",
   "execution_count": 108,
   "metadata": {},
   "outputs": [
    {
     "data": {
      "text/html": [
       "<div>\n",
       "<style scoped>\n",
       "    .dataframe tbody tr th:only-of-type {\n",
       "        vertical-align: middle;\n",
       "    }\n",
       "\n",
       "    .dataframe tbody tr th {\n",
       "        vertical-align: top;\n",
       "    }\n",
       "\n",
       "    .dataframe thead th {\n",
       "        text-align: right;\n",
       "    }\n",
       "</style>\n",
       "<table border=\"1\" class=\"dataframe\">\n",
       "  <thead>\n",
       "    <tr style=\"text-align: right;\">\n",
       "      <th></th>\n",
       "      <th>emp_id</th>\n",
       "      <th>first_name</th>\n",
       "      <th>last_name</th>\n",
       "      <th>hire_date</th>\n",
       "      <th>SheetName</th>\n",
       "    </tr>\n",
       "  </thead>\n",
       "  <tbody>\n",
       "    <tr>\n",
       "      <th>4</th>\n",
       "      <td>145</td>\n",
       "      <td>John</td>\n",
       "      <td>Russell</td>\n",
       "      <td>2004-10-01</td>\n",
       "      <td>Sheet3</td>\n",
       "    </tr>\n",
       "    <tr>\n",
       "      <th>5</th>\n",
       "      <td>146</td>\n",
       "      <td>Karen</td>\n",
       "      <td>Partners</td>\n",
       "      <td>2005-01-05</td>\n",
       "      <td>Sheet3</td>\n",
       "    </tr>\n",
       "    <tr>\n",
       "      <th>6</th>\n",
       "      <td>147</td>\n",
       "      <td>Alberto</td>\n",
       "      <td>Errazuriz</td>\n",
       "      <td>2005-03-10</td>\n",
       "      <td>Sheet3</td>\n",
       "    </tr>\n",
       "    <tr>\n",
       "      <th>7</th>\n",
       "      <td>148</td>\n",
       "      <td>Gerald</td>\n",
       "      <td>Cambrault</td>\n",
       "      <td>2007-10-15</td>\n",
       "      <td>Sheet3</td>\n",
       "    </tr>\n",
       "    <tr>\n",
       "      <th>8</th>\n",
       "      <td>149</td>\n",
       "      <td>Eleni</td>\n",
       "      <td>Zlotkey</td>\n",
       "      <td>2008-01-29</td>\n",
       "      <td>Sheet3</td>\n",
       "    </tr>\n",
       "  </tbody>\n",
       "</table>\n",
       "</div>"
      ],
      "text/plain": [
       "   emp_id first_name  last_name  hire_date SheetName\n",
       "4     145       John    Russell 2004-10-01    Sheet3\n",
       "5     146      Karen   Partners 2005-01-05    Sheet3\n",
       "6     147    Alberto  Errazuriz 2005-03-10    Sheet3\n",
       "7     148     Gerald  Cambrault 2007-10-15    Sheet3\n",
       "8     149      Eleni    Zlotkey 2008-01-29    Sheet3"
      ]
     },
     "execution_count": 108,
     "metadata": {},
     "output_type": "execute_result"
    }
   ],
   "source": [
    "empDict = pd.ExcelFile(\"employee.xlsx\") # empData is a dictionary\n",
    "sheetNames = empDict.sheet_names   # get the sheet names\n",
    "\n",
    "empDataFrame = []\n",
    "for sheetname in sheetNames:\n",
    "    sheetData = pd.read_excel(empDict, sheet_name = sheetname)\n",
    "    sheetData[\"SheetName\"] = sheetname\n",
    "    empDataFrame.append(sheetData)\n",
    "    \n",
    "\n",
    "empDataFrameF = pd.concat(empDataFrame)\n",
    "empDataFrameF.tail()"
   ]
  },
  {
   "cell_type": "markdown",
   "metadata": {},
   "source": [
    "**Q123.** Write a pandas program to create the Pivot table with multiple indexes from the data set of the titanic.csv."
   ]
  },
  {
   "cell_type": "code",
   "execution_count": 109,
   "metadata": {},
   "outputs": [
    {
     "data": {
      "text/html": [
       "<div>\n",
       "<style scoped>\n",
       "    .dataframe tbody tr th:only-of-type {\n",
       "        vertical-align: middle;\n",
       "    }\n",
       "\n",
       "    .dataframe tbody tr th {\n",
       "        vertical-align: top;\n",
       "    }\n",
       "\n",
       "    .dataframe thead th {\n",
       "        text-align: right;\n",
       "    }\n",
       "</style>\n",
       "<table border=\"1\" class=\"dataframe\">\n",
       "  <thead>\n",
       "    <tr style=\"text-align: right;\">\n",
       "      <th></th>\n",
       "      <th>survived</th>\n",
       "      <th>pclass</th>\n",
       "      <th>sex</th>\n",
       "      <th>age</th>\n",
       "      <th>sibsp</th>\n",
       "      <th>parch</th>\n",
       "      <th>fare</th>\n",
       "      <th>embarked</th>\n",
       "      <th>class</th>\n",
       "      <th>who</th>\n",
       "      <th>adult_male</th>\n",
       "      <th>deck</th>\n",
       "      <th>embark_town</th>\n",
       "      <th>alive</th>\n",
       "      <th>alone</th>\n",
       "      <th>Unnamed: 15</th>\n",
       "    </tr>\n",
       "  </thead>\n",
       "  <tbody>\n",
       "    <tr>\n",
       "      <th>0</th>\n",
       "      <td>0</td>\n",
       "      <td>3</td>\n",
       "      <td>male</td>\n",
       "      <td>22.0</td>\n",
       "      <td>1</td>\n",
       "      <td>0</td>\n",
       "      <td>7.2500</td>\n",
       "      <td>S</td>\n",
       "      <td>Third</td>\n",
       "      <td>man</td>\n",
       "      <td>True</td>\n",
       "      <td>NaN</td>\n",
       "      <td>Southampton</td>\n",
       "      <td>no</td>\n",
       "      <td>False</td>\n",
       "      <td>NaN</td>\n",
       "    </tr>\n",
       "    <tr>\n",
       "      <th>1</th>\n",
       "      <td>1</td>\n",
       "      <td>1</td>\n",
       "      <td>female</td>\n",
       "      <td>38.0</td>\n",
       "      <td>1</td>\n",
       "      <td>0</td>\n",
       "      <td>71.2833</td>\n",
       "      <td>C</td>\n",
       "      <td>First</td>\n",
       "      <td>woman</td>\n",
       "      <td>False</td>\n",
       "      <td>C</td>\n",
       "      <td>Cherbourg</td>\n",
       "      <td>yes</td>\n",
       "      <td>False</td>\n",
       "      <td>NaN</td>\n",
       "    </tr>\n",
       "    <tr>\n",
       "      <th>2</th>\n",
       "      <td>1</td>\n",
       "      <td>3</td>\n",
       "      <td>female</td>\n",
       "      <td>26.0</td>\n",
       "      <td>0</td>\n",
       "      <td>0</td>\n",
       "      <td>7.9250</td>\n",
       "      <td>S</td>\n",
       "      <td>Third</td>\n",
       "      <td>woman</td>\n",
       "      <td>False</td>\n",
       "      <td>NaN</td>\n",
       "      <td>Southampton</td>\n",
       "      <td>yes</td>\n",
       "      <td>True</td>\n",
       "      <td>NaN</td>\n",
       "    </tr>\n",
       "    <tr>\n",
       "      <th>3</th>\n",
       "      <td>1</td>\n",
       "      <td>1</td>\n",
       "      <td>female</td>\n",
       "      <td>35.0</td>\n",
       "      <td>1</td>\n",
       "      <td>0</td>\n",
       "      <td>53.1000</td>\n",
       "      <td>S</td>\n",
       "      <td>First</td>\n",
       "      <td>woman</td>\n",
       "      <td>False</td>\n",
       "      <td>C</td>\n",
       "      <td>Southampton</td>\n",
       "      <td>yes</td>\n",
       "      <td>False</td>\n",
       "      <td>NaN</td>\n",
       "    </tr>\n",
       "    <tr>\n",
       "      <th>4</th>\n",
       "      <td>0</td>\n",
       "      <td>3</td>\n",
       "      <td>male</td>\n",
       "      <td>35.0</td>\n",
       "      <td>0</td>\n",
       "      <td>0</td>\n",
       "      <td>8.0500</td>\n",
       "      <td>S</td>\n",
       "      <td>Third</td>\n",
       "      <td>man</td>\n",
       "      <td>True</td>\n",
       "      <td>NaN</td>\n",
       "      <td>Southampton</td>\n",
       "      <td>no</td>\n",
       "      <td>True</td>\n",
       "      <td>NaN</td>\n",
       "    </tr>\n",
       "  </tbody>\n",
       "</table>\n",
       "</div>"
      ],
      "text/plain": [
       "   survived  pclass     sex   age  sibsp  parch     fare embarked  class    who  adult_male deck  embark_town alive  alone  Unnamed: 15\n",
       "0         0       3    male  22.0      1      0   7.2500        S  Third    man        True  NaN  Southampton    no  False          NaN\n",
       "1         1       1  female  38.0      1      0  71.2833        C  First  woman       False    C    Cherbourg   yes  False          NaN\n",
       "2         1       3  female  26.0      0      0   7.9250        S  Third  woman       False  NaN  Southampton   yes   True          NaN\n",
       "3         1       1  female  35.0      1      0  53.1000        S  First  woman       False    C  Southampton   yes  False          NaN\n",
       "4         0       3    male  35.0      0      0   8.0500        S  Third    man        True  NaN  Southampton    no   True          NaN"
      ]
     },
     "execution_count": 109,
     "metadata": {},
     "output_type": "execute_result"
    }
   ],
   "source": [
    "titanicData = pd.read_csv(\"titanic.csv\")\n",
    "titanicData.head()"
   ]
  },
  {
   "cell_type": "code",
   "execution_count": 110,
   "metadata": {},
   "outputs": [],
   "source": [
    "titanicData.drop([titanicData.columns[15]], axis = 'columns',inplace = True)"
   ]
  },
  {
   "cell_type": "code",
   "execution_count": 111,
   "metadata": {},
   "outputs": [
    {
     "data": {
      "text/plain": [
       "15"
      ]
     },
     "execution_count": 111,
     "metadata": {},
     "output_type": "execute_result"
    }
   ],
   "source": [
    "len(titanicData.columns)"
   ]
  },
  {
   "cell_type": "markdown",
   "metadata": {},
   "source": [
    "**Pivot Table:**  It is a summary of your data, packaged in a chart that lets you report on and explore trends based on your info."
   ]
  },
  {
   "cell_type": "markdown",
   "metadata": {},
   "source": [
    "pivot_table requires a data and an index parameter\n",
    "index is the feature that allows you to group your data. "
   ]
  },
  {
   "cell_type": "code",
   "execution_count": 112,
   "metadata": {},
   "outputs": [
    {
     "data": {
      "text/html": [
       "<div>\n",
       "<style scoped>\n",
       "    .dataframe tbody tr th:only-of-type {\n",
       "        vertical-align: middle;\n",
       "    }\n",
       "\n",
       "    .dataframe tbody tr th {\n",
       "        vertical-align: top;\n",
       "    }\n",
       "\n",
       "    .dataframe thead th {\n",
       "        text-align: right;\n",
       "    }\n",
       "</style>\n",
       "<table border=\"1\" class=\"dataframe\">\n",
       "  <thead>\n",
       "    <tr style=\"text-align: right;\">\n",
       "      <th></th>\n",
       "      <th>adult_male</th>\n",
       "      <th>age</th>\n",
       "      <th>alone</th>\n",
       "      <th>fare</th>\n",
       "      <th>parch</th>\n",
       "      <th>pclass</th>\n",
       "      <th>sibsp</th>\n",
       "      <th>survived</th>\n",
       "    </tr>\n",
       "    <tr>\n",
       "      <th>sex</th>\n",
       "      <th></th>\n",
       "      <th></th>\n",
       "      <th></th>\n",
       "      <th></th>\n",
       "      <th></th>\n",
       "      <th></th>\n",
       "      <th></th>\n",
       "      <th></th>\n",
       "    </tr>\n",
       "  </thead>\n",
       "  <tbody>\n",
       "    <tr>\n",
       "      <th>female</th>\n",
       "      <td>0.000000</td>\n",
       "      <td>27.915709</td>\n",
       "      <td>0.401274</td>\n",
       "      <td>44.479818</td>\n",
       "      <td>0.649682</td>\n",
       "      <td>2.159236</td>\n",
       "      <td>0.694268</td>\n",
       "      <td>0.742038</td>\n",
       "    </tr>\n",
       "    <tr>\n",
       "      <th>male</th>\n",
       "      <td>0.930676</td>\n",
       "      <td>30.726645</td>\n",
       "      <td>0.712305</td>\n",
       "      <td>25.523893</td>\n",
       "      <td>0.235702</td>\n",
       "      <td>2.389948</td>\n",
       "      <td>0.429809</td>\n",
       "      <td>0.188908</td>\n",
       "    </tr>\n",
       "  </tbody>\n",
       "</table>\n",
       "</div>"
      ],
      "text/plain": [
       "        adult_male        age     alone       fare     parch    pclass     sibsp  survived\n",
       "sex                                                                                       \n",
       "female    0.000000  27.915709  0.401274  44.479818  0.649682  2.159236  0.694268  0.742038\n",
       "male      0.930676  30.726645  0.712305  25.523893  0.235702  2.389948  0.429809  0.188908"
      ]
     },
     "execution_count": 112,
     "metadata": {},
     "output_type": "execute_result"
    }
   ],
   "source": [
    "# 'Sex' is used as the index\n",
    "pivotTable = pd.pivot_table(data=titanicData, index=['sex'])\n",
    "pivotTable"
   ]
  },
  {
   "cell_type": "markdown",
   "metadata": {},
   "source": [
    "**Q124.** Write a Pandas program to create the Pivot table and find survival rate by gender?"
   ]
  },
  {
   "cell_type": "code",
   "execution_count": 113,
   "metadata": {},
   "outputs": [
    {
     "name": "stdout",
     "output_type": "stream",
     "text": [
      "survival_Rate by gender\n",
      " sex\n",
      "female    0.742038\n",
      "male      0.188908\n",
      "Name: survived, dtype: float64\n"
     ]
    }
   ],
   "source": [
    "# 'sex' is used as the index\n",
    "pivotTable = pd.pivot_table(data=titanicData, index=['sex'])\n",
    "print(\"survival_Rate by gender\\n\", pivotTable[\"survived\"])"
   ]
  },
  {
   "cell_type": "markdown",
   "metadata": {},
   "source": [
    "**Q125.** Write a pandas program to make partition each of the passengers into 4 categories based on their age. <br>\n",
    "**Note:** Age categories- (0, 10), (10, 30), (30, 60), (60, 80)"
   ]
  },
  {
   "cell_type": "code",
   "execution_count": 114,
   "metadata": {},
   "outputs": [
    {
     "data": {
      "text/html": [
       "<div>\n",
       "<style scoped>\n",
       "    .dataframe tbody tr th:only-of-type {\n",
       "        vertical-align: middle;\n",
       "    }\n",
       "\n",
       "    .dataframe tbody tr th {\n",
       "        vertical-align: top;\n",
       "    }\n",
       "\n",
       "    .dataframe thead th {\n",
       "        text-align: right;\n",
       "    }\n",
       "</style>\n",
       "<table border=\"1\" class=\"dataframe\">\n",
       "  <thead>\n",
       "    <tr style=\"text-align: right;\">\n",
       "      <th></th>\n",
       "      <th>survived</th>\n",
       "      <th>pclass</th>\n",
       "      <th>sex</th>\n",
       "      <th>age</th>\n",
       "      <th>sibsp</th>\n",
       "      <th>parch</th>\n",
       "      <th>fare</th>\n",
       "      <th>embarked</th>\n",
       "      <th>class</th>\n",
       "      <th>who</th>\n",
       "      <th>adult_male</th>\n",
       "      <th>deck</th>\n",
       "      <th>embark_town</th>\n",
       "      <th>alive</th>\n",
       "      <th>alone</th>\n",
       "      <th>AgeCategory</th>\n",
       "    </tr>\n",
       "  </thead>\n",
       "  <tbody>\n",
       "    <tr>\n",
       "      <th>0</th>\n",
       "      <td>0</td>\n",
       "      <td>3</td>\n",
       "      <td>male</td>\n",
       "      <td>22.0</td>\n",
       "      <td>1</td>\n",
       "      <td>0</td>\n",
       "      <td>7.2500</td>\n",
       "      <td>S</td>\n",
       "      <td>Third</td>\n",
       "      <td>man</td>\n",
       "      <td>True</td>\n",
       "      <td>NaN</td>\n",
       "      <td>Southampton</td>\n",
       "      <td>no</td>\n",
       "      <td>False</td>\n",
       "      <td>10-30</td>\n",
       "    </tr>\n",
       "    <tr>\n",
       "      <th>1</th>\n",
       "      <td>1</td>\n",
       "      <td>1</td>\n",
       "      <td>female</td>\n",
       "      <td>38.0</td>\n",
       "      <td>1</td>\n",
       "      <td>0</td>\n",
       "      <td>71.2833</td>\n",
       "      <td>C</td>\n",
       "      <td>First</td>\n",
       "      <td>woman</td>\n",
       "      <td>False</td>\n",
       "      <td>C</td>\n",
       "      <td>Cherbourg</td>\n",
       "      <td>yes</td>\n",
       "      <td>False</td>\n",
       "      <td>30-60</td>\n",
       "    </tr>\n",
       "    <tr>\n",
       "      <th>2</th>\n",
       "      <td>1</td>\n",
       "      <td>3</td>\n",
       "      <td>female</td>\n",
       "      <td>26.0</td>\n",
       "      <td>0</td>\n",
       "      <td>0</td>\n",
       "      <td>7.9250</td>\n",
       "      <td>S</td>\n",
       "      <td>Third</td>\n",
       "      <td>woman</td>\n",
       "      <td>False</td>\n",
       "      <td>NaN</td>\n",
       "      <td>Southampton</td>\n",
       "      <td>yes</td>\n",
       "      <td>True</td>\n",
       "      <td>10-30</td>\n",
       "    </tr>\n",
       "    <tr>\n",
       "      <th>3</th>\n",
       "      <td>1</td>\n",
       "      <td>1</td>\n",
       "      <td>female</td>\n",
       "      <td>35.0</td>\n",
       "      <td>1</td>\n",
       "      <td>0</td>\n",
       "      <td>53.1000</td>\n",
       "      <td>S</td>\n",
       "      <td>First</td>\n",
       "      <td>woman</td>\n",
       "      <td>False</td>\n",
       "      <td>C</td>\n",
       "      <td>Southampton</td>\n",
       "      <td>yes</td>\n",
       "      <td>False</td>\n",
       "      <td>30-60</td>\n",
       "    </tr>\n",
       "    <tr>\n",
       "      <th>4</th>\n",
       "      <td>0</td>\n",
       "      <td>3</td>\n",
       "      <td>male</td>\n",
       "      <td>35.0</td>\n",
       "      <td>0</td>\n",
       "      <td>0</td>\n",
       "      <td>8.0500</td>\n",
       "      <td>S</td>\n",
       "      <td>Third</td>\n",
       "      <td>man</td>\n",
       "      <td>True</td>\n",
       "      <td>NaN</td>\n",
       "      <td>Southampton</td>\n",
       "      <td>no</td>\n",
       "      <td>True</td>\n",
       "      <td>30-60</td>\n",
       "    </tr>\n",
       "  </tbody>\n",
       "</table>\n",
       "</div>"
      ],
      "text/plain": [
       "   survived  pclass     sex   age  sibsp  parch     fare embarked  class    who  adult_male deck  embark_town alive  alone AgeCategory\n",
       "0         0       3    male  22.0      1      0   7.2500        S  Third    man        True  NaN  Southampton    no  False       10-30\n",
       "1         1       1  female  38.0      1      0  71.2833        C  First  woman       False    C    Cherbourg   yes  False       30-60\n",
       "2         1       3  female  26.0      0      0   7.9250        S  Third  woman       False  NaN  Southampton   yes   True       10-30\n",
       "3         1       1  female  35.0      1      0  53.1000        S  First  woman       False    C  Southampton   yes  False       30-60\n",
       "4         0       3    male  35.0      0      0   8.0500        S  Third    man        True  NaN  Southampton    no   True       30-60"
      ]
     },
     "execution_count": 114,
     "metadata": {},
     "output_type": "execute_result"
    }
   ],
   "source": [
    "bins = [0,10,30,60,80] \n",
    "names = [\"0-10\",\"10-30\",\"30-60\",\"60-80\"]\n",
    "titanicData[\"AgeCategory\"]=pd.cut(titanicData[\"age\"], bins,labels = names)\n",
    "titanicData.head()"
   ]
  },
  {
   "cell_type": "code",
   "execution_count": 115,
   "metadata": {},
   "outputs": [
    {
     "name": "stdout",
     "output_type": "stream",
     "text": [
      "survived          int64\n",
      "pclass            int64\n",
      "sex              object\n",
      "age             float64\n",
      "sibsp             int64\n",
      "parch             int64\n",
      "fare            float64\n",
      "embarked         object\n",
      "class            object\n",
      "who              object\n",
      "adult_male         bool\n",
      "deck             object\n",
      "embark_town      object\n",
      "alive            object\n",
      "alone              bool\n",
      "AgeCategory    category\n",
      "dtype: object\n"
     ]
    }
   ],
   "source": [
    "print(titanicData.dtypes)"
   ]
  },
  {
   "cell_type": "markdown",
   "metadata": {},
   "source": [
    "**Q126.** Write a pandas program to create the Pivot table and find survival rate by the gender, age of the different categories of various classes."
   ]
  },
  {
   "cell_type": "code",
   "execution_count": 116,
   "metadata": {},
   "outputs": [
    {
     "name": "stdout",
     "output_type": "stream",
     "text": [
      "survival_Rate by gender\n",
      " sex     AgeCategory\n",
      "female  0-10           0.612903\n",
      "        10-30          0.748031\n",
      "        30-60          0.800000\n",
      "        60-80          1.000000\n",
      "male    0-10           0.575758\n",
      "        10-30          0.151376\n",
      "        30-60          0.213115\n",
      "        60-80          0.105263\n",
      "Name: survived, dtype: float64\n"
     ]
    }
   ],
   "source": [
    "pivotTable1 = pd.pivot_table(data=titanicData, index=['sex','AgeCategory'])\n",
    "print(\"survival_Rate by gender\\n\", pivotTable1[\"survived\"])"
   ]
  },
  {
   "cell_type": "markdown",
   "metadata": {},
   "source": [
    "**Q127.** Write a pandas program to create the Pivot table and calculate number of women and men were in a particular cabin class."
   ]
  },
  {
   "cell_type": "code",
   "execution_count": 117,
   "metadata": {},
   "outputs": [
    {
     "data": {
      "text/html": [
       "<div>\n",
       "<style scoped>\n",
       "    .dataframe tbody tr th:only-of-type {\n",
       "        vertical-align: middle;\n",
       "    }\n",
       "\n",
       "    .dataframe tbody tr th {\n",
       "        vertical-align: top;\n",
       "    }\n",
       "\n",
       "    .dataframe thead tr th {\n",
       "        text-align: left;\n",
       "    }\n",
       "\n",
       "    .dataframe thead tr:last-of-type th {\n",
       "        text-align: right;\n",
       "    }\n",
       "</style>\n",
       "<table border=\"1\" class=\"dataframe\">\n",
       "  <thead>\n",
       "    <tr>\n",
       "      <th></th>\n",
       "      <th colspan=\"3\" halign=\"left\">AgeCategory</th>\n",
       "      <th colspan=\"3\" halign=\"left\">adult_male</th>\n",
       "      <th colspan=\"3\" halign=\"left\">age</th>\n",
       "      <th colspan=\"3\" halign=\"left\">alive</th>\n",
       "      <th colspan=\"3\" halign=\"left\">alone</th>\n",
       "      <th colspan=\"3\" halign=\"left\">class</th>\n",
       "      <th colspan=\"3\" halign=\"left\">deck</th>\n",
       "      <th colspan=\"3\" halign=\"left\">embark_town</th>\n",
       "      <th colspan=\"3\" halign=\"left\">embarked</th>\n",
       "      <th colspan=\"3\" halign=\"left\">fare</th>\n",
       "      <th colspan=\"3\" halign=\"left\">parch</th>\n",
       "      <th colspan=\"3\" halign=\"left\">sibsp</th>\n",
       "      <th colspan=\"3\" halign=\"left\">survived</th>\n",
       "      <th colspan=\"3\" halign=\"left\">who</th>\n",
       "    </tr>\n",
       "    <tr>\n",
       "      <th>pclass</th>\n",
       "      <th>1</th>\n",
       "      <th>2</th>\n",
       "      <th>3</th>\n",
       "      <th>1</th>\n",
       "      <th>2</th>\n",
       "      <th>3</th>\n",
       "      <th>1</th>\n",
       "      <th>2</th>\n",
       "      <th>3</th>\n",
       "      <th>1</th>\n",
       "      <th>2</th>\n",
       "      <th>3</th>\n",
       "      <th>1</th>\n",
       "      <th>2</th>\n",
       "      <th>3</th>\n",
       "      <th>1</th>\n",
       "      <th>2</th>\n",
       "      <th>3</th>\n",
       "      <th>1</th>\n",
       "      <th>2</th>\n",
       "      <th>3</th>\n",
       "      <th>1</th>\n",
       "      <th>2</th>\n",
       "      <th>3</th>\n",
       "      <th>1</th>\n",
       "      <th>2</th>\n",
       "      <th>3</th>\n",
       "      <th>1</th>\n",
       "      <th>2</th>\n",
       "      <th>3</th>\n",
       "      <th>1</th>\n",
       "      <th>2</th>\n",
       "      <th>3</th>\n",
       "      <th>1</th>\n",
       "      <th>2</th>\n",
       "      <th>3</th>\n",
       "      <th>1</th>\n",
       "      <th>2</th>\n",
       "      <th>3</th>\n",
       "      <th>1</th>\n",
       "      <th>2</th>\n",
       "      <th>3</th>\n",
       "    </tr>\n",
       "    <tr>\n",
       "      <th>sex</th>\n",
       "      <th></th>\n",
       "      <th></th>\n",
       "      <th></th>\n",
       "      <th></th>\n",
       "      <th></th>\n",
       "      <th></th>\n",
       "      <th></th>\n",
       "      <th></th>\n",
       "      <th></th>\n",
       "      <th></th>\n",
       "      <th></th>\n",
       "      <th></th>\n",
       "      <th></th>\n",
       "      <th></th>\n",
       "      <th></th>\n",
       "      <th></th>\n",
       "      <th></th>\n",
       "      <th></th>\n",
       "      <th></th>\n",
       "      <th></th>\n",
       "      <th></th>\n",
       "      <th></th>\n",
       "      <th></th>\n",
       "      <th></th>\n",
       "      <th></th>\n",
       "      <th></th>\n",
       "      <th></th>\n",
       "      <th></th>\n",
       "      <th></th>\n",
       "      <th></th>\n",
       "      <th></th>\n",
       "      <th></th>\n",
       "      <th></th>\n",
       "      <th></th>\n",
       "      <th></th>\n",
       "      <th></th>\n",
       "      <th></th>\n",
       "      <th></th>\n",
       "      <th></th>\n",
       "      <th></th>\n",
       "      <th></th>\n",
       "      <th></th>\n",
       "    </tr>\n",
       "  </thead>\n",
       "  <tbody>\n",
       "    <tr>\n",
       "      <th>female</th>\n",
       "      <td>85</td>\n",
       "      <td>74</td>\n",
       "      <td>102</td>\n",
       "      <td>94</td>\n",
       "      <td>76</td>\n",
       "      <td>144</td>\n",
       "      <td>85</td>\n",
       "      <td>74</td>\n",
       "      <td>102</td>\n",
       "      <td>94</td>\n",
       "      <td>76</td>\n",
       "      <td>144</td>\n",
       "      <td>94</td>\n",
       "      <td>76</td>\n",
       "      <td>144</td>\n",
       "      <td>94</td>\n",
       "      <td>76</td>\n",
       "      <td>144</td>\n",
       "      <td>81</td>\n",
       "      <td>10</td>\n",
       "      <td>6</td>\n",
       "      <td>92</td>\n",
       "      <td>76</td>\n",
       "      <td>144</td>\n",
       "      <td>92</td>\n",
       "      <td>76</td>\n",
       "      <td>144</td>\n",
       "      <td>94</td>\n",
       "      <td>76</td>\n",
       "      <td>144</td>\n",
       "      <td>94</td>\n",
       "      <td>76</td>\n",
       "      <td>144</td>\n",
       "      <td>94</td>\n",
       "      <td>76</td>\n",
       "      <td>144</td>\n",
       "      <td>94</td>\n",
       "      <td>76</td>\n",
       "      <td>144</td>\n",
       "      <td>94</td>\n",
       "      <td>76</td>\n",
       "      <td>144</td>\n",
       "    </tr>\n",
       "    <tr>\n",
       "      <th>male</th>\n",
       "      <td>101</td>\n",
       "      <td>99</td>\n",
       "      <td>253</td>\n",
       "      <td>122</td>\n",
       "      <td>108</td>\n",
       "      <td>347</td>\n",
       "      <td>101</td>\n",
       "      <td>99</td>\n",
       "      <td>253</td>\n",
       "      <td>122</td>\n",
       "      <td>108</td>\n",
       "      <td>347</td>\n",
       "      <td>122</td>\n",
       "      <td>108</td>\n",
       "      <td>347</td>\n",
       "      <td>122</td>\n",
       "      <td>108</td>\n",
       "      <td>347</td>\n",
       "      <td>94</td>\n",
       "      <td>6</td>\n",
       "      <td>6</td>\n",
       "      <td>122</td>\n",
       "      <td>108</td>\n",
       "      <td>347</td>\n",
       "      <td>122</td>\n",
       "      <td>108</td>\n",
       "      <td>347</td>\n",
       "      <td>122</td>\n",
       "      <td>108</td>\n",
       "      <td>347</td>\n",
       "      <td>122</td>\n",
       "      <td>108</td>\n",
       "      <td>347</td>\n",
       "      <td>122</td>\n",
       "      <td>108</td>\n",
       "      <td>347</td>\n",
       "      <td>122</td>\n",
       "      <td>108</td>\n",
       "      <td>347</td>\n",
       "      <td>122</td>\n",
       "      <td>108</td>\n",
       "      <td>347</td>\n",
       "    </tr>\n",
       "  </tbody>\n",
       "</table>\n",
       "</div>"
      ],
      "text/plain": [
       "       AgeCategory          adult_male            age          alive           alone           class           deck        embark_town           embarked           fare           parch           sibsp           survived            who          \n",
       "pclass           1   2    3          1    2    3    1   2    3     1    2    3     1    2    3     1    2    3    1   2  3           1    2    3        1    2    3    1    2    3     1    2    3     1    2    3        1    2    3    1    2    3\n",
       "sex                                                                                                                                                                                                                                                 \n",
       "female          85  74  102         94   76  144   85  74  102    94   76  144    94   76  144    94   76  144   81  10  6          92   76  144       92   76  144   94   76  144    94   76  144    94   76  144       94   76  144   94   76  144\n",
       "male           101  99  253        122  108  347  101  99  253   122  108  347   122  108  347   122  108  347   94   6  6         122  108  347      122  108  347  122  108  347   122  108  347   122  108  347      122  108  347  122  108  347"
      ]
     },
     "execution_count": 117,
     "metadata": {},
     "output_type": "execute_result"
    }
   ],
   "source": [
    "pivotTable2 = titanicData.pivot_table(index=['sex'],columns = [\"pclass\"], aggfunc=\"count\")\n",
    "pivotTable2\n",
    "# print(\"survival_Rate by gender\\n\", pivotTable1[\"survived\"])\n"
   ]
  },
  {
   "cell_type": "code",
   "execution_count": 118,
   "metadata": {},
   "outputs": [
    {
     "data": {
      "text/html": [
       "<div>\n",
       "<style scoped>\n",
       "    .dataframe tbody tr th:only-of-type {\n",
       "        vertical-align: middle;\n",
       "    }\n",
       "\n",
       "    .dataframe tbody tr th {\n",
       "        vertical-align: top;\n",
       "    }\n",
       "\n",
       "    .dataframe thead tr th {\n",
       "        text-align: left;\n",
       "    }\n",
       "\n",
       "    .dataframe thead tr:last-of-type th {\n",
       "        text-align: right;\n",
       "    }\n",
       "</style>\n",
       "<table border=\"1\" class=\"dataframe\">\n",
       "  <thead>\n",
       "    <tr>\n",
       "      <th></th>\n",
       "      <th colspan=\"3\" halign=\"left\">who</th>\n",
       "    </tr>\n",
       "    <tr>\n",
       "      <th>pclass</th>\n",
       "      <th>1</th>\n",
       "      <th>2</th>\n",
       "      <th>3</th>\n",
       "    </tr>\n",
       "    <tr>\n",
       "      <th>sex</th>\n",
       "      <th></th>\n",
       "      <th></th>\n",
       "      <th></th>\n",
       "    </tr>\n",
       "  </thead>\n",
       "  <tbody>\n",
       "    <tr>\n",
       "      <th>female</th>\n",
       "      <td>94</td>\n",
       "      <td>76</td>\n",
       "      <td>144</td>\n",
       "    </tr>\n",
       "    <tr>\n",
       "      <th>male</th>\n",
       "      <td>122</td>\n",
       "      <td>108</td>\n",
       "      <td>347</td>\n",
       "    </tr>\n",
       "  </tbody>\n",
       "</table>\n",
       "</div>"
      ],
      "text/plain": [
       "        who          \n",
       "pclass    1    2    3\n",
       "sex                  \n",
       "female   94   76  144\n",
       "male    122  108  347"
      ]
     },
     "execution_count": 118,
     "metadata": {},
     "output_type": "execute_result"
    }
   ],
   "source": [
    "pivotTable2 = titanicData[[\"sex\",\"pclass\",\"who\"]].pivot_table(index=['sex'],columns =[\"pclass\"], aggfunc=\"count\")\n",
    "pivotTable2\n",
    "# print(\"survival_Rate by gender\\n\", pivotTable1[\"survived\"])"
   ]
  },
  {
   "cell_type": "markdown",
   "metadata": {},
   "source": [
    "**Q128.** Write a pandas program to create the Pivot table and separate the gender according to whether they travelled alone or not, to get the probability of survival."
   ]
  },
  {
   "cell_type": "code",
   "execution_count": 119,
   "metadata": {},
   "outputs": [
    {
     "data": {
      "text/html": [
       "<div>\n",
       "<style scoped>\n",
       "    .dataframe tbody tr th:only-of-type {\n",
       "        vertical-align: middle;\n",
       "    }\n",
       "\n",
       "    .dataframe tbody tr th {\n",
       "        vertical-align: top;\n",
       "    }\n",
       "\n",
       "    .dataframe thead th {\n",
       "        text-align: right;\n",
       "    }\n",
       "</style>\n",
       "<table border=\"1\" class=\"dataframe\">\n",
       "  <thead>\n",
       "    <tr style=\"text-align: right;\">\n",
       "      <th></th>\n",
       "      <th>pclass</th>\n",
       "      <th>1</th>\n",
       "      <th>2</th>\n",
       "      <th>3</th>\n",
       "    </tr>\n",
       "    <tr>\n",
       "      <th>sex</th>\n",
       "      <th>alone</th>\n",
       "      <th></th>\n",
       "      <th></th>\n",
       "      <th></th>\n",
       "    </tr>\n",
       "  </thead>\n",
       "  <tbody>\n",
       "    <tr>\n",
       "      <th rowspan=\"2\" valign=\"top\">female</th>\n",
       "      <th>False</th>\n",
       "      <td>60</td>\n",
       "      <td>44</td>\n",
       "      <td>84</td>\n",
       "    </tr>\n",
       "    <tr>\n",
       "      <th>True</th>\n",
       "      <td>34</td>\n",
       "      <td>32</td>\n",
       "      <td>60</td>\n",
       "    </tr>\n",
       "    <tr>\n",
       "      <th rowspan=\"2\" valign=\"top\">male</th>\n",
       "      <th>False</th>\n",
       "      <td>47</td>\n",
       "      <td>36</td>\n",
       "      <td>83</td>\n",
       "    </tr>\n",
       "    <tr>\n",
       "      <th>True</th>\n",
       "      <td>75</td>\n",
       "      <td>72</td>\n",
       "      <td>264</td>\n",
       "    </tr>\n",
       "  </tbody>\n",
       "</table>\n",
       "</div>"
      ],
      "text/plain": [
       "pclass         1   2    3\n",
       "sex    alone             \n",
       "female False  60  44   84\n",
       "       True   34  32   60\n",
       "male   False  47  36   83\n",
       "       True   75  72  264"
      ]
     },
     "execution_count": 119,
     "metadata": {},
     "output_type": "execute_result"
    }
   ],
   "source": [
    "pivotTable3 = titanicData.pivot_table(\"survived\", index=['sex', 'alone'],columns = 'pclass',aggfunc=\"count\")\n",
    "pivotTable3\n"
   ]
  },
  {
   "cell_type": "markdown",
   "metadata": {},
   "source": [
    "Analysis: \n",
    "1. female survived who travelled alone in pclass 1 = 34"
   ]
  },
  {
   "cell_type": "markdown",
   "metadata": {},
   "source": [
    "**Q129.** Write a pandas program to create the Pivot table and find the probability of survival by class, gender, solo boarding, and the port of embarkation."
   ]
  },
  {
   "cell_type": "code",
   "execution_count": 122,
   "metadata": {},
   "outputs": [
    {
     "data": {
      "text/html": [
       "<div>\n",
       "<style scoped>\n",
       "    .dataframe tbody tr th:only-of-type {\n",
       "        vertical-align: middle;\n",
       "    }\n",
       "\n",
       "    .dataframe tbody tr th {\n",
       "        vertical-align: top;\n",
       "    }\n",
       "\n",
       "    .dataframe thead tr th {\n",
       "        text-align: left;\n",
       "    }\n",
       "\n",
       "    .dataframe thead tr:last-of-type th {\n",
       "        text-align: right;\n",
       "    }\n",
       "</style>\n",
       "<table border=\"1\" class=\"dataframe\">\n",
       "  <thead>\n",
       "    <tr>\n",
       "      <th></th>\n",
       "      <th>alone</th>\n",
       "      <th colspan=\"3\" halign=\"left\">False</th>\n",
       "      <th colspan=\"3\" halign=\"left\">True</th>\n",
       "    </tr>\n",
       "    <tr>\n",
       "      <th></th>\n",
       "      <th>embarked</th>\n",
       "      <th>C</th>\n",
       "      <th>Q</th>\n",
       "      <th>S</th>\n",
       "      <th>C</th>\n",
       "      <th>Q</th>\n",
       "      <th>S</th>\n",
       "    </tr>\n",
       "    <tr>\n",
       "      <th>pclass</th>\n",
       "      <th>sex</th>\n",
       "      <th></th>\n",
       "      <th></th>\n",
       "      <th></th>\n",
       "      <th></th>\n",
       "      <th></th>\n",
       "      <th></th>\n",
       "    </tr>\n",
       "  </thead>\n",
       "  <tbody>\n",
       "    <tr>\n",
       "      <th rowspan=\"2\" valign=\"top\">1</th>\n",
       "      <th>female</th>\n",
       "      <td>1.000000</td>\n",
       "      <td>1.000</td>\n",
       "      <td>0.941176</td>\n",
       "      <td>0.944444</td>\n",
       "      <td>NaN</td>\n",
       "      <td>1.000000</td>\n",
       "    </tr>\n",
       "    <tr>\n",
       "      <th>male</th>\n",
       "      <td>0.473684</td>\n",
       "      <td>0.000</td>\n",
       "      <td>0.407407</td>\n",
       "      <td>0.347826</td>\n",
       "      <td>NaN</td>\n",
       "      <td>0.326923</td>\n",
       "    </tr>\n",
       "    <tr>\n",
       "      <th rowspan=\"2\" valign=\"top\">2</th>\n",
       "      <th>female</th>\n",
       "      <td>1.000000</td>\n",
       "      <td>NaN</td>\n",
       "      <td>0.923077</td>\n",
       "      <td>1.000000</td>\n",
       "      <td>1.000000</td>\n",
       "      <td>0.892857</td>\n",
       "    </tr>\n",
       "    <tr>\n",
       "      <th>male</th>\n",
       "      <td>0.166667</td>\n",
       "      <td>NaN</td>\n",
       "      <td>0.300000</td>\n",
       "      <td>0.250000</td>\n",
       "      <td>0.000000</td>\n",
       "      <td>0.089552</td>\n",
       "    </tr>\n",
       "    <tr>\n",
       "      <th rowspan=\"2\" valign=\"top\">3</th>\n",
       "      <th>female</th>\n",
       "      <td>0.611111</td>\n",
       "      <td>0.625</td>\n",
       "      <td>0.327586</td>\n",
       "      <td>0.800000</td>\n",
       "      <td>0.760000</td>\n",
       "      <td>0.466667</td>\n",
       "    </tr>\n",
       "    <tr>\n",
       "      <th>male</th>\n",
       "      <td>0.500000</td>\n",
       "      <td>0.100</td>\n",
       "      <td>0.142857</td>\n",
       "      <td>0.151515</td>\n",
       "      <td>0.068966</td>\n",
       "      <td>0.123762</td>\n",
       "    </tr>\n",
       "  </tbody>\n",
       "</table>\n",
       "</div>"
      ],
      "text/plain": [
       "alone             False                      True                     \n",
       "embarked              C      Q         S         C         Q         S\n",
       "pclass sex                                                            \n",
       "1      female  1.000000  1.000  0.941176  0.944444       NaN  1.000000\n",
       "       male    0.473684  0.000  0.407407  0.347826       NaN  0.326923\n",
       "2      female  1.000000    NaN  0.923077  1.000000  1.000000  0.892857\n",
       "       male    0.166667    NaN  0.300000  0.250000  0.000000  0.089552\n",
       "3      female  0.611111  0.625  0.327586  0.800000  0.760000  0.466667\n",
       "       male    0.500000  0.100  0.142857  0.151515  0.068966  0.123762"
      ]
     },
     "execution_count": 122,
     "metadata": {},
     "output_type": "execute_result"
    }
   ],
   "source": [
    "pivotTable4 = titanicData.pivot_table(\"survived\",index=['pclass','sex'],columns=[\"alone\",\"embarked\"])\n",
    "pivotTable4"
   ]
  },
  {
   "cell_type": "markdown",
   "metadata": {},
   "source": []
  },
  {
   "cell_type": "code",
   "execution_count": 123,
   "metadata": {},
   "outputs": [],
   "source": [
    "# import Ufo DataSet\n",
    "ufoDataFrame = pd.read_csv(\"ufo1.csv\", parse_dates = [\"Date_time\", 'date_documented'])"
   ]
  },
  {
   "cell_type": "code",
   "execution_count": 124,
   "metadata": {},
   "outputs": [
    {
     "data": {
      "text/plain": [
       "Index(['Date_time', 'city', 'state/province', 'country', 'UFO_shape', 'length_of_encounter_seconds', 'described_duration_of_encounter', 'description', 'date_documented', 'latitude', 'longitude'], dtype='object')"
      ]
     },
     "execution_count": 124,
     "metadata": {},
     "output_type": "execute_result"
    }
   ],
   "source": [
    "ufoDataFrame.columns"
   ]
  },
  {
   "cell_type": "code",
   "execution_count": 125,
   "metadata": {},
   "outputs": [
    {
     "data": {
      "text/html": [
       "<div>\n",
       "<style scoped>\n",
       "    .dataframe tbody tr th:only-of-type {\n",
       "        vertical-align: middle;\n",
       "    }\n",
       "\n",
       "    .dataframe tbody tr th {\n",
       "        vertical-align: top;\n",
       "    }\n",
       "\n",
       "    .dataframe thead th {\n",
       "        text-align: right;\n",
       "    }\n",
       "</style>\n",
       "<table border=\"1\" class=\"dataframe\">\n",
       "  <thead>\n",
       "    <tr style=\"text-align: right;\">\n",
       "      <th></th>\n",
       "      <th>Date_time</th>\n",
       "      <th>city</th>\n",
       "      <th>state/province</th>\n",
       "      <th>country</th>\n",
       "      <th>UFO_shape</th>\n",
       "      <th>length_of_encounter_seconds</th>\n",
       "      <th>described_duration_of_encounter</th>\n",
       "      <th>description</th>\n",
       "      <th>date_documented</th>\n",
       "      <th>latitude</th>\n",
       "      <th>longitude</th>\n",
       "    </tr>\n",
       "  </thead>\n",
       "  <tbody>\n",
       "    <tr>\n",
       "      <th>342</th>\n",
       "      <td>2004-04-05 20:35:00</td>\n",
       "      <td>miami</td>\n",
       "      <td>fl</td>\n",
       "      <td>us</td>\n",
       "      <td>unknown</td>\n",
       "      <td>60</td>\n",
       "      <td>1 minute</td>\n",
       "      <td>It looked like a star and moved in a circular ...</td>\n",
       "      <td>2004-04-09</td>\n",
       "      <td>25.773889</td>\n",
       "      <td>-80.193889</td>\n",
       "    </tr>\n",
       "    <tr>\n",
       "      <th>343</th>\n",
       "      <td>2004-10-06 23:00:00</td>\n",
       "      <td>placerville</td>\n",
       "      <td>ca</td>\n",
       "      <td>us</td>\n",
       "      <td>disk</td>\n",
       "      <td>3600</td>\n",
       "      <td>1 hour</td>\n",
       "      <td>I saw 5 saucers above Placerville CA.  ((NUFOR...</td>\n",
       "      <td>2004-10-27</td>\n",
       "      <td>38.729722</td>\n",
       "      <td>-120.797500</td>\n",
       "    </tr>\n",
       "    <tr>\n",
       "      <th>344</th>\n",
       "      <td>2004-11-07 20:30:00</td>\n",
       "      <td>lavina (near)</td>\n",
       "      <td>mt</td>\n",
       "      <td>us</td>\n",
       "      <td>disk</td>\n",
       "      <td>3600</td>\n",
       "      <td>over an hour</td>\n",
       "      <td>Many unusual lights on one object.  ((NUFORC N...</td>\n",
       "      <td>2004-11-09</td>\n",
       "      <td>46.294722</td>\n",
       "      <td>-108.937222</td>\n",
       "    </tr>\n",
       "    <tr>\n",
       "      <th>345</th>\n",
       "      <td>2004-12-08 05:30:00</td>\n",
       "      <td>montreal (canada)</td>\n",
       "      <td>qc</td>\n",
       "      <td>ca</td>\n",
       "      <td>oval</td>\n",
       "      <td>30</td>\n",
       "      <td>about 30 seconds</td>\n",
       "      <td>Bright yellow light at the horizon in the East...</td>\n",
       "      <td>2007-08-07</td>\n",
       "      <td>45.500000</td>\n",
       "      <td>-73.583333</td>\n",
       "    </tr>\n",
       "    <tr>\n",
       "      <th>346</th>\n",
       "      <td>2004-02-10 05:15:00</td>\n",
       "      <td>mansfield</td>\n",
       "      <td>oh</td>\n",
       "      <td>us</td>\n",
       "      <td>other</td>\n",
       "      <td>3</td>\n",
       "      <td>3 seconds</td>\n",
       "      <td>THE OBJECT WAS STREAKING&amp;#44 THEN VANISHED</td>\n",
       "      <td>2004-02-12</td>\n",
       "      <td>40.758333</td>\n",
       "      <td>-82.515556</td>\n",
       "    </tr>\n",
       "  </tbody>\n",
       "</table>\n",
       "</div>"
      ],
      "text/plain": [
       "              Date_time               city state/province country UFO_shape  length_of_encounter_seconds described_duration_of_encounter                                        description date_documented   latitude   longitude\n",
       "342 2004-04-05 20:35:00              miami             fl      us   unknown                           60                        1 minute  It looked like a star and moved in a circular ...      2004-04-09  25.773889  -80.193889\n",
       "343 2004-10-06 23:00:00        placerville             ca      us      disk                         3600                          1 hour  I saw 5 saucers above Placerville CA.  ((NUFOR...      2004-10-27  38.729722 -120.797500\n",
       "344 2004-11-07 20:30:00      lavina (near)             mt      us      disk                         3600                    over an hour  Many unusual lights on one object.  ((NUFORC N...      2004-11-09  46.294722 -108.937222\n",
       "345 2004-12-08 05:30:00  montreal (canada)             qc      ca      oval                           30                about 30 seconds  Bright yellow light at the horizon in the East...      2007-08-07  45.500000  -73.583333\n",
       "346 2004-02-10 05:15:00          mansfield             oh      us     other                            3                       3 seconds         THE OBJECT WAS STREAKING&#44 THEN VANISHED      2004-02-12  40.758333  -82.515556"
      ]
     },
     "execution_count": 125,
     "metadata": {},
     "output_type": "execute_result"
    }
   ],
   "source": [
    "ufoDataFrame.tail()"
   ]
  },
  {
   "cell_type": "code",
   "execution_count": 126,
   "metadata": {},
   "outputs": [
    {
     "name": "stdout",
     "output_type": "stream",
     "text": [
      "<class 'pandas.core.frame.DataFrame'>\n",
      "RangeIndex: 347 entries, 0 to 346\n",
      "Data columns (total 11 columns):\n",
      " #   Column                           Non-Null Count  Dtype         \n",
      "---  ------                           --------------  -----         \n",
      " 0   Date_time                        347 non-null    datetime64[ns]\n",
      " 1   city                             347 non-null    object        \n",
      " 2   state/province                   347 non-null    object        \n",
      " 3   country                          347 non-null    object        \n",
      " 4   UFO_shape                        347 non-null    object        \n",
      " 5   length_of_encounter_seconds      347 non-null    int64         \n",
      " 6   described_duration_of_encounter  347 non-null    object        \n",
      " 7   description                      347 non-null    object        \n",
      " 8   date_documented                  347 non-null    datetime64[ns]\n",
      " 9   latitude                         347 non-null    float64       \n",
      " 10  longitude                        347 non-null    float64       \n",
      "dtypes: datetime64[ns](2), float64(2), int64(1), object(6)\n",
      "memory usage: 29.9+ KB\n"
     ]
    }
   ],
   "source": [
    "ufoDataFrame.info()"
   ]
  },
  {
   "cell_type": "markdown",
   "metadata": {},
   "source": [
    "**Q130.** Write a pandas program to get current date, oldest date and number of days between Current date and the oldest date of Ufo dataset."
   ]
  },
  {
   "cell_type": "code",
   "execution_count": 127,
   "metadata": {},
   "outputs": [
    {
     "name": "stdout",
     "output_type": "stream",
     "text": [
      "Current Date--> 2020-06-16\n",
      "Oldest date of Ufo Dataset-->  1910-06-01\n",
      "number of days =  40193 days\n",
      "number of weeks =   5741.857143\n",
      "number of months =   1320.536356\n"
     ]
    }
   ],
   "source": [
    "import datetime as dt\n",
    "from datetime import date\n",
    "\n",
    "# get current date\n",
    "# today = dt.datetime.today().strftime('%m-%d-%Y') \n",
    "today = date.today()\n",
    "\n",
    "print(\"Current Date-->\",today)\n",
    "\n",
    "# oldest date in ufo Dataset\n",
    "date_sorted = ufoDataFrame.sort_values(\"Date_time\")\n",
    "old_date = date_sorted[\"Date_time\"].head(1).dt.date\n",
    "print(\"Oldest date of Ufo Dataset-->\", old_date.to_string(index = False))\n",
    "\n",
    "# number of days between current date and oldest date of UFO Dataset\n",
    "num_days = (today - old_date)\n",
    "print(\"number of days = \", num_days.to_string(index = False))\n",
    "\n",
    "# number of weeks between current date and oldest date\n",
    "num_weeks =num_days/np.timedelta64(1,'W')\n",
    "print(\"number of weeks = \", num_weeks.to_string(index = False))\n",
    "\n",
    "# number of months between current date and oldest date\n",
    "num_months =num_days/np.timedelta64(1,'M')\n",
    "print(\"number of months = \", num_months.to_string(index = False))"
   ]
  },
  {
   "cell_type": "markdown",
   "metadata": {},
   "source": [
    "**Q131.** Write a pandas program to get all sighting days of the unidentified flying object (ufo) between 1950-10-10 and 1960-10-10."
   ]
  },
  {
   "cell_type": "code",
   "execution_count": 128,
   "metadata": {},
   "outputs": [
    {
     "name": "stdout",
     "output_type": "stream",
     "text": [
      "all sighting days of the Ufo between 1950-10-10 and 1960-10-10-->\n",
      "              Date_time                           city state/province country UFO_shape  length_of_encounter_seconds described_duration_of_encounter                                        description date_documented   latitude   longitude\n",
      "33 1951-06-01 07:00:00               brandon (canada)             mb      ca      disk                         1800                      30 minutes  Circular Craft and Man in Black Sighted in Sum...      2001-02-18  49.833333  -99.950000\n",
      "34 1951-07-01 03:00:00                  otis orchards             wa      us      disk                          120                      ~2 minutes  Cigar shaped Disc darting back and forth (East...      2013-12-23  47.700556 -117.105278\n",
      "35 1951-02-03 22:00:00                  thompsonville             ct      us      disk                           30                      30 seconds  A golden-orange glowing bowl&#44 flat on top&#...      2004-07-25  41.996944  -72.599444\n",
      "36 1951-06-03 13:00:00                         jasper             nc      us      oval                          300                       5 minutes  MIDDAY OVAL SHAPE&#44 ANITQUE COLOR OBJECT SIT...      2005-06-20  35.201389  -77.206944\n",
      "37 1952-07-01 15:00:00                         sebeka             mn      us     other                         1800                          30 min  Silver donut shape object sighted over rural M...      2011-12-12  46.630000  -95.088611\n",
      "38 1952-07-01 22:00:00                        detroit             mi      us    sphere                          300                       5 minutes  object sits stationary for 5 minutes and then ...      2003-10-31  42.331389  -83.045833\n",
      "39 1952-08-01 21:30:00                          tampa             fl      us      oval                         9000                  2 hrs. 30 min.  Triangulation radar fix (USAF&#44 civil&#44 Na...      2000-12-02  27.947222  -82.458611\n",
      "40 1952-10-01 12:00:00                    kansas city             mo      us      disk                           90                         90 sec.  1952 daylight sighting of multiple discs in fo...      2008-10-31  39.099722  -94.578333\n",
      "41 1953-04-01 15:00:00                      haverhill             ma      us   chevron                            2                         seconds                Historical account&#44 Haverhill MA      2005-09-02  42.776111  -71.077778\n",
      "42 1953-04-01 18:00:00                      cambridge             ma      us    sphere                          180                       3 minutes  Two red-orange lights skirted Boston rooftops ...      2013-07-14  42.375000  -71.106111\n",
      "43 1953-07-01 05:30:00  colorado springs (mtsn nw of)             co      us      disk                           10                      10 seconds  Absolutely huge UFO hovered 40 feet above hous...      2004-07-25  38.833889 -104.820833\n",
      "44 1953-08-01 12:00:00                       berkeley             mo      us  fireball                          300                       5 minutes    Early 50&#39s sighting in Berkeley&#44 Missouri      2004-01-22  38.754444  -90.331111\n",
      "45 1954-02-01 02:00:00                      fairbanks             ak      us   unknown                         1140                         19 min.  RADAR INTERCEPT OF UFO BY USAF PILOT IN ALASKA...      2009-01-10  64.837778 -147.716389\n",
      "46 1954-06-01 00:00:00                        houston             tx      us      disk                          180                     2-3 minutes  I fulfilled my duty by passing on an unusual a...      2008-06-12  29.763056  -95.363056\n",
      "47 1954-06-01 06:00:00                           ovid             ny      us      disk                          600                         10 min.  I saw two silver/gray objects of different sha...      2001-12-05  42.676389  -76.823333\n",
      "48 1954-06-01 08:00:00  springfield (rural area near)             il      us  cylinder                          600                      5-10 mins.  This happened many years ago when I was a chil...      2000-12-02  39.801667  -89.643611\n",
      "49 1955-05-01 15:00:00                       holbrook             ma      us       egg                           60                        1 minute  I turned around and over the trees was a large...      2005-04-16  42.155000  -71.009167\n",
      "50 1955-06-01 02:00:00                         bagley             mn      us    circle                         7200                         2 hours  I was 5 years old at the time&#44 family of 4 ...      1999-05-24  47.521667  -95.398056\n",
      "51 1955-06-01 15:29:00                     cincinnati             oh      us      disk                          120               approx. 1-1/2 min  June 1955.  Bronze saucer/cylindrical craft; a...      2003-06-18  39.161944  -84.456944\n",
      "52 1955-06-01 17:00:00           martinez (outskirts)             ca      us    circle                         1800                      30 minutes  We observed a large object aprox.size &quot;fo...      2000-02-16  38.019444 -122.133056\n",
      "53 1956-01-01 05:30:00                        weirton             wv      us      disk                           10                      10 seconds  My Uncle Sam was driving to work very early on...      2000-01-07  40.418889  -80.589722\n",
      "54 1956-03-01 13:00:00                       petaluma             ca      us      oval                         1800                      30 minutes  Objects were several thousand feet in altitude...      1999-01-28  38.232500 -122.635556\n",
      "55 1956-05-01 12:00:00                         canton             oh      us     cigar                          120                       2 minutes  At first the silver disc was stationary. As it...      2005-09-15  40.798889  -81.378611\n",
      "56 1956-06-01 19:00:00                         belton             mo      us     other                          600                          10min.  THE EVENT WAS A PERSONAL CONTACT WITH AN ALIEN...      1999-01-28  38.811944  -94.531667\n",
      "57 1957-01-01 21:00:00                         dallas             tx      us   unknown                           20                      20 seconds  I was flying the first of 4 USAF aircraft on a...      2004-08-24  32.783333  -96.800000\n",
      "58 1957-05-01 12:00:00                         canton             oh      us     cigar                          180                       3 minutes  Cigar shaped object is motionless for more tha...      2004-04-27  40.798889  -81.378611\n",
      "59 1957-06-01 10:00:00                        el paso             tx      us      disk                            7                  5 to 7 seconds  The UFO did not make any sounds.  The craft&#3...      2002-07-26  31.758611 -106.486389\n",
      "60 1957-06-01 20:00:00                    glens falls             ny      us      disk                          240                         3or4min  there was no mistakeing what i was looking at ...      2000-12-02  43.309444  -73.644444\n",
      "61 1958-01-01 22:00:00                            pep             tx      us  fireball                            2                            2sec  Green fire balls&#44 Texas Panhandle&#44 late ...      2009-12-12  33.816111 -102.557778\n",
      "62 1958-06-01 02:00:00                      middlesex             nc      us    circle                         3600                          1 hour                               white glowing lights      2006-03-11  35.790000  -78.204167\n",
      "63 1958-06-01 19:00:00                  san francisco             ca      us      oval                          120                       2 minutes  A low flying huge silver flying saucer positio...      2003-10-31  37.775000 -122.418333\n",
      "64 1958-06-01 21:00:00          new york city (bronx)             ny      us      oval                           10                      10 seconds  7 brightly illuminated elliptical discs racing...      2005-04-16  40.714167  -74.006389\n",
      "65 1959-04-01 01:00:00                          miami             fl      us    sphere                         2700                   30-45 minutes  1959 childhood encounter with a spherical&#44 ...      2008-02-14  25.773889  -80.193889\n",
      "66 1959-05-01 18:30:00                       columbus             oh      us     light                          180                         2-3 min  Red-orange lights over seen motionless over Lo...      2002-02-22  39.961111  -82.998889\n",
      "67 1959-06-01 12:00:00                         orange             ct      us  cylinder                         3600                         1 hour?  Sighted craft and transport of object to the g...      2009-03-19  41.278333  -73.026111\n",
      "68 1959-06-01 18:30:00                         sidney             oh      us     light                          300                       5 minutes  Saw a bright light shining down.  Pulled over ...      2007-04-27  40.284167  -84.155556\n",
      "69 1960-02-01 22:15:00                       st. paul             mn      us     cigar                            3                       3 seconds  A cigar-shaped UFO glided down towards the ear...      2000-03-16  44.944444  -93.093056\n",
      "70 1960-02-01 23:00:00                       hartwell             ga      us     cigar                           45         approx 30 to 45 seconds  My father explained an event of a large cigar-...      2005-04-16  34.352778  -82.932222\n",
      "71 1960-04-01 21:00:00                        houston             tx      us     other                          300                      <5 minutes  Sharp right angle turn in flight direction aft...      2003-12-19  29.763056  -95.363056\n",
      "72 1960-05-01 20:00:00                         tucson             az      us     light                          300                     4-5 minutes  Lights only&#44 no sound&#44 moving across the...      2005-09-02  32.221667 -110.925833\n"
     ]
    }
   ],
   "source": [
    "sighting_days = ufoDataFrame[(ufoDataFrame['Date_time']>='1950-10-10 00:00:00') & (ufoDataFrame['Date_time']<= '1960-10-10 23:59:59')]\n",
    "print(\"all sighting days of the Ufo between 1950-10-10 and 1960-10-10-->\\n\", sighting_days)"
   ]
  },
  {
   "cell_type": "markdown",
   "metadata": {},
   "source": [
    "**Q132.** Write a Pandas program to extract the year, month, day, hour, minute, second, and weekday from unidentified flying object (UFO) reporting date."
   ]
  },
  {
   "cell_type": "code",
   "execution_count": 129,
   "metadata": {},
   "outputs": [
    {
     "name": "stdout",
     "output_type": "stream",
     "text": [
      "1920-06-11 21:00:00\n",
      "Year--> 1920\n",
      "month--> 6\n",
      "day--> 11\n",
      "hour--> 21\n",
      "minute--> 0\n",
      "seconds--> 0\n",
      "weekday--> Friday\n"
     ]
    }
   ],
   "source": [
    "ufo_reporting_date = ufoDataFrame[\"Date_time\"].iloc[1]\n",
    "\n",
    "print(ufo_reporting_date)\n",
    "\n",
    "# extract the year\n",
    "\n",
    "print(\"Year-->\",ufo_reporting_date.year)\n",
    "\n",
    "# extract the month\n",
    "print(\"month-->\",ufo_reporting_date.month)\n",
    "\n",
    "# extract the day\n",
    "print(\"day-->\",ufo_reporting_date.day)\n",
    "\n",
    "# extract the hour\n",
    "print(\"hour-->\",ufo_reporting_date.hour)\n",
    "\n",
    "# extract the minute\n",
    "print(\"minute-->\",ufo_reporting_date.minute)\n",
    "\n",
    "# extract the second\n",
    "print(\"seconds-->\",ufo_reporting_date.second)\n",
    "\n",
    "# extract the weekday\n",
    "print(\"weekday-->\", ufo_reporting_date.day_name())"
   ]
  },
  {
   "cell_type": "markdown",
   "metadata": {},
   "source": [
    "**Q133.** Write a pandas program to count year-country wise frequency of reporting dates of the unidentified flying object(UFO)."
   ]
  },
  {
   "cell_type": "code",
   "execution_count": 130,
   "metadata": {},
   "outputs": [
    {
     "name": "stdout",
     "output_type": "stream",
     "text": [
      "count year-country wise frequency of reporting dates of the unidentified flying object(UFO) \n",
      " state/province  year\n",
      "ab              1993    1\n",
      "ak              1949    1\n",
      "                1954    1\n",
      "                1997    1\n",
      "                1998    1\n",
      "al              1939    1\n",
      "                1949    1\n",
      "                1972    1\n",
      "ar              1965    1\n",
      "                1984    1\n",
      "                1998    1\n",
      "                2003    1\n",
      "az              1960    1\n",
      "                1963    1\n",
      "                1966    1\n",
      "                1975    1\n",
      "                1980    1\n",
      "                1990    1\n",
      "                1993    1\n",
      "                1998    1\n",
      "                2000    2\n",
      "                2001    2\n",
      "bc              1995    1\n",
      "                1997    1\n",
      "                2000    1\n",
      "                2001    1\n",
      "ca              1944    1\n",
      "                1945    1\n",
      "                1946    1\n",
      "                1947    1\n",
      "                1955    1\n",
      "                1956    1\n",
      "                1958    1\n",
      "                1961    1\n",
      "                1964    1\n",
      "                1967    1\n",
      "                1968    1\n",
      "                1971    1\n",
      "                1972    1\n",
      "                1977    2\n",
      "                1978    2\n",
      "                1979    3\n",
      "                1981    3\n",
      "                1987    1\n",
      "                1990    1\n",
      "                1991    1\n",
      "                1992    1\n",
      "                1993    1\n",
      "                1994    1\n",
      "                1995    2\n",
      "                1996    1\n",
      "                1997    2\n",
      "                1998    3\n",
      "                1999    1\n",
      "                2001    2\n",
      "                2002    3\n",
      "                2003    3\n",
      "                2004    2\n",
      "co              1953    1\n",
      "                1974    1\n",
      "                1975    1\n",
      "                1976    1\n",
      "                1993    1\n",
      "                1998    2\n",
      "                2003    2\n",
      "ct              1951    1\n",
      "                1959    1\n",
      "                1980    1\n",
      "                1992    1\n",
      "                1995    1\n",
      "fl              1945    1\n",
      "                1952    1\n",
      "                1959    1\n",
      "                1962    1\n",
      "                1963    1\n",
      "                1967    1\n",
      "                1976    1\n",
      "                1985    1\n",
      "                1988    1\n",
      "                1990    1\n",
      "                1992    1\n",
      "                1994    2\n",
      "                2002    2\n",
      "                2004    1\n",
      "ga              1942    1\n",
      "                1960    1\n",
      "                1967    1\n",
      "                1971    1\n",
      "                1975    1\n",
      "                1999    1\n",
      "hi              1973    1\n",
      "                1993    1\n",
      "ia              1939    1\n",
      "                1965    1\n",
      "                2000    2\n",
      "id              1978    1\n",
      "                1983    1\n",
      "il              1954    1\n",
      "                1965    1\n",
      "                1969    1\n",
      "                1983    1\n",
      "                1984    1\n",
      "                1986    1\n",
      "                1988    1\n",
      "                1991    1\n",
      "                1996    1\n",
      "                1997    1\n",
      "                1998    1\n",
      "                2000    1\n",
      "                2001    2\n",
      "in              1920    1\n",
      "                1948    1\n",
      "                1961    1\n",
      "                1972    1\n",
      "                1980    1\n",
      "                1993    2\n",
      "                1996    1\n",
      "                1999    1\n",
      "                2001    1\n",
      "                2002    1\n",
      "                2004    1\n",
      "ks              1931    1\n",
      "                1985    1\n",
      "                1989    1\n",
      "                1991    1\n",
      "                2000    1\n",
      "ky              1950    2\n",
      "                1974    2\n",
      "                1986    1\n",
      "                1997    1\n",
      "la              1968    1\n",
      "                1969    1\n",
      "                1973    1\n",
      "                1994    1\n",
      "                1996    1\n",
      "ma              1953    2\n",
      "                1955    1\n",
      "                1966    1\n",
      "                1980    1\n",
      "                1987    1\n",
      "                1988    1\n",
      "                1996    1\n",
      "                1998    1\n",
      "                1999    1\n",
      "mb              1951    1\n",
      "                2002    1\n",
      "md              1948    1\n",
      "                1968    1\n",
      "                1982    1\n",
      "                1993    1\n",
      "                2000    1\n",
      "                2001    1\n",
      "                2002    1\n",
      "me              1946    1\n",
      "mi              1941    1\n",
      "                1952    1\n",
      "                1970    1\n",
      "                1985    1\n",
      "                1994    3\n",
      "                1997    1\n",
      "                1999    2\n",
      "mn              1952    1\n",
      "                1955    1\n",
      "                1960    1\n",
      "                1984    1\n",
      "                1991    1\n",
      "                2000    1\n",
      "mo              1952    1\n",
      "                1953    1\n",
      "                1956    1\n",
      "                1963    1\n",
      "                1966    1\n",
      "                1970    1\n",
      "                1983    1\n",
      "                1994    1\n",
      "                1995    1\n",
      "                1997    1\n",
      "                2002    2\n",
      "ms              1950    1\n",
      "                1983    1\n",
      "                1988    1\n",
      "                2001    1\n",
      "mt              1963    1\n",
      "                1986    1\n",
      "                2004    1\n",
      "nb              1994    1\n",
      "nc              1945    1\n",
      "                1951    1\n",
      "                1958    1\n",
      "                1982    1\n",
      "                1987    1\n",
      "                1992    1\n",
      "                1996    2\n",
      "                2003    1\n",
      "ne              1969    1\n",
      "                1993    1\n",
      "                1999    1\n",
      "nh              1971    1\n",
      "                1978    1\n",
      "                2001    1\n",
      "nj              1964    1\n",
      "                1968    1\n",
      "                1969    1\n",
      "                1982    1\n",
      "                1994    1\n",
      "                1995    1\n",
      "                2000    1\n",
      "                2003    1\n",
      "nm              1944    2\n",
      "                1947    1\n",
      "                1973    1\n",
      "                1996    1\n",
      "                2001    1\n",
      "nv              1967    1\n",
      "                1997    1\n",
      "                1999    1\n",
      "ny              1946    1\n",
      "                1948    1\n",
      "                1954    1\n",
      "                1957    1\n",
      "                1958    1\n",
      "                1970    2\n",
      "                1975    1\n",
      "                1977    2\n",
      "                1992    1\n",
      "                1993    1\n",
      "                1995    1\n",
      "                1996    1\n",
      "                2002    1\n",
      "oh              1947    1\n",
      "                1955    1\n",
      "                1956    1\n",
      "                1957    1\n",
      "                1959    2\n",
      "                1966    1\n",
      "                1995    1\n",
      "                1997    1\n",
      "                2002    2\n",
      "                2004    1\n",
      "ok              1962    1\n",
      "                1964    1\n",
      "                1981    1\n",
      "                1989    1\n",
      "on              1971    1\n",
      "                1989    1\n",
      "or              1929    1\n",
      "                1979    1\n",
      "                1984    1\n",
      "                1985    1\n",
      "                1992    1\n",
      "                2000    1\n",
      "                2001    1\n",
      "pa              1950    1\n",
      "                1961    1\n",
      "                1962    1\n",
      "                1976    1\n",
      "                1982    1\n",
      "                1989    1\n",
      "                1996    1\n",
      "                1999    2\n",
      "                2000    1\n",
      "qc              2004    1\n",
      "ri              1976    1\n",
      "                1998    1\n",
      "tn              1973    1\n",
      "                1997    1\n",
      "                1998    1\n",
      "tx              1910    1\n",
      "                1954    1\n",
      "                1957    2\n",
      "                1958    1\n",
      "                1960    1\n",
      "                1964    1\n",
      "                1965    1\n",
      "                1986    1\n",
      "                1987    1\n",
      "                1990    1\n",
      "                1992    1\n",
      "                1993    1\n",
      "                1997    1\n",
      "                1998    1\n",
      "                2002    1\n",
      "                2003    1\n",
      "ut              1994    1\n",
      "                1995    1\n",
      "va              1945    1\n",
      "                1995    1\n",
      "                2001    1\n",
      "wa              1947    1\n",
      "                1949    1\n",
      "                1951    1\n",
      "                1961    1\n",
      "                1962    1\n",
      "                1972    1\n",
      "                1974    1\n",
      "                1992    1\n",
      "                1993    1\n",
      "                1995    2\n",
      "                1996    2\n",
      "                1997    1\n",
      "                1999    1\n",
      "                2001    1\n",
      "wv              1949    1\n",
      "                1956    1\n",
      "wy              1997    1\n",
      "dtype: int64\n"
     ]
    }
   ],
   "source": [
    "# make a new column year in dataframe\n",
    "ufoDataFrame[\"year\"] = ufoDataFrame[\"Date_time\"].apply(lambda x: str(x.year))\n",
    "\n",
    "ufoDF = ufoDataFrame.groupby([\"state/province\",\"year\"]).size()  # size() function is used to get an \n",
    "                                                        #int representing the number of elements\n",
    "                                                        #in this object.\n",
    "print(\"count year-country wise frequency of reporting dates of the unidentified flying object(UFO) \\n\", ufoDF )"
   ]
  },
  {
   "cell_type": "markdown",
   "metadata": {},
   "source": [
    "**Q134.** Write a pandas program to get the difference (in days) between documented date and reporting date of unidentified flying object (UFO)."
   ]
  },
  {
   "cell_type": "code",
   "execution_count": 131,
   "metadata": {},
   "outputs": [
    {
     "name": "stdout",
     "output_type": "stream",
     "text": [
      "\n",
      "Difference (in days) between documented date and reporting date of UFO:\n",
      "0     34653 days\n",
      "1     32477 days\n",
      "2     26705 days\n",
      "3     27287 days\n",
      "4     27294 days\n",
      "5     24164 days\n",
      "6     22773 days\n",
      "7     23808 days\n",
      "8     22121 days\n",
      "9     23721 days\n",
      "10    22294 days\n",
      "11    23914 days\n",
      "12    22002 days\n",
      "13    21346 days\n",
      "14    21323 days\n",
      "15    21802 days\n",
      "16    22627 days\n",
      "17    22701 days\n",
      "18    19690 days\n",
      "19    24197 days\n",
      "20    21109 days\n",
      "21    21109 days\n",
      "22    20864 days\n",
      "23    20795 days\n",
      "24    22012 days\n",
      "25    19315 days\n",
      "26    23551 days\n",
      "27    20143 days\n",
      "28    20106 days\n",
      "29    21104 days\n",
      "30    20347 days\n",
      "31    22359 days\n",
      "32    19921 days\n",
      "33    18160 days\n",
      "34    22821 days\n",
      "35    19531 days\n",
      "36    19741 days\n",
      "37    21713 days\n",
      "38    18749 days\n",
      "39    17655 days\n",
      "40    20484 days\n",
      "41    19147 days\n",
      "42    22019 days\n",
      "43    18652 days\n",
      "44    18436 days\n",
      "45    20067 days\n",
      "46    19735 days\n",
      "47    17354 days\n",
      "48    16986 days\n",
      "49    18248 days\n",
      "50    16063 days\n",
      "51    17549 days\n",
      "52    16331 days\n",
      "53    16077 days\n",
      "54    15673 days\n",
      "55    18034 days\n",
      "56    15581 days\n",
      "57    17402 days\n",
      "58    17163 days\n",
      "59    16491 days\n",
      "60    15890 days\n",
      "61    18973 days\n",
      "62    17450 days\n",
      "63    16588 days\n",
      "64    17121 days\n",
      "65    17851 days\n",
      "66    15638 days\n",
      "67    18189 days\n",
      "68    17497 days\n",
      "69    14654 days\n",
      "70    16511 days\n",
      "71    15967 days\n",
      "72    16560 days\n",
      "73    15721 days\n",
      "74    17081 days\n",
      "75    15446 days\n",
      "76    14813 days\n",
      "77    13214 days\n",
      "78    16708 days\n",
      "79    18296 days\n",
      "80    13390 days\n",
      "81    17937 days\n",
      "82    13280 days\n",
      "83    15902 days\n",
      "84    16138 days\n",
      "85    14658 days\n",
      "86    15585 days\n",
      "87    17146 days\n",
      "88    14333 days\n",
      "89    16760 days\n",
      "90    12205 days\n",
      "91    15371 days\n",
      "92    12355 days\n",
      "93    12786 days\n",
      "94    15533 days\n",
      "95    12664 days\n",
      "96    12784 days\n",
      "97    13926 days\n",
      "98    15189 days\n",
      "99    13255 days\n",
      "100   13960 days\n",
      "101   15053 days\n",
      "102   15321 days\n",
      "103   11508 days\n",
      "104   16751 days\n",
      "105   11142 days\n",
      "106   15626 days\n",
      "107   13108 days\n",
      "108   13260 days\n",
      "109   14796 days\n",
      "110   12367 days\n",
      "111   12314 days\n",
      "112   12314 days\n",
      "113   10928 days\n",
      "114    9999 days\n",
      "115   12632 days\n",
      "116   11984 days\n",
      "117   10167 days\n",
      "118   12159 days\n",
      "119    9893 days\n",
      "120   14275 days\n",
      "121    9845 days\n",
      "122   13056 days\n",
      "123   11591 days\n",
      "124   11305 days\n",
      "125    9158 days\n",
      "126   12771 days\n",
      "127   14173 days\n",
      "128   12849 days\n",
      "129    8466 days\n",
      "130   12496 days\n",
      "131   10556 days\n",
      "132   10218 days\n",
      "133   10657 days\n",
      "134   10275 days\n",
      "135   11533 days\n",
      "136   11139 days\n",
      "137   10988 days\n",
      "138   10471 days\n",
      "139   11288 days\n",
      "140   12097 days\n",
      "141   10271 days\n",
      "142   10872 days\n",
      "143    8347 days\n",
      "144    7638 days\n",
      "145    9754 days\n",
      "146    7723 days\n",
      "147    9571 days\n",
      "148    7149 days\n",
      "149   10024 days\n",
      "150    7351 days\n",
      "151    8912 days\n",
      "152    8620 days\n",
      "153    8421 days\n",
      "154    7680 days\n",
      "155   11617 days\n",
      "156    9141 days\n",
      "157    7661 days\n",
      "158    9077 days\n",
      "159    8749 days\n",
      "160    8917 days\n",
      "161    6633 days\n",
      "162    9376 days\n",
      "163   10452 days\n",
      "164    9454 days\n",
      "165    6721 days\n",
      "166    8498 days\n",
      "167    7680 days\n",
      "168    9170 days\n",
      "169    7739 days\n",
      "170    7435 days\n",
      "171    6029 days\n",
      "172    5472 days\n",
      "173    6691 days\n",
      "174    7611 days\n",
      "175    5764 days\n",
      "176    5831 days\n",
      "177    9680 days\n",
      "178    9801 days\n",
      "179    5119 days\n",
      "180    5448 days\n",
      "181    6877 days\n",
      "182    5576 days\n",
      "183    9231 days\n",
      "184    5356 days\n",
      "185    3352 days\n",
      "186    5172 days\n",
      "187    6422 days\n",
      "188    6507 days\n",
      "189    5489 days\n",
      "190    4743 days\n",
      "191    5047 days\n",
      "192    5345 days\n",
      "193    3385 days\n",
      "194    2899 days\n",
      "195    2884 days\n",
      "196    6249 days\n",
      "197    2617 days\n",
      "198    2492 days\n",
      "199    4541 days\n",
      "200    5410 days\n",
      "201    7898 days\n",
      "202    6271 days\n",
      "203    7712 days\n",
      "204    2301 days\n",
      "205    5272 days\n",
      "206    3964 days\n",
      "207    1992 days\n",
      "208    4311 days\n",
      "209    4252 days\n",
      "210    3655 days\n",
      "211    3846 days\n",
      "212    7435 days\n",
      "213    2212 days\n",
      "214    5754 days\n",
      "215    6995 days\n",
      "216    2090 days\n",
      "217    4123 days\n",
      "218    1796 days\n",
      "219    2712 days\n",
      "220    3977 days\n",
      "221    1729 days\n",
      "222    3187 days\n",
      "223    5392 days\n",
      "224    4797 days\n",
      "225    4449 days\n",
      "226    3970 days\n",
      "227    3522 days\n",
      "228    2864 days\n",
      "229    2385 days\n",
      "230    4531 days\n",
      "231    3132 days\n",
      "232    5799 days\n",
      "233    4089 days\n",
      "234    1729 days\n",
      "235    3964 days\n",
      "236    1390 days\n",
      "237    3282 days\n",
      "238    2935 days\n",
      "239    1173 days\n",
      "240    3427 days\n",
      "241    3008 days\n",
      "242    1003 days\n",
      "243    4422 days\n",
      "244    1948 days\n",
      "245    2637 days\n",
      "246    4155 days\n",
      "247     813 days\n",
      "248    2871 days\n",
      "249    3911 days\n",
      "250    5307 days\n",
      "251    4203 days\n",
      "252    2769 days\n",
      "253    1618 days\n",
      "254    1727 days\n",
      "255     636 days\n",
      "256     635 days\n",
      "257    2923 days\n",
      "258    1559 days\n",
      "259     509 days\n",
      "260    4956 days\n",
      "261    2947 days\n",
      "262      88 days\n",
      "263    1744 days\n",
      "264     637 days\n",
      "265    6074 days\n",
      "266    4031 days\n",
      "267     137 days\n",
      "268    5237 days\n",
      "269     354 days\n",
      "270    1436 days\n",
      "271     356 days\n",
      "272     351 days\n",
      "273     404 days\n",
      "274    1390 days\n",
      "275     294 days\n",
      "276      50 days\n",
      "277     293 days\n",
      "278     133 days\n",
      "279    4782 days\n",
      "280    1095 days\n",
      "281      11 days\n",
      "282    3934 days\n",
      "283    5301 days\n",
      "284      12 days\n",
      "285       6 days\n",
      "286      14 days\n",
      "287    4691 days\n",
      "288    5146 days\n",
      "289      12 days\n",
      "290    1368 days\n",
      "291       5 days\n",
      "292       8 days\n",
      "293      12 days\n",
      "294       6 days\n",
      "295       1 days\n",
      "296      73 days\n",
      "297     839 days\n",
      "298      11 days\n",
      "299    1536 days\n",
      "300      12 days\n",
      "301      11 days\n",
      "302    2860 days\n",
      "303     450 days\n",
      "304      13 days\n",
      "305       8 days\n",
      "306      61 days\n",
      "307      15 days\n",
      "308      22 days\n",
      "309      11 days\n",
      "310     495 days\n",
      "311     541 days\n",
      "312      56 days\n",
      "313      38 days\n",
      "314      31 days\n",
      "315       4 days\n",
      "316    2526 days\n",
      "317      18 days\n",
      "318      15 days\n",
      "319       9 days\n",
      "320      44 days\n",
      "321      22 days\n",
      "322    1695 days\n",
      "323      10 days\n",
      "324       8 days\n",
      "325       4 days\n",
      "326       5 days\n",
      "327       5 days\n",
      "328     227 days\n",
      "329      18 days\n",
      "330      10 days\n",
      "331      63 days\n",
      "332       5 days\n",
      "333       4 days\n",
      "334      64 days\n",
      "335       2 days\n",
      "336       8 days\n",
      "337      13 days\n",
      "338      11 days\n",
      "339      75 days\n",
      "340      11 days\n",
      "341      25 days\n",
      "342       4 days\n",
      "343      21 days\n",
      "344       2 days\n",
      "345     972 days\n",
      "346       2 days\n",
      "dtype: timedelta64[ns]\n"
     ]
    }
   ],
   "source": [
    "reporting_date = ufoDataFrame[\"Date_time\"].dt.date\n",
    "date_documented = ufoDataFrame[\"date_documented\"].dt.date\n",
    "num_days = (date_documented-reporting_date)\n",
    "print(\"\\nDifference (in days) between documented date and reporting date of UFO:\")\n",
    "print(num_days)\n",
    "\n",
    "# type(ufoDataFrame[\"date_documented\"].iloc[0])\n",
    "# type(reporting_date.iloc[1])\n",
    "\n",
    "# reporting_date.head()"
   ]
  },
  {
   "cell_type": "markdown",
   "metadata": {},
   "source": [
    "**Q135.** Write a pandas program to generate sequences of fixedfrequency dates and time spans."
   ]
  },
  {
   "cell_type": "code",
   "execution_count": 132,
   "metadata": {},
   "outputs": [
    {
     "data": {
      "text/plain": [
       "DatetimeIndex(['2018-01-01 00:00:00', '2018-01-01 01:00:00', '2018-01-01 02:00:00', '2018-01-01 03:00:00', '2018-01-01 04:00:00', '2018-01-01 05:00:00', '2018-01-01 06:00:00', '2018-01-01 07:00:00'], dtype='datetime64[ns]', freq='H')"
      ]
     },
     "execution_count": 132,
     "metadata": {},
     "output_type": "execute_result"
    }
   ],
   "source": [
    "dt_frame = pd.date_range('2018-01-01', periods=8, freq='H')  #  after every hour\n",
    "dt_frame"
   ]
  },
  {
   "cell_type": "markdown",
   "metadata": {},
   "source": [
    "**Q136.** Write a pandas program to manipulate and convert date times with timezone information."
   ]
  },
  {
   "cell_type": "code",
   "execution_count": 133,
   "metadata": {},
   "outputs": [
    {
     "name": "stdout",
     "output_type": "stream",
     "text": [
      "UTC time zone DatetimeIndex(['2018-01-01 00:00:00+00:00', '2018-01-01 01:00:00+00:00', '2018-01-01 02:00:00+00:00', '2018-01-01 03:00:00+00:00', '2018-01-01 04:00:00+00:00', '2018-01-01 05:00:00+00:00', '2018-01-01 06:00:00+00:00', '2018-01-01 07:00:00+00:00'], dtype='datetime64[ns, UTC]', freq='H')\n"
     ]
    }
   ],
   "source": [
    "dt_frame = dt_frame.tz_localize('UTC')\n",
    "print(\"UTC time zone\",dt_frame)\n"
   ]
  },
  {
   "cell_type": "markdown",
   "metadata": {},
   "source": [
    "**Q137.** Write a pandas program to create the graphical analysis of UFO (unidentified flying object) Sightings year."
   ]
  },
  {
   "cell_type": "code",
   "execution_count": 134,
   "metadata": {},
   "outputs": [
    {
     "data": {
      "image/png": "[encoded data removed]",
      "text/plain": [
       "<Figure size 1800x720 with 1 Axes>"
      ]
     },
     "metadata": {
      "needs_background": "light"
     },
     "output_type": "display_data"
    }
   ],
   "source": [
    "# number of ufo sightings per year\n",
    "\n",
    "ufoDF1 = ufoDataFrame.groupby([\"year\"]).count()  \n",
    "ufoDF1[\"Date_time\"].head() \n",
    "\n",
    "fig = plt.figure(figsize = (25,10))\n",
    "# ax = fig.add_axes([0,0,1,1])\n",
    "# ax.bar(languages,popularity, alpha = 0.9, color = 'b')\n",
    "\n",
    "\n",
    "ufoDF1[\"Date_time\"].plot(kind = 'bar', color = 'r')\n",
    "plt.title(\"UFO Sighting per year\")\n",
    "plt.xlabel(\"Year\")\n",
    "plt.ylabel(\"Number of sightings\")\n",
    "plt.show()\n"
   ]
  },
  {
   "cell_type": "markdown",
   "metadata": {},
   "source": [
    "**Q138.** Write a pandas program to create a comparison of the top 10 years in which the (UFO) was sighted VS each Month."
   ]
  },
  {
   "cell_type": "code",
   "execution_count": 135,
   "metadata": {},
   "outputs": [
    {
     "data": {
      "text/html": [
       "<div>\n",
       "<style scoped>\n",
       "    .dataframe tbody tr th:only-of-type {\n",
       "        vertical-align: middle;\n",
       "    }\n",
       "\n",
       "    .dataframe tbody tr th {\n",
       "        vertical-align: top;\n",
       "    }\n",
       "\n",
       "    .dataframe thead th {\n",
       "        text-align: right;\n",
       "    }\n",
       "</style>\n",
       "<table border=\"1\" class=\"dataframe\">\n",
       "  <thead>\n",
       "    <tr style=\"text-align: right;\">\n",
       "      <th></th>\n",
       "      <th>Date_time</th>\n",
       "      <th>city</th>\n",
       "      <th>state/province</th>\n",
       "      <th>country</th>\n",
       "      <th>UFO_shape</th>\n",
       "      <th>length_of_encounter_seconds</th>\n",
       "      <th>described_duration_of_encounter</th>\n",
       "      <th>description</th>\n",
       "      <th>date_documented</th>\n",
       "      <th>latitude</th>\n",
       "      <th>longitude</th>\n",
       "      <th>year</th>\n",
       "    </tr>\n",
       "  </thead>\n",
       "  <tbody>\n",
       "    <tr>\n",
       "      <th>0</th>\n",
       "      <td>1910-06-01 15:00:00</td>\n",
       "      <td>wills point</td>\n",
       "      <td>tx</td>\n",
       "      <td>us</td>\n",
       "      <td>cigar</td>\n",
       "      <td>120</td>\n",
       "      <td>2 minutes</td>\n",
       "      <td>Cigar shaped object moving from West to East</td>\n",
       "      <td>2005-04-16</td>\n",
       "      <td>32.709167</td>\n",
       "      <td>-96.008056</td>\n",
       "      <td>1910</td>\n",
       "    </tr>\n",
       "    <tr>\n",
       "      <th>1</th>\n",
       "      <td>1920-06-11 21:00:00</td>\n",
       "      <td>cicero</td>\n",
       "      <td>in</td>\n",
       "      <td>us</td>\n",
       "      <td>unknown</td>\n",
       "      <td>60</td>\n",
       "      <td>1 minute</td>\n",
       "      <td>((NUFORC Note:  Probable hoax.  Note date.  PD...</td>\n",
       "      <td>2009-05-12</td>\n",
       "      <td>40.123889</td>\n",
       "      <td>-86.013333</td>\n",
       "      <td>1920</td>\n",
       "    </tr>\n",
       "  </tbody>\n",
       "</table>\n",
       "</div>"
      ],
      "text/plain": [
       "            Date_time         city state/province country UFO_shape  length_of_encounter_seconds described_duration_of_encounter                                        description date_documented   latitude  longitude  year\n",
       "0 1910-06-01 15:00:00  wills point             tx      us     cigar                          120                       2 minutes       Cigar shaped object moving from West to East      2005-04-16  32.709167 -96.008056  1910\n",
       "1 1920-06-11 21:00:00       cicero             in      us   unknown                           60                        1 minute  ((NUFORC Note:  Probable hoax.  Note date.  PD...      2009-05-12  40.123889 -86.013333  1920"
      ]
     },
     "execution_count": 135,
     "metadata": {},
     "output_type": "execute_result"
    }
   ],
   "source": [
    "ufoDataFrame.head(2)"
   ]
  },
  {
   "cell_type": "code",
   "execution_count": 136,
   "metadata": {},
   "outputs": [
    {
     "data": {
      "image/png": "[encoded data removed]",
      "text/plain": [
       "<Figure size 1080x576 with 1 Axes>"
      ]
     },
     "metadata": {
      "needs_background": "light"
     },
     "output_type": "display_data"
    }
   ],
   "source": [
    "import seaborn as sns\n",
    "import matplotlib.pyplot as plt\n",
    "# comparision of top 10 years in which UFO was sighted vs each month\n",
    "\n",
    "ufoDataFrame['ufo_month'] = ufoDataFrame.Date_time.dt.month\n",
    "\n",
    "DF1 = ufoDataFrame.ufo_month.value_counts()\n",
    "\n",
    "months_index = DF1.index  # x ticks\n",
    "month_values = []\n",
    "\n",
    "for j in range(len(months_index)):\n",
    "    month_values.append(DF1[months_index[j]])\n",
    "    \n",
    "plt.figure(figsize=(15,8))\n",
    "plt.xticks(rotation = 60)\n",
    "plt.title('UFO sighted by Month')\n",
    "plt.xlabel(\"Months\")\n",
    "plt.ylabel(\"Number of sighting\")\n",
    "months_plot = sns.barplot(x=months_index,y=month_values)\n"
   ]
  },
  {
   "cell_type": "markdown",
   "metadata": {},
   "source": [
    "**Q139.** Write a pandas program to create a heatmap (rectangular data as a colour-encoded matrix) for comparison of top 10 years in which (UFO ) was sighted VS each Month."
   ]
  },
  {
   "cell_type": "code",
   "execution_count": 137,
   "metadata": {},
   "outputs": [
    {
     "data": {
      "text/plain": [
       "2001    15\n",
       "2002    14\n",
       "1997    14\n",
       "1998    13\n",
       "2000    12\n",
       "1996    12\n",
       "1995    12\n",
       "1993    12\n",
       "1999    11\n",
       "1994    11\n",
       "Name: Date_time, dtype: int64"
      ]
     },
     "execution_count": 137,
     "metadata": {},
     "output_type": "execute_result"
    }
   ],
   "source": [
    "most_sight_year = ufoDataFrame['Date_time'].dt.year.value_counts().head(10)\n",
    "most_sight_year"
   ]
  },
  {
   "cell_type": "code",
   "execution_count": 138,
   "metadata": {},
   "outputs": [],
   "source": [
    "# find the index of months with most sighted years\n",
    "def is_top_years(years):\n",
    "    if years in most_sight_year.index:\n",
    "        return years"
   ]
  },
  {
   "cell_type": "code",
   "execution_count": 139,
   "metadata": {},
   "outputs": [],
   "source": [
    "month_vs_year = ufoDataFrame.pivot_table(columns=ufoDataFrame['Date_time'].dt.month,index=ufoDataFrame['Date_time'].dt.year.apply(is_top_years),\n",
    "                               aggfunc='count',values='city')"
   ]
  },
  {
   "cell_type": "code",
   "execution_count": 140,
   "metadata": {},
   "outputs": [
    {
     "data": {
      "text/html": [
       "<div>\n",
       "<style scoped>\n",
       "    .dataframe tbody tr th:only-of-type {\n",
       "        vertical-align: middle;\n",
       "    }\n",
       "\n",
       "    .dataframe tbody tr th {\n",
       "        vertical-align: top;\n",
       "    }\n",
       "\n",
       "    .dataframe thead th {\n",
       "        text-align: right;\n",
       "    }\n",
       "</style>\n",
       "<table border=\"1\" class=\"dataframe\">\n",
       "  <thead>\n",
       "    <tr style=\"text-align: right;\">\n",
       "      <th>Date_time</th>\n",
       "      <th>1</th>\n",
       "      <th>2</th>\n",
       "      <th>3</th>\n",
       "      <th>4</th>\n",
       "      <th>5</th>\n",
       "      <th>6</th>\n",
       "      <th>7</th>\n",
       "      <th>8</th>\n",
       "      <th>9</th>\n",
       "      <th>10</th>\n",
       "      <th>11</th>\n",
       "      <th>12</th>\n",
       "    </tr>\n",
       "    <tr>\n",
       "      <th>Date_time</th>\n",
       "      <th></th>\n",
       "      <th></th>\n",
       "      <th></th>\n",
       "      <th></th>\n",
       "      <th></th>\n",
       "      <th></th>\n",
       "      <th></th>\n",
       "      <th></th>\n",
       "      <th></th>\n",
       "      <th></th>\n",
       "      <th></th>\n",
       "      <th></th>\n",
       "    </tr>\n",
       "  </thead>\n",
       "  <tbody>\n",
       "    <tr>\n",
       "      <th>1993.0</th>\n",
       "      <td>NaN</td>\n",
       "      <td>NaN</td>\n",
       "      <td>1.0</td>\n",
       "      <td>1.0</td>\n",
       "      <td>NaN</td>\n",
       "      <td>1.0</td>\n",
       "      <td>3.0</td>\n",
       "      <td>2.0</td>\n",
       "      <td>3.0</td>\n",
       "      <td>NaN</td>\n",
       "      <td>1.0</td>\n",
       "      <td>NaN</td>\n",
       "    </tr>\n",
       "    <tr>\n",
       "      <th>1994.0</th>\n",
       "      <td>2.0</td>\n",
       "      <td>NaN</td>\n",
       "      <td>3.0</td>\n",
       "      <td>2.0</td>\n",
       "      <td>2.0</td>\n",
       "      <td>NaN</td>\n",
       "      <td>NaN</td>\n",
       "      <td>1.0</td>\n",
       "      <td>NaN</td>\n",
       "      <td>NaN</td>\n",
       "      <td>NaN</td>\n",
       "      <td>1.0</td>\n",
       "    </tr>\n",
       "    <tr>\n",
       "      <th>1995.0</th>\n",
       "      <td>2.0</td>\n",
       "      <td>1.0</td>\n",
       "      <td>NaN</td>\n",
       "      <td>1.0</td>\n",
       "      <td>1.0</td>\n",
       "      <td>1.0</td>\n",
       "      <td>3.0</td>\n",
       "      <td>NaN</td>\n",
       "      <td>1.0</td>\n",
       "      <td>NaN</td>\n",
       "      <td>2.0</td>\n",
       "      <td>NaN</td>\n",
       "    </tr>\n",
       "    <tr>\n",
       "      <th>1996.0</th>\n",
       "      <td>NaN</td>\n",
       "      <td>1.0</td>\n",
       "      <td>NaN</td>\n",
       "      <td>1.0</td>\n",
       "      <td>1.0</td>\n",
       "      <td>1.0</td>\n",
       "      <td>3.0</td>\n",
       "      <td>3.0</td>\n",
       "      <td>1.0</td>\n",
       "      <td>NaN</td>\n",
       "      <td>1.0</td>\n",
       "      <td>NaN</td>\n",
       "    </tr>\n",
       "    <tr>\n",
       "      <th>1997.0</th>\n",
       "      <td>NaN</td>\n",
       "      <td>2.0</td>\n",
       "      <td>1.0</td>\n",
       "      <td>NaN</td>\n",
       "      <td>2.0</td>\n",
       "      <td>1.0</td>\n",
       "      <td>3.0</td>\n",
       "      <td>1.0</td>\n",
       "      <td>1.0</td>\n",
       "      <td>1.0</td>\n",
       "      <td>1.0</td>\n",
       "      <td>1.0</td>\n",
       "    </tr>\n",
       "    <tr>\n",
       "      <th>1998.0</th>\n",
       "      <td>1.0</td>\n",
       "      <td>2.0</td>\n",
       "      <td>1.0</td>\n",
       "      <td>3.0</td>\n",
       "      <td>NaN</td>\n",
       "      <td>2.0</td>\n",
       "      <td>1.0</td>\n",
       "      <td>NaN</td>\n",
       "      <td>NaN</td>\n",
       "      <td>1.0</td>\n",
       "      <td>NaN</td>\n",
       "      <td>2.0</td>\n",
       "    </tr>\n",
       "    <tr>\n",
       "      <th>1999.0</th>\n",
       "      <td>NaN</td>\n",
       "      <td>NaN</td>\n",
       "      <td>2.0</td>\n",
       "      <td>NaN</td>\n",
       "      <td>1.0</td>\n",
       "      <td>2.0</td>\n",
       "      <td>4.0</td>\n",
       "      <td>NaN</td>\n",
       "      <td>NaN</td>\n",
       "      <td>1.0</td>\n",
       "      <td>NaN</td>\n",
       "      <td>1.0</td>\n",
       "    </tr>\n",
       "    <tr>\n",
       "      <th>2000.0</th>\n",
       "      <td>NaN</td>\n",
       "      <td>3.0</td>\n",
       "      <td>2.0</td>\n",
       "      <td>NaN</td>\n",
       "      <td>2.0</td>\n",
       "      <td>1.0</td>\n",
       "      <td>1.0</td>\n",
       "      <td>NaN</td>\n",
       "      <td>NaN</td>\n",
       "      <td>NaN</td>\n",
       "      <td>1.0</td>\n",
       "      <td>2.0</td>\n",
       "    </tr>\n",
       "    <tr>\n",
       "      <th>2001.0</th>\n",
       "      <td>2.0</td>\n",
       "      <td>1.0</td>\n",
       "      <td>2.0</td>\n",
       "      <td>2.0</td>\n",
       "      <td>1.0</td>\n",
       "      <td>2.0</td>\n",
       "      <td>NaN</td>\n",
       "      <td>1.0</td>\n",
       "      <td>2.0</td>\n",
       "      <td>NaN</td>\n",
       "      <td>1.0</td>\n",
       "      <td>1.0</td>\n",
       "    </tr>\n",
       "    <tr>\n",
       "      <th>2002.0</th>\n",
       "      <td>3.0</td>\n",
       "      <td>1.0</td>\n",
       "      <td>1.0</td>\n",
       "      <td>NaN</td>\n",
       "      <td>3.0</td>\n",
       "      <td>NaN</td>\n",
       "      <td>2.0</td>\n",
       "      <td>1.0</td>\n",
       "      <td>2.0</td>\n",
       "      <td>1.0</td>\n",
       "      <td>NaN</td>\n",
       "      <td>NaN</td>\n",
       "    </tr>\n",
       "  </tbody>\n",
       "</table>\n",
       "</div>"
      ],
      "text/plain": [
       "Date_time   1    2    3    4    5    6    7    8    9    10   11   12\n",
       "Date_time                                                            \n",
       "1993.0     NaN  NaN  1.0  1.0  NaN  1.0  3.0  2.0  3.0  NaN  1.0  NaN\n",
       "1994.0     2.0  NaN  3.0  2.0  2.0  NaN  NaN  1.0  NaN  NaN  NaN  1.0\n",
       "1995.0     2.0  1.0  NaN  1.0  1.0  1.0  3.0  NaN  1.0  NaN  2.0  NaN\n",
       "1996.0     NaN  1.0  NaN  1.0  1.0  1.0  3.0  3.0  1.0  NaN  1.0  NaN\n",
       "1997.0     NaN  2.0  1.0  NaN  2.0  1.0  3.0  1.0  1.0  1.0  1.0  1.0\n",
       "1998.0     1.0  2.0  1.0  3.0  NaN  2.0  1.0  NaN  NaN  1.0  NaN  2.0\n",
       "1999.0     NaN  NaN  2.0  NaN  1.0  2.0  4.0  NaN  NaN  1.0  NaN  1.0\n",
       "2000.0     NaN  3.0  2.0  NaN  2.0  1.0  1.0  NaN  NaN  NaN  1.0  2.0\n",
       "2001.0     2.0  1.0  2.0  2.0  1.0  2.0  NaN  1.0  2.0  NaN  1.0  1.0\n",
       "2002.0     3.0  1.0  1.0  NaN  3.0  NaN  2.0  1.0  2.0  1.0  NaN  NaN"
      ]
     },
     "execution_count": 140,
     "metadata": {},
     "output_type": "execute_result"
    }
   ],
   "source": [
    "month_vs_year"
   ]
  },
  {
   "cell_type": "code",
   "execution_count": 141,
   "metadata": {},
   "outputs": [],
   "source": [
    "month_vs_year.columns = month_vs_year.columns.astype(int)"
   ]
  },
  {
   "cell_type": "code",
   "execution_count": 142,
   "metadata": {},
   "outputs": [
    {
     "name": "stdout",
     "output_type": "stream",
     "text": [
      "\n",
      "Heatmap: comparison of the top 10 years in which the UFO was sighted vs each month:\n"
     ]
    },
    {
     "data": {
      "image/png": "[encoded data removed]",
      "text/plain": [
       "<Figure size 1080x720 with 2 Axes>"
      ]
     },
     "metadata": {
      "needs_background": "light"
     },
     "output_type": "display_data"
    }
   ],
   "source": [
    "print(\"\\nHeatmap: comparison of the top 10 years in which the UFO was sighted vs each month:\")\n",
    "plt.figure(figsize=(15,10))\n",
    "ax = sns.heatmap(month_vs_year, vmin=0, vmax=5)\n",
    "ax.set_xlabel('Month').set_size(20)\n",
    "ax.set_ylabel('Year').set_size(20)"
   ]
  },
  {
   "cell_type": "markdown",
   "metadata": {},
   "source": [
    "**Q140.** Write a pandas program to create a Timewheel of Hour VS Year comparison of the top 10 years in which the (UFO) was sighted."
   ]
  },
  {
   "cell_type": "code",
   "execution_count": 143,
   "metadata": {},
   "outputs": [],
   "source": [
    "import matplotlib as mpl\n",
    "import matplotlib.cm as cm\n",
    "def pie_heatmap(table, cmap='coolwarm_r', vmin=None, vmax=None,inner_r=0.25, pie_args={}):\n",
    "    n, m = table.shape\n",
    "    vmin= table.min().min() if vmin is None else vmin\n",
    "    vmax= table.max().max() if vmax is None else vmax\n",
    "\n",
    "    centre_circle = plt.Circle((0,0),inner_r,edgecolor='black',facecolor='white',fill=True,linewidth=0.25)\n",
    "    plt.gcf().gca().add_artist(centre_circle)\n",
    "    norm = mpl.colors.Normalize(vmin=vmin, vmax=vmax)\n",
    "    cmapper = cm.ScalarMappable(norm=norm, cmap=cmap)\n",
    "\n",
    "    for i, (row_name, row) in enumerate(table.iterrows()):\n",
    "        labels = None if i > 0 else table.columns\n",
    "        wedges = plt.pie([1] * m,radius=inner_r+float(n-i)/n, colors=[cmapper.to_rgba(x) for x in row.values],\n",
    "           labels=labels, startangle=90, counterclock=False, wedgeprops={'linewidth':-1}, **pie_args)\n",
    "        plt.setp(wedges[0], edgecolor='grey',linewidth=1.5)\n",
    "        wedges = plt.pie([1], radius=inner_r+float(n-i-1)/n, colors=['w'], labels=[row_name], startangle=-90, wedgeprops={'linewidth':0})\n",
    "        plt.setp(wedges[0], edgecolor='grey',linewidth=1.5)"
   ]
  },
  {
   "cell_type": "code",
   "execution_count": 144,
   "metadata": {},
   "outputs": [
    {
     "data": {
      "image/png": "[encoded data removed]",
      "text/plain": [
       "<Figure size 576x576 with 1 Axes>"
      ]
     },
     "metadata": {},
     "output_type": "display_data"
    }
   ],
   "source": [
    "plt.figure(figsize = (8,8))\n",
    "plt.title(\"Timewheel of Hour vs Year\",y = 1.08, fontsize=30)\n",
    "pie_heatmap(month_vs_year, vmin = 20, vmax=80, inner_r=0.2)"
   ]
  },
  {
   "cell_type": "markdown",
   "metadata": {},
   "source": [
    "**Q141.** Write a python program to draw the line using given axis values with the suitable label in the x-axis, y-axis, and a title."
   ]
  },
  {
   "cell_type": "code",
   "execution_count": 145,
   "metadata": {},
   "outputs": [
    {
     "name": "stdout",
     "output_type": "stream",
     "text": [
      "Values of X:\n",
      "1 2 3 4 5 6 7 8 9 10 11 12 13 14 15 16 17 18 19 20 21 22 23 24 25 26 27 28 29 30 31 32 33 34 35 36 37 38 39 40 41 42 43 44 45 46 47 48 49\n",
      "Values of Y (thrice of X):\n",
      "[4, 8, 12, 16, 20, 24, 28, 32, 36, 40, 44, 48, 52, 56, 60, 64, 68, 72, 76, 80, 84, 88, 92, 96, 100, 104, 108, 112, 116, 120, 124, 128, 132, 136, 140, 144, 148, 152, 156, 160, 164, 168, 172, 176, 180, 184, 188, 192, 196]\n"
     ]
    },
    {
     "data": {
      "image/png": "[encoded data removed]",
      "text/plain": [
       "<Figure size 432x288 with 1 Axes>"
      ]
     },
     "metadata": {
      "needs_background": "light"
     },
     "output_type": "display_data"
    }
   ],
   "source": [
    "import matplotlib.pyplot as plt\n",
    "X = range(1, 50)\n",
    "Y = [value * 4 for value in X]\n",
    "print(\"Values of X:\")\n",
    "print(*range(1,50)) \n",
    "print(\"Values of Y (thrice of X):\")\n",
    "print(Y)\n",
    "# Plot lines and/or markers to the Axes.\n",
    "plt.plot(X, Y)\n",
    "# Set the x axis label of the current axis.\n",
    "plt.xlabel('x - axis')\n",
    "# Set the y axis label of the current axis.\n",
    "plt.ylabel('y - axis')\n",
    "# Set a title \n",
    "plt.title('Draw a line.')\n",
    "# Display the figure.\n",
    "plt.show()"
   ]
  },
  {
   "cell_type": "markdown",
   "metadata": {},
   "source": [
    "**Q142.** Write a python program to draw the line charts of the financial data of the Alphabet Inc., between October. 3, 2016 to October 7 2016. <br>\n",
    "Sample Financial data (fdata.csv)- <br>\n",
    "Date,Open,High,Low,Close <br>\n",
    "10-03-16,774.25,776.065002,769.5,772.559998 <br>\n",
    "10-04-16 , 776.030029, 778.710022,772.890015,776.429993 <br>\n",
    "10-05-16 , 779.309998, 782.070007,775.650024,776.469971 <br>\n",
    "10-06-16 , 779 , 780.47998,775.539978,776.859985 <br>\n",
    "10-07-16,779.659973, 779.659973 , 770.75 , 775.080017 <br>\n",
    "The code snippet gives the output shown in the screenshot: ![alt text](Img2.jpg)"
   ]
  },
  {
   "cell_type": "code",
   "execution_count": 146,
   "metadata": {},
   "outputs": [
    {
     "data": {
      "text/html": [
       "<div>\n",
       "<style scoped>\n",
       "    .dataframe tbody tr th:only-of-type {\n",
       "        vertical-align: middle;\n",
       "    }\n",
       "\n",
       "    .dataframe tbody tr th {\n",
       "        vertical-align: top;\n",
       "    }\n",
       "\n",
       "    .dataframe thead th {\n",
       "        text-align: right;\n",
       "    }\n",
       "</style>\n",
       "<table border=\"1\" class=\"dataframe\">\n",
       "  <thead>\n",
       "    <tr style=\"text-align: right;\">\n",
       "      <th></th>\n",
       "      <th>Date</th>\n",
       "      <th>Open</th>\n",
       "      <th>High</th>\n",
       "      <th>Low</th>\n",
       "      <th>Close</th>\n",
       "    </tr>\n",
       "  </thead>\n",
       "  <tbody>\n",
       "    <tr>\n",
       "      <th>0</th>\n",
       "      <td>10-03-16</td>\n",
       "      <td>774.250000</td>\n",
       "      <td>776.065002</td>\n",
       "      <td>769.500000</td>\n",
       "      <td>772.559998</td>\n",
       "    </tr>\n",
       "    <tr>\n",
       "      <th>1</th>\n",
       "      <td>10-04-16</td>\n",
       "      <td>776.030029</td>\n",
       "      <td>778.710022</td>\n",
       "      <td>772.890015</td>\n",
       "      <td>776.429993</td>\n",
       "    </tr>\n",
       "    <tr>\n",
       "      <th>2</th>\n",
       "      <td>10-05-16</td>\n",
       "      <td>779.309998</td>\n",
       "      <td>782.070007</td>\n",
       "      <td>775.650024</td>\n",
       "      <td>776.469971</td>\n",
       "    </tr>\n",
       "    <tr>\n",
       "      <th>3</th>\n",
       "      <td>10-06-16</td>\n",
       "      <td>779.000000</td>\n",
       "      <td>780.479980</td>\n",
       "      <td>775.539978</td>\n",
       "      <td>776.859985</td>\n",
       "    </tr>\n",
       "    <tr>\n",
       "      <th>4</th>\n",
       "      <td>10-07-16</td>\n",
       "      <td>779.659973</td>\n",
       "      <td>779.659973</td>\n",
       "      <td>770.750000</td>\n",
       "      <td>775.080017</td>\n",
       "    </tr>\n",
       "  </tbody>\n",
       "</table>\n",
       "</div>"
      ],
      "text/plain": [
       "       Date        Open        High         Low       Close\n",
       "0  10-03-16  774.250000  776.065002  769.500000  772.559998\n",
       "1  10-04-16  776.030029  778.710022  772.890015  776.429993\n",
       "2  10-05-16  779.309998  782.070007  775.650024  776.469971\n",
       "3  10-06-16  779.000000  780.479980  775.539978  776.859985\n",
       "4  10-07-16  779.659973  779.659973  770.750000  775.080017"
      ]
     },
     "execution_count": 146,
     "metadata": {},
     "output_type": "execute_result"
    }
   ],
   "source": [
    "# step1: Creating \"fdata.csv\" file\n",
    "sampleArray = np.array([['10-03-16', 774.25, 776.065002, 769.5, 772.559998],\n",
    "                        ['10-04-16', 776.030029, 778.710022, 772.890015, 776.429993],\n",
    "                        ['10-05-16', 779.309998, 782.070007, 775.650024, 776.469971],\n",
    "                        ['10-06-16', 779 , 780.47998, 775.539978, 776.859985],\n",
    "                        ['10-07-16', 779.659973, 779.659973, 770.75, 775.080017]])\n",
    "sampleDataFrame = pd.DataFrame(sampleArray, columns = ['Date','Open','High','Low','Close'])\n",
    "sampleDataFrame.to_csv(r'fdata.csv', index = False)\n",
    "\n",
    "# step2: Reading \"fdata.csv\"\n",
    "fdata = pd.read_csv(\"fdata.csv\")\n",
    "fdata.head()\n"
   ]
  },
  {
   "cell_type": "markdown",
   "metadata": {},
   "source": [
    "Step 3: `line charts` of the financial data of the `Alphabet Inc.`, between October. 3, 2016 to October 7 2016."
   ]
  },
  {
   "cell_type": "code",
   "execution_count": 147,
   "metadata": {},
   "outputs": [
    {
     "data": {
      "image/png": "[encoded data removed]",
      "text/plain": [
       "<Figure size 432x288 with 1 Axes>"
      ]
     },
     "metadata": {
      "needs_background": "light"
     },
     "output_type": "display_data"
    }
   ],
   "source": [
    "import matplotlib.pyplot as plt\n",
    "\n",
    "# gca stands for 'get current axis'\n",
    "ax = plt.gca()\n",
    "\n",
    "fdata.plot(kind='line',x='Date',y= ['Open','High','Low','Close'],ax=ax)\n",
    "# df.plot(kind='line',x='name',y='num_pets', color='red', ax=ax)\n",
    "\n",
    "plt.show()"
   ]
  },
  {
   "cell_type": "markdown",
   "metadata": {},
   "source": [
    "##### Plotly is built on top of d3.js and is specifically a charting library which can be used directly with Pandas dataframes, thanks to another library named `Cufflinks` ."
   ]
  },
  {
   "cell_type": "code",
   "execution_count": 160,
   "metadata": {},
   "outputs": [
    {
     "data": {
      "text/html": [
       "        <script type=\"text/javascript\">\n",
       "        window.PlotlyConfig = {MathJaxConfig: 'local'};\n",
       "        if (window.MathJax) {MathJax.Hub.Config({SVG: {font: \"STIX-Web\"}});}\n",
       "        if (typeof require !== 'undefined') {\n",
       "        require.undef(\"plotly\");\n",
       "        requirejs.config({\n",
       "            paths: {\n",
       "                'plotly': ['https://cdn.plot.ly/plotly-latest.min']\n",
       "            }\n",
       "        });\n",
       "        require(['plotly'], function(Plotly) {\n",
       "            window._Plotly = Plotly;\n",
       "        });\n",
       "        }\n",
       "        </script>\n",
       "        "
      ]
     },
     "metadata": {},
     "output_type": "display_data"
    },
    {
     "data": {
      "application/vnd.plotly.v1+json": {
       "config": {
        "linkText": "Export to plot.ly",
        "plotlyServerURL": "https://plot.ly",
        "showLink": true
       },
       "data": [
        {
         "line": {
          "color": "rgba(255, 153, 51, 1.0)",
          "dash": "solid",
          "shape": "linear",
          "width": 1.3
         },
         "mode": "lines",
         "name": "Open",
         "text": "",
         "type": "scatter",
         "x": [
          "10-03-16",
          "10-04-16",
          "10-05-16",
          "10-06-16",
          "10-07-16"
         ],
         "y": [
          774.25,
          776.030029,
          779.3099980000001,
          779,
          779.659973
         ]
        },
        {
         "line": {
          "color": "rgba(55, 128, 191, 1.0)",
          "dash": "solid",
          "shape": "linear",
          "width": 1.3
         },
         "mode": "lines",
         "name": "High",
         "text": "",
         "type": "scatter",
         "x": [
          "10-03-16",
          "10-04-16",
          "10-05-16",
          "10-06-16",
          "10-07-16"
         ],
         "y": [
          776.0650019999999,
          778.710022,
          782.070007,
          780.47998,
          779.659973
         ]
        },
        {
         "line": {
          "color": "rgba(50, 171, 96, 1.0)",
          "dash": "solid",
          "shape": "linear",
          "width": 1.3
         },
         "mode": "lines",
         "name": "Low",
         "text": "",
         "type": "scatter",
         "x": [
          "10-03-16",
          "10-04-16",
          "10-05-16",
          "10-06-16",
          "10-07-16"
         ],
         "y": [
          769.5,
          772.8900150000001,
          775.650024,
          775.539978,
          770.75
         ]
        },
        {
         "line": {
          "color": "rgba(128, 0, 128, 1.0)",
          "dash": "solid",
          "shape": "linear",
          "width": 1.3
         },
         "mode": "lines",
         "name": "Close",
         "text": "",
         "type": "scatter",
         "x": [
          "10-03-16",
          "10-04-16",
          "10-05-16",
          "10-06-16",
          "10-07-16"
         ],
         "y": [
          772.5599980000001,
          776.429993,
          776.469971,
          776.8599849999999,
          775.080017
         ]
        }
       ],
       "layout": {
        "legend": {
         "bgcolor": "#FFFFFF",
         "font": {
          "color": "#4D5663"
         }
        },
        "paper_bgcolor": "#FFFFFF",
        "plot_bgcolor": "#FFFFFF",
        "template": {
         "data": {
          "bar": [
           {
            "error_x": {
             "color": "#2a3f5f"
            },
            "error_y": {
             "color": "#2a3f5f"
            },
            "marker": {
             "line": {
              "color": "#E5ECF6",
              "width": 0.5
             }
            },
            "type": "bar"
           }
          ],
          "barpolar": [
           {
            "marker": {
             "line": {
              "color": "#E5ECF6",
              "width": 0.5
             }
            },
            "type": "barpolar"
           }
          ],
          "carpet": [
           {
            "aaxis": {
             "endlinecolor": "#2a3f5f",
             "gridcolor": "white",
             "linecolor": "white",
             "minorgridcolor": "white",
             "startlinecolor": "#2a3f5f"
            },
            "baxis": {
             "endlinecolor": "#2a3f5f",
             "gridcolor": "white",
             "linecolor": "white",
             "minorgridcolor": "white",
             "startlinecolor": "#2a3f5f"
            },
            "type": "carpet"
           }
          ],
          "choropleth": [
           {
            "colorbar": {
             "outlinewidth": 0,
             "ticks": ""
            },
            "type": "choropleth"
           }
          ],
          "contour": [
           {
            "colorbar": {
             "outlinewidth": 0,
             "ticks": ""
            },
            "colorscale": [
             [
              0,
              "#0d0887"
             ],
             [
              0.1111111111111111,
              "#46039f"
             ],
             [
              0.2222222222222222,
              "#7201a8"
             ],
             [
              0.3333333333333333,
              "#9c179e"
             ],
             [
              0.4444444444444444,
              "#bd3786"
             ],
             [
              0.5555555555555556,
              "#d8576b"
             ],
             [
              0.6666666666666666,
              "#ed7953"
             ],
             [
              0.7777777777777778,
              "#fb9f3a"
             ],
             [
              0.8888888888888888,
              "#fdca26"
             ],
             [
              1,
              "#f0f921"
             ]
            ],
            "type": "contour"
           }
          ],
          "contourcarpet": [
           {
            "colorbar": {
             "outlinewidth": 0,
             "ticks": ""
            },
            "type": "contourcarpet"
           }
          ],
          "heatmap": [
           {
            "colorbar": {
             "outlinewidth": 0,
             "ticks": ""
            },
            "colorscale": [
             [
              0,
              "#0d0887"
             ],
             [
              0.1111111111111111,
              "#46039f"
             ],
             [
              0.2222222222222222,
              "#7201a8"
             ],
             [
              0.3333333333333333,
              "#9c179e"
             ],
             [
              0.4444444444444444,
              "#bd3786"
             ],
             [
              0.5555555555555556,
              "#d8576b"
             ],
             [
              0.6666666666666666,
              "#ed7953"
             ],
             [
              0.7777777777777778,
              "#fb9f3a"
             ],
             [
              0.8888888888888888,
              "#fdca26"
             ],
             [
              1,
              "#f0f921"
             ]
            ],
            "type": "heatmap"
           }
          ],
          "heatmapgl": [
           {
            "colorbar": {
             "outlinewidth": 0,
             "ticks": ""
            },
            "colorscale": [
             [
              0,
              "#0d0887"
             ],
             [
              0.1111111111111111,
              "#46039f"
             ],
             [
              0.2222222222222222,
              "#7201a8"
             ],
             [
              0.3333333333333333,
              "#9c179e"
             ],
             [
              0.4444444444444444,
              "#bd3786"
             ],
             [
              0.5555555555555556,
              "#d8576b"
             ],
             [
              0.6666666666666666,
              "#ed7953"
             ],
             [
              0.7777777777777778,
              "#fb9f3a"
             ],
             [
              0.8888888888888888,
              "#fdca26"
             ],
             [
              1,
              "#f0f921"
             ]
            ],
            "type": "heatmapgl"
           }
          ],
          "histogram": [
           {
            "marker": {
             "colorbar": {
              "outlinewidth": 0,
              "ticks": ""
             }
            },
            "type": "histogram"
           }
          ],
          "histogram2d": [
           {
            "colorbar": {
             "outlinewidth": 0,
             "ticks": ""
            },
            "colorscale": [
             [
              0,
              "#0d0887"
             ],
             [
              0.1111111111111111,
              "#46039f"
             ],
             [
              0.2222222222222222,
              "#7201a8"
             ],
             [
              0.3333333333333333,
              "#9c179e"
             ],
             [
              0.4444444444444444,
              "#bd3786"
             ],
             [
              0.5555555555555556,
              "#d8576b"
             ],
             [
              0.6666666666666666,
              "#ed7953"
             ],
             [
              0.7777777777777778,
              "#fb9f3a"
             ],
             [
              0.8888888888888888,
              "#fdca26"
             ],
             [
              1,
              "#f0f921"
             ]
            ],
            "type": "histogram2d"
           }
          ],
          "histogram2dcontour": [
           {
            "colorbar": {
             "outlinewidth": 0,
             "ticks": ""
            },
            "colorscale": [
             [
              0,
              "#0d0887"
             ],
             [
              0.1111111111111111,
              "#46039f"
             ],
             [
              0.2222222222222222,
              "#7201a8"
             ],
             [
              0.3333333333333333,
              "#9c179e"
             ],
             [
              0.4444444444444444,
              "#bd3786"
             ],
             [
              0.5555555555555556,
              "#d8576b"
             ],
             [
              0.6666666666666666,
              "#ed7953"
             ],
             [
              0.7777777777777778,
              "#fb9f3a"
             ],
             [
              0.8888888888888888,
              "#fdca26"
             ],
             [
              1,
              "#f0f921"
             ]
            ],
            "type": "histogram2dcontour"
           }
          ],
          "mesh3d": [
           {
            "colorbar": {
             "outlinewidth": 0,
             "ticks": ""
            },
            "type": "mesh3d"
           }
          ],
          "parcoords": [
           {
            "line": {
             "colorbar": {
              "outlinewidth": 0,
              "ticks": ""
             }
            },
            "type": "parcoords"
           }
          ],
          "pie": [
           {
            "automargin": true,
            "type": "pie"
           }
          ],
          "scatter": [
           {
            "marker": {
             "colorbar": {
              "outlinewidth": 0,
              "ticks": ""
             }
            },
            "type": "scatter"
           }
          ],
          "scatter3d": [
           {
            "line": {
             "colorbar": {
              "outlinewidth": 0,
              "ticks": ""
             }
            },
            "marker": {
             "colorbar": {
              "outlinewidth": 0,
              "ticks": ""
             }
            },
            "type": "scatter3d"
           }
          ],
          "scattercarpet": [
           {
            "marker": {
             "colorbar": {
              "outlinewidth": 0,
              "ticks": ""
             }
            },
            "type": "scattercarpet"
           }
          ],
          "scattergeo": [
           {
            "marker": {
             "colorbar": {
              "outlinewidth": 0,
              "ticks": ""
             }
            },
            "type": "scattergeo"
           }
          ],
          "scattergl": [
           {
            "marker": {
             "colorbar": {
              "outlinewidth": 0,
              "ticks": ""
             }
            },
            "type": "scattergl"
           }
          ],
          "scattermapbox": [
           {
            "marker": {
             "colorbar": {
              "outlinewidth": 0,
              "ticks": ""
             }
            },
            "type": "scattermapbox"
           }
          ],
          "scatterpolar": [
           {
            "marker": {
             "colorbar": {
              "outlinewidth": 0,
              "ticks": ""
             }
            },
            "type": "scatterpolar"
           }
          ],
          "scatterpolargl": [
           {
            "marker": {
             "colorbar": {
              "outlinewidth": 0,
              "ticks": ""
             }
            },
            "type": "scatterpolargl"
           }
          ],
          "scatterternary": [
           {
            "marker": {
             "colorbar": {
              "outlinewidth": 0,
              "ticks": ""
             }
            },
            "type": "scatterternary"
           }
          ],
          "surface": [
           {
            "colorbar": {
             "outlinewidth": 0,
             "ticks": ""
            },
            "colorscale": [
             [
              0,
              "#0d0887"
             ],
             [
              0.1111111111111111,
              "#46039f"
             ],
             [
              0.2222222222222222,
              "#7201a8"
             ],
             [
              0.3333333333333333,
              "#9c179e"
             ],
             [
              0.4444444444444444,
              "#bd3786"
             ],
             [
              0.5555555555555556,
              "#d8576b"
             ],
             [
              0.6666666666666666,
              "#ed7953"
             ],
             [
              0.7777777777777778,
              "#fb9f3a"
             ],
             [
              0.8888888888888888,
              "#fdca26"
             ],
             [
              1,
              "#f0f921"
             ]
            ],
            "type": "surface"
           }
          ],
          "table": [
           {
            "cells": {
             "fill": {
              "color": "#EBF0F8"
             },
             "line": {
              "color": "white"
             }
            },
            "header": {
             "fill": {
              "color": "#C8D4E3"
             },
             "line": {
              "color": "white"
             }
            },
            "type": "table"
           }
          ]
         },
         "layout": {
          "annotationdefaults": {
           "arrowcolor": "#2a3f5f",
           "arrowhead": 0,
           "arrowwidth": 1
          },
          "coloraxis": {
           "colorbar": {
            "outlinewidth": 0,
            "ticks": ""
           }
          },
          "colorscale": {
           "diverging": [
            [
             0,
             "#8e0152"
            ],
            [
             0.1,
             "#c51b7d"
            ],
            [
             0.2,
             "#de77ae"
            ],
            [
             0.3,
             "#f1b6da"
            ],
            [
             0.4,
             "#fde0ef"
            ],
            [
             0.5,
             "#f7f7f7"
            ],
            [
             0.6,
             "#e6f5d0"
            ],
            [
             0.7,
             "#b8e186"
            ],
            [
             0.8,
             "#7fbc41"
            ],
            [
             0.9,
             "#4d9221"
            ],
            [
             1,
             "#276419"
            ]
           ],
           "sequential": [
            [
             0,
             "#0d0887"
            ],
            [
             0.1111111111111111,
             "#46039f"
            ],
            [
             0.2222222222222222,
             "#7201a8"
            ],
            [
             0.3333333333333333,
             "#9c179e"
            ],
            [
             0.4444444444444444,
             "#bd3786"
            ],
            [
             0.5555555555555556,
             "#d8576b"
            ],
            [
             0.6666666666666666,
             "#ed7953"
            ],
            [
             0.7777777777777778,
             "#fb9f3a"
            ],
            [
             0.8888888888888888,
             "#fdca26"
            ],
            [
             1,
             "#f0f921"
            ]
           ],
           "sequentialminus": [
            [
             0,
             "#0d0887"
            ],
            [
             0.1111111111111111,
             "#46039f"
            ],
            [
             0.2222222222222222,
             "#7201a8"
            ],
            [
             0.3333333333333333,
             "#9c179e"
            ],
            [
             0.4444444444444444,
             "#bd3786"
            ],
            [
             0.5555555555555556,
             "#d8576b"
            ],
            [
             0.6666666666666666,
             "#ed7953"
            ],
            [
             0.7777777777777778,
             "#fb9f3a"
            ],
            [
             0.8888888888888888,
             "#fdca26"
            ],
            [
             1,
             "#f0f921"
            ]
           ]
          },
          "colorway": [
           "#636efa",
           "#EF553B",
           "#00cc96",
           "#ab63fa",
           "#FFA15A",
           "#19d3f3",
           "#FF6692",
           "#B6E880",
           "#FF97FF",
           "#FECB52"
          ],
          "font": {
           "color": "#2a3f5f"
          },
          "geo": {
           "bgcolor": "white",
           "lakecolor": "white",
           "landcolor": "#E5ECF6",
           "showlakes": true,
           "showland": true,
           "subunitcolor": "white"
          },
          "hoverlabel": {
           "align": "left"
          },
          "hovermode": "closest",
          "mapbox": {
           "style": "light"
          },
          "paper_bgcolor": "white",
          "plot_bgcolor": "#E5ECF6",
          "polar": {
           "angularaxis": {
            "gridcolor": "white",
            "linecolor": "white",
            "ticks": ""
           },
           "bgcolor": "#E5ECF6",
           "radialaxis": {
            "gridcolor": "white",
            "linecolor": "white",
            "ticks": ""
           }
          },
          "scene": {
           "xaxis": {
            "backgroundcolor": "#E5ECF6",
            "gridcolor": "white",
            "gridwidth": 2,
            "linecolor": "white",
            "showbackground": true,
            "ticks": "",
            "zerolinecolor": "white"
           },
           "yaxis": {
            "backgroundcolor": "#E5ECF6",
            "gridcolor": "white",
            "gridwidth": 2,
            "linecolor": "white",
            "showbackground": true,
            "ticks": "",
            "zerolinecolor": "white"
           },
           "zaxis": {
            "backgroundcolor": "#E5ECF6",
            "gridcolor": "white",
            "gridwidth": 2,
            "linecolor": "white",
            "showbackground": true,
            "ticks": "",
            "zerolinecolor": "white"
           }
          },
          "shapedefaults": {
           "line": {
            "color": "#2a3f5f"
           }
          },
          "ternary": {
           "aaxis": {
            "gridcolor": "white",
            "linecolor": "white",
            "ticks": ""
           },
           "baxis": {
            "gridcolor": "white",
            "linecolor": "white",
            "ticks": ""
           },
           "bgcolor": "#E5ECF6",
           "caxis": {
            "gridcolor": "white",
            "linecolor": "white",
            "ticks": ""
           }
          },
          "title": {
           "x": 0.05
          },
          "xaxis": {
           "automargin": true,
           "gridcolor": "white",
           "linecolor": "white",
           "ticks": "",
           "title": {
            "standoff": 15
           },
           "zerolinecolor": "white",
           "zerolinewidth": 2
          },
          "yaxis": {
           "automargin": true,
           "gridcolor": "white",
           "linecolor": "white",
           "ticks": "",
           "title": {
            "standoff": 15
           },
           "zerolinecolor": "white",
           "zerolinewidth": 2
          }
         }
        },
        "title": {
         "font": {
          "color": "#4D5663"
         }
        },
        "xaxis": {
         "gridcolor": "#E1E5ED",
         "showgrid": true,
         "tickfont": {
          "color": "#4D5663"
         },
         "title": {
          "font": {
           "color": "#4D5663"
          },
          "text": "Date"
         },
         "zerolinecolor": "#E1E5ED"
        },
        "yaxis": {
         "gridcolor": "#E1E5ED",
         "showgrid": true,
         "tickfont": {
          "color": "#4D5663"
         },
         "title": {
          "font": {
           "color": "#4D5663"
          },
          "text": "Financial Data"
         },
         "zerolinecolor": "#E1E5ED"
        }
       }
      },
      "text/html": [
       "<div>\n",
       "        \n",
       "        \n",
       "            <div id=\"f0c73bfb-ff8a-4d31-b912-58daa73e863b\" class=\"plotly-graph-div\" style=\"height:525px; width:100%;\"></div>\n",
       "            <script type=\"text/javascript\">\n",
       "                require([\"plotly\"], function(Plotly) {\n",
       "                    window.PLOTLYENV=window.PLOTLYENV || {};\n",
       "                    window.PLOTLYENV.BASE_URL='https://plot.ly';\n",
       "                    \n",
       "                if (document.getElementById(\"f0c73bfb-ff8a-4d31-b912-58daa73e863b\")) {\n",
       "                    Plotly.newPlot(\n",
       "                        'f0c73bfb-ff8a-4d31-b912-58daa73e863b',\n",
       "                        [{\"line\": {\"color\": \"rgba(255, 153, 51, 1.0)\", \"dash\": \"solid\", \"shape\": \"linear\", \"width\": 1.3}, \"mode\": \"lines\", \"name\": \"Open\", \"text\": \"\", \"type\": \"scatter\", \"x\": [\"10-03-16\", \"10-04-16\", \"10-05-16\", \"10-06-16\", \"10-07-16\"], \"y\": [774.25, 776.030029, 779.3099980000001, 779.0, 779.659973]}, {\"line\": {\"color\": \"rgba(55, 128, 191, 1.0)\", \"dash\": \"solid\", \"shape\": \"linear\", \"width\": 1.3}, \"mode\": \"lines\", \"name\": \"High\", \"text\": \"\", \"type\": \"scatter\", \"x\": [\"10-03-16\", \"10-04-16\", \"10-05-16\", \"10-06-16\", \"10-07-16\"], \"y\": [776.0650019999999, 778.710022, 782.070007, 780.47998, 779.659973]}, {\"line\": {\"color\": \"rgba(50, 171, 96, 1.0)\", \"dash\": \"solid\", \"shape\": \"linear\", \"width\": 1.3}, \"mode\": \"lines\", \"name\": \"Low\", \"text\": \"\", \"type\": \"scatter\", \"x\": [\"10-03-16\", \"10-04-16\", \"10-05-16\", \"10-06-16\", \"10-07-16\"], \"y\": [769.5, 772.8900150000001, 775.650024, 775.539978, 770.75]}, {\"line\": {\"color\": \"rgba(128, 0, 128, 1.0)\", \"dash\": \"solid\", \"shape\": \"linear\", \"width\": 1.3}, \"mode\": \"lines\", \"name\": \"Close\", \"text\": \"\", \"type\": \"scatter\", \"x\": [\"10-03-16\", \"10-04-16\", \"10-05-16\", \"10-06-16\", \"10-07-16\"], \"y\": [772.5599980000001, 776.429993, 776.469971, 776.8599849999999, 775.080017]}],\n",
       "                        {\"legend\": {\"bgcolor\": \"#FFFFFF\", \"font\": {\"color\": \"#4D5663\"}}, \"paper_bgcolor\": \"#FFFFFF\", \"plot_bgcolor\": \"#FFFFFF\", \"template\": {\"data\": {\"bar\": [{\"error_x\": {\"color\": \"#2a3f5f\"}, \"error_y\": {\"color\": \"#2a3f5f\"}, \"marker\": {\"line\": {\"color\": \"#E5ECF6\", \"width\": 0.5}}, \"type\": \"bar\"}], \"barpolar\": [{\"marker\": {\"line\": {\"color\": \"#E5ECF6\", \"width\": 0.5}}, \"type\": \"barpolar\"}], \"carpet\": [{\"aaxis\": {\"endlinecolor\": \"#2a3f5f\", \"gridcolor\": \"white\", \"linecolor\": \"white\", \"minorgridcolor\": \"white\", \"startlinecolor\": \"#2a3f5f\"}, \"baxis\": {\"endlinecolor\": \"#2a3f5f\", \"gridcolor\": \"white\", \"linecolor\": \"white\", \"minorgridcolor\": \"white\", \"startlinecolor\": \"#2a3f5f\"}, \"type\": \"carpet\"}], \"choropleth\": [{\"colorbar\": {\"outlinewidth\": 0, \"ticks\": \"\"}, \"type\": \"choropleth\"}], \"contour\": [{\"colorbar\": {\"outlinewidth\": 0, \"ticks\": \"\"}, \"colorscale\": [[0.0, \"#0d0887\"], [0.1111111111111111, \"#46039f\"], [0.2222222222222222, \"#7201a8\"], [0.3333333333333333, \"#9c179e\"], [0.4444444444444444, \"#bd3786\"], [0.5555555555555556, \"#d8576b\"], [0.6666666666666666, \"#ed7953\"], [0.7777777777777778, \"#fb9f3a\"], [0.8888888888888888, \"#fdca26\"], [1.0, \"#f0f921\"]], \"type\": \"contour\"}], \"contourcarpet\": [{\"colorbar\": {\"outlinewidth\": 0, \"ticks\": \"\"}, \"type\": \"contourcarpet\"}], \"heatmap\": [{\"colorbar\": {\"outlinewidth\": 0, \"ticks\": \"\"}, \"colorscale\": [[0.0, \"#0d0887\"], [0.1111111111111111, \"#46039f\"], [0.2222222222222222, \"#7201a8\"], [0.3333333333333333, \"#9c179e\"], [0.4444444444444444, \"#bd3786\"], [0.5555555555555556, \"#d8576b\"], [0.6666666666666666, \"#ed7953\"], [0.7777777777777778, \"#fb9f3a\"], [0.8888888888888888, \"#fdca26\"], [1.0, \"#f0f921\"]], \"type\": \"heatmap\"}], \"heatmapgl\": [{\"colorbar\": {\"outlinewidth\": 0, \"ticks\": \"\"}, \"colorscale\": [[0.0, \"#0d0887\"], [0.1111111111111111, \"#46039f\"], [0.2222222222222222, \"#7201a8\"], [0.3333333333333333, \"#9c179e\"], [0.4444444444444444, \"#bd3786\"], [0.5555555555555556, \"#d8576b\"], [0.6666666666666666, \"#ed7953\"], [0.7777777777777778, \"#fb9f3a\"], [0.8888888888888888, \"#fdca26\"], [1.0, \"#f0f921\"]], \"type\": \"heatmapgl\"}], \"histogram\": [{\"marker\": {\"colorbar\": {\"outlinewidth\": 0, \"ticks\": \"\"}}, \"type\": \"histogram\"}], \"histogram2d\": [{\"colorbar\": {\"outlinewidth\": 0, \"ticks\": \"\"}, \"colorscale\": [[0.0, \"#0d0887\"], [0.1111111111111111, \"#46039f\"], [0.2222222222222222, \"#7201a8\"], [0.3333333333333333, \"#9c179e\"], [0.4444444444444444, \"#bd3786\"], [0.5555555555555556, \"#d8576b\"], [0.6666666666666666, \"#ed7953\"], [0.7777777777777778, \"#fb9f3a\"], [0.8888888888888888, \"#fdca26\"], [1.0, \"#f0f921\"]], \"type\": \"histogram2d\"}], \"histogram2dcontour\": [{\"colorbar\": {\"outlinewidth\": 0, \"ticks\": \"\"}, \"colorscale\": [[0.0, \"#0d0887\"], [0.1111111111111111, \"#46039f\"], [0.2222222222222222, \"#7201a8\"], [0.3333333333333333, \"#9c179e\"], [0.4444444444444444, \"#bd3786\"], [0.5555555555555556, \"#d8576b\"], [0.6666666666666666, \"#ed7953\"], [0.7777777777777778, \"#fb9f3a\"], [0.8888888888888888, \"#fdca26\"], [1.0, \"#f0f921\"]], \"type\": \"histogram2dcontour\"}], \"mesh3d\": [{\"colorbar\": {\"outlinewidth\": 0, \"ticks\": \"\"}, \"type\": \"mesh3d\"}], \"parcoords\": [{\"line\": {\"colorbar\": {\"outlinewidth\": 0, \"ticks\": \"\"}}, \"type\": \"parcoords\"}], \"pie\": [{\"automargin\": true, \"type\": \"pie\"}], \"scatter\": [{\"marker\": {\"colorbar\": {\"outlinewidth\": 0, \"ticks\": \"\"}}, \"type\": \"scatter\"}], \"scatter3d\": [{\"line\": {\"colorbar\": {\"outlinewidth\": 0, \"ticks\": \"\"}}, \"marker\": {\"colorbar\": {\"outlinewidth\": 0, \"ticks\": \"\"}}, \"type\": \"scatter3d\"}], \"scattercarpet\": [{\"marker\": {\"colorbar\": {\"outlinewidth\": 0, \"ticks\": \"\"}}, \"type\": \"scattercarpet\"}], \"scattergeo\": [{\"marker\": {\"colorbar\": {\"outlinewidth\": 0, \"ticks\": \"\"}}, \"type\": \"scattergeo\"}], \"scattergl\": [{\"marker\": {\"colorbar\": {\"outlinewidth\": 0, \"ticks\": \"\"}}, \"type\": \"scattergl\"}], \"scattermapbox\": [{\"marker\": {\"colorbar\": {\"outlinewidth\": 0, \"ticks\": \"\"}}, \"type\": \"scattermapbox\"}], \"scatterpolar\": [{\"marker\": {\"colorbar\": {\"outlinewidth\": 0, \"ticks\": \"\"}}, \"type\": \"scatterpolar\"}], \"scatterpolargl\": [{\"marker\": {\"colorbar\": {\"outlinewidth\": 0, \"ticks\": \"\"}}, \"type\": \"scatterpolargl\"}], \"scatterternary\": [{\"marker\": {\"colorbar\": {\"outlinewidth\": 0, \"ticks\": \"\"}}, \"type\": \"scatterternary\"}], \"surface\": [{\"colorbar\": {\"outlinewidth\": 0, \"ticks\": \"\"}, \"colorscale\": [[0.0, \"#0d0887\"], [0.1111111111111111, \"#46039f\"], [0.2222222222222222, \"#7201a8\"], [0.3333333333333333, \"#9c179e\"], [0.4444444444444444, \"#bd3786\"], [0.5555555555555556, \"#d8576b\"], [0.6666666666666666, \"#ed7953\"], [0.7777777777777778, \"#fb9f3a\"], [0.8888888888888888, \"#fdca26\"], [1.0, \"#f0f921\"]], \"type\": \"surface\"}], \"table\": [{\"cells\": {\"fill\": {\"color\": \"#EBF0F8\"}, \"line\": {\"color\": \"white\"}}, \"header\": {\"fill\": {\"color\": \"#C8D4E3\"}, \"line\": {\"color\": \"white\"}}, \"type\": \"table\"}]}, \"layout\": {\"annotationdefaults\": {\"arrowcolor\": \"#2a3f5f\", \"arrowhead\": 0, \"arrowwidth\": 1}, \"coloraxis\": {\"colorbar\": {\"outlinewidth\": 0, \"ticks\": \"\"}}, \"colorscale\": {\"diverging\": [[0, \"#8e0152\"], [0.1, \"#c51b7d\"], [0.2, \"#de77ae\"], [0.3, \"#f1b6da\"], [0.4, \"#fde0ef\"], [0.5, \"#f7f7f7\"], [0.6, \"#e6f5d0\"], [0.7, \"#b8e186\"], [0.8, \"#7fbc41\"], [0.9, \"#4d9221\"], [1, \"#276419\"]], \"sequential\": [[0.0, \"#0d0887\"], [0.1111111111111111, \"#46039f\"], [0.2222222222222222, \"#7201a8\"], [0.3333333333333333, \"#9c179e\"], [0.4444444444444444, \"#bd3786\"], [0.5555555555555556, \"#d8576b\"], [0.6666666666666666, \"#ed7953\"], [0.7777777777777778, \"#fb9f3a\"], [0.8888888888888888, \"#fdca26\"], [1.0, \"#f0f921\"]], \"sequentialminus\": [[0.0, \"#0d0887\"], [0.1111111111111111, \"#46039f\"], [0.2222222222222222, \"#7201a8\"], [0.3333333333333333, \"#9c179e\"], [0.4444444444444444, \"#bd3786\"], [0.5555555555555556, \"#d8576b\"], [0.6666666666666666, \"#ed7953\"], [0.7777777777777778, \"#fb9f3a\"], [0.8888888888888888, \"#fdca26\"], [1.0, \"#f0f921\"]]}, \"colorway\": [\"#636efa\", \"#EF553B\", \"#00cc96\", \"#ab63fa\", \"#FFA15A\", \"#19d3f3\", \"#FF6692\", \"#B6E880\", \"#FF97FF\", \"#FECB52\"], \"font\": {\"color\": \"#2a3f5f\"}, \"geo\": {\"bgcolor\": \"white\", \"lakecolor\": \"white\", \"landcolor\": \"#E5ECF6\", \"showlakes\": true, \"showland\": true, \"subunitcolor\": \"white\"}, \"hoverlabel\": {\"align\": \"left\"}, \"hovermode\": \"closest\", \"mapbox\": {\"style\": \"light\"}, \"paper_bgcolor\": \"white\", \"plot_bgcolor\": \"#E5ECF6\", \"polar\": {\"angularaxis\": {\"gridcolor\": \"white\", \"linecolor\": \"white\", \"ticks\": \"\"}, \"bgcolor\": \"#E5ECF6\", \"radialaxis\": {\"gridcolor\": \"white\", \"linecolor\": \"white\", \"ticks\": \"\"}}, \"scene\": {\"xaxis\": {\"backgroundcolor\": \"#E5ECF6\", \"gridcolor\": \"white\", \"gridwidth\": 2, \"linecolor\": \"white\", \"showbackground\": true, \"ticks\": \"\", \"zerolinecolor\": \"white\"}, \"yaxis\": {\"backgroundcolor\": \"#E5ECF6\", \"gridcolor\": \"white\", \"gridwidth\": 2, \"linecolor\": \"white\", \"showbackground\": true, \"ticks\": \"\", \"zerolinecolor\": \"white\"}, \"zaxis\": {\"backgroundcolor\": \"#E5ECF6\", \"gridcolor\": \"white\", \"gridwidth\": 2, \"linecolor\": \"white\", \"showbackground\": true, \"ticks\": \"\", \"zerolinecolor\": \"white\"}}, \"shapedefaults\": {\"line\": {\"color\": \"#2a3f5f\"}}, \"ternary\": {\"aaxis\": {\"gridcolor\": \"white\", \"linecolor\": \"white\", \"ticks\": \"\"}, \"baxis\": {\"gridcolor\": \"white\", \"linecolor\": \"white\", \"ticks\": \"\"}, \"bgcolor\": \"#E5ECF6\", \"caxis\": {\"gridcolor\": \"white\", \"linecolor\": \"white\", \"ticks\": \"\"}}, \"title\": {\"x\": 0.05}, \"xaxis\": {\"automargin\": true, \"gridcolor\": \"white\", \"linecolor\": \"white\", \"ticks\": \"\", \"title\": {\"standoff\": 15}, \"zerolinecolor\": \"white\", \"zerolinewidth\": 2}, \"yaxis\": {\"automargin\": true, \"gridcolor\": \"white\", \"linecolor\": \"white\", \"ticks\": \"\", \"title\": {\"standoff\": 15}, \"zerolinecolor\": \"white\", \"zerolinewidth\": 2}}}, \"title\": {\"font\": {\"color\": \"#4D5663\"}}, \"xaxis\": {\"gridcolor\": \"#E1E5ED\", \"showgrid\": true, \"tickfont\": {\"color\": \"#4D5663\"}, \"title\": {\"font\": {\"color\": \"#4D5663\"}, \"text\": \"Date\"}, \"zerolinecolor\": \"#E1E5ED\"}, \"yaxis\": {\"gridcolor\": \"#E1E5ED\", \"showgrid\": true, \"tickfont\": {\"color\": \"#4D5663\"}, \"title\": {\"font\": {\"color\": \"#4D5663\"}, \"text\": \"Financial Data\"}, \"zerolinecolor\": \"#E1E5ED\"}},\n",
       "                        {\"showLink\": true, \"linkText\": \"Export to plot.ly\", \"plotlyServerURL\": \"https://plot.ly\", \"responsive\": true}\n",
       "                    ).then(function(){\n",
       "                            \n",
       "var gd = document.getElementById('f0c73bfb-ff8a-4d31-b912-58daa73e863b');\n",
       "var x = new MutationObserver(function (mutations, observer) {{\n",
       "        var display = window.getComputedStyle(gd).display;\n",
       "        if (!display || display === 'none') {{\n",
       "            console.log([gd, 'removed!']);\n",
       "            Plotly.purge(gd);\n",
       "            observer.disconnect();\n",
       "        }}\n",
       "}});\n",
       "\n",
       "// Listen for the removal of the full notebook cells\n",
       "var notebookContainer = gd.closest('#notebook-container');\n",
       "if (notebookContainer) {{\n",
       "    x.observe(notebookContainer, {childList: true});\n",
       "}}\n",
       "\n",
       "// Listen for the clearing of the current output cell\n",
       "var outputEl = gd.closest('.output');\n",
       "if (outputEl) {{\n",
       "    x.observe(outputEl, {childList: true});\n",
       "}}\n",
       "\n",
       "                        })\n",
       "                };\n",
       "                });\n",
       "            </script>\n",
       "        </div>"
      ]
     },
     "metadata": {},
     "output_type": "display_data"
    }
   ],
   "source": [
    "#importing plotly and cufflinks in offline mode\n",
    "import cufflinks as cf\n",
    "import plotly.offline\n",
    "cf.go_offline()\n",
    "cf.set_config_file(offline=False, world_readable=True)\n",
    "\n",
    "fdata.iplot(kind=\"scatter\", theme=\"white\",x=\"Date\",y=['Open','High','Low','Close'],xTitle='Date',yTitle='Financial Data')\n",
    "\n",
    "# fdata[\"Date\"].iplot(kind=\"scatter\", theme=\"white\", title=\"Passenger's Ages\",xTitle='Ages', yTitle='Open')"
   ]
  },
  {
   "cell_type": "markdown",
   "metadata": {},
   "source": [
    "**Q143.** Write a Python program to plot two or more lines on same plot with the suitable legends of each line."
   ]
  },
  {
   "cell_type": "code",
   "execution_count": 149,
   "metadata": {},
   "outputs": [
    {
     "data": {
      "image/png": "[encoded data removed]",
      "text/plain": [
       "<Figure size 432x288 with 1 Axes>"
      ]
     },
     "metadata": {
      "needs_background": "light"
     },
     "output_type": "display_data"
    }
   ],
   "source": [
    "import matplotlib.pyplot as plt\n",
    "# line 1 points\n",
    "x1 = [10,20,30]\n",
    "y1 = [20,40,10]\n",
    "# plotting the line 1 points \n",
    "plt.plot(x1, y1, label = \"line 1\")\n",
    "# line 2 points\n",
    "x2 = [10,20,30]\n",
    "y2 = [40,10,30]\n",
    "# plotting the line 2 points \n",
    "plt.plot(x2, y2, label = \"line 2\")\n",
    "plt.xlabel('x - axis')\n",
    "# Set the y axis label of the current axis.\n",
    "plt.ylabel('y - axis')\n",
    "# Set a title of the current axes.\n",
    "plt.title('Two or more lines on same plot with suitable legends ')\n",
    "# show a legend on the plot\n",
    "plt.legend()\n",
    "# Display a figure.\n",
    "plt.show()"
   ]
  },
  {
   "cell_type": "markdown",
   "metadata": {},
   "source": [
    "**Q144.** Write a python programming to display a bar chart of the popularity of programming languages. <br>\n",
    "Sample data: <br>\n",
    "programming languages- Java, Python, PHP, JavaScript, C#, C++ <br>\n",
    "Popularity- 22.2, 17.6, 8.8, 8, 7.7 , 6.7 <br>\n",
    "The code snippet gives the output shown in the screenshot: ![alt text](Img4.jpg)"
   ]
  },
  {
   "cell_type": "code",
   "execution_count": 150,
   "metadata": {},
   "outputs": [
    {
     "data": {
      "image/png": "[encoded data removed]",
      "text/plain": [
       "<Figure size 360x216 with 1 Axes>"
      ]
     },
     "metadata": {
      "needs_background": "light"
     },
     "output_type": "display_data"
    }
   ],
   "source": [
    "languages = np.array(['Java', 'Python', 'PHP', 'JavaScript', 'C#', 'C++'])\n",
    "popularity = np.array([22.2, 17.6, 8.8, 8, 7.7 , 6.7])\n",
    "\n",
    "fig = plt.figure(figsize = (5,3))\n",
    "ax = fig.add_axes([0,0,1,1])\n",
    "ax.bar(languages,popularity, alpha = 0.9, color = 'b')\n",
    "\n",
    "plt.minorticks_on()\n",
    "# plt.grid(which='major', linestyle='-', linewidth='0.5', color = 'red')\n",
    "plt.grid(which='minor', linestyle=':', linewidth='0.5')\n",
    "\n",
    "plt.xlabel('Programming Languages')\n",
    "plt.ylabel('Popularity')\n",
    "plt.title('Programming language popularity')\n",
    "\n",
    "plt.show()"
   ]
  },
  {
   "cell_type": "markdown",
   "metadata": {},
   "source": [
    "**Q145.** Write a python programming to display a horizontal bar chart of the popularity of programming languages. <br>\n",
    "Sample data: <br>\n",
    "programming languages- Java, Python, PHP, JavaScript, C#, C++ <br>\n",
    "Popularity- 22.2, 17.6, 8.8, 8, 7.7 , 6.7"
   ]
  },
  {
   "cell_type": "code",
   "execution_count": 151,
   "metadata": {},
   "outputs": [
    {
     "data": {
      "image/png": "[encoded data removed]",
      "text/plain": [
       "<Figure size 360x216 with 1 Axes>"
      ]
     },
     "metadata": {
      "needs_background": "light"
     },
     "output_type": "display_data"
    }
   ],
   "source": [
    "languages = np.array(['Java', 'Python', 'PHP', 'JavaScript', 'C#', 'C++'])\n",
    "popularity = np.array([22.2, 17.6, 8.8, 8, 7.7 , 6.7])\n",
    "\n",
    "fig = plt.figure(figsize = (5,3))\n",
    "ax = fig.add_axes([0,0,1,1])\n",
    "ax.barh(languages,popularity, alpha = 0.8, color = 'g')\n",
    "\n",
    "plt.minorticks_on()\n",
    "plt.grid(which='major', linestyle='-', linewidth='0.5', color = 'red')\n",
    "plt.grid(which='minor', linestyle=':', linewidth='0.5')\n",
    "\n",
    "plt.xlabel('Programming Languages')\n",
    "plt.ylabel('Popularity')\n",
    "plt.title('Programming language popularity')\n",
    "\n",
    "plt.show()"
   ]
  },
  {
   "cell_type": "markdown",
   "metadata": {},
   "source": [
    "**Q146.** Write a python programming to display a bar chart of the Popularity of programming languages. Increase bottom margin. <br>\n",
    "Sample data: <br>\n",
    "programming languages: Java, Python, PHP, JavaScript, C#, C++ <br>\n",
    "Popularity: 22.2, 17.6, 8.8, 8, 7.7 , 6.7 "
   ]
  },
  {
   "cell_type": "code",
   "execution_count": 152,
   "metadata": {},
   "outputs": [
    {
     "data": {
      "image/png": "[encoded data removed]",
      "text/plain": [
       "<Figure size 360x216 with 1 Axes>"
      ]
     },
     "metadata": {
      "needs_background": "light"
     },
     "output_type": "display_data"
    }
   ],
   "source": [
    "languages = np.array(['Java', 'Python', 'PHP', 'JavaScript', 'C#', 'C++'])\n",
    "popularity = np.array([22.2, 17.6, 8.8, 8, 7.7 , 6.7])\n",
    "\n",
    "fig = plt.figure(figsize = (5,3))\n",
    "ax = fig.add_axes([0,0,1,1])\n",
    "ax.bar(languages,popularity, alpha = 0.5, color = 'b')\n",
    "\n",
    "plt.minorticks_on()\n",
    "plt.grid(which='major', linestyle='-', linewidth='0.5', color = 'red')\n",
    "plt.grid(which='minor', linestyle=':', linewidth='0.5')\n",
    "\n",
    "plt.xlabel('Programming Languages')\n",
    "plt.ylabel('Popularity')\n",
    "plt.title('Programming language popularity')\n",
    "\n",
    "plt.show()"
   ]
  },
  {
   "cell_type": "markdown",
   "metadata": {},
   "source": [
    "**Q147.** Write a python program to create the bar plot from a DataFrame. <br>\n",
    "a b c d e <br>\n",
    "2 4,8,5,7,6 <br>\n",
    "4 2,3,4,2,6 <br>\n",
    "6 4,7,4,7, 8 <br>\n",
    "8 2,6,4,8, 6 <br>\n",
    "10 2,4,3,3, 2 <br>"
   ]
  },
  {
   "cell_type": "code",
   "execution_count": 153,
   "metadata": {},
   "outputs": [
    {
     "data": {
      "image/png": "[encoded data removed]",
      "text/plain": [
       "<Figure size 432x288 with 1 Axes>"
      ]
     },
     "metadata": {
      "needs_background": "light"
     },
     "output_type": "display_data"
    }
   ],
   "source": [
    "arr1 = np.array([[4,8,5,7,6],\n",
    "                 [2,3,4,2,6],\n",
    "                 [4,7,4,7,8],\n",
    "                 [2,6,4,8,6],\n",
    "                 [2,4,3,3,2]])\n",
    "data = pd.DataFrame(arr1, columns = ['a','b','c','d','e'], index = [2,4,6,8,10])\n",
    "\n",
    "data.plot(kind = 'bar')\n",
    "\n",
    "plt.minorticks_on()\n",
    "plt.grid(which='major', linestyle='-', linewidth='0.5')\n",
    "plt.grid(which='minor', linestyle=':', linewidth='0.5')\n",
    "plt.show()\n"
   ]
  },
  {
   "cell_type": "markdown",
   "metadata": {},
   "source": [
    "**Q148.** Write a python program to draw the scatter plot comparing two subject marks of Mathematics and Science. Use marks of 10 students. <br>\n",
    "Sample data: <br>\n",
    "Test Datamath_marks = [88, 92 , 80, 89, 100, 80, 60, 100, 80, 34] <br>\n",
    "science_marks = [35, 79, 79 , 48, 100, 88, 32, 45, 20, 30] <br>\n",
    "marks_range = [10, 20, 30, 40, 50, 60, 70, 80, 90, 100]"
   ]
  },
  {
   "cell_type": "code",
   "execution_count": 154,
   "metadata": {},
   "outputs": [
    {
     "data": {
      "image/png": "[encoded data removed]",
      "text/plain": [
       "<Figure size 640x480 with 1 Axes>"
      ]
     },
     "metadata": {},
     "output_type": "display_data"
    }
   ],
   "source": [
    "plt.style.use('classic')\n",
    "\n",
    "math_marks = [88, 92 , 80, 89, 100, 80, 60, 100, 80, 34]\n",
    "science_marks = [35, 79, 79 , 48, 100, 88, 32, 45, 20, 30]\n",
    "marks_range = [10, 20, 30, 40, 50, 60, 70, 80, 90, 100]\n",
    "\n",
    "plt.scatter(marks_range, math_marks,c = 'r', label = 'Maths Marks')\n",
    "plt.scatter(marks_range, science_marks, c = 'b',label = 'Science Marks')\n",
    "\n",
    "plt.xlabel('Marks Range', fontsize=16)\n",
    "plt.ylabel('Marks Scored', fontsize=16)\n",
    "plt.title('scatter plot',fontsize=20)\n",
    "plt.legend(loc = 'upper right')\n",
    "plt.show()\n"
   ]
  },
  {
   "cell_type": "markdown",
   "metadata": {},
   "source": [
    "**Q149.** Write a python program to draw the scatter plot for three different groups comparing weights and heights. "
   ]
  },
  {
   "cell_type": "code",
   "execution_count": 155,
   "metadata": {},
   "outputs": [
    {
     "data": {
      "text/plain": [
       "Text(0.5, 1.0, 'scatter plot - height vs weight')"
      ]
     },
     "execution_count": 155,
     "metadata": {},
     "output_type": "execute_result"
    },
    {
     "data": {
      "image/png": "[encoded data removed]",
      "text/plain": [
       "<Figure size 640x480 with 1 Axes>"
      ]
     },
     "metadata": {},
     "output_type": "display_data"
    }
   ],
   "source": [
    "weight1 = np.array([[67,57.2,59.6,59.64,55.8,61.2,60.45,61,56.23,56]])\n",
    "height1 = [101.7,197.6,98.3,125.1,113.7,157.7,136,148.9,125.3,114.9] \n",
    "weight2 = np.array([[61.9,64,62.1,64.2,62.3,65.4,62.4,61.4,62.5,63.6]])\n",
    "height2 = [152.8,155.3,135.1,125.2,151.3,135,182.2,195.9,165.1,125.1] \n",
    "weight3 = np.array([[68.2,67.2,68.4,68.7,71,71.3,70.8,70,71.1,71.7]])\n",
    "height3 = [165.8,170.9,192.8,135.4,161.4,136.1,167.1,235.1,181.1,177.3]\n",
    "\n",
    "fig, ax = plt.subplots()\n",
    "ax.scatter(weight1, height1, c = 'b')\n",
    "ax.scatter(weight2, height2, c = 'g')\n",
    "ax.scatter(weight3, height3, c = 'r')\n",
    "\n",
    "plt.xlabel('weight', fontsize=16)\n",
    "plt.ylabel('height', fontsize=16)\n",
    "plt.title('scatter plot - height vs weight',fontsize=20)\n",
    "# plt.show()"
   ]
  },
  {
   "cell_type": "markdown",
   "metadata": {},
   "source": [
    "**Q150.** Write a python program to draw a scatter plot to find sea-level rise in past 100 years."
   ]
  },
  {
   "cell_type": "markdown",
   "metadata": {},
   "source": [
    "[https://github.com/datasets/sea-level-rise].\n",
    "This data contains \"cumulative changes in sea level for the world’s oceans since 1880, based on a combination of long-term tide gauge measurements and recent satellite measurements. It shows average absolute sea level change, which refers to the height of the ocean surface, regardless of whether nearby land is rising or falling. Satellite data are based solely on measured sea level, while the long-term tide gauge data include a small correction factor because the size and shape of the oceans are changing slowly over time. (On average, the ocean floor has been gradually sinking since the last Ice Age peak, 20,000 years ago.)\""
   ]
  },
  {
   "cell_type": "code",
   "execution_count": 156,
   "metadata": {},
   "outputs": [],
   "source": [
    "sea_level = pd.read_csv(\"sealevel.csv\")\n",
    "sea_level.dropna(how = \"all\").to_csv(\"sea_level1.csv\")"
   ]
  },
  {
   "cell_type": "code",
   "execution_count": 157,
   "metadata": {},
   "outputs": [
    {
     "data": {
      "text/html": [
       "<div>\n",
       "<style scoped>\n",
       "    .dataframe tbody tr th:only-of-type {\n",
       "        vertical-align: middle;\n",
       "    }\n",
       "\n",
       "    .dataframe tbody tr th {\n",
       "        vertical-align: top;\n",
       "    }\n",
       "\n",
       "    .dataframe thead th {\n",
       "        text-align: right;\n",
       "    }\n",
       "</style>\n",
       "<table border=\"1\" class=\"dataframe\">\n",
       "  <thead>\n",
       "    <tr style=\"text-align: right;\">\n",
       "      <th></th>\n",
       "      <th>Year</th>\n",
       "      <th>CSIRO Adjusted Sea Level</th>\n",
       "      <th>Lower Error Bound</th>\n",
       "      <th>Upper Error Bound</th>\n",
       "      <th>NOAA Adjusted Sea Level</th>\n",
       "    </tr>\n",
       "  </thead>\n",
       "  <tbody>\n",
       "    <tr>\n",
       "      <th>0</th>\n",
       "      <td>1880.0</td>\n",
       "      <td>0.000000</td>\n",
       "      <td>-0.952756</td>\n",
       "      <td>0.952756</td>\n",
       "      <td>NaN</td>\n",
       "    </tr>\n",
       "    <tr>\n",
       "      <th>1</th>\n",
       "      <td>1881.0</td>\n",
       "      <td>0.220472</td>\n",
       "      <td>-0.732283</td>\n",
       "      <td>1.173228</td>\n",
       "      <td>NaN</td>\n",
       "    </tr>\n",
       "    <tr>\n",
       "      <th>2</th>\n",
       "      <td>1882.0</td>\n",
       "      <td>-0.440945</td>\n",
       "      <td>-1.346457</td>\n",
       "      <td>0.464567</td>\n",
       "      <td>NaN</td>\n",
       "    </tr>\n",
       "    <tr>\n",
       "      <th>3</th>\n",
       "      <td>1883.0</td>\n",
       "      <td>-0.232283</td>\n",
       "      <td>-1.129921</td>\n",
       "      <td>0.665354</td>\n",
       "      <td>NaN</td>\n",
       "    </tr>\n",
       "    <tr>\n",
       "      <th>4</th>\n",
       "      <td>1884.0</td>\n",
       "      <td>0.590551</td>\n",
       "      <td>-0.283465</td>\n",
       "      <td>1.464567</td>\n",
       "      <td>NaN</td>\n",
       "    </tr>\n",
       "  </tbody>\n",
       "</table>\n",
       "</div>"
      ],
      "text/plain": [
       "     Year  CSIRO Adjusted Sea Level  Lower Error Bound  Upper Error Bound  NOAA Adjusted Sea Level\n",
       "0  1880.0                  0.000000          -0.952756           0.952756                      NaN\n",
       "1  1881.0                  0.220472          -0.732283           1.173228                      NaN\n",
       "2  1882.0                 -0.440945          -1.346457           0.464567                      NaN\n",
       "3  1883.0                 -0.232283          -1.129921           0.665354                      NaN\n",
       "4  1884.0                  0.590551          -0.283465           1.464567                      NaN"
      ]
     },
     "execution_count": 157,
     "metadata": {},
     "output_type": "execute_result"
    }
   ],
   "source": [
    "sea_level = pd.read_csv(\"sea_level1.csv\")\n",
    "sea_level.drop(columns = [\"Unnamed: 0\"], axis = 1, inplace = True)\n",
    "sea_level.head()"
   ]
  },
  {
   "cell_type": "code",
   "execution_count": 158,
   "metadata": {},
   "outputs": [
    {
     "data": {
      "image/png": "[encoded data removed]",
      "text/plain": [
       "<Figure size 640x480 with 1 Axes>"
      ]
     },
     "metadata": {},
     "output_type": "display_data"
    }
   ],
   "source": [
    "plt.scatter(sea_level['Year'], sea_level['CSIRO Adjusted Sea Level'],edgecolors='r', alpha=0.5)\n",
    "plt.xlabel('Year')\n",
    "plt.ylabel('Sea Level (inches)')\n",
    "plt.title('Rise in Sea level')\n",
    "plt.show()"
   ]
  }
 ],
 "metadata": {
  "kernelspec": {
   "display_name": "Python 3",
   "language": "python",
   "name": "python3"
  },
  "language_info": {
   "codemirror_mode": {
    "name": "ipython",
    "version": 3
   },
   "file_extension": ".py",
   "mimetype": "text/x-python",
   "name": "python",
   "nbconvert_exporter": "python",
   "pygments_lexer": "ipython3",
   "version": "3.7.6"
  }
 },
 "nbformat": 4,
 "nbformat_minor": 4
}
